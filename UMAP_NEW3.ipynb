{
 "cells": [
  {
   "cell_type": "code",
   "execution_count": null,
   "metadata": {},
   "outputs": [],
   "source": [
    "import numpy as np\n",
    "import pandas as pd\n",
    "from scipy import stats\n",
    "import os\n",
    "import matplotlib.pyplot as plt\n",
    "\n",
    "import rpy2\n",
    "# from rpy2.robjects import r\n",
    "from rpy2.robjects.packages import importr\n",
    "from rpy2.robjects import pandas2ri\n",
    "pandas2ri.activate()\n",
    "\n",
    "plt.rcParams['font.family'] = 'SimHei'\n",
    "plt.rcParams['axes.unicode_minus'] = False\n",
    "\n",
    "import warnings\n",
    "warnings.filterwarnings(\"ignore\")\n",
    "\n",
    "%matplotlib inline\n"
   ]
  },
  {
   "cell_type": "code",
   "execution_count": null,
   "metadata": {},
   "outputs": [],
   "source": [
    "info = pd.read_csv('/Scientific Research/info.csv')\n",
    "info\n",
    "micepath = '/Scientific Research//'\n",
    "micefiles = os.listdir('/Scientific Research')\n",
    "\n",
    "AllFC = pd.DataFrame()"
   ]
  },
  {
   "cell_type": "code",
   "execution_count": null,
   "metadata": {},
   "outputs": [],
   "source": [
    "age10 = []\n",
    "age20 = []\n",
    "age21 = []\n",
    "\n",
    "up_gene10 = []\n",
    "down_gene10 = []\n",
    "up_gene20 = []\n",
    "down_gene20 = []\n",
    "\n",
    "CDRAll = set()\n",
    "gene_num = []\n",
    "patients = []\n",
    "\n",
    "dif_gene = pd.DataFrame()\n",
    "dif_gene['Num'] = range(1, 17)\n",
    "dif_gene['Region'] = 'Region' + dif_gene['Num'].astype(str)\n",
    "\n",
    "# Record the number of differential genes in each region (excluding duplicated genes in the three-phase comparisons)\n",
    "dif_gene['dif_gene_num'] = np.nan\n",
    "\n",
    "# Record the number of differential genes in the three-phase comparisons\n",
    "dif_gene['age1VSage0'] = np.nan\n",
    "dif_gene['age2VSage0'] = np.nan\n",
    "dif_gene['age2VSage1'] = np.nan\n",
    "\n",
    "# Record the number of upregulated and downregulated genes in each region\n",
    "dif_gene['up_gene10'] = np.nan\n",
    "dif_gene['down_gene10'] = np.nan\n",
    "dif_gene['up_gene20'] = np.nan\n",
    "dif_gene['down_gene20'] = np.nan\n"
   ]
  },
  {
   "cell_type": "code",
   "execution_count": null,
   "metadata": {},
   "outputs": [],
   "source": [
    "ageframe = pd.read_csv(micepath+micefiles[0])\n",
    "ageframe.dropna(inplace=True)\n",
    "conmon_gene = ageframe['num'].to_list()\n",
    "len(conmon_gene)\n"
   ]
  },
  {
   "cell_type": "code",
   "execution_count": null,
   "metadata": {},
   "outputs": [],
   "source": [
    "for i in range(len(micefiles)):\n",
    "    data = pd.read_csv(micepath+micefiles[i])\n",
    "    data.dropna(inplace=True)\n",
    "    num = data['num'].to_list()\n",
    "\n",
    "    conmon_gene = [i for i in conmon_gene if i in num]\n",
    "len(conmon_gene)\n",
    "\n",
    "# pd.DataFrame(conmon_gene,columns=['genename']).to_csv('conmon_gene_18431.csv',index=False)"
   ]
  },
  {
   "cell_type": "code",
   "execution_count": null,
   "metadata": {},
   "outputs": [],
   "source": [
    "for i in range(len(micefiles)):\n",
    "    data = pd.read_csv(micepath + micefiles[i])\n",
    "    data = data[data['num'].isin(conmon_gene)]\n",
    "\n",
    "    gene_list = data.columns[1:]\n",
    "    patients = patients + gene_list.to_list()  # Count the occurrence of patients\n",
    "\n",
    "    # Match CDR values in 'info' with 'donor_id' and 'class' in 'fenzu'\n",
    "    fenzu = info.copy()\n",
    "    fenzu['donor_id'] = fenzu['donor_id'].astype(str).apply(lambda x: \"S\" + x)\n",
    "    fenzu = fenzu[fenzu['donor_id'].isin(gene_list)].reset_index(drop=True)\n",
    "    fenzu['stage'] = fenzu['stage'].apply(lambda x: 'age0' if x == 1 else ('age1' if x == 2 else 'age2'))\n",
    "    fenzu = fenzu.loc[:, ['donor_id', 'stage']]\n",
    "    fenzu = fenzu.rename(columns={'donor_id': 'list', 'stage': 'class'})\n",
    "\n",
    "    # One-hot encode 'fenzu['class']'\n",
    "    design = pd.get_dummies(fenzu['class']).astype(int)\n",
    "    design.index = fenzu['list'].tolist()\n",
    "    data.dropna(inplace=True)\n",
    "\n",
    "    # Save column names as 'genename'\n",
    "    gene_names = data['num'].tolist()\n",
    "\n",
    "    # Remove the first two rows from 'data'; the remaining rows are gene features\n",
    "    data = data.iloc[:, 1:]\n",
    "    # Change the row index of 'data' to 'genename'\n",
    "    data.index = gene_names\n",
    "\n",
    "    # age1-age0\n",
    "    # Differential analysis using limma; Data preparation\n",
    "    limma = importr(\"limma\")\n",
    "    contrast_matrix = limma.makeContrasts(\"age1-age0\", levels=design)\n",
    "\n",
    "    # Analysis step 1\n",
    "    fit = limma.lmFit(data, design)\n",
    "    # Analysis step 2\n",
    "    fit2 = limma.contrasts_fit(fit, contrast_matrix)\n",
    "    fit2 = limma.eBayes(fit2)\n",
    "    # Analysis step 3\n",
    "    tempOutput = limma.topTable(fit2, adjust=\"fdr\", n=float(\"inf\"))\n",
    "\n",
    "    # Remove rows containing NaN values\n",
    "    nrDEG = tempOutput.dropna()\n",
    "    diffsig = nrDEG.copy()\n",
    "\n",
    "    # Use |logFC| > 0.585 and padj < 0.05 (adjusted P-value)\n",
    "    foldChange = 0.585\n",
    "    padj = 0.05\n",
    "    # Filter out all differential genes\n",
    "    All_diffSig = diffsig.loc[(diffsig['P.Value'] < padj) & (\n",
    "        (diffsig['logFC'] > foldChange) | (diffsig['logFC'] < -foldChange))]\n",
    "\n",
    "    # Upregulated genes\n",
    "    diffup = All_diffSig.loc[(All_diffSig['P.Value'] < padj)\n",
    "                            & (All_diffSig['logFC'] > foldChange)]\n",
    "\n",
    "    # Downregulated genes\n",
    "    diffdown = All_diffSig.loc[(All_diffSig['P.Value'] < padj) & (\n",
    "        All_diffSig['logFC'] < -foldChange)]\n",
    "\n",
    "    age10.append(len(All_diffSig))\n",
    "    age1age0 = All_diffSig.index.to_list()\n",
    "\n",
    "    up_gene10.append(len(diffup))\n",
    "    down_gene10.append(len(diffdown))\n",
    "\n",
    "    # age2-age0\n",
    "    # Differential analysis using limma; Data preparation\n",
    "    contrast_matrix = limma.makeContrasts(\"age2-age0\", levels=design)\n",
    "\n",
    "    # Analysis step 1\n",
    "    fit = limma.lmFit(data, design)\n",
    "    # Analysis step 2\n",
    "    fit2 = limma.contrasts_fit(fit, contrast_matrix)\n",
    "    fit2 = limma.eBayes(fit2)\n",
    "    # Analysis step 3\n",
    "    tempOutput = limma.topTable(fit2, adjust=\"fdr\", n=float(\"inf\"))\n",
    "\n",
    "    # Remove rows containing NaN values\n",
    "    nrDEG = tempOutput.dropna()\n",
    "    diffsig = nrDEG.copy()\n",
    "\n",
    "    # Use |logFC| > 0.585 and padj < 0.05 (adjusted P-value)\n",
    "    foldChange = 0.585\n",
    "    padj = 0.05\n",
    "    # Filter out all differential genes\n",
    "    All_diffSig = diffsig.loc[(diffsig['P.Value'] < padj) & (\n",
    "        (diffsig['logFC'] > foldChange) | (diffsig['logFC'] < -foldChange))]\n",
    "\n",
    "    # Upregulated genes\n",
    "    diffup = All_diffSig.loc[(All_diffSig['P.Value'] < padj)\n",
    "                            & (All_diffSig['logFC'] > foldChange)]\n",
    "\n",
    "    # Downregulated genes\n",
    "    diffdown = All_diffSig.loc[(All_diffSig['P.Value'] < padj) & (\n",
    "        All_diffSig['logFC'] < -foldChange)]\n",
    "\n",
    "    age20.append(len(All_diffSig))\n",
    "    age2age0 = All_diffSig.index.to_list()\n",
    "\n",
    "    up_gene20.append(len(diffup))\n",
    "    down_gene20.append(len(diffdown))\n",
    "\n",
    "    # age2-age1\n",
    "    # Differential analysis using limma; Data preparation\n",
    "    contrast_matrix = limma.makeContrasts(\"age2-age1\", levels=design)\n",
    "\n",
    "    # Analysis step 1\n",
    "    fit = limma.lmFit(data, design)\n",
    "    # Analysis step 2\n",
    "    fit2 = limma.contrasts_fit(fit, contrast_matrix)\n",
    "    fit2 = limma.eBayes(fit2)\n",
    "    # Analysis step 3\n",
    "    tempOutput = limma.topTable(fit2, adjust=\"fdr\", n=float(\"inf\"))\n",
    "\n",
    "    # Remove rows containing NaN values\n",
    "    nrDEG = tempOutput.dropna()\n",
    "    diffsig = nrDEG.copy()\n",
    "\n",
    "    # Use |logFC| > 0.585 and padj < 0.05 (adjusted P-value)\n",
    "    foldChange = 0.585\n",
    "    padj = 0.05\n",
    "    # Filter out all differential genes\n",
    "    All_diffSig = diffsig.loc[(diffsig['P.Value'] < padj) & (\n",
    "        (diffsig['logFC'] > foldChange) | (diffsig['logFC'] < -foldChange))]\n",
    "\n",
    "    # Upregulated genes\n",
    "    diffup = All_diffSig.loc[(All_diffSig['P.Value'] < padj)\n",
    "                            & (All_diffSig['logFC'] > foldChange)]\n",
    "\n",
    "    # Downregulated genes\n",
    "    diffdown = All_diffSig.loc[(All_diffSig['P.Value'] < padj) & (\n",
    "        All_diffSig['logFC'] < -foldChange)]\n",
    "\n",
    "    age21.append(len(All_diffSig))\n",
    "    age2age1 = All_diffSig.index.to_list()\n",
    "\n",
    "    # Union of differential genes from all three comparisons\n",
    "    dif_gene_ = set(age1age0).union(age2age0, age2age1)\n",
    "    gene_num.append(len(dif_gene_))\n",
    "    CDRAll = CDRAll | dif_gene_  # 13479\n",
    "\n",
    "len(CDRAll)  # Find 13479 differential genes\n"
   ]
  },
  {
   "cell_type": "code",
   "execution_count": null,
   "metadata": {},
   "outputs": [],
   "source": [
    "dif_gene['dif_gene_num'] = gene_num\n",
    "dif_gene['age1VSage0'] =age10\n",
    "dif_gene['age2VSage0'] =age20\n",
    "dif_gene['age2VSage1'] =age21\n",
    "\n",
    "dif_gene['up_gene10'] = up_gene10\n",
    "dif_gene['down_gene10'] = down_gene10\n",
    "dif_gene['up_gene20'] = up_gene20\n",
    "dif_gene['down_gene20'] = down_gene20\n",
    "dif_gene"
   ]
  },
  {
   "cell_type": "code",
   "execution_count": null,
   "metadata": {},
   "outputs": [],
   "source": [
    "genenames1 = pd.read_csv(\"D:\\\\genename5%.csv\")\n",
    "genenames = genenames1['genename'].to_list()\n",
    "len(genenames)"
   ]
  },
  {
   "cell_type": "code",
   "execution_count": null,
   "metadata": {},
   "outputs": [],
   "source": [
    "# Create a DataFrame to store the count of upregulated and downregulated genes in different age groups\n",
    "up_down_gene = pd.DataFrame({'Mid-term Group': [dif_gene['up_gene10'].sum(), dif_gene['down_gene10'].sum()],\n",
    "              'Late-term Group': [dif_gene['up_gene20'].sum(), dif_gene['down_gene20'].sum()]}, index=['Upregulated Genes', 'Downregulated Genes'])\n",
    "up_down_gene\n",
    "\n",
    "# Combine data from 16 brain regions into one dataframe 'ageframe'\n",
    "ageframe = ageframe[ageframe['num'].isin(common_gene)]\n",
    "ageframe['region'] = 1\n",
    "\n",
    "for i in range(1, 16):\n",
    "    data = pd.read_csv(micepath + micefiles[i])\n",
    "    data = data[data['num'].isin(common_gene)]\n",
    "    data['region'] = i + 1\n",
    "\n",
    "    ageframe = pd.concat([ageframe, data], join='outer', ignore_index=True)\n",
    "\n",
    "# Sort and reset the index of 'ageframe'\n",
    "ageframe.sort_values(by=['num', 'region'], inplace=True)\n",
    "ageframe.reset_index(drop=True, inplace=True)\n",
    "ageframe\n"
   ]
  },
  {
   "cell_type": "code",
   "execution_count": null,
   "metadata": {},
   "outputs": [],
   "source": [
    "# Combine data from 16 brain regions into one DataFrame 'ageframe'\n",
    "ageframe = ageframe[ageframe['num'].isin(common_gene)]\n",
    "ageframe['region'] = 1\n",
    "\n",
    "for i in range(1, 16):\n",
    "    data = pd.read_csv(micepath + micefiles[i])\n",
    "    data = data[data['num'].isin(common_gene)]\n",
    "    data['region'] = i + 1\n",
    "\n",
    "    ageframe = pd.concat([ageframe, data], join='outer', ignore_index=True)\n",
    "\n",
    "ageframe.sort_values(by=['num', 'region'], inplace=True)\n",
    "ageframe.reset_index(drop=True, inplace=True)\n",
    "ageframe\n"
   ]
  },
  {
   "cell_type": "code",
   "execution_count": null,
   "metadata": {},
   "outputs": [],
   "source": [
    "# Count the occurrence of patient data for each brain region\n",
    "patients_times = pd.DataFrame(pd.value_counts(patients))\n",
    "patients_times.reset_index(inplace=True)\n",
    "patients_times.columns=['patient','times']\n",
    "patients_times\n"
   ]
  },
  {
   "cell_type": "code",
   "execution_count": null,
   "metadata": {},
   "outputs": [],
   "source": [
    "# Select patients who have data from at least 3 brain regions\n",
    "patient3 = patients_times[patients_times['times'] >= 3]['patient'].to_list()\n",
    "patient3 = sorted(patient3)\n",
    "len(patient3)\n"
   ]
  },
  {
   "cell_type": "code",
   "execution_count": null,
   "metadata": {},
   "outputs": [],
   "source": [
    "patient3.insert(0,'num')"
   ]
  },
  {
   "cell_type": "code",
   "execution_count": null,
   "metadata": {},
   "outputs": [],
   "source": [
    "patient3"
   ]
  },
  {
   "cell_type": "markdown",
   "metadata": {},
   "source": [
    "FC"
   ]
  },
  {
   "cell_type": "code",
   "execution_count": null,
   "metadata": {},
   "outputs": [],
   "source": [
    "age10_FC = pd.DataFrame()\n",
    "age20_FC = pd.DataFrame()\n",
    "age21_FC = pd.DataFrame()\n",
    "\n",
    "for m in range(len(micefiles)):\n",
    "    data = pd.read_csv(micepath + micefiles[m])\n",
    "    data = data[data['num'].isin(common_gene)]\n",
    "\n",
    "    columns_list = data.columns[1:]\n",
    "\n",
    "    # Map CDR values from 'info' to 'fenzu' class\n",
    "    fenzu = info.copy()\n",
    "    fenzu['donor_id'] = fenzu['donor_id'].astype(str).apply(lambda x: \"S\" + x)\n",
    "    fenzu = fenzu[fenzu['donor_id'].isin(columns_list)].reset_index(drop=True)\n",
    "    fenzu['stage'] = fenzu['stage'].apply(lambda x: 'age0' if x == 1 else ('age1' if x == 2 else 'age2'))\n",
    "    fenzu = fenzu.loc[:, ['donor_id', 'stage']]\n",
    "    fenzu = fenzu.rename(columns={'donor_id': 'list', 'stage': 'class'})\n",
    "\n",
    "    # One-hot encode 'class' in 'fenzu'\n",
    "    design = pd.get_dummies(fenzu['class']).astype(int)\n",
    "    design.index = fenzu['list'].tolist()\n",
    "\n",
    "    data.dropna(inplace=True)\n",
    "\n",
    "    # Save gene names\n",
    "    gene_names = data['num'].tolist()\n",
    "\n",
    "    # Remove the first two columns from 'data' (leaving gene features)\n",
    "    data = data.iloc[:, 1:]\n",
    "    # Change the row index of 'data' to gene names\n",
    "    data.index = gene_names\n",
    "\n",
    "    # age1-age0\n",
    "    # Prepare data for limma differential analysis\n",
    "    # Create a contrast matrix using the limma package in R\n",
    "    limma = importr(\"limma\")\n",
    "    contrast_matrix = limma.makeContrasts(\"age1-age0\", levels=design)\n",
    "\n",
    "    # Perform the analysis\n",
    "    fit = limma.lmFit(data, design)\n",
    "    fit2 = limma.contrasts_fit(fit, contrast_matrix)\n",
    "    fit2 = limma.eBayes(fit2)\n",
    "    tempOutput = limma.topTable(fit2, adjust=\"fdr\", n=float(\"inf\"))\n",
    "\n",
    "    # Remove rows with missing values\n",
    "    nrDEG = tempOutput.dropna()\n",
    "    diffsig = nrDEG.copy()\n",
    "\n",
    "    diffsig.reset_index(inplace=True)\n",
    "    diffsig['Region'] = m + 1\n",
    "    age10_temp = diffsig[diffsig['index'].isin(gene_names)]\n",
    "    age10_FC = pd.concat([age10_FC, age10_temp], join='outer', ignore_index=True)\n",
    "\n",
    "    # age2-age0\n",
    "    # Prepare data for limma differential analysis\n",
    "    # Create a contrast matrix using the limma package in R\n",
    "    contrast_matrix = limma.makeContrasts(\"age2-age0\", levels=design)\n",
    "\n",
    "    # Perform the analysis\n",
    "    fit = limma.lmFit(data, design)\n",
    "    fit2 = limma.contrasts_fit(fit, contrast_matrix)\n",
    "    fit2 = limma.eBayes(fit2)\n",
    "    tempOutput = limma.topTable(fit2, adjust=\"fdr\", n=float(\"inf\"))\n",
    "\n",
    "    # Remove rows with missing values\n",
    "    nrDEG = tempOutput.dropna()\n",
    "    diffsig = nrDEG.copy()\n",
    "\n",
    "    diffsig.reset_index(inplace=True)\n",
    "    diffsig['Region'] = m + 1\n",
    "    age20_temp = diffsig[diffsig['index'].isin(gene_names)]\n",
    "    age20_FC = pd.concat([age20_FC, age20_temp], join='outer', ignore_index=True)\n",
    "\n",
    "    # age2-age1\n",
    "    # Prepare data for limma differential analysis\n",
    "    # Create a contrast matrix using the limma package in R\n",
    "    contrast_matrix = limma.makeContrasts(\"age2-age1\", levels=design)\n",
    "\n",
    "    # Perform the analysis\n",
    "    fit = limma.lmFit(data, design)\n",
    "    fit2 = limma.contrasts_fit(fit, contrast_matrix)\n",
    "    fit2 = limma.eBayes(fit2)\n",
    "    tempOutput = limma.topTable(fit2, adjust=\"fdr\", n=float(\"inf\"))\n",
    "\n",
    "    # Remove rows with missing values\n",
    "    nrDEG = tempOutput.dropna()\n",
    "    diffsig = nrDEG.copy()\n",
    "\n",
    "    diffsig.reset_index(inplace=True)\n",
    "    diffsig['Region'] = m + 1\n",
    "    age21_temp = diffsig[diffsig['index'].isin(gene_names)]\n",
    "    age21_FC = pd.concat([age21_FC, age21_temp], join='outer', ignore_index=True)\n"
   ]
  },
  {
   "cell_type": "code",
   "execution_count": null,
   "metadata": {},
   "outputs": [],
   "source": [
    "age10_FC.sort_values(by=['logFC'], inplace=True)\n",
    "age10_FC"
   ]
  },
  {
   "cell_type": "code",
   "execution_count": null,
   "metadata": {},
   "outputs": [],
   "source": [
    "age20_FC.sort_values(by=['logFC'], inplace=True)\n",
    "age20_FC"
   ]
  },
  {
   "cell_type": "code",
   "execution_count": null,
   "metadata": {},
   "outputs": [],
   "source": [
    "age21_FC.sort_values(by=['logFC'], inplace=True)\n",
    "age21_FC"
   ]
  },
  {
   "cell_type": "code",
   "execution_count": null,
   "metadata": {},
   "outputs": [],
   "source": [
    "# Sort age10_FC by 'index' and 'Region'\n",
    "age10_FC.sort_values(by=['index', 'Region'], inplace=True)\n",
    "\n",
    "# Sort age20_FC by 'index' and 'Region'\n",
    "age20_FC.sort_values(by=['index', 'Region'], inplace=True)\n",
    "\n",
    "# Display age20_FC\n",
    "age20_FC\n"
   ]
  },
  {
   "cell_type": "code",
   "execution_count": null,
   "metadata": {},
   "outputs": [],
   "source": [
    "age10_FC['index'].to_list() == age20_FC['index'].to_list()"
   ]
  },
  {
   "cell_type": "code",
   "execution_count": null,
   "metadata": {},
   "outputs": [],
   "source": [
    "FC = pd.DataFrame({\"age1FC\": age10_FC['logFC'].to_list()\n",
    "                  ,\"age2FC\": age20_FC['logFC'].to_list()\n",
    "                })\n",
    "FC"
   ]
  },
  {
   "cell_type": "code",
   "execution_count": null,
   "metadata": {},
   "outputs": [],
   "source": [
    "positive10  = np.where(FC['age1FC'] > 0)[0].tolist()\n",
    "positive20  = np.where(FC['age2FC'] > 0)[0].tolist()\n",
    "age10_FC['index'].to_list() == age20_FC['index'].to_list()"
   ]
  },
  {
   "cell_type": "code",
   "execution_count": null,
   "metadata": {},
   "outputs": [],
   "source": [
    "# Reverse the sign of negative values in the 'FC' column\n",
    "FC['age1FC'] = -FC['age1FC'][FC['age1FC'] < 0]\n",
    "FC['age2FC'] = -FC['age2FC'][FC['age2FC'] < 0]\n",
    "\n",
    "# Create a new DataFrame with the desired columns\n",
    "new_FC = FC[['genenum', 'age1FC', 'age2FC']]\n"
   ]
  },
  {
   "cell_type": "code",
   "execution_count": null,
   "metadata": {},
   "outputs": [],
   "source": [
    "# Set values below 0.585 in 'age1FC' to 0\n",
    "FC.loc[FC['age1FC'] < 0.585, 'age1FC'] = 0\n",
    "\n",
    "# Add a small positive value to 'age1FC' to prevent all-zero weights\n",
    "FC['age1FC'] += 0.000001\n",
    "\n",
    "# Set values below 0.585 in 'age2FC' to 0\n",
    "FC.loc[FC['age2FC'] < 0.585, 'age2FC'] = 0\n",
    "\n",
    "# Add a small positive value to 'age2FC' to prevent all-zero weights\n",
    "FC['age2FC'] += 0.000001\n"
   ]
  },
  {
   "cell_type": "code",
   "execution_count": null,
   "metadata": {},
   "outputs": [],
   "source": [
    "FC"
   ]
  },
  {
   "cell_type": "code",
   "execution_count": null,
   "metadata": {},
   "outputs": [],
   "source": [
    "# Filter the ageframe DataFrame to include only patients with data from at least 3 brain regions\n",
    "min_regions = 3\n",
    "ageframe = ageframe.loc[:, ageframe.columns[ageframe.count() >= min_regions]]\n"
   ]
  },
  {
   "cell_type": "code",
   "execution_count": null,
   "metadata": {},
   "outputs": [],
   "source": [
    "# Normalization process\n",
    "for gen in genenames:\n",
    "\n",
    "    genedata = ageframe.loc[ageframe['num'] == gen, :]\n",
    "\n",
    "    # Calculate centering for each column, i.e., subtracting the minimum value of each column from its data\n",
    "    center = genedata.iloc[:, 1:].apply(lambda x: x - np.nanmin(x), axis=0)\n",
    "    # Calculate the range (R) for each column, which is the difference between the maximum and minimum values of each column\n",
    "    R = np.nanmax(genedata.iloc[:, 1:], axis=0) - np.nanmin(genedata.iloc[:, 1:], axis=0)\n",
    "    # Normalize the centered data by dividing it by the range of each column\n",
    "    x_star = center / R[np.newaxis, :]\n",
    "\n",
    "    # Further normalize the calculated result, i.e., scale it linearly to the range [1, 4]\n",
    "    genedata.iloc[:, 1:] = x_star * 3 + 1\n",
    "\n",
    "    ageframe.loc[ageframe['num'] == gen, ageframe.columns[1:]] = genedata.iloc[:, 1:]\n",
    "\n",
    "ageframe.reset_index(drop=True, inplace=True)\n"
   ]
  },
  {
   "cell_type": "code",
   "execution_count": null,
   "metadata": {},
   "outputs": [],
   "source": [
    "group = info.copy()\n",
    "group['donor_id'] = group['donor_id'].astype(str).apply(lambda x: \"S\" + x)\n",
    "group = group[group['donor_id'].isin(patient3)].reset_index(drop=True)\n",
    "group['stage'] = group['stage'].apply(lambda x: 'age0' if x == 1 else ('age1' if x == 2 else 'age2'))\n",
    "group = group.loc[:,['donor_id','stage']]\n",
    "group"
   ]
  },
  {
   "cell_type": "code",
   "execution_count": null,
   "metadata": {},
   "outputs": [],
   "source": [
    "# Create a weighted data table based on donor_id and genenames\n",
    "donor_id = group['donor_id'].to_list()\n",
    "\n",
    "# Create a new DataFrame for weighted data\n",
    "FChou = pd.DataFrame(index=genenames, columns=donor_id)\n",
    "FChou\n"
   ]
  },
  {
   "cell_type": "code",
   "execution_count": null,
   "metadata": {},
   "outputs": [],
   "source": [
    "# Start the weighting process\n",
    "for gen in FChou.index:\n",
    "    for m in FChou.columns:\n",
    "        # Get the data for a specific gene and donor\n",
    "        naoqu = ageframe.loc[ageframe['num'] == gen, m]\n",
    "        degree = group[group['donor_id'] == m]['stage'].tolist()[0]\n",
    "\n",
    "        if degree == \"age0\":\n",
    "            # If the degree is \"age0\", calculate the weighted value as the mean of available data\n",
    "            series = naoqu.dropna()\n",
    "            FChou.loc[gen, m] = np.mean(series)\n",
    "\n",
    "        elif degree == \"age1\":\n",
    "            # If the degree is \"age1\", calculate the weighted value using age1FC weights\n",
    "            quanzhong = FC.loc[FC['genenum'] == gen, \"age1FC\"]\n",
    "            quanzhong = quanzhong[(-naoqu.isna()).to_list()]\n",
    "            naoqu = naoqu.dropna()\n",
    "            FChou.loc[gen, m] = np.dot(quanzhong / np.sum(quanzhong), naoqu)\n",
    "\n",
    "        else:\n",
    "            # If the degree is \"age2\", calculate the weighted value using age2FC weights\n",
    "            quanzhong = FC.loc[FC['genenum'] == gen, \"age2FC\"]\n",
    "            quanzhong = quanzhong[(-naoqu.isna()).to_list()]\n",
    "            naoqu = naoqu.dropna()\n",
    "            FChou.loc[gen, m] = np.dot(quanzhong / np.sum(quanzhong), naoqu)\n"
   ]
  },
  {
   "cell_type": "code",
   "execution_count": null,
   "metadata": {},
   "outputs": [],
   "source": [
    "FChou.sum().sum()"
   ]
  },
  {
   "cell_type": "code",
   "execution_count": null,
   "metadata": {},
   "outputs": [],
   "source": [
    "FChou = FChou.astype(float)\n",
    "FChou"
   ]
  },
  {
   "cell_type": "code",
   "execution_count": null,
   "metadata": {},
   "outputs": [],
   "source": [
    "# Encode the 'stage' column in the 'group' DataFrame using one-hot encoding\n",
    "design = pd.get_dummies(group['stage'])\n",
    "design.index = group['donor_id'].tolist()\n"
   ]
  },
  {
   "cell_type": "code",
   "execution_count": null,
   "metadata": {},
   "outputs": [],
   "source": [
    "design"
   ]
  },
  {
   "cell_type": "code",
   "execution_count": null,
   "metadata": {},
   "outputs": [],
   "source": [
    "# age1 - age0\n",
    "# Differential analysis preparation\n",
    "# Create a contrast matrix using the 'limma' package in R\n",
    "limma = importr(\"limma\")\n",
    "contrast_matrix = limma.makeContrasts(\"age1-age0\", levels=design)\n",
    "\n",
    "# Start the analysis - Step 1\n",
    "fit = limma.lmFit(FChou, design)\n",
    "# Step 2\n",
    "fit2 = limma.contrasts_fit(fit, contrast_matrix)\n",
    "fit2 = limma.eBayes(fit2)\n",
    "# Step 3\n",
    "tempOutput = limma.topTable(fit2, adjust=\"fdr\", n=float(\"inf\"))\n",
    "# Remove rows containing missing values\n",
    "nrDEG = tempOutput.dropna()\n",
    "diffsig = nrDEG.copy()\n",
    "\n",
    "# We use |logFC| > 0.585 and padj < 0.05 (adjusted P-value) as thresholds\n",
    "foldChange = 0.585\n",
    "padj = 0.05\n",
    "\n",
    "# Filter out all differentially expressed genes\n",
    "All_diffSig10 = diffsig.loc[(diffsig['P.Value'] < padj) & (\n",
    "        (diffsig['logFC'] > foldChange) | (diffsig['logFC'] < -foldChange))]\n",
    "\n",
    "# Upregulated genes\n",
    "diffup10 = All_diffSig10.loc[(All_diffSig10['P.Value'] < padj)\n",
    "                             & (All_diffSig10['logFC'] > foldChange)]\n",
    "\n",
    "# Downregulated genes\n",
    "diffdown10 = All_diffSig10.loc[(All_diffSig10['P.Value'] < padj) & (\n",
    "        All_diffSig10['logFC'] < -foldChange)]\n"
   ]
  },
  {
   "cell_type": "code",
   "execution_count": null,
   "metadata": {},
   "outputs": [],
   "source": [
    "# age2 - age0\n",
    "# Differential analysis preparation\n",
    "# Create a contrast matrix using the 'limma' package in R\n",
    "limma = importr(\"limma\")\n",
    "contrast_matrix = limma.makeContrasts(\"age2-age0\", levels=design)\n",
    "\n",
    "# Start the analysis - Step 1\n",
    "fit = limma.lmFit(FChou, design)\n",
    "# Step 2\n",
    "fit2 = limma.contrasts_fit(fit, contrast_matrix)\n",
    "fit2 = limma.eBayes(fit2)\n",
    "# Step 3\n",
    "tempOutput = limma.topTable(fit2, adjust=\"fdr\", n=float(\"inf\"))\n",
    "# Remove rows containing missing values\n",
    "nrDEG = tempOutput.dropna()\n",
    "diffsig = nrDEG.copy()\n",
    "\n",
    "# We use |logFC| > 0.585 and padj < 0.05 (adjusted P-value) as thresholds\n",
    "foldChange = 0.585\n",
    "padj = 0.05\n",
    "\n",
    "# Filter out all differentially expressed genes\n",
    "All_diffSig20 = diffsig.loc[(diffsig['P.Value'] < padj) & (\n",
    "    (diffsig['logFC'] > foldChange) | (diffsig['logFC'] < -foldChange))]\n",
    "\n",
    "# Upregulated genes\n",
    "diffup20 = All_diffSig20.loc[(All_diffSig20['P.Value'] < padj)\n",
    "                        & (All_diffSig20['logFC'] > foldChange)]\n",
    "\n",
    "# Downregulated genes\n",
    "diffdown20 = All_diffSig20.loc[(All_diffSig20['P.Value'] < padj) & (\n",
    "    All_diffSig20['logFC'] < -foldChange)]\n"
   ]
  },
  {
   "cell_type": "code",
   "execution_count": null,
   "metadata": {},
   "outputs": [],
   "source": [
    "# age2 - age1\n",
    "# Differential analysis preparation\n",
    "# Create a contrast matrix using the 'limma' package in R\n",
    "limma = importr(\"limma\")\n",
    "contrast_matrix = limma.makeContrasts(\"age2-age1\", levels=design)\n",
    "\n",
    "# Start the analysis - Step 1\n",
    "fit = limma.lmFit(FChou, design)\n",
    "# Step 2\n",
    "fit2 = limma.contrasts_fit(fit, contrast_matrix)\n",
    "fit2 = limma.eBayes(fit2)\n",
    "# Step 3\n",
    "tempOutput = limma.topTable(fit2, adjust=\"fdr\", n=float(\"inf\"))\n",
    "# Remove rows containing missing values\n",
    "nrDEG = tempOutput.dropna()\n",
    "diffsig = nrDEG.copy()\n",
    "\n",
    "# We use |logFC| > 0.585 and padj < 0.05 (adjusted P-value) as thresholds\n",
    "foldChange = 0.585\n",
    "padj = 0.05\n",
    "\n",
    "# Filter out all differentially expressed genes\n",
    "All_diffSig21 = diffsig.loc[(diffsig['P.Value'] < padj) & (\n",
    "    (diffsig['logFC'] > foldChange) | (diffsig['logFC'] < -foldChange))]\n",
    "\n",
    "# Upregulated genes\n",
    "diffup21 = All_diffSig21.loc[(All_diffSig21['P.Value'] < padj)\n",
    "                        & (All_diffSig21['logFC'] > foldChange)]\n",
    "\n",
    "# Downregulated genes\n",
    "diffdown21 = All_diffSig21.loc[(All_diffSig21['P.Value'] < padj) & (\n",
    "    All_diffSig21['logFC'] < -foldChange)]\n"
   ]
  },
  {
   "cell_type": "code",
   "execution_count": null,
   "metadata": {},
   "outputs": [],
   "source": [
    "limma_all = [len(All_diffSig10), len(All_diffSig20), len(All_diffSig21)]\n",
    "limma_up = [len(diffup10), len(diffup20), len(diffup21)]\n",
    "limma_down = [len(diffdown10), len(diffdown20), len(diffdown21)]\n",
    "\n",
    "limma_diff = pd.DataFrame(index=['age1-age0', 'age2-age0', 'age2-age1'])\n",
    "limma_diff['All Differential Genes'] = limma_all\n",
    "limma_diff['Upregulated Genes'] = limma_up\n",
    "limma_diff['Downregulated Genes'] = limma_down\n",
    "limma_diff\n"
   ]
  },
  {
   "cell_type": "code",
   "execution_count": null,
   "metadata": {},
   "outputs": [],
   "source": [
    "limma_all_gene = set(All_diffSig10.index.to_list()).union(All_diffSig20.index.to_list(), All_diffSig21.index.to_list())\n",
    "len(limma_all_gene)"
   ]
  },
  {
   "cell_type": "code",
   "execution_count": null,
   "metadata": {},
   "outputs": [],
   "source": [
    "limma_data = FChou.loc[limma_all_gene,:]\n",
    "limma_data.sort_index(inplace=True)\n",
    "limma_data"
   ]
  },
  {
   "cell_type": "code",
   "execution_count": null,
   "metadata": {},
   "outputs": [],
   "source": [
    "# Density Curve\n",
    "kernel_curve = limma_data.copy()\n",
    "kernel_curve.columns = group['stage']\n",
    "kernel_curve\n"
   ]
  },
  {
   "cell_type": "code",
   "execution_count": null,
   "metadata": {},
   "outputs": [],
   "source": [
    "age0 = []\n",
    "age1 = []\n",
    "age2 = []\n",
    "for i in range(len(group)):\n",
    "    if group['stage'][i] == 'age0':\n",
    "        age0 = age0 + kenerl_curve.iloc[:,i].to_list()\n",
    "    elif group['stage'][i] == 'age1':\n",
    "        age1 = age1 + kenerl_curve.iloc[:,i].to_list()\n",
    "    else:\n",
    "        age2 = age2 + kenerl_curve.iloc[:,i].to_list()"
   ]
  },
  {
   "cell_type": "code",
   "execution_count": null,
   "metadata": {},
   "outputs": [],
   "source": [
    "import seaborn as sns\n",
    "sns.kdeplot(age0,  shade=True)\n",
    "sns.kdeplot(age1,  shade=True)\n",
    "sns.kdeplot(age2,  shade=True)\n",
    "plt.legend(['early','mid','late'])"
   ]
  },
  {
   "cell_type": "markdown",
   "metadata": {},
   "source": [
    "Initialisation Configuration"
   ]
  },
  {
   "cell_type": "code",
   "execution_count": 1,
   "metadata": {
    "ExecuteTime": {
     "end_time": "2023-10-07T14:57:06.287421Z",
     "start_time": "2023-10-07T14:57:05.796888Z"
    },
    "collapsed": false
   },
   "outputs": [],
   "source": [
    "import pandas as pd\n",
    "import matplotlib.pyplot as plt\n",
    "from rpy2.robjects import pandas2ri\n",
    "from sklearn.cluster import KMeans\n",
    "\n",
    "pandas2ri.activate()\n",
    "\n",
    "plt.rcParams['axes.unicode_minus'] = False\n",
    "\n",
    "import warnings\n",
    "warnings.filterwarnings(\"ignore\")\n",
    "\n",
    "%matplotlib inline"
   ]
  },
  {
   "cell_type": "markdown",
   "metadata": {
    "collapsed": false
   },
   "source": [
    "Standardisation of data"
   ]
  },
  {
   "cell_type": "code",
   "execution_count": 3,
   "metadata": {
    "ExecuteTime": {
     "end_time": "2023-10-07T14:57:51.952356Z",
     "start_time": "2023-10-07T14:57:51.935003Z"
    },
    "collapsed": false
   },
   "outputs": [
    {
     "data": {
      "text/html": [
       "<div>\n",
       "<style scoped>\n",
       "    .dataframe tbody tr th:only-of-type {\n",
       "        vertical-align: middle;\n",
       "    }\n",
       "\n",
       "    .dataframe tbody tr th {\n",
       "        vertical-align: top;\n",
       "    }\n",
       "\n",
       "    .dataframe thead th {\n",
       "        text-align: right;\n",
       "    }\n",
       "</style>\n",
       "<table border=\"1\" class=\"dataframe\">\n",
       "  <thead>\n",
       "    <tr style=\"text-align: right;\">\n",
       "      <th></th>\n",
       "      <th>S12835</th>\n",
       "      <th>S12960</th>\n",
       "      <th>S13060</th>\n",
       "      <th>S12820</th>\n",
       "      <th>S12834</th>\n",
       "      <th>S12888</th>\n",
       "      <th>S12287</th>\n",
       "      <th>S12837</th>\n",
       "      <th>S12879</th>\n",
       "      <th>S12880</th>\n",
       "      <th>...</th>\n",
       "      <th>S12831</th>\n",
       "      <th>S12299</th>\n",
       "      <th>S12984</th>\n",
       "      <th>S12832</th>\n",
       "      <th>S13057</th>\n",
       "      <th>S12300</th>\n",
       "      <th>S12290</th>\n",
       "      <th>S12302</th>\n",
       "      <th>S12303</th>\n",
       "      <th>S12304</th>\n",
       "    </tr>\n",
       "  </thead>\n",
       "  <tbody>\n",
       "    <tr>\n",
       "      <th>X10004</th>\n",
       "      <td>-0.953914</td>\n",
       "      <td>0.496220</td>\n",
       "      <td>-0.093465</td>\n",
       "      <td>-0.321337</td>\n",
       "      <td>0.095528</td>\n",
       "      <td>-0.169260</td>\n",
       "      <td>0.780446</td>\n",
       "      <td>0.070355</td>\n",
       "      <td>0.319812</td>\n",
       "      <td>0.392665</td>\n",
       "      <td>...</td>\n",
       "      <td>0.819847</td>\n",
       "      <td>0.752721</td>\n",
       "      <td>0.283206</td>\n",
       "      <td>0.468953</td>\n",
       "      <td>-0.392719</td>\n",
       "      <td>1.097196</td>\n",
       "      <td>0.439317</td>\n",
       "      <td>-0.118468</td>\n",
       "      <td>0.505243</td>\n",
       "      <td>-0.485481</td>\n",
       "    </tr>\n",
       "    <tr>\n",
       "      <th>X10006</th>\n",
       "      <td>-0.677803</td>\n",
       "      <td>0.749330</td>\n",
       "      <td>-0.145793</td>\n",
       "      <td>-0.401175</td>\n",
       "      <td>-0.226143</td>\n",
       "      <td>1.680268</td>\n",
       "      <td>0.106641</td>\n",
       "      <td>0.083006</td>\n",
       "      <td>-0.233384</td>\n",
       "      <td>0.092001</td>\n",
       "      <td>...</td>\n",
       "      <td>-0.222037</td>\n",
       "      <td>0.621312</td>\n",
       "      <td>1.256759</td>\n",
       "      <td>0.852110</td>\n",
       "      <td>0.178111</td>\n",
       "      <td>-0.979156</td>\n",
       "      <td>1.444822</td>\n",
       "      <td>-0.000274</td>\n",
       "      <td>-0.747276</td>\n",
       "      <td>0.219823</td>\n",
       "    </tr>\n",
       "    <tr>\n",
       "      <th>X10029</th>\n",
       "      <td>0.134363</td>\n",
       "      <td>0.173628</td>\n",
       "      <td>-0.903233</td>\n",
       "      <td>-0.874972</td>\n",
       "      <td>0.584569</td>\n",
       "      <td>0.079528</td>\n",
       "      <td>-0.838370</td>\n",
       "      <td>-0.347121</td>\n",
       "      <td>-0.271691</td>\n",
       "      <td>0.051908</td>\n",
       "      <td>...</td>\n",
       "      <td>0.385211</td>\n",
       "      <td>1.035231</td>\n",
       "      <td>-1.349398</td>\n",
       "      <td>1.019254</td>\n",
       "      <td>1.253048</td>\n",
       "      <td>0.162569</td>\n",
       "      <td>1.017342</td>\n",
       "      <td>-0.059699</td>\n",
       "      <td>0.867792</td>\n",
       "      <td>0.621563</td>\n",
       "    </tr>\n",
       "    <tr>\n",
       "      <th>X10110</th>\n",
       "      <td>-1.232119</td>\n",
       "      <td>-1.537189</td>\n",
       "      <td>-0.938923</td>\n",
       "      <td>-1.115099</td>\n",
       "      <td>-0.801743</td>\n",
       "      <td>-1.468545</td>\n",
       "      <td>-0.476228</td>\n",
       "      <td>-0.810124</td>\n",
       "      <td>-0.696413</td>\n",
       "      <td>-0.716975</td>\n",
       "      <td>...</td>\n",
       "      <td>-0.590343</td>\n",
       "      <td>-0.887868</td>\n",
       "      <td>1.828463</td>\n",
       "      <td>-0.413933</td>\n",
       "      <td>-0.904416</td>\n",
       "      <td>-0.051330</td>\n",
       "      <td>-0.432538</td>\n",
       "      <td>-0.725909</td>\n",
       "      <td>-0.168353</td>\n",
       "      <td>-0.401081</td>\n",
       "    </tr>\n",
       "    <tr>\n",
       "      <th>X10136</th>\n",
       "      <td>1.156478</td>\n",
       "      <td>2.008601</td>\n",
       "      <td>1.206699</td>\n",
       "      <td>1.467266</td>\n",
       "      <td>1.321242</td>\n",
       "      <td>1.844560</td>\n",
       "      <td>0.448920</td>\n",
       "      <td>0.878186</td>\n",
       "      <td>0.271784</td>\n",
       "      <td>0.532885</td>\n",
       "      <td>...</td>\n",
       "      <td>-1.992582</td>\n",
       "      <td>-2.060304</td>\n",
       "      <td>-2.022716</td>\n",
       "      <td>-1.855941</td>\n",
       "      <td>-1.438102</td>\n",
       "      <td>-2.052736</td>\n",
       "      <td>-2.085331</td>\n",
       "      <td>-2.009104</td>\n",
       "      <td>-1.966439</td>\n",
       "      <td>-2.343644</td>\n",
       "    </tr>\n",
       "    <tr>\n",
       "      <th>...</th>\n",
       "      <td>...</td>\n",
       "      <td>...</td>\n",
       "      <td>...</td>\n",
       "      <td>...</td>\n",
       "      <td>...</td>\n",
       "      <td>...</td>\n",
       "      <td>...</td>\n",
       "      <td>...</td>\n",
       "      <td>...</td>\n",
       "      <td>...</td>\n",
       "      <td>...</td>\n",
       "      <td>...</td>\n",
       "      <td>...</td>\n",
       "      <td>...</td>\n",
       "      <td>...</td>\n",
       "      <td>...</td>\n",
       "      <td>...</td>\n",
       "      <td>...</td>\n",
       "      <td>...</td>\n",
       "      <td>...</td>\n",
       "      <td>...</td>\n",
       "    </tr>\n",
       "    <tr>\n",
       "      <th>X9893</th>\n",
       "      <td>-1.207807</td>\n",
       "      <td>-1.664518</td>\n",
       "      <td>-1.149274</td>\n",
       "      <td>-1.701309</td>\n",
       "      <td>-1.530714</td>\n",
       "      <td>-1.754285</td>\n",
       "      <td>-1.666872</td>\n",
       "      <td>-1.447282</td>\n",
       "      <td>-1.757011</td>\n",
       "      <td>-1.720962</td>\n",
       "      <td>...</td>\n",
       "      <td>-0.641441</td>\n",
       "      <td>1.066142</td>\n",
       "      <td>2.324954</td>\n",
       "      <td>0.351445</td>\n",
       "      <td>-0.255822</td>\n",
       "      <td>0.564402</td>\n",
       "      <td>-0.081997</td>\n",
       "      <td>0.396257</td>\n",
       "      <td>-0.119726</td>\n",
       "      <td>1.277808</td>\n",
       "    </tr>\n",
       "    <tr>\n",
       "      <th>X993</th>\n",
       "      <td>-1.018882</td>\n",
       "      <td>-0.986750</td>\n",
       "      <td>-0.730442</td>\n",
       "      <td>-0.779562</td>\n",
       "      <td>-0.114243</td>\n",
       "      <td>-1.100439</td>\n",
       "      <td>-0.612683</td>\n",
       "      <td>0.810276</td>\n",
       "      <td>-0.534871</td>\n",
       "      <td>-0.732063</td>\n",
       "      <td>...</td>\n",
       "      <td>0.606163</td>\n",
       "      <td>0.818744</td>\n",
       "      <td>0.546051</td>\n",
       "      <td>-0.219683</td>\n",
       "      <td>0.244745</td>\n",
       "      <td>0.780714</td>\n",
       "      <td>-0.074717</td>\n",
       "      <td>-0.129542</td>\n",
       "      <td>0.303180</td>\n",
       "      <td>1.069927</td>\n",
       "    </tr>\n",
       "    <tr>\n",
       "      <th>X9965</th>\n",
       "      <td>-1.231052</td>\n",
       "      <td>0.704675</td>\n",
       "      <td>-0.909309</td>\n",
       "      <td>-0.969908</td>\n",
       "      <td>-1.339852</td>\n",
       "      <td>0.182732</td>\n",
       "      <td>-1.497575</td>\n",
       "      <td>-0.755854</td>\n",
       "      <td>-1.115877</td>\n",
       "      <td>-0.724149</td>\n",
       "      <td>...</td>\n",
       "      <td>0.566363</td>\n",
       "      <td>1.492453</td>\n",
       "      <td>2.110155</td>\n",
       "      <td>0.557039</td>\n",
       "      <td>0.261450</td>\n",
       "      <td>0.369871</td>\n",
       "      <td>0.387316</td>\n",
       "      <td>0.615593</td>\n",
       "      <td>0.619226</td>\n",
       "      <td>0.373043</td>\n",
       "    </tr>\n",
       "    <tr>\n",
       "      <th>X9968</th>\n",
       "      <td>1.294620</td>\n",
       "      <td>1.921230</td>\n",
       "      <td>0.937381</td>\n",
       "      <td>-0.106472</td>\n",
       "      <td>1.164330</td>\n",
       "      <td>0.227750</td>\n",
       "      <td>0.094691</td>\n",
       "      <td>-0.885411</td>\n",
       "      <td>0.784437</td>\n",
       "      <td>-0.348691</td>\n",
       "      <td>...</td>\n",
       "      <td>0.558628</td>\n",
       "      <td>0.735719</td>\n",
       "      <td>0.259814</td>\n",
       "      <td>0.572397</td>\n",
       "      <td>1.039805</td>\n",
       "      <td>0.323347</td>\n",
       "      <td>1.418748</td>\n",
       "      <td>1.399023</td>\n",
       "      <td>-0.579767</td>\n",
       "      <td>0.874452</td>\n",
       "    </tr>\n",
       "    <tr>\n",
       "      <th>X9987</th>\n",
       "      <td>-0.775113</td>\n",
       "      <td>1.488838</td>\n",
       "      <td>-0.536651</td>\n",
       "      <td>0.527680</td>\n",
       "      <td>0.758887</td>\n",
       "      <td>-0.326975</td>\n",
       "      <td>-0.751246</td>\n",
       "      <td>0.447186</td>\n",
       "      <td>-0.290508</td>\n",
       "      <td>-0.050390</td>\n",
       "      <td>...</td>\n",
       "      <td>0.206512</td>\n",
       "      <td>0.506326</td>\n",
       "      <td>-0.963335</td>\n",
       "      <td>0.152699</td>\n",
       "      <td>1.204770</td>\n",
       "      <td>0.792437</td>\n",
       "      <td>0.327357</td>\n",
       "      <td>-0.009698</td>\n",
       "      <td>0.499584</td>\n",
       "      <td>0.271527</td>\n",
       "    </tr>\n",
       "  </tbody>\n",
       "</table>\n",
       "<p>515 rows × 37 columns</p>\n",
       "</div>"
      ],
      "text/plain": [
       "          S12835    S12960    S13060    S12820    S12834    S12888    S12287  \\\n",
       "X10004 -0.953914  0.496220 -0.093465 -0.321337  0.095528 -0.169260  0.780446   \n",
       "X10006 -0.677803  0.749330 -0.145793 -0.401175 -0.226143  1.680268  0.106641   \n",
       "X10029  0.134363  0.173628 -0.903233 -0.874972  0.584569  0.079528 -0.838370   \n",
       "X10110 -1.232119 -1.537189 -0.938923 -1.115099 -0.801743 -1.468545 -0.476228   \n",
       "X10136  1.156478  2.008601  1.206699  1.467266  1.321242  1.844560  0.448920   \n",
       "...          ...       ...       ...       ...       ...       ...       ...   \n",
       "X9893  -1.207807 -1.664518 -1.149274 -1.701309 -1.530714 -1.754285 -1.666872   \n",
       "X993   -1.018882 -0.986750 -0.730442 -0.779562 -0.114243 -1.100439 -0.612683   \n",
       "X9965  -1.231052  0.704675 -0.909309 -0.969908 -1.339852  0.182732 -1.497575   \n",
       "X9968   1.294620  1.921230  0.937381 -0.106472  1.164330  0.227750  0.094691   \n",
       "X9987  -0.775113  1.488838 -0.536651  0.527680  0.758887 -0.326975 -0.751246   \n",
       "\n",
       "          S12837    S12879    S12880  ...    S12831    S12299    S12984  \\\n",
       "X10004  0.070355  0.319812  0.392665  ...  0.819847  0.752721  0.283206   \n",
       "X10006  0.083006 -0.233384  0.092001  ... -0.222037  0.621312  1.256759   \n",
       "X10029 -0.347121 -0.271691  0.051908  ...  0.385211  1.035231 -1.349398   \n",
       "X10110 -0.810124 -0.696413 -0.716975  ... -0.590343 -0.887868  1.828463   \n",
       "X10136  0.878186  0.271784  0.532885  ... -1.992582 -2.060304 -2.022716   \n",
       "...          ...       ...       ...  ...       ...       ...       ...   \n",
       "X9893  -1.447282 -1.757011 -1.720962  ... -0.641441  1.066142  2.324954   \n",
       "X993    0.810276 -0.534871 -0.732063  ...  0.606163  0.818744  0.546051   \n",
       "X9965  -0.755854 -1.115877 -0.724149  ...  0.566363  1.492453  2.110155   \n",
       "X9968  -0.885411  0.784437 -0.348691  ...  0.558628  0.735719  0.259814   \n",
       "X9987   0.447186 -0.290508 -0.050390  ...  0.206512  0.506326 -0.963335   \n",
       "\n",
       "          S12832    S13057    S12300    S12290    S12302    S12303    S12304  \n",
       "X10004  0.468953 -0.392719  1.097196  0.439317 -0.118468  0.505243 -0.485481  \n",
       "X10006  0.852110  0.178111 -0.979156  1.444822 -0.000274 -0.747276  0.219823  \n",
       "X10029  1.019254  1.253048  0.162569  1.017342 -0.059699  0.867792  0.621563  \n",
       "X10110 -0.413933 -0.904416 -0.051330 -0.432538 -0.725909 -0.168353 -0.401081  \n",
       "X10136 -1.855941 -1.438102 -2.052736 -2.085331 -2.009104 -1.966439 -2.343644  \n",
       "...          ...       ...       ...       ...       ...       ...       ...  \n",
       "X9893   0.351445 -0.255822  0.564402 -0.081997  0.396257 -0.119726  1.277808  \n",
       "X993   -0.219683  0.244745  0.780714 -0.074717 -0.129542  0.303180  1.069927  \n",
       "X9965   0.557039  0.261450  0.369871  0.387316  0.615593  0.619226  0.373043  \n",
       "X9968   0.572397  1.039805  0.323347  1.418748  1.399023 -0.579767  0.874452  \n",
       "X9987   0.152699  1.204770  0.792437  0.327357 -0.009698  0.499584  0.271527  \n",
       "\n",
       "[515 rows x 37 columns]"
      ]
     },
     "execution_count": 3,
     "metadata": {},
     "output_type": "execute_result"
    }
   ],
   "source": [
    "from sklearn. preprocessing import StandardScaler\n",
    "scaler = StandardScaler()\n",
    "scaled_limma = pd.DataFrame(scaler.fit_transform(limma_data), columns= limma_data.columns , index = limma_data.index)\n",
    "\n",
    "scaled_limma"
   ]
  },
  {
   "cell_type": "markdown",
   "metadata": {
    "collapsed": false
   },
   "source": [
    "Downgraded to 2 dimensions using UMAP (downgraded for number of samples, not for number of genes)"
   ]
  },
  {
   "cell_type": "code",
   "execution_count": 4,
   "metadata": {
    "ExecuteTime": {
     "end_time": "2023-10-07T14:57:58.057395Z",
     "start_time": "2023-10-07T14:57:53.048414Z"
    },
    "collapsed": false
   },
   "outputs": [
    {
     "data": {
      "text/plain": [
       "array([[11.150443 ,  7.856934 ],\n",
       "       [10.085002 , 11.523524 ],\n",
       "       [ 9.759493 ,  7.4908924],\n",
       "       ...,\n",
       "       [11.4318   ,  9.830023 ],\n",
       "       [11.316206 ,  6.1365376],\n",
       "       [ 9.792029 ,  6.9582987]], dtype=float32)"
      ]
     },
     "execution_count": 4,
     "metadata": {},
     "output_type": "execute_result"
    }
   ],
   "source": [
    "import umap.umap_ as umap\n",
    "\n",
    "reducer = umap.UMAP(n_components=2, n_epochs=500,random_state=42,\n",
    "                    metric='euclidean', n_neighbors=30, min_dist=0.1)\n",
    "reduced_data = reducer.fit_transform(scaled_limma)\n",
    "reduced_data"
   ]
  },
  {
   "cell_type": "markdown",
   "metadata": {
    "collapsed": false
   },
   "source": [
    "Exploring the optimal number of clusters"
   ]
  },
  {
   "cell_type": "code",
   "execution_count": 5,
   "metadata": {
    "ExecuteTime": {
     "end_time": "2023-10-07T14:57:58.827515Z",
     "start_time": "2023-10-07T14:57:58.056944Z"
    },
    "collapsed": false
   },
   "outputs": [
    {
     "data": {
      "image/png": "[encoded data removed]",
      "text/plain": [
       "<Figure size 800x550 with 2 Axes>"
      ]
     },
     "metadata": {},
     "output_type": "display_data"
    },
    {
     "data": {
      "text/plain": [
       "<Axes: title={'center': 'Distortion Score Elbow for KMeans Clustering'}, xlabel='k', ylabel='distortion score'>"
      ]
     },
     "execution_count": 5,
     "metadata": {},
     "output_type": "execute_result"
    }
   ],
   "source": [
    "from yellowbrick.cluster import KElbowVisualizer\n",
    "model = KMeans()\n",
    "\n",
    "plt.rc('axes', labelweight='normal')\n",
    "visualizer = KElbowVisualizer(model, k=(2,10), timings=True)\n",
    "visualizer.fit(reduced_data)\n",
    "visualizer.show()"
   ]
  },
  {
   "cell_type": "markdown",
   "metadata": {
    "collapsed": false
   },
   "source": [
    "Clustering of dimensionality reduced data using kmeans"
   ]
  },
  {
   "cell_type": "code",
   "execution_count": 6,
   "metadata": {
    "ExecuteTime": {
     "end_time": "2023-10-07T14:58:25.998285Z",
     "start_time": "2023-10-07T14:58:25.968102Z"
    },
    "collapsed": false
   },
   "outputs": [],
   "source": [
    "kmeans = KMeans(n_clusters=4, random_state=42)  # Specify the number of clusters\n",
    "clusters = kmeans.fit(reduced_data)\n",
    "# clusters.labels_"
   ]
  },
  {
   "cell_type": "code",
   "execution_count": 7,
   "metadata": {
    "ExecuteTime": {
     "end_time": "2023-10-07T14:58:26.824843Z",
     "start_time": "2023-10-07T14:58:26.465355Z"
    },
    "collapsed": false
   },
   "outputs": [
    {
     "data": {
      "image/png": "[encoded data removed]",
      "text/plain": [
       "<Figure size 1050x700 with 1 Axes>"
      ]
     },
     "metadata": {},
     "output_type": "display_data"
    }
   ],
   "source": [
    "import matplotlib.pyplot as plt\n",
    "import numpy as np\n",
    "\n",
    "# Assuming reduced_data is UMAP-embedded data and clusters.labels_ contains cluster assignments\n",
    "\n",
    "# Create a figure for the scatter plot\n",
    "plt.figure(figsize=(10.5, 7))\n",
    "\n",
    "# Get unique cluster labels\n",
    "unique_labels = np.unique(clusters.labels_)\n",
    "\n",
    "# Define a mapping of cluster labels\n",
    "category_colors = {\n",
    "    \"Cluster A\": \"blue\",\n",
    "    \"Cluster B\": \"green\",\n",
    "    \"Cluster C\": \"orange\",\n",
    "    \"Cluster D\": \"red\"\n",
    "}\n",
    "\n",
    "# Initialize a list to store legend handles\n",
    "legend_handles = []\n",
    "categories = ['Cluster A', 'Cluster B', 'Cluster C', 'Cluster D']\n",
    "\n",
    "# Loop through different clusters and assign a unique color and label to each\n",
    "for label in unique_labels:\n",
    "    cluster_points = reduced_data[clusters.labels_ == label]\n",
    "\n",
    "    # Get the corresponding category label\n",
    "    category_label = categories[label]\n",
    "\n",
    "    # Get the color for the category label from the mapping\n",
    "    color = category_colors.get(category_label, 'gray')  # Default to gray if not found\n",
    "\n",
    "    # Plot the cluster points with the assigned color and label\n",
    "    scatter = plt.scatter(cluster_points[:, 0], cluster_points[:, 1], s=10, alpha=0.7, label=f'{category_label}', color=color)\n",
    "\n",
    "    # Append the scatter object to the legend handles\n",
    "    legend_handles.append(scatter)\n",
    "\n",
    "# Set font weight for x and y axis labels\n",
    "plt.rc('axes', labelweight='bold')\n",
    "\n",
    "# Add title and axis labels\n",
    "plt.title('KMeans Clustering Results', fontsize=22)\n",
    "plt.xlabel('UMAP Dimension 1', fontsize=22)\n",
    "plt.ylabel('UMAP Dimension 2', fontsize=22)\n",
    "\n",
    "plt.xticks(fontsize=22)\n",
    "plt.yticks(fontsize=22)\n",
    "\n",
    "# Add legend with increased marker size\n",
    "legend = plt.legend(handles=legend_handles, loc='upper left', fontsize=25, frameon=False)\n",
    "for legend_handle in legend.legendHandles:\n",
    "    legend_handle.set_sizes([150])  # Adjust the size as needed\n",
    "\n",
    "# Save the plot as a PDF file\n",
    "plt.savefig(\"/Users/zhangchenyang/Desktop/new_3_KMeans.pdf\", format=\"pdf\")\n",
    "\n",
    "# Show the plot\n",
    "plt.show()"
   ]
  },
  {
   "cell_type": "markdown",
   "metadata": {
    "collapsed": false
   },
   "source": [
    "Splicing the results after gene clustering with the original data"
   ]
  },
  {
   "cell_type": "code",
   "execution_count": 8,
   "metadata": {
    "ExecuteTime": {
     "end_time": "2023-10-07T14:58:28.029239Z",
     "start_time": "2023-10-07T14:58:28.021940Z"
    },
    "collapsed": false
   },
   "outputs": [
    {
     "data": {
      "text/html": [
       "<div>\n",
       "<style scoped>\n",
       "    .dataframe tbody tr th:only-of-type {\n",
       "        vertical-align: middle;\n",
       "    }\n",
       "\n",
       "    .dataframe tbody tr th {\n",
       "        vertical-align: top;\n",
       "    }\n",
       "\n",
       "    .dataframe thead th {\n",
       "        text-align: right;\n",
       "    }\n",
       "</style>\n",
       "<table border=\"1\" class=\"dataframe\">\n",
       "  <thead>\n",
       "    <tr style=\"text-align: right;\">\n",
       "      <th></th>\n",
       "      <th>S12835</th>\n",
       "      <th>S12960</th>\n",
       "      <th>S13060</th>\n",
       "      <th>S12820</th>\n",
       "      <th>S12834</th>\n",
       "      <th>S12888</th>\n",
       "      <th>S12287</th>\n",
       "      <th>S12837</th>\n",
       "      <th>S12879</th>\n",
       "      <th>S12880</th>\n",
       "      <th>...</th>\n",
       "      <th>S12299</th>\n",
       "      <th>S12984</th>\n",
       "      <th>S12832</th>\n",
       "      <th>S13057</th>\n",
       "      <th>S12300</th>\n",
       "      <th>S12290</th>\n",
       "      <th>S12302</th>\n",
       "      <th>S12303</th>\n",
       "      <th>S12304</th>\n",
       "      <th>label</th>\n",
       "    </tr>\n",
       "  </thead>\n",
       "  <tbody>\n",
       "    <tr>\n",
       "      <th>X10004</th>\n",
       "      <td>-0.953914</td>\n",
       "      <td>0.496220</td>\n",
       "      <td>-0.093465</td>\n",
       "      <td>-0.321337</td>\n",
       "      <td>0.095528</td>\n",
       "      <td>-0.169260</td>\n",
       "      <td>0.780446</td>\n",
       "      <td>0.070355</td>\n",
       "      <td>0.319812</td>\n",
       "      <td>0.392665</td>\n",
       "      <td>...</td>\n",
       "      <td>0.752721</td>\n",
       "      <td>0.283206</td>\n",
       "      <td>0.468953</td>\n",
       "      <td>-0.392719</td>\n",
       "      <td>1.097196</td>\n",
       "      <td>0.439317</td>\n",
       "      <td>-0.118468</td>\n",
       "      <td>0.505243</td>\n",
       "      <td>-0.485481</td>\n",
       "      <td>3</td>\n",
       "    </tr>\n",
       "    <tr>\n",
       "      <th>X10006</th>\n",
       "      <td>-0.677803</td>\n",
       "      <td>0.749330</td>\n",
       "      <td>-0.145793</td>\n",
       "      <td>-0.401175</td>\n",
       "      <td>-0.226143</td>\n",
       "      <td>1.680268</td>\n",
       "      <td>0.106641</td>\n",
       "      <td>0.083006</td>\n",
       "      <td>-0.233384</td>\n",
       "      <td>0.092001</td>\n",
       "      <td>...</td>\n",
       "      <td>0.621312</td>\n",
       "      <td>1.256759</td>\n",
       "      <td>0.852110</td>\n",
       "      <td>0.178111</td>\n",
       "      <td>-0.979156</td>\n",
       "      <td>1.444822</td>\n",
       "      <td>-0.000274</td>\n",
       "      <td>-0.747276</td>\n",
       "      <td>0.219823</td>\n",
       "      <td>1</td>\n",
       "    </tr>\n",
       "    <tr>\n",
       "      <th>X10029</th>\n",
       "      <td>0.134363</td>\n",
       "      <td>0.173628</td>\n",
       "      <td>-0.903233</td>\n",
       "      <td>-0.874972</td>\n",
       "      <td>0.584569</td>\n",
       "      <td>0.079528</td>\n",
       "      <td>-0.838370</td>\n",
       "      <td>-0.347121</td>\n",
       "      <td>-0.271691</td>\n",
       "      <td>0.051908</td>\n",
       "      <td>...</td>\n",
       "      <td>1.035231</td>\n",
       "      <td>-1.349398</td>\n",
       "      <td>1.019254</td>\n",
       "      <td>1.253048</td>\n",
       "      <td>0.162569</td>\n",
       "      <td>1.017342</td>\n",
       "      <td>-0.059699</td>\n",
       "      <td>0.867792</td>\n",
       "      <td>0.621563</td>\n",
       "      <td>2</td>\n",
       "    </tr>\n",
       "    <tr>\n",
       "      <th>X10110</th>\n",
       "      <td>-1.232119</td>\n",
       "      <td>-1.537189</td>\n",
       "      <td>-0.938923</td>\n",
       "      <td>-1.115099</td>\n",
       "      <td>-0.801743</td>\n",
       "      <td>-1.468545</td>\n",
       "      <td>-0.476228</td>\n",
       "      <td>-0.810124</td>\n",
       "      <td>-0.696413</td>\n",
       "      <td>-0.716975</td>\n",
       "      <td>...</td>\n",
       "      <td>-0.887868</td>\n",
       "      <td>1.828463</td>\n",
       "      <td>-0.413933</td>\n",
       "      <td>-0.904416</td>\n",
       "      <td>-0.051330</td>\n",
       "      <td>-0.432538</td>\n",
       "      <td>-0.725909</td>\n",
       "      <td>-0.168353</td>\n",
       "      <td>-0.401081</td>\n",
       "      <td>1</td>\n",
       "    </tr>\n",
       "    <tr>\n",
       "      <th>X10136</th>\n",
       "      <td>1.156478</td>\n",
       "      <td>2.008601</td>\n",
       "      <td>1.206699</td>\n",
       "      <td>1.467266</td>\n",
       "      <td>1.321242</td>\n",
       "      <td>1.844560</td>\n",
       "      <td>0.448920</td>\n",
       "      <td>0.878186</td>\n",
       "      <td>0.271784</td>\n",
       "      <td>0.532885</td>\n",
       "      <td>...</td>\n",
       "      <td>-2.060304</td>\n",
       "      <td>-2.022716</td>\n",
       "      <td>-1.855941</td>\n",
       "      <td>-1.438102</td>\n",
       "      <td>-2.052736</td>\n",
       "      <td>-2.085331</td>\n",
       "      <td>-2.009104</td>\n",
       "      <td>-1.966439</td>\n",
       "      <td>-2.343644</td>\n",
       "      <td>0</td>\n",
       "    </tr>\n",
       "    <tr>\n",
       "      <th>...</th>\n",
       "      <td>...</td>\n",
       "      <td>...</td>\n",
       "      <td>...</td>\n",
       "      <td>...</td>\n",
       "      <td>...</td>\n",
       "      <td>...</td>\n",
       "      <td>...</td>\n",
       "      <td>...</td>\n",
       "      <td>...</td>\n",
       "      <td>...</td>\n",
       "      <td>...</td>\n",
       "      <td>...</td>\n",
       "      <td>...</td>\n",
       "      <td>...</td>\n",
       "      <td>...</td>\n",
       "      <td>...</td>\n",
       "      <td>...</td>\n",
       "      <td>...</td>\n",
       "      <td>...</td>\n",
       "      <td>...</td>\n",
       "      <td>...</td>\n",
       "    </tr>\n",
       "    <tr>\n",
       "      <th>X9893</th>\n",
       "      <td>-1.207807</td>\n",
       "      <td>-1.664518</td>\n",
       "      <td>-1.149274</td>\n",
       "      <td>-1.701309</td>\n",
       "      <td>-1.530714</td>\n",
       "      <td>-1.754285</td>\n",
       "      <td>-1.666872</td>\n",
       "      <td>-1.447282</td>\n",
       "      <td>-1.757011</td>\n",
       "      <td>-1.720962</td>\n",
       "      <td>...</td>\n",
       "      <td>1.066142</td>\n",
       "      <td>2.324954</td>\n",
       "      <td>0.351445</td>\n",
       "      <td>-0.255822</td>\n",
       "      <td>0.564402</td>\n",
       "      <td>-0.081997</td>\n",
       "      <td>0.396257</td>\n",
       "      <td>-0.119726</td>\n",
       "      <td>1.277808</td>\n",
       "      <td>2</td>\n",
       "    </tr>\n",
       "    <tr>\n",
       "      <th>X993</th>\n",
       "      <td>-1.018882</td>\n",
       "      <td>-0.986750</td>\n",
       "      <td>-0.730442</td>\n",
       "      <td>-0.779562</td>\n",
       "      <td>-0.114243</td>\n",
       "      <td>-1.100439</td>\n",
       "      <td>-0.612683</td>\n",
       "      <td>0.810276</td>\n",
       "      <td>-0.534871</td>\n",
       "      <td>-0.732063</td>\n",
       "      <td>...</td>\n",
       "      <td>0.818744</td>\n",
       "      <td>0.546051</td>\n",
       "      <td>-0.219683</td>\n",
       "      <td>0.244745</td>\n",
       "      <td>0.780714</td>\n",
       "      <td>-0.074717</td>\n",
       "      <td>-0.129542</td>\n",
       "      <td>0.303180</td>\n",
       "      <td>1.069927</td>\n",
       "      <td>1</td>\n",
       "    </tr>\n",
       "    <tr>\n",
       "      <th>X9965</th>\n",
       "      <td>-1.231052</td>\n",
       "      <td>0.704675</td>\n",
       "      <td>-0.909309</td>\n",
       "      <td>-0.969908</td>\n",
       "      <td>-1.339852</td>\n",
       "      <td>0.182732</td>\n",
       "      <td>-1.497575</td>\n",
       "      <td>-0.755854</td>\n",
       "      <td>-1.115877</td>\n",
       "      <td>-0.724149</td>\n",
       "      <td>...</td>\n",
       "      <td>1.492453</td>\n",
       "      <td>2.110155</td>\n",
       "      <td>0.557039</td>\n",
       "      <td>0.261450</td>\n",
       "      <td>0.369871</td>\n",
       "      <td>0.387316</td>\n",
       "      <td>0.615593</td>\n",
       "      <td>0.619226</td>\n",
       "      <td>0.373043</td>\n",
       "      <td>2</td>\n",
       "    </tr>\n",
       "    <tr>\n",
       "      <th>X9968</th>\n",
       "      <td>1.294620</td>\n",
       "      <td>1.921230</td>\n",
       "      <td>0.937381</td>\n",
       "      <td>-0.106472</td>\n",
       "      <td>1.164330</td>\n",
       "      <td>0.227750</td>\n",
       "      <td>0.094691</td>\n",
       "      <td>-0.885411</td>\n",
       "      <td>0.784437</td>\n",
       "      <td>-0.348691</td>\n",
       "      <td>...</td>\n",
       "      <td>0.735719</td>\n",
       "      <td>0.259814</td>\n",
       "      <td>0.572397</td>\n",
       "      <td>1.039805</td>\n",
       "      <td>0.323347</td>\n",
       "      <td>1.418748</td>\n",
       "      <td>1.399023</td>\n",
       "      <td>-0.579767</td>\n",
       "      <td>0.874452</td>\n",
       "      <td>3</td>\n",
       "    </tr>\n",
       "    <tr>\n",
       "      <th>X9987</th>\n",
       "      <td>-0.775113</td>\n",
       "      <td>1.488838</td>\n",
       "      <td>-0.536651</td>\n",
       "      <td>0.527680</td>\n",
       "      <td>0.758887</td>\n",
       "      <td>-0.326975</td>\n",
       "      <td>-0.751246</td>\n",
       "      <td>0.447186</td>\n",
       "      <td>-0.290508</td>\n",
       "      <td>-0.050390</td>\n",
       "      <td>...</td>\n",
       "      <td>0.506326</td>\n",
       "      <td>-0.963335</td>\n",
       "      <td>0.152699</td>\n",
       "      <td>1.204770</td>\n",
       "      <td>0.792437</td>\n",
       "      <td>0.327357</td>\n",
       "      <td>-0.009698</td>\n",
       "      <td>0.499584</td>\n",
       "      <td>0.271527</td>\n",
       "      <td>3</td>\n",
       "    </tr>\n",
       "  </tbody>\n",
       "</table>\n",
       "<p>515 rows × 38 columns</p>\n",
       "</div>"
      ],
      "text/plain": [
       "          S12835    S12960    S13060    S12820    S12834    S12888    S12287  \\\n",
       "X10004 -0.953914  0.496220 -0.093465 -0.321337  0.095528 -0.169260  0.780446   \n",
       "X10006 -0.677803  0.749330 -0.145793 -0.401175 -0.226143  1.680268  0.106641   \n",
       "X10029  0.134363  0.173628 -0.903233 -0.874972  0.584569  0.079528 -0.838370   \n",
       "X10110 -1.232119 -1.537189 -0.938923 -1.115099 -0.801743 -1.468545 -0.476228   \n",
       "X10136  1.156478  2.008601  1.206699  1.467266  1.321242  1.844560  0.448920   \n",
       "...          ...       ...       ...       ...       ...       ...       ...   \n",
       "X9893  -1.207807 -1.664518 -1.149274 -1.701309 -1.530714 -1.754285 -1.666872   \n",
       "X993   -1.018882 -0.986750 -0.730442 -0.779562 -0.114243 -1.100439 -0.612683   \n",
       "X9965  -1.231052  0.704675 -0.909309 -0.969908 -1.339852  0.182732 -1.497575   \n",
       "X9968   1.294620  1.921230  0.937381 -0.106472  1.164330  0.227750  0.094691   \n",
       "X9987  -0.775113  1.488838 -0.536651  0.527680  0.758887 -0.326975 -0.751246   \n",
       "\n",
       "          S12837    S12879    S12880  ...    S12299    S12984    S12832  \\\n",
       "X10004  0.070355  0.319812  0.392665  ...  0.752721  0.283206  0.468953   \n",
       "X10006  0.083006 -0.233384  0.092001  ...  0.621312  1.256759  0.852110   \n",
       "X10029 -0.347121 -0.271691  0.051908  ...  1.035231 -1.349398  1.019254   \n",
       "X10110 -0.810124 -0.696413 -0.716975  ... -0.887868  1.828463 -0.413933   \n",
       "X10136  0.878186  0.271784  0.532885  ... -2.060304 -2.022716 -1.855941   \n",
       "...          ...       ...       ...  ...       ...       ...       ...   \n",
       "X9893  -1.447282 -1.757011 -1.720962  ...  1.066142  2.324954  0.351445   \n",
       "X993    0.810276 -0.534871 -0.732063  ...  0.818744  0.546051 -0.219683   \n",
       "X9965  -0.755854 -1.115877 -0.724149  ...  1.492453  2.110155  0.557039   \n",
       "X9968  -0.885411  0.784437 -0.348691  ...  0.735719  0.259814  0.572397   \n",
       "X9987   0.447186 -0.290508 -0.050390  ...  0.506326 -0.963335  0.152699   \n",
       "\n",
       "          S13057    S12300    S12290    S12302    S12303    S12304  label  \n",
       "X10004 -0.392719  1.097196  0.439317 -0.118468  0.505243 -0.485481      3  \n",
       "X10006  0.178111 -0.979156  1.444822 -0.000274 -0.747276  0.219823      1  \n",
       "X10029  1.253048  0.162569  1.017342 -0.059699  0.867792  0.621563      2  \n",
       "X10110 -0.904416 -0.051330 -0.432538 -0.725909 -0.168353 -0.401081      1  \n",
       "X10136 -1.438102 -2.052736 -2.085331 -2.009104 -1.966439 -2.343644      0  \n",
       "...          ...       ...       ...       ...       ...       ...    ...  \n",
       "X9893  -0.255822  0.564402 -0.081997  0.396257 -0.119726  1.277808      2  \n",
       "X993    0.244745  0.780714 -0.074717 -0.129542  0.303180  1.069927      1  \n",
       "X9965   0.261450  0.369871  0.387316  0.615593  0.619226  0.373043      2  \n",
       "X9968   1.039805  0.323347  1.418748  1.399023 -0.579767  0.874452      3  \n",
       "X9987   1.204770  0.792437  0.327357 -0.009698  0.499584  0.271527      3  \n",
       "\n",
       "[515 rows x 38 columns]"
      ]
     },
     "execution_count": 8,
     "metadata": {},
     "output_type": "execute_result"
    }
   ],
   "source": [
    "cluster_data = scaled_limma.copy()\n",
    "cluster_data['label'] = clusters.labels_\n",
    "cluster_data"
   ]
  },
  {
   "cell_type": "markdown",
   "metadata": {
    "collapsed": false
   },
   "source": [
    "The number of Genes"
   ]
  },
  {
   "cell_type": "code",
   "execution_count": 9,
   "metadata": {
    "ExecuteTime": {
     "end_time": "2023-10-07T14:58:29.181211Z",
     "start_time": "2023-10-07T14:58:29.173180Z"
    },
    "collapsed": false
   },
   "outputs": [
    {
     "name": "stdout",
     "output_type": "stream",
     "text": [
      "3: 154 次\n",
      "1: 122 次\n",
      "2: 139 次\n",
      "0: 100 次\n"
     ]
    }
   ],
   "source": [
    "from collections import Counter\n",
    "\n",
    "element_counts = Counter(cluster_data['label'])\n",
    "\n",
    "# 打印结果\n",
    "for element, count in element_counts.items():\n",
    "    print(f\"{element}: {count} times\")"
   ]
  },
  {
   "cell_type": "markdown",
   "metadata": {
    "collapsed": false
   },
   "source": [
    "Plotting the number of genes on a bar graph"
   ]
  },
  {
   "cell_type": "code",
   "execution_count": 264,
   "metadata": {
    "ExecuteTime": {
     "end_time": "2023-10-06T09:01:56.032440Z",
     "start_time": "2023-10-06T09:01:55.933813Z"
    },
    "collapsed": false
   },
   "outputs": [
    {
     "data": {
      "image/png": "[encoded data removed]",
      "text/plain": [
       "<Figure size 600x400 with 1 Axes>"
      ]
     },
     "metadata": {},
     "output_type": "display_data"
    }
   ],
   "source": [
    "import seaborn as sns\n",
    "import matplotlib.pyplot as plt\n",
    "\n",
    "# Assuming you have a list of categories and corresponding colors\n",
    "category_colors = {\n",
    "    \"Cluster A\": \"blue\",\n",
    "    \"Cluster B\": \"green\",\n",
    "    \"Cluster C\": \"orange\",\n",
    "    \"Cluster D\": \"red\"\n",
    "}\n",
    "\n",
    "# Assuming you have a list of categories and corresponding values\n",
    "categories = [\"Cluster A\", \"Cluster B\", \"Cluster C\", \"Cluster D\"]\n",
    "values = [100, 122, 139, 154]\n",
    "\n",
    "# Create Seaborn style bar plot\n",
    "sns.set(style=\"whitegrid\")\n",
    "\n",
    "# Specify the bar width\n",
    "bar_width = 0.4\n",
    "\n",
    "# Create the bar plot and set the palette based on category_colors\n",
    "plt.figure(figsize=(6, 4))\n",
    "sns.barplot(x=categories, y=values, palette=[category_colors[cat] for cat in categories], ci=None, capsize=0.2, width=bar_width)\n",
    "\n",
    "# Set the font weight for the x and y axis labels\n",
    "plt.rc('axes', labelweight='bold')\n",
    "\n",
    "# Set the labels for x and y axes\n",
    "plt.xlabel(\"Clusters\", fontsize=13)\n",
    "plt.ylabel(\"Number of Genes\",  fontsize=13)\n",
    "\n",
    "plt.xticks(fontsize=12)\n",
    "# , rotation=15\n",
    "plt.yticks(fontsize=12)\n",
    "\n",
    "# Show the plot\n",
    "plt.tight_layout()\n",
    "\n",
    "# Save the plot as a PDF file\n",
    "plt.savefig(\"/Users/zhangchenyang/Desktop/new_3_numbers.pdf\", format=\"pdf\")\n",
    "\n",
    "# Show the plot\n",
    "plt.show()"
   ]
  },
  {
   "cell_type": "markdown",
   "metadata": {
    "ExecuteTime": {
     "end_time": "2023-09-19T11:23:55.668021Z",
     "start_time": "2023-09-19T11:23:55.665067Z"
    },
    "collapsed": false
   },
   "source": [
    "Extraction of the first principal component for each type of gene"
   ]
  },
  {
   "cell_type": "code",
   "execution_count": 10,
   "metadata": {
    "ExecuteTime": {
     "end_time": "2023-10-07T14:58:32.513393Z",
     "start_time": "2023-10-07T14:58:32.500316Z"
    },
    "collapsed": false
   },
   "outputs": [
    {
     "data": {
      "text/html": [
       "<div>\n",
       "<style scoped>\n",
       "    .dataframe tbody tr th:only-of-type {\n",
       "        vertical-align: middle;\n",
       "    }\n",
       "\n",
       "    .dataframe tbody tr th {\n",
       "        vertical-align: top;\n",
       "    }\n",
       "\n",
       "    .dataframe thead th {\n",
       "        text-align: right;\n",
       "    }\n",
       "</style>\n",
       "<table border=\"1\" class=\"dataframe\">\n",
       "  <thead>\n",
       "    <tr style=\"text-align: right;\">\n",
       "      <th></th>\n",
       "      <th>ClusterA</th>\n",
       "      <th>ClusterB</th>\n",
       "      <th>ClusterC</th>\n",
       "      <th>ClusterD</th>\n",
       "      <th>stage</th>\n",
       "    </tr>\n",
       "  </thead>\n",
       "  <tbody>\n",
       "    <tr>\n",
       "      <th>0</th>\n",
       "      <td>14.459632</td>\n",
       "      <td>-4.733360</td>\n",
       "      <td>6.670026</td>\n",
       "      <td>-1.998562</td>\n",
       "      <td>age0</td>\n",
       "    </tr>\n",
       "    <tr>\n",
       "      <th>1</th>\n",
       "      <td>13.646047</td>\n",
       "      <td>-5.021208</td>\n",
       "      <td>7.653385</td>\n",
       "      <td>-2.252668</td>\n",
       "      <td>age0</td>\n",
       "    </tr>\n",
       "    <tr>\n",
       "      <th>2</th>\n",
       "      <td>15.242843</td>\n",
       "      <td>-3.827106</td>\n",
       "      <td>9.651940</td>\n",
       "      <td>-2.029044</td>\n",
       "      <td>age0</td>\n",
       "    </tr>\n",
       "    <tr>\n",
       "      <th>3</th>\n",
       "      <td>13.765058</td>\n",
       "      <td>-4.110280</td>\n",
       "      <td>9.361945</td>\n",
       "      <td>-3.758565</td>\n",
       "      <td>age0</td>\n",
       "    </tr>\n",
       "    <tr>\n",
       "      <th>4</th>\n",
       "      <td>15.934637</td>\n",
       "      <td>-4.099078</td>\n",
       "      <td>7.873178</td>\n",
       "      <td>-1.066221</td>\n",
       "      <td>age0</td>\n",
       "    </tr>\n",
       "    <tr>\n",
       "      <th>5</th>\n",
       "      <td>14.539088</td>\n",
       "      <td>-4.653281</td>\n",
       "      <td>8.612796</td>\n",
       "      <td>-1.949549</td>\n",
       "      <td>age0</td>\n",
       "    </tr>\n",
       "    <tr>\n",
       "      <th>6</th>\n",
       "      <td>14.818769</td>\n",
       "      <td>-3.995231</td>\n",
       "      <td>9.980737</td>\n",
       "      <td>-0.424809</td>\n",
       "      <td>age0</td>\n",
       "    </tr>\n",
       "    <tr>\n",
       "      <th>7</th>\n",
       "      <td>15.028265</td>\n",
       "      <td>-3.407207</td>\n",
       "      <td>9.604763</td>\n",
       "      <td>-2.433834</td>\n",
       "      <td>age0</td>\n",
       "    </tr>\n",
       "    <tr>\n",
       "      <th>8</th>\n",
       "      <td>12.725609</td>\n",
       "      <td>-2.740619</td>\n",
       "      <td>10.142026</td>\n",
       "      <td>-1.941922</td>\n",
       "      <td>age0</td>\n",
       "    </tr>\n",
       "    <tr>\n",
       "      <th>9</th>\n",
       "      <td>14.976739</td>\n",
       "      <td>-3.151031</td>\n",
       "      <td>10.922260</td>\n",
       "      <td>-1.075187</td>\n",
       "      <td>age0</td>\n",
       "    </tr>\n",
       "    <tr>\n",
       "      <th>10</th>\n",
       "      <td>12.192611</td>\n",
       "      <td>-4.689717</td>\n",
       "      <td>9.437525</td>\n",
       "      <td>-0.450908</td>\n",
       "      <td>age0</td>\n",
       "    </tr>\n",
       "    <tr>\n",
       "      <th>11</th>\n",
       "      <td>11.570201</td>\n",
       "      <td>-3.420080</td>\n",
       "      <td>9.653206</td>\n",
       "      <td>-3.563005</td>\n",
       "      <td>age0</td>\n",
       "    </tr>\n",
       "    <tr>\n",
       "      <th>12</th>\n",
       "      <td>13.303335</td>\n",
       "      <td>-4.423848</td>\n",
       "      <td>9.647479</td>\n",
       "      <td>-2.678147</td>\n",
       "      <td>age0</td>\n",
       "    </tr>\n",
       "    <tr>\n",
       "      <th>13</th>\n",
       "      <td>-6.444813</td>\n",
       "      <td>11.845847</td>\n",
       "      <td>-0.194487</td>\n",
       "      <td>5.090475</td>\n",
       "      <td>age0</td>\n",
       "    </tr>\n",
       "    <tr>\n",
       "      <th>14</th>\n",
       "      <td>4.901561</td>\n",
       "      <td>-4.775845</td>\n",
       "      <td>6.657295</td>\n",
       "      <td>-2.701849</td>\n",
       "      <td>age0</td>\n",
       "    </tr>\n",
       "    <tr>\n",
       "      <th>15</th>\n",
       "      <td>-5.073917</td>\n",
       "      <td>-0.284789</td>\n",
       "      <td>-7.282639</td>\n",
       "      <td>2.894645</td>\n",
       "      <td>age1</td>\n",
       "    </tr>\n",
       "    <tr>\n",
       "      <th>16</th>\n",
       "      <td>0.765759</td>\n",
       "      <td>5.132535</td>\n",
       "      <td>0.990909</td>\n",
       "      <td>6.749820</td>\n",
       "      <td>age1</td>\n",
       "    </tr>\n",
       "    <tr>\n",
       "      <th>17</th>\n",
       "      <td>-3.919610</td>\n",
       "      <td>-3.651877</td>\n",
       "      <td>-6.778295</td>\n",
       "      <td>1.474936</td>\n",
       "      <td>age1</td>\n",
       "    </tr>\n",
       "    <tr>\n",
       "      <th>18</th>\n",
       "      <td>-7.708538</td>\n",
       "      <td>1.557399</td>\n",
       "      <td>-4.864298</td>\n",
       "      <td>2.557165</td>\n",
       "      <td>age1</td>\n",
       "    </tr>\n",
       "    <tr>\n",
       "      <th>19</th>\n",
       "      <td>-9.313599</td>\n",
       "      <td>-2.533777</td>\n",
       "      <td>-6.229906</td>\n",
       "      <td>-1.901512</td>\n",
       "      <td>age1</td>\n",
       "    </tr>\n",
       "    <tr>\n",
       "      <th>20</th>\n",
       "      <td>-4.475464</td>\n",
       "      <td>6.164288</td>\n",
       "      <td>-5.726835</td>\n",
       "      <td>6.468136</td>\n",
       "      <td>age1</td>\n",
       "    </tr>\n",
       "    <tr>\n",
       "      <th>21</th>\n",
       "      <td>-7.550858</td>\n",
       "      <td>6.095141</td>\n",
       "      <td>-5.174231</td>\n",
       "      <td>4.245873</td>\n",
       "      <td>age1</td>\n",
       "    </tr>\n",
       "    <tr>\n",
       "      <th>22</th>\n",
       "      <td>-6.159973</td>\n",
       "      <td>10.259694</td>\n",
       "      <td>-3.780188</td>\n",
       "      <td>9.726634</td>\n",
       "      <td>age1</td>\n",
       "    </tr>\n",
       "    <tr>\n",
       "      <th>23</th>\n",
       "      <td>-9.911244</td>\n",
       "      <td>4.555775</td>\n",
       "      <td>-8.193654</td>\n",
       "      <td>5.139594</td>\n",
       "      <td>age1</td>\n",
       "    </tr>\n",
       "    <tr>\n",
       "      <th>24</th>\n",
       "      <td>-9.011826</td>\n",
       "      <td>2.904536</td>\n",
       "      <td>-7.032743</td>\n",
       "      <td>3.190933</td>\n",
       "      <td>age1</td>\n",
       "    </tr>\n",
       "    <tr>\n",
       "      <th>25</th>\n",
       "      <td>-8.395292</td>\n",
       "      <td>1.083933</td>\n",
       "      <td>-5.797844</td>\n",
       "      <td>1.197426</td>\n",
       "      <td>age1</td>\n",
       "    </tr>\n",
       "    <tr>\n",
       "      <th>26</th>\n",
       "      <td>-9.070606</td>\n",
       "      <td>0.851328</td>\n",
       "      <td>-4.855817</td>\n",
       "      <td>-0.625410</td>\n",
       "      <td>age1</td>\n",
       "    </tr>\n",
       "    <tr>\n",
       "      <th>27</th>\n",
       "      <td>-10.554614</td>\n",
       "      <td>-1.597849</td>\n",
       "      <td>-7.029182</td>\n",
       "      <td>-1.459636</td>\n",
       "      <td>age1</td>\n",
       "    </tr>\n",
       "    <tr>\n",
       "      <th>28</th>\n",
       "      <td>-11.035176</td>\n",
       "      <td>1.561549</td>\n",
       "      <td>-4.849836</td>\n",
       "      <td>1.641506</td>\n",
       "      <td>age1</td>\n",
       "    </tr>\n",
       "    <tr>\n",
       "      <th>29</th>\n",
       "      <td>-5.986928</td>\n",
       "      <td>11.416395</td>\n",
       "      <td>-4.288469</td>\n",
       "      <td>8.212537</td>\n",
       "      <td>age1</td>\n",
       "    </tr>\n",
       "    <tr>\n",
       "      <th>30</th>\n",
       "      <td>-10.400546</td>\n",
       "      <td>-1.092699</td>\n",
       "      <td>-7.108763</td>\n",
       "      <td>-1.696471</td>\n",
       "      <td>age1</td>\n",
       "    </tr>\n",
       "    <tr>\n",
       "      <th>31</th>\n",
       "      <td>-10.120673</td>\n",
       "      <td>-1.458261</td>\n",
       "      <td>-5.979412</td>\n",
       "      <td>-5.345958</td>\n",
       "      <td>age2</td>\n",
       "    </tr>\n",
       "    <tr>\n",
       "      <th>32</th>\n",
       "      <td>-12.005870</td>\n",
       "      <td>1.997671</td>\n",
       "      <td>-5.369329</td>\n",
       "      <td>-3.397129</td>\n",
       "      <td>age2</td>\n",
       "    </tr>\n",
       "    <tr>\n",
       "      <th>33</th>\n",
       "      <td>-11.011374</td>\n",
       "      <td>-0.551801</td>\n",
       "      <td>-6.147982</td>\n",
       "      <td>-4.888776</td>\n",
       "      <td>age2</td>\n",
       "    </tr>\n",
       "    <tr>\n",
       "      <th>34</th>\n",
       "      <td>-11.268593</td>\n",
       "      <td>0.180564</td>\n",
       "      <td>-6.887368</td>\n",
       "      <td>-4.820663</td>\n",
       "      <td>age2</td>\n",
       "    </tr>\n",
       "    <tr>\n",
       "      <th>35</th>\n",
       "      <td>-9.263129</td>\n",
       "      <td>2.340691</td>\n",
       "      <td>-7.154797</td>\n",
       "      <td>-3.530563</td>\n",
       "      <td>age2</td>\n",
       "    </tr>\n",
       "    <tr>\n",
       "      <th>36</th>\n",
       "      <td>-9.187512</td>\n",
       "      <td>0.271597</td>\n",
       "      <td>-6.133395</td>\n",
       "      <td>-2.599292</td>\n",
       "      <td>age2</td>\n",
       "    </tr>\n",
       "  </tbody>\n",
       "</table>\n",
       "</div>"
      ],
      "text/plain": [
       "     ClusterA   ClusterB   ClusterC  ClusterD stage\n",
       "0   14.459632  -4.733360   6.670026 -1.998562  age0\n",
       "1   13.646047  -5.021208   7.653385 -2.252668  age0\n",
       "2   15.242843  -3.827106   9.651940 -2.029044  age0\n",
       "3   13.765058  -4.110280   9.361945 -3.758565  age0\n",
       "4   15.934637  -4.099078   7.873178 -1.066221  age0\n",
       "5   14.539088  -4.653281   8.612796 -1.949549  age0\n",
       "6   14.818769  -3.995231   9.980737 -0.424809  age0\n",
       "7   15.028265  -3.407207   9.604763 -2.433834  age0\n",
       "8   12.725609  -2.740619  10.142026 -1.941922  age0\n",
       "9   14.976739  -3.151031  10.922260 -1.075187  age0\n",
       "10  12.192611  -4.689717   9.437525 -0.450908  age0\n",
       "11  11.570201  -3.420080   9.653206 -3.563005  age0\n",
       "12  13.303335  -4.423848   9.647479 -2.678147  age0\n",
       "13  -6.444813  11.845847  -0.194487  5.090475  age0\n",
       "14   4.901561  -4.775845   6.657295 -2.701849  age0\n",
       "15  -5.073917  -0.284789  -7.282639  2.894645  age1\n",
       "16   0.765759   5.132535   0.990909  6.749820  age1\n",
       "17  -3.919610  -3.651877  -6.778295  1.474936  age1\n",
       "18  -7.708538   1.557399  -4.864298  2.557165  age1\n",
       "19  -9.313599  -2.533777  -6.229906 -1.901512  age1\n",
       "20  -4.475464   6.164288  -5.726835  6.468136  age1\n",
       "21  -7.550858   6.095141  -5.174231  4.245873  age1\n",
       "22  -6.159973  10.259694  -3.780188  9.726634  age1\n",
       "23  -9.911244   4.555775  -8.193654  5.139594  age1\n",
       "24  -9.011826   2.904536  -7.032743  3.190933  age1\n",
       "25  -8.395292   1.083933  -5.797844  1.197426  age1\n",
       "26  -9.070606   0.851328  -4.855817 -0.625410  age1\n",
       "27 -10.554614  -1.597849  -7.029182 -1.459636  age1\n",
       "28 -11.035176   1.561549  -4.849836  1.641506  age1\n",
       "29  -5.986928  11.416395  -4.288469  8.212537  age1\n",
       "30 -10.400546  -1.092699  -7.108763 -1.696471  age1\n",
       "31 -10.120673  -1.458261  -5.979412 -5.345958  age2\n",
       "32 -12.005870   1.997671  -5.369329 -3.397129  age2\n",
       "33 -11.011374  -0.551801  -6.147982 -4.888776  age2\n",
       "34 -11.268593   0.180564  -6.887368 -4.820663  age2\n",
       "35  -9.263129   2.340691  -7.154797 -3.530563  age2\n",
       "36  -9.187512   0.271597  -6.133395 -2.599292  age2"
      ]
     },
     "execution_count": 10,
     "metadata": {},
     "output_type": "execute_result"
    }
   ],
   "source": [
    "from sklearn.decomposition import PCA\n",
    "\n",
    "cluster_class_data  = pd.DataFrame()\n",
    "for m in range(4):\n",
    "    class_m = cluster_data[cluster_data['label'] == m]\n",
    "    class_m = class_m.iloc[:,:-1].T\n",
    "    # first principal component\n",
    "    pca = PCA(n_components=1)\n",
    "    cluster_class_data = pd.concat([cluster_class_data, pd.DataFrame(pca.fit_transform(class_m)[:,0])], axis=1)\n",
    "\n",
    "\n",
    "cluster_class_data.columns = [\"ClusterA\", \"ClusterB\", \"ClusterC\", \"ClusterD\"]\n",
    "\n",
    "cluster_class_data['fenzu_list'] = cluster_data.columns[:-1]\n",
    "cluster_class_data= pd.merge(cluster_class_data, group, left_on='fenzu_list',right_on='donor_id')\n",
    "\n",
    "cluster_class_data.drop(['fenzu_list','donor_id'], axis=1, inplace=True)\n",
    "cluster_class_data"
   ]
  },
  {
   "cell_type": "markdown",
   "metadata": {
    "ExecuteTime": {
     "end_time": "2023-09-19T11:23:56.929699Z",
     "start_time": "2023-09-19T11:23:56.919542Z"
    },
    "collapsed": false
   },
   "source": [
    "Calculate the variance contribution of the first principal component"
   ]
  },
  {
   "cell_type": "code",
   "execution_count": 11,
   "metadata": {
    "ExecuteTime": {
     "end_time": "2023-10-07T14:58:33.803001Z",
     "start_time": "2023-10-07T14:58:33.795821Z"
    },
    "collapsed": false
   },
   "outputs": [
    {
     "name": "stdout",
     "output_type": "stream",
     "text": [
      "0.7400718726954773\n",
      "0.3413049259284413\n",
      "0.4558431526690638\n",
      "0.18759804954098427\n"
     ]
    }
   ],
   "source": [
    "for m in range(4):\n",
    "    class_m = cluster_data[cluster_data['label'] == m]\n",
    "    class_m = class_m.iloc[:,:-1].T\n",
    "    # first principal component\n",
    "    pca = PCA()\n",
    "    pca.fit_transform(class_m)\n",
    "    first_principal_component_variance = pca.explained_variance_[0]  # Variance of the first principal component\n",
    "    total_variance = np.sum(pca.explained_variance_)  # total variance\n",
    "    contribution_ratio = first_principal_component_variance / total_variance\n",
    "    print(contribution_ratio)"
   ]
  },
  {
   "cell_type": "markdown",
   "metadata": {
    "collapsed": false
   },
   "source": [
    "Plotting the bar chart of the variance contribution of the first principal component"
   ]
  },
  {
   "cell_type": "code",
   "execution_count": 12,
   "metadata": {
    "ExecuteTime": {
     "end_time": "2023-10-07T14:58:34.961894Z",
     "start_time": "2023-10-07T14:58:34.860278Z"
    },
    "collapsed": false
   },
   "outputs": [
    {
     "data": {
      "image/png": "[encoded data removed]",
      "text/plain": [
       "<Figure size 600x400 with 1 Axes>"
      ]
     },
     "metadata": {},
     "output_type": "display_data"
    }
   ],
   "source": [
    "import seaborn as sns\n",
    "import matplotlib.pyplot as plt\n",
    "\n",
    "# Assuming you have a list of categories and corresponding colors\n",
    "category_colors = {\n",
    "    \"Cluster A\": \"blue\",\n",
    "    \"Cluster B\": \"green\",\n",
    "    \"Cluster C\": \"orange\",\n",
    "    \"Cluster D\": \"red\"\n",
    "}\n",
    "\n",
    "# Assuming you have a list of categories and corresponding values\n",
    "categories = [\"Cluster A\", \"Cluster B\", \"Cluster C\", \"Cluster D\"]\n",
    "values = [0.7400718726954773, 0.3413049259284413, 0.4558431526690638, 0.18759804954098427]\n",
    "\n",
    "# Create Seaborn style bar plot\n",
    "sns.set(style=\"whitegrid\")\n",
    "\n",
    "# Specify the bar width\n",
    "bar_width = 0.4\n",
    "\n",
    "# Create the bar plot and set the palette based on category_colors\n",
    "plt.figure(figsize=(6, 4))\n",
    "sns.barplot(x=categories, y=values, palette=[category_colors[cat] for cat in categories], ci=None, capsize=0.2, width=bar_width)\n",
    "\n",
    "# Set the font weight for the x and y axis labels\n",
    "plt.rc('axes', labelweight='bold')\n",
    "\n",
    "# Set the labels for x and y axes\n",
    "plt.xlabel(\"Clusters\", fontsize=13)\n",
    "plt.ylabel(\"Variance contribution rates\", fontsize=13)\n",
    "\n",
    "plt.xticks(fontsize=12)\n",
    "plt.yticks(fontsize=12)\n",
    "\n",
    "# Show the plot\n",
    "plt.tight_layout()\n",
    "\n",
    "# Save the plot as a PDF file\n",
    "plt.savefig(\"/Users/zhangchenyang/Desktop/new_3_contribution.pdf\", format=\"pdf\")\n",
    "\n",
    "# Show the plot\n",
    "plt.show()"
   ]
  },
  {
   "cell_type": "markdown",
   "metadata": {
    "ExecuteTime": {
     "end_time": "2023-09-19T11:23:58.082592Z",
     "start_time": "2023-09-19T11:23:58.070954Z"
    },
    "collapsed": false
   },
   "source": [
    "Decision Tree Validation"
   ]
  },
  {
   "cell_type": "code",
   "execution_count": 13,
   "metadata": {
    "ExecuteTime": {
     "end_time": "2023-10-07T14:58:37.461920Z",
     "start_time": "2023-10-07T14:58:37.449570Z"
    },
    "collapsed": false
   },
   "outputs": [],
   "source": [
    "from sklearn.model_selection import cross_val_score\n",
    "from sklearn.tree import DecisionTreeClassifier\n",
    "\n",
    "from sklearn import tree\n",
    "import graphviz\n",
    "\n",
    "from sklearn.utils import shuffle\n",
    "cluster_class_data = shuffle(cluster_class_data, random_state=42)"
   ]
  },
  {
   "cell_type": "markdown",
   "metadata": {
    "collapsed": false
   },
   "source": [
    "Disrupt the order of the samples 20 times and calculate the average accuracy"
   ]
  },
  {
   "cell_type": "code",
   "execution_count": 15,
   "metadata": {
    "ExecuteTime": {
     "end_time": "2023-10-07T14:58:41.283781Z",
     "start_time": "2023-10-07T14:58:39.168850Z"
    },
    "collapsed": false
   },
   "outputs": [
    {
     "name": "stdout",
     "output_type": "stream",
     "text": [
      "e_m_l： 0.8924603174603174\n",
      "e_m： 0.9116666666666665\n",
      "e_l： 0.9444444444444443\n",
      "m_l： 0.9506944444444443\n"
     ]
    }
   ],
   "source": [
    "e_m_l = []\n",
    "e_m = []\n",
    "e_l = []\n",
    "m_l = []\n",
    "\n",
    "for i in range(20):\n",
    "    cluster_class_data = shuffle(cluster_class_data, random_state=i)\n",
    "\n",
    "    # early, middle and late stage\n",
    "    data1 = cluster_class_data.copy()\n",
    "    CART_tree = DecisionTreeClassifier(criterion='gini', splitter='best', max_depth=2)\n",
    "    temp1 = cross_val_score(CART_tree, data1.drop('stage', axis=1),\n",
    "                            data1['stage'], cv=6,n_jobs=-1).mean()\n",
    "    e_m_l.append(temp1)\n",
    "\n",
    "    # early and middle stage\n",
    "    data2 = cluster_class_data[cluster_class_data['stage'] != 'age2']\n",
    "    CART_tree = DecisionTreeClassifier(criterion='gini', splitter='best', max_depth=1)\n",
    "    temp2 = cross_val_score(CART_tree, data2.drop('stage', axis=1),\n",
    "                            data2['stage'], cv=6,n_jobs=-1).mean()\n",
    "    e_m.append(temp2)\n",
    "\n",
    "    # early and late stage\n",
    "    data3 = cluster_class_data[cluster_class_data['stage'] != 'age1']\n",
    "    CART_tree = DecisionTreeClassifier(criterion='gini', splitter='best', max_depth=1)\n",
    "    temp3 = cross_val_score(CART_tree, data3.drop('stage', axis=1),\n",
    "                            data3['stage'], cv=6,n_jobs=-1).mean()\n",
    "    e_l.append(temp3)\n",
    "\n",
    "    # middle and late stage\n",
    "    data4 = cluster_class_data[cluster_class_data['stage'] != 'age0']\n",
    "    CART_tree = DecisionTreeClassifier(criterion='gini', splitter='best', max_depth=1)\n",
    "    temp4 = cross_val_score(CART_tree, data4.drop('stage', axis=1),\n",
    "                            data4['stage'], cv=6,n_jobs=-1).mean()\n",
    "    m_l.append(temp4)\n",
    "\n",
    "print('early, middle and late stage：', np.mean(e_m_l))\n",
    "print('early and middle stage：', np.mean(e_m))\n",
    "print('early and late stage：', np.mean(e_l))\n",
    "print('middle and late stage：', np.mean(m_l))"
   ]
  },
  {
   "cell_type": "markdown",
   "metadata": {
    "collapsed": false
   },
   "source": [
    "Disrupt the sample order 20 times and calculate the average feature importance"
   ]
  },
  {
   "cell_type": "code",
   "execution_count": 16,
   "metadata": {
    "ExecuteTime": {
     "end_time": "2023-10-07T14:58:41.628860Z",
     "start_time": "2023-10-07T14:58:41.291650Z"
    },
    "collapsed": false
   },
   "outputs": [],
   "source": [
    "# View the classification features used for each cross-validation\n",
    "from sklearn.model_selection import KFold\n",
    "\n",
    "feature_importances_1 = []\n",
    "feature_importances_2 = []\n",
    "feature_importances_3 = []\n",
    "feature_importances_4 = []\n",
    "\n",
    "for i in range(20):\n",
    "    cluster_class_data = shuffle(cluster_class_data, random_state=i)\n",
    "\n",
    "    # early, middle and late stage---------------------------------------------------------------------------------\n",
    "    data1 = cluster_class_data.copy()\n",
    "\n",
    "    X = data1.drop('stage', axis=1)\n",
    "    y = data1['stage']\n",
    "    clf = DecisionTreeClassifier(criterion='gini', splitter='best', max_depth=2)\n",
    "    cv = KFold(n_splits=6,)\n",
    "\n",
    "    for train_index, test_index in cv.split(X,y):\n",
    "        X_train, X_test = X.iloc[train_index], X.iloc[test_index]\n",
    "        y_train, y_test = y.iloc[train_index], y.iloc[test_index]\n",
    "        clf.fit(X_train, y_train)\n",
    "\n",
    "        importance = clf.feature_importances_\n",
    "        feature_importances_1.append(list(importance))\n",
    "\n",
    "\n",
    "    # early and middle stage---------------------------------------------------------------------------------\n",
    "    data2 = cluster_class_data[cluster_class_data['stage'] != 'age2']\n",
    "\n",
    "    X = data2.drop('stage', axis=1)\n",
    "    y = data2['stage']\n",
    "    clf = DecisionTreeClassifier(criterion='gini', splitter='best', max_depth=1)\n",
    "    cv = KFold(n_splits=6,)\n",
    "\n",
    "    for train_index, test_index in cv.split(X,y):\n",
    "        X_train, X_test = X.iloc[train_index], X.iloc[test_index]\n",
    "        y_train, y_test = y.iloc[train_index], y.iloc[test_index]\n",
    "        clf.fit(X_train, y_train)\n",
    "\n",
    "        importance = clf.feature_importances_\n",
    "        feature_importances_2.append(list(importance))\n",
    "\n",
    "\n",
    "    # early and late stage---------------------------------------------------------------------------------\n",
    "    data3 = cluster_class_data[cluster_class_data['stage'] != 'age1']\n",
    "\n",
    "    X = data3.drop('stage', axis=1)\n",
    "    y = data3['stage']\n",
    "    clf = DecisionTreeClassifier(criterion='gini', splitter='best', max_depth=1)\n",
    "    cv = KFold(n_splits=6,)\n",
    "\n",
    "    for train_index, test_index in cv.split(X,y):\n",
    "        X_train, X_test = X.iloc[train_index], X.iloc[test_index]\n",
    "        y_train, y_test = y.iloc[train_index], y.iloc[test_index]\n",
    "        clf.fit(X_train, y_train)\n",
    "\n",
    "        importance = clf.feature_importances_\n",
    "        feature_importances_3.append(list(importance))\n",
    "\n",
    "\n",
    "    # middle and late stage---------------------------------------------------------------------------------\n",
    "    data4 = cluster_class_data[cluster_class_data['stage'] != 'age0']\n",
    "\n",
    "    X = data4.drop('stage', axis=1)\n",
    "    y = data4['stage']\n",
    "    clf = DecisionTreeClassifier(criterion='gini', splitter='best', max_depth=1)\n",
    "    cv = KFold(n_splits=6,)\n",
    "\n",
    "    for train_index, test_index in cv.split(X,y):\n",
    "        X_train, X_test = X.iloc[train_index], X.iloc[test_index]\n",
    "        y_train, y_test = y.iloc[train_index], y.iloc[test_index]\n",
    "        clf.fit(X_train, y_train)\n",
    "\n",
    "        importance = clf.feature_importances_\n",
    "        feature_importances_4.append(list(importance))\n",
    "\n",
    "\n",
    "\n",
    "# early, middle and late stage---------------------------------------------------------------------------------\n",
    "sums = [0] * len(feature_importances_1[0])\n",
    "for sublist in feature_importances_1:\n",
    "    for i, value in enumerate(sublist):\n",
    "        sums[i] += value\n",
    "num_sublists = len(feature_importances_1)\n",
    "averages = [total / num_sublists for total in sums]\n",
    "print(\"early, middle and late stage：\", averages)\n",
    "\n",
    "\n",
    "# early and middle stage---------------------------------------------------------------------------------\n",
    "sums = [0] * len(feature_importances_2[0])\n",
    "for sublist in feature_importances_2:\n",
    "    for i, value in enumerate(sublist):\n",
    "        sums[i] += value\n",
    "num_sublists = len(feature_importances_2)\n",
    "averages = [total / num_sublists for total in sums]\n",
    "print(\"early and middle stage：\", averages)\n",
    "\n",
    "\n",
    "# early and late stage---------------------------------------------------------------------------------\n",
    "sums = [0] * len(feature_importances_3[0])\n",
    "for sublist in feature_importances_3:\n",
    "    for i, value in enumerate(sublist):\n",
    "        sums[i] += value\n",
    "num_sublists = len(feature_importances_3)\n",
    "averages = [total / num_sublists for total in sums]\n",
    "print(\"early and late stage：\", averages)\n",
    "\n",
    "\n",
    "# middle and late stage---------------------------------------------------------------------------------\n",
    "sums = [0] * len(feature_importances_4[0])\n",
    "for sublist in feature_importances_4:\n",
    "    for i, value in enumerate(sublist):\n",
    "        sums[i] += value\n",
    "num_sublists = len(feature_importances_4)\n",
    "averages = [total / num_sublists for total in sums]\n",
    "print(\"middle and late stage：\", averages)"
   ]
  },
  {
   "cell_type": "markdown",
   "metadata": {
    "ExecuteTime": {
     "end_time": "2023-09-19T12:12:58.688074Z",
     "start_time": "2023-09-19T12:12:58.680698Z"
    },
    "collapsed": false
   },
   "source": [
    "### Early, middle and late decision trees"
   ]
  },
  {
   "cell_type": "code",
   "execution_count": 18,
   "metadata": {
    "ExecuteTime": {
     "end_time": "2023-10-07T14:58:42.307194Z",
     "start_time": "2023-10-07T14:58:42.301289Z"
    },
    "collapsed": false
   },
   "outputs": [
    {
     "data": {
      "text/plain": [
       "array(['age0', 'age2', 'age1'], dtype=object)"
      ]
     },
     "execution_count": 18,
     "metadata": {},
     "output_type": "execute_result"
    }
   ],
   "source": [
    "dt_data_ = cluster_class_data.copy()\n",
    "\n",
    "feature=dt_data_.columns.to_list()[:-1]\n",
    "class_names = dt_data_['stage'].unique()\n",
    "class_names"
   ]
  },
  {
   "cell_type": "code",
   "execution_count": 336,
   "metadata": {
    "ExecuteTime": {
     "end_time": "2023-10-06T09:13:53.755707Z",
     "start_time": "2023-10-06T09:13:53.738128Z"
    },
    "collapsed": false
   },
   "outputs": [
    {
     "data": {
      "text/plain": [
       "0.9206349206349206"
      ]
     },
     "execution_count": 336,
     "metadata": {},
     "output_type": "execute_result"
    }
   ],
   "source": [
    "CART_tree = DecisionTreeClassifier(\n",
    "    criterion='gini', splitter='best', max_depth=2)\n",
    "\n",
    "e_m_l = cross_val_score(CART_tree, dt_data_.drop('stage', axis=1),\n",
    "                        dt_data_['stage'], cv=6,n_jobs=-1).mean()\n",
    "\n",
    "e_m_l"
   ]
  },
  {
   "cell_type": "code",
   "execution_count": 276,
   "metadata": {
    "ExecuteTime": {
     "end_time": "2023-10-06T09:01:58.868691Z",
     "start_time": "2023-10-06T09:01:58.578299Z"
    },
    "collapsed": false
   },
   "outputs": [
    {
     "data": {
      "image/svg+xml": [
       "<?xml version=\"1.0\" encoding=\"UTF-8\" standalone=\"no\"?>\n",
       "<!DOCTYPE svg PUBLIC \"-//W3C//DTD SVG 1.1//EN\"\n",
       " \"http://www.w3.org/Graphics/SVG/1.1/DTD/svg11.dtd\">\n",
       "<!-- Generated by graphviz version 2.50.0 (0)\n",
       " -->\n",
       "<!-- Title: Tree Pages: 1 -->\n",
       "<svg width=\"323pt\" height=\"314pt\"\n",
       " viewBox=\"0.00 0.00 322.50 314.00\" xmlns=\"http://www.w3.org/2000/svg\" xmlns:xlink=\"http://www.w3.org/1999/xlink\">\n",
       "<g id=\"graph0\" class=\"graph\" transform=\"scale(1 1) rotate(0) translate(4 310)\">\n",
       "<title>Tree</title>\n",
       "<polygon fill=\"white\" stroke=\"transparent\" points=\"-4,4 -4,-310 318.5,-310 318.5,4 -4,4\"/>\n",
       "<!-- 0 -->\n",
       "<g id=\"node1\" class=\"node\">\n",
       "<title>0</title>\n",
       "<path fill=\"#f6fef9\" stroke=\"black\" d=\"M238.5,-306C238.5,-306 137.5,-306 137.5,-306 131.5,-306 125.5,-300 125.5,-294 125.5,-294 125.5,-235 125.5,-235 125.5,-229 131.5,-223 137.5,-223 137.5,-223 238.5,-223 238.5,-223 244.5,-223 250.5,-229 250.5,-235 250.5,-235 250.5,-294 250.5,-294 250.5,-300 244.5,-306 238.5,-306\"/>\n",
       "<text text-anchor=\"start\" x=\"137.5\" y=\"-290.8\" font-family=\"Helvetica,sans-Serif\" font-size=\"14.00\">ClusterA ≤ 2.834</text>\n",
       "<text text-anchor=\"start\" x=\"152.5\" y=\"-275.8\" font-family=\"Helvetica,sans-Serif\" font-size=\"14.00\">gini = 0.622</text>\n",
       "<text text-anchor=\"start\" x=\"147\" y=\"-260.8\" font-family=\"Helvetica,sans-Serif\" font-size=\"14.00\">samples = 37</text>\n",
       "<text text-anchor=\"start\" x=\"133.5\" y=\"-245.8\" font-family=\"Helvetica,sans-Serif\" font-size=\"14.00\">value = [15, 16, 6]</text>\n",
       "<text text-anchor=\"start\" x=\"149.5\" y=\"-230.8\" font-family=\"Helvetica,sans-Serif\" font-size=\"14.00\">class = age1</text>\n",
       "</g>\n",
       "<!-- 1 -->\n",
       "<g id=\"node2\" class=\"node\">\n",
       "<title>1</title>\n",
       "<path fill=\"#8bf0b5\" stroke=\"black\" d=\"M167.5,-187C167.5,-187 74.5,-187 74.5,-187 68.5,-187 62.5,-181 62.5,-175 62.5,-175 62.5,-116 62.5,-116 62.5,-110 68.5,-104 74.5,-104 74.5,-104 167.5,-104 167.5,-104 173.5,-104 179.5,-110 179.5,-116 179.5,-116 179.5,-175 179.5,-175 179.5,-181 173.5,-187 167.5,-187\"/>\n",
       "<text text-anchor=\"start\" x=\"71.5\" y=\"-171.8\" font-family=\"Helvetica,sans-Serif\" font-size=\"14.00\">ClusterD ≤ &#45;2.25</text>\n",
       "<text text-anchor=\"start\" x=\"85.5\" y=\"-156.8\" font-family=\"Helvetica,sans-Serif\" font-size=\"14.00\">gini = 0.446</text>\n",
       "<text text-anchor=\"start\" x=\"80\" y=\"-141.8\" font-family=\"Helvetica,sans-Serif\" font-size=\"14.00\">samples = 23</text>\n",
       "<text text-anchor=\"start\" x=\"70.5\" y=\"-126.8\" font-family=\"Helvetica,sans-Serif\" font-size=\"14.00\">value = [1, 16, 6]</text>\n",
       "<text text-anchor=\"start\" x=\"82.5\" y=\"-111.8\" font-family=\"Helvetica,sans-Serif\" font-size=\"14.00\">class = age1</text>\n",
       "</g>\n",
       "<!-- 0&#45;&gt;1 -->\n",
       "<g id=\"edge1\" class=\"edge\">\n",
       "<title>0&#45;&gt;1</title>\n",
       "<path fill=\"none\" stroke=\"black\" d=\"M164.75,-222.91C159.77,-214.2 154.44,-204.9 149.29,-195.89\"/>\n",
       "<polygon fill=\"black\" stroke=\"black\" points=\"152.21,-193.96 144.2,-187.02 146.14,-197.44 152.21,-193.96\"/>\n",
       "<text text-anchor=\"middle\" x=\"137.65\" y=\"-207.45\" font-family=\"Helvetica,sans-Serif\" font-size=\"14.00\">True</text>\n",
       "</g>\n",
       "<!-- 4 -->\n",
       "<g id=\"node5\" class=\"node\">\n",
       "<title>4</title>\n",
       "<path fill=\"#e58139\" stroke=\"black\" d=\"M302.5,-179.5C302.5,-179.5 209.5,-179.5 209.5,-179.5 203.5,-179.5 197.5,-173.5 197.5,-167.5 197.5,-167.5 197.5,-123.5 197.5,-123.5 197.5,-117.5 203.5,-111.5 209.5,-111.5 209.5,-111.5 302.5,-111.5 302.5,-111.5 308.5,-111.5 314.5,-117.5 314.5,-123.5 314.5,-123.5 314.5,-167.5 314.5,-167.5 314.5,-173.5 308.5,-179.5 302.5,-179.5\"/>\n",
       "<text text-anchor=\"start\" x=\"228\" y=\"-164.3\" font-family=\"Helvetica,sans-Serif\" font-size=\"14.00\">gini = 0.0</text>\n",
       "<text text-anchor=\"start\" x=\"215\" y=\"-149.3\" font-family=\"Helvetica,sans-Serif\" font-size=\"14.00\">samples = 14</text>\n",
       "<text text-anchor=\"start\" x=\"205.5\" y=\"-134.3\" font-family=\"Helvetica,sans-Serif\" font-size=\"14.00\">value = [14, 0, 0]</text>\n",
       "<text text-anchor=\"start\" x=\"217.5\" y=\"-119.3\" font-family=\"Helvetica,sans-Serif\" font-size=\"14.00\">class = age0</text>\n",
       "</g>\n",
       "<!-- 0&#45;&gt;4 -->\n",
       "<g id=\"edge4\" class=\"edge\">\n",
       "<title>0&#45;&gt;4</title>\n",
       "<path fill=\"none\" stroke=\"black\" d=\"M211.59,-222.91C218.07,-211.76 225.1,-199.66 231.63,-188.44\"/>\n",
       "<polygon fill=\"black\" stroke=\"black\" points=\"234.72,-190.07 236.72,-179.67 228.67,-186.55 234.72,-190.07\"/>\n",
       "<text text-anchor=\"middle\" x=\"243.12\" y=\"-200.13\" font-family=\"Helvetica,sans-Serif\" font-size=\"14.00\">False</text>\n",
       "</g>\n",
       "<!-- 2 -->\n",
       "<g id=\"node3\" class=\"node\">\n",
       "<title>2</title>\n",
       "<path fill=\"#8139e5\" stroke=\"black\" d=\"M98,-68C98,-68 12,-68 12,-68 6,-68 0,-62 0,-56 0,-56 0,-12 0,-12 0,-6 6,0 12,0 12,0 98,0 98,0 104,0 110,-6 110,-12 110,-12 110,-56 110,-56 110,-62 104,-68 98,-68\"/>\n",
       "<text text-anchor=\"start\" x=\"27\" y=\"-52.8\" font-family=\"Helvetica,sans-Serif\" font-size=\"14.00\">gini = 0.0</text>\n",
       "<text text-anchor=\"start\" x=\"17.5\" y=\"-37.8\" font-family=\"Helvetica,sans-Serif\" font-size=\"14.00\">samples = 6</text>\n",
       "<text text-anchor=\"start\" x=\"8\" y=\"-22.8\" font-family=\"Helvetica,sans-Serif\" font-size=\"14.00\">value = [0, 0, 6]</text>\n",
       "<text text-anchor=\"start\" x=\"16.5\" y=\"-7.8\" font-family=\"Helvetica,sans-Serif\" font-size=\"14.00\">class = age2</text>\n",
       "</g>\n",
       "<!-- 1&#45;&gt;2 -->\n",
       "<g id=\"edge2\" class=\"edge\">\n",
       "<title>1&#45;&gt;2</title>\n",
       "<path fill=\"none\" stroke=\"black\" d=\"M96.42,-103.73C91.15,-94.97 85.56,-85.7 80.26,-76.91\"/>\n",
       "<polygon fill=\"black\" stroke=\"black\" points=\"83.23,-75.06 75.07,-68.3 77.24,-78.67 83.23,-75.06\"/>\n",
       "</g>\n",
       "<!-- 3 -->\n",
       "<g id=\"node4\" class=\"node\">\n",
       "<title>3</title>\n",
       "<path fill=\"#45e789\" stroke=\"black\" d=\"M233.5,-68C233.5,-68 140.5,-68 140.5,-68 134.5,-68 128.5,-62 128.5,-56 128.5,-56 128.5,-12 128.5,-12 128.5,-6 134.5,0 140.5,0 140.5,0 233.5,0 233.5,0 239.5,0 245.5,-6 245.5,-12 245.5,-12 245.5,-56 245.5,-56 245.5,-62 239.5,-68 233.5,-68\"/>\n",
       "<text text-anchor=\"start\" x=\"152\" y=\"-52.8\" font-family=\"Helvetica,sans-Serif\" font-size=\"14.00\">gini = 0.111</text>\n",
       "<text text-anchor=\"start\" x=\"146\" y=\"-37.8\" font-family=\"Helvetica,sans-Serif\" font-size=\"14.00\">samples = 17</text>\n",
       "<text text-anchor=\"start\" x=\"136.5\" y=\"-22.8\" font-family=\"Helvetica,sans-Serif\" font-size=\"14.00\">value = [1, 16, 0]</text>\n",
       "<text text-anchor=\"start\" x=\"148.5\" y=\"-7.8\" font-family=\"Helvetica,sans-Serif\" font-size=\"14.00\">class = age1</text>\n",
       "</g>\n",
       "<!-- 1&#45;&gt;3 -->\n",
       "<g id=\"edge3\" class=\"edge\">\n",
       "<title>1&#45;&gt;3</title>\n",
       "<path fill=\"none\" stroke=\"black\" d=\"M145.58,-103.73C150.85,-94.97 156.44,-85.7 161.74,-76.91\"/>\n",
       "<polygon fill=\"black\" stroke=\"black\" points=\"164.76,-78.67 166.93,-68.3 158.77,-75.06 164.76,-78.67\"/>\n",
       "</g>\n",
       "</g>\n",
       "</svg>\n"
      ],
      "text/plain": [
       "<graphviz.sources.Source at 0x15a713e50>"
      ]
     },
     "execution_count": 276,
     "metadata": {},
     "output_type": "execute_result"
    }
   ],
   "source": [
    "CART_tree = DecisionTreeClassifier(criterion='gini',splitter = 'best',max_depth=2)\n",
    "CART_tree.fit(dt_data_.drop('stage', axis=1), dt_data_['stage'])\n",
    "dot_data = tree.export_graphviz(CART_tree,\n",
    "                                feature_names=feature,\n",
    "                                class_names=[str(k) for k in np.unique(dt_data_['stage'])],\n",
    "                                filled=True,\n",
    "                                rounded=True,\n",
    "                                special_characters=True)\n",
    "graph = graphviz.Source(dot_data)\n",
    "graph"
   ]
  },
  {
   "cell_type": "code",
   "execution_count": 43,
   "metadata": {
    "ExecuteTime": {
     "end_time": "2023-10-07T15:18:59.247868Z",
     "start_time": "2023-10-07T15:18:59.055249Z"
    },
    "collapsed": false
   },
   "outputs": [
    {
     "data": {
      "image/png": "[encoded data removed]",
      "text/plain": [
       "<Figure size 900x600 with 1 Axes>"
      ]
     },
     "metadata": {},
     "output_type": "display_data"
    }
   ],
   "source": [
    "import numpy as np\n",
    "import matplotlib.pyplot as plt\n",
    "from itertools import cycle\n",
    "from sklearn.metrics import roc_curve, auc\n",
    "from sklearn.model_selection import train_test_split\n",
    "from sklearn.preprocessing import label_binarize\n",
    "from sklearn.multiclass import OneVsRestClassifier\n",
    "from scipy import interp\n",
    "\n",
    "X = cluster_class_data.iloc[:, :4]\n",
    "y = cluster_class_data.iloc[:, -1]\n",
    "\n",
    "y = y.replace({'age0': 0, 'age1': 1, 'age2': 2})\n",
    "\n",
    "y_binarized = label_binarize(y, classes=[0, 1, 2])\n",
    "n_classes = y_binarized.shape[1]\n",
    "\n",
    "random_state = np.random.RandomState(0)\n",
    "X_train, X_test, y_train, y_test = train_test_split(X, y_binarized, test_size=.5, random_state=random_state)\n",
    "\n",
    "tree_classifier = DecisionTreeClassifier(random_state=random_state, max_depth=2)\n",
    "\n",
    "# build OneVsRestClassifier\n",
    "classifier = OneVsRestClassifier(tree_classifier)\n",
    "y_score = classifier.fit(X_train, y_train).predict_proba(X_test)\n",
    "\n",
    "# calculate ROC\n",
    "fpr = dict()\n",
    "tpr = dict()\n",
    "roc_auc = dict()\n",
    "for i in range(n_classes):\n",
    "    fpr[i], tpr[i], _ = roc_curve(y_test[:, i], y_score[:, i])\n",
    "    roc_auc[i] = auc(fpr[i], tpr[i])\n",
    "\n",
    "# Compute micro-average ROC curve and ROC area\n",
    "fpr[\"micro\"], tpr[\"micro\"], _ = roc_curve(y_test.ravel(), y_score.ravel())\n",
    "roc_auc[\"micro\"] = auc(fpr[\"micro\"], tpr[\"micro\"])\n",
    "\n",
    "# Compute macro-average ROC curve and ROC area\n",
    "# First aggregate all false positive rates\n",
    "all_fpr = np.unique(np.concatenate([fpr[i] for i in range(n_classes)]))\n",
    "# Then interpolate all ROC curves at this points\n",
    "mean_tpr = np.zeros_like(all_fpr)\n",
    "for i in range(n_classes):\n",
    "    mean_tpr += interp(all_fpr, fpr[i], tpr[i])\n",
    "# Finally average it and compute AUC\n",
    "mean_tpr /= n_classes\n",
    "fpr[\"macro\"] = all_fpr\n",
    "tpr[\"macro\"] = mean_tpr\n",
    "roc_auc[\"macro\"] = auc(fpr[\"macro\"], tpr[\"macro\"])\n",
    "\n",
    "# Plot all ROC curves\n",
    "lw=2\n",
    "plt.figure(figsize=(9, 6))\n",
    "plt.plot(fpr[\"micro\"], tpr[\"micro\"],\n",
    "         label='micro-average ROC curve (area = {0:0.2f})'\n",
    "               ''.format(roc_auc[\"micro\"]),\n",
    "         color='deeppink', linestyle=':', linewidth=4)\n",
    "\n",
    "plt.plot(fpr[\"macro\"], tpr[\"macro\"],\n",
    "         label='macro-average ROC curve (area = {0:0.2f})'\n",
    "               ''.format(roc_auc[\"macro\"]),\n",
    "         color='navy', linestyle=':', linewidth=4)\n",
    "\n",
    "colors = cycle(['aqua', 'darkorange', 'cornflowerblue'])\n",
    "for i, color in zip(range(n_classes), colors):\n",
    "    plt.plot(fpr[i], tpr[i], color=color, lw=lw,\n",
    "             label='ROC curve of AGE{0} (area = {1:0.2f})'\n",
    "             ''.format(i, roc_auc[i]))\n",
    "\n",
    "plt.plot([0, 1], [0, 1], 'k--', lw=lw)\n",
    "plt.xlim([0.0, 1.0])\n",
    "plt.ylim([0.0, 1.05])\n",
    "plt.xlabel('False Positive Rate', fontsize = 24)\n",
    "plt.ylabel('True Positive Rate', fontsize = 24)\n",
    "plt.xticks(fontsize=17)\n",
    "plt.yticks(fontsize=17)\n",
    "# plt.title('Some extension of Receiver operating characteristic to multi-class')\n",
    "plt.legend(loc=\"lower right\", fontsize = 14.5, frameon=False)\n",
    "\n",
    "plt.savefig(\"/Desktop/new_3_e_m_l_ROC.pdf\", format=\"pdf\", bbox_inches = 'tight')\n",
    "plt.show()"
   ]
  },
  {
   "cell_type": "markdown",
   "metadata": {
    "ExecuteTime": {
     "end_time": "2023-09-19T12:13:04.898108Z",
     "start_time": "2023-09-19T12:13:04.791723Z"
    },
    "collapsed": false
   },
   "source": [
    "### Early and mid-term decision trees"
   ]
  },
  {
   "cell_type": "code",
   "execution_count": 19,
   "metadata": {
    "ExecuteTime": {
     "end_time": "2023-10-07T14:03:46.496183Z",
     "start_time": "2023-10-07T14:03:46.486343Z"
    },
    "collapsed": false
   },
   "outputs": [
    {
     "data": {
      "text/plain": [
       "array(['age0', 'age1'], dtype=object)"
      ]
     },
     "execution_count": 19,
     "metadata": {},
     "output_type": "execute_result"
    }
   ],
   "source": [
    "dt_data_ = cluster_class_data[cluster_class_data['stage'] != 'age2']\n",
    "\n",
    "feature=dt_data_.columns.to_list()[:-1]\n",
    "class_names = dt_data_['stage'].unique()\n",
    "class_names"
   ]
  },
  {
   "cell_type": "code",
   "execution_count": 279,
   "metadata": {
    "ExecuteTime": {
     "end_time": "2023-10-06T09:01:59.301788Z",
     "start_time": "2023-10-06T09:01:59.273577Z"
    },
    "collapsed": false
   },
   "outputs": [
    {
     "data": {
      "text/plain": [
       "0.9333333333333332"
      ]
     },
     "execution_count": 279,
     "metadata": {},
     "output_type": "execute_result"
    }
   ],
   "source": [
    "CART_tree = DecisionTreeClassifier(\n",
    "    criterion='gini', splitter='best', max_depth=1)\n",
    "\n",
    "e_m = cross_val_score(CART_tree, dt_data_.drop('stage', axis=1),\n",
    "                      dt_data_['stage'], cv=6,n_jobs=-1).mean()\n",
    "e_m"
   ]
  },
  {
   "cell_type": "code",
   "execution_count": 281,
   "metadata": {
    "ExecuteTime": {
     "end_time": "2023-10-06T09:01:59.401261Z",
     "start_time": "2023-10-06T09:01:59.303082Z"
    },
    "collapsed": false
   },
   "outputs": [
    {
     "data": {
      "image/svg+xml": [
       "<?xml version=\"1.0\" encoding=\"UTF-8\" standalone=\"no\"?>\n",
       "<!DOCTYPE svg PUBLIC \"-//W3C//DTD SVG 1.1//EN\"\n",
       " \"http://www.w3.org/Graphics/SVG/1.1/DTD/svg11.dtd\">\n",
       "<!-- Generated by graphviz version 2.50.0 (0)\n",
       " -->\n",
       "<!-- Title: Tree Pages: 1 -->\n",
       "<svg width=\"230pt\" height=\"195pt\"\n",
       " viewBox=\"0.00 0.00 230.00 195.00\" xmlns=\"http://www.w3.org/2000/svg\" xmlns:xlink=\"http://www.w3.org/1999/xlink\">\n",
       "<g id=\"graph0\" class=\"graph\" transform=\"scale(1 1) rotate(0) translate(4 191)\">\n",
       "<title>Tree</title>\n",
       "<polygon fill=\"white\" stroke=\"transparent\" points=\"-4,4 -4,-191 226,-191 226,4 -4,4\"/>\n",
       "<!-- 0 -->\n",
       "<g id=\"node1\" class=\"node\">\n",
       "<title>0</title>\n",
       "<path fill=\"#f3f9fd\" stroke=\"black\" d=\"M160,-187C160,-187 62,-187 62,-187 56,-187 50,-181 50,-175 50,-175 50,-116 50,-116 50,-110 56,-104 62,-104 62,-104 160,-104 160,-104 166,-104 172,-110 172,-116 172,-116 172,-175 172,-175 172,-181 166,-187 160,-187\"/>\n",
       "<text text-anchor=\"start\" x=\"58\" y=\"-171.8\" font-family=\"Helvetica,sans-Serif\" font-size=\"14.00\">ClusterC ≤ &#45;1.987</text>\n",
       "<text text-anchor=\"start\" x=\"75.5\" y=\"-156.8\" font-family=\"Helvetica,sans-Serif\" font-size=\"14.00\">gini = 0.499</text>\n",
       "<text text-anchor=\"start\" x=\"70\" y=\"-141.8\" font-family=\"Helvetica,sans-Serif\" font-size=\"14.00\">samples = 31</text>\n",
       "<text text-anchor=\"start\" x=\"64\" y=\"-126.8\" font-family=\"Helvetica,sans-Serif\" font-size=\"14.00\">value = [15, 16]</text>\n",
       "<text text-anchor=\"start\" x=\"72.5\" y=\"-111.8\" font-family=\"Helvetica,sans-Serif\" font-size=\"14.00\">class = age1</text>\n",
       "</g>\n",
       "<!-- 1 -->\n",
       "<g id=\"node2\" class=\"node\">\n",
       "<title>1</title>\n",
       "<path fill=\"#399de5\" stroke=\"black\" d=\"M90,-68C90,-68 12,-68 12,-68 6,-68 0,-62 0,-56 0,-56 0,-12 0,-12 0,-6 6,0 12,0 12,0 90,0 90,0 96,0 102,-6 102,-12 102,-12 102,-56 102,-56 102,-62 96,-68 90,-68\"/>\n",
       "<text text-anchor=\"start\" x=\"23\" y=\"-52.8\" font-family=\"Helvetica,sans-Serif\" font-size=\"14.00\">gini = 0.0</text>\n",
       "<text text-anchor=\"start\" x=\"10\" y=\"-37.8\" font-family=\"Helvetica,sans-Serif\" font-size=\"14.00\">samples = 15</text>\n",
       "<text text-anchor=\"start\" x=\"8\" y=\"-22.8\" font-family=\"Helvetica,sans-Serif\" font-size=\"14.00\">value = [0, 15]</text>\n",
       "<text text-anchor=\"start\" x=\"12.5\" y=\"-7.8\" font-family=\"Helvetica,sans-Serif\" font-size=\"14.00\">class = age1</text>\n",
       "</g>\n",
       "<!-- 0&#45;&gt;1 -->\n",
       "<g id=\"edge1\" class=\"edge\">\n",
       "<title>0&#45;&gt;1</title>\n",
       "<path fill=\"none\" stroke=\"black\" d=\"M88.66,-103.73C83.91,-95.06 78.89,-85.9 74.11,-77.18\"/>\n",
       "<polygon fill=\"black\" stroke=\"black\" points=\"77.12,-75.39 69.25,-68.3 70.98,-78.75 77.12,-75.39\"/>\n",
       "<text text-anchor=\"middle\" x=\"62.24\" y=\"-88.6\" font-family=\"Helvetica,sans-Serif\" font-size=\"14.00\">True</text>\n",
       "</g>\n",
       "<!-- 2 -->\n",
       "<g id=\"node3\" class=\"node\">\n",
       "<title>2</title>\n",
       "<path fill=\"#e78946\" stroke=\"black\" d=\"M210,-68C210,-68 132,-68 132,-68 126,-68 120,-62 120,-56 120,-56 120,-12 120,-12 120,-6 126,0 132,0 132,0 210,0 210,0 216,0 222,-6 222,-12 222,-12 222,-56 222,-56 222,-62 216,-68 210,-68\"/>\n",
       "<text text-anchor=\"start\" x=\"135.5\" y=\"-52.8\" font-family=\"Helvetica,sans-Serif\" font-size=\"14.00\">gini = 0.117</text>\n",
       "<text text-anchor=\"start\" x=\"130\" y=\"-37.8\" font-family=\"Helvetica,sans-Serif\" font-size=\"14.00\">samples = 16</text>\n",
       "<text text-anchor=\"start\" x=\"128\" y=\"-22.8\" font-family=\"Helvetica,sans-Serif\" font-size=\"14.00\">value = [15, 1]</text>\n",
       "<text text-anchor=\"start\" x=\"132.5\" y=\"-7.8\" font-family=\"Helvetica,sans-Serif\" font-size=\"14.00\">class = age0</text>\n",
       "</g>\n",
       "<!-- 0&#45;&gt;2 -->\n",
       "<g id=\"edge2\" class=\"edge\">\n",
       "<title>0&#45;&gt;2</title>\n",
       "<path fill=\"none\" stroke=\"black\" d=\"M133.34,-103.73C138.09,-95.06 143.11,-85.9 147.89,-77.18\"/>\n",
       "<polygon fill=\"black\" stroke=\"black\" points=\"151.02,-78.75 152.75,-68.3 144.88,-75.39 151.02,-78.75\"/>\n",
       "<text text-anchor=\"middle\" x=\"159.76\" y=\"-88.6\" font-family=\"Helvetica,sans-Serif\" font-size=\"14.00\">False</text>\n",
       "</g>\n",
       "</g>\n",
       "</svg>\n"
      ],
      "text/plain": [
       "<graphviz.sources.Source at 0x14828cbe0>"
      ]
     },
     "execution_count": 281,
     "metadata": {},
     "output_type": "execute_result"
    }
   ],
   "source": [
    "CART_tree = DecisionTreeClassifier(criterion='gini',splitter = 'best',max_depth=1)\n",
    "CART_tree.fit(dt_data_.drop('stage', axis=1), dt_data_['stage'])\n",
    "dot_data = tree.export_graphviz(CART_tree,\n",
    "                                feature_names=feature,\n",
    "                                class_names=[str(k) for k in np.unique(dt_data_['stage'])],\n",
    "                                filled=True,\n",
    "                                rounded=True,\n",
    "                                special_characters=True)\n",
    "graph = graphviz.Source(dot_data)\n",
    "graph"
   ]
  },
  {
   "cell_type": "code",
   "execution_count": 37,
   "metadata": {
    "ExecuteTime": {
     "end_time": "2023-10-07T15:13:36.137601Z",
     "start_time": "2023-10-07T15:13:35.890408Z"
    },
    "collapsed": false
   },
   "outputs": [
    {
     "data": {
      "text/plain": [
       "<Figure size 800x550 with 0 Axes>"
      ]
     },
     "metadata": {},
     "output_type": "display_data"
    },
    {
     "data": {
      "image/png": "[encoded data removed]",
      "text/plain": [
       "<Figure size 660x440 with 1 Axes>"
      ]
     },
     "metadata": {},
     "output_type": "display_data"
    }
   ],
   "source": [
    "import numpy as np\n",
    "import matplotlib.pyplot as plt\n",
    "from sklearn.metrics import roc_curve, auc\n",
    "from sklearn.model_selection import train_test_split\n",
    "\n",
    "dt_data_ = cluster_class_data[cluster_class_data['stage'] != 'age2']\n",
    "\n",
    "X = dt_data_.iloc[:, :4]\n",
    "y = dt_data_.iloc[:, -1]\n",
    "\n",
    "y = y.replace({'age0': 0, 'age1': 1})\n",
    "\n",
    "# shuffle and split training and test sets\n",
    "X_train, X_test, y_train, y_test = train_test_split(X, y, test_size=0.2, random_state=42)\n",
    "\n",
    "clf = DecisionTreeClassifier(random_state=42, max_depth=1)\n",
    "clf.fit(X_train, y_train)\n",
    "\n",
    "y_score = clf.predict_proba(X_test)[:, 1]\n",
    "\n",
    "# Compute ROC curve and ROC area for each class\n",
    "fpr, tpr, _ = roc_curve(y_test, y_score, drop_intermediate=True)\n",
    "roc_auc = auc(fpr, tpr)\n",
    "\n",
    "plt.figure()\n",
    "lw = 2\n",
    "plt.figure(figsize=(6.6, 4.4))\n",
    "plt.plot(fpr, tpr, color='darkorange',\n",
    "         lw=lw, label='ROC curve (area = %0.2f)' % roc_auc)\n",
    "plt.plot([0, 1], [0, 1], color='navy', lw=lw, linestyle='--')\n",
    "plt.xlim([0.0, 1.0])\n",
    "plt.ylim([0.0, 1.05])\n",
    "plt.xlabel('False Positive Rate', fontsize = 18)\n",
    "plt.ylabel('True Positive Rate', fontsize = 18)\n",
    "plt.legend(loc=\"lower right\", frameon=False, fontsize = 16)\n",
    "plt.xticks(fontsize=13)\n",
    "plt.yticks(fontsize=13)\n",
    "\n",
    "plt.savefig(\"/Desktop/new_3_e_m_ROC.pdf\", format=\"pdf\", bbox_inches = 'tight')\n",
    "\n",
    "plt.show()"
   ]
  },
  {
   "cell_type": "markdown",
   "metadata": {
    "ExecuteTime": {
     "end_time": "2023-09-19T12:13:06.591215Z",
     "start_time": "2023-09-19T12:13:06.523075Z"
    },
    "collapsed": false
   },
   "source": [
    "### Early and Late Decision Trees"
   ]
  },
  {
   "cell_type": "code",
   "execution_count": 32,
   "metadata": {
    "ExecuteTime": {
     "end_time": "2023-10-07T14:19:08.933191Z",
     "start_time": "2023-10-07T14:19:08.928633Z"
    },
    "collapsed": false
   },
   "outputs": [
    {
     "data": {
      "text/plain": [
       "array(['age0', 'age2'], dtype=object)"
      ]
     },
     "execution_count": 32,
     "metadata": {},
     "output_type": "execute_result"
    }
   ],
   "source": [
    "dt_data_ = cluster_class_data[cluster_class_data['stage'] != 'age1']\n",
    "\n",
    "feature=dt_data_.columns.to_list()[:-1]\n",
    "class_names = dt_data_['stage'].unique()\n",
    "class_names"
   ]
  },
  {
   "cell_type": "code",
   "execution_count": 285,
   "metadata": {
    "ExecuteTime": {
     "end_time": "2023-10-06T09:02:00.529768Z",
     "start_time": "2023-10-06T09:01:59.852340Z"
    },
    "collapsed": false
   },
   "outputs": [
    {
     "data": {
      "text/plain": [
       "0.9444444444444445"
      ]
     },
     "execution_count": 285,
     "metadata": {},
     "output_type": "execute_result"
    }
   ],
   "source": [
    "CART_tree = DecisionTreeClassifier(\n",
    "    criterion='gini', splitter='best', max_depth=1)\n",
    "\n",
    "e_l = cross_val_score(CART_tree, dt_data_.drop('stage', axis=1),\n",
    "                      dt_data_['stage'], cv=6,n_jobs=-1).mean()\n",
    "e_l"
   ]
  },
  {
   "cell_type": "code",
   "execution_count": 287,
   "metadata": {
    "ExecuteTime": {
     "end_time": "2023-10-06T09:02:00.529895Z",
     "start_time": "2023-10-06T09:01:59.876210Z"
    },
    "collapsed": false
   },
   "outputs": [
    {
     "data": {
      "image/svg+xml": [
       "<?xml version=\"1.0\" encoding=\"UTF-8\" standalone=\"no\"?>\n",
       "<!DOCTYPE svg PUBLIC \"-//W3C//DTD SVG 1.1//EN\"\n",
       " \"http://www.w3.org/Graphics/SVG/1.1/DTD/svg11.dtd\">\n",
       "<!-- Generated by graphviz version 2.50.0 (0)\n",
       " -->\n",
       "<!-- Title: Tree Pages: 1 -->\n",
       "<svg width=\"224pt\" height=\"195pt\"\n",
       " viewBox=\"0.00 0.00 223.50 195.00\" xmlns=\"http://www.w3.org/2000/svg\" xmlns:xlink=\"http://www.w3.org/1999/xlink\">\n",
       "<g id=\"graph0\" class=\"graph\" transform=\"scale(1 1) rotate(0) translate(4 191)\">\n",
       "<title>Tree</title>\n",
       "<polygon fill=\"white\" stroke=\"transparent\" points=\"-4,4 -4,-191 219.5,-191 219.5,4 -4,4\"/>\n",
       "<!-- 0 -->\n",
       "<g id=\"node1\" class=\"node\">\n",
       "<title>0</title>\n",
       "<path fill=\"#efb388\" stroke=\"black\" d=\"M154.5,-187C154.5,-187 56.5,-187 56.5,-187 50.5,-187 44.5,-181 44.5,-175 44.5,-175 44.5,-116 44.5,-116 44.5,-110 50.5,-104 56.5,-104 56.5,-104 154.5,-104 154.5,-104 160.5,-104 166.5,-110 166.5,-116 166.5,-116 166.5,-175 166.5,-175 166.5,-181 160.5,-187 154.5,-187\"/>\n",
       "<text text-anchor=\"start\" x=\"52.5\" y=\"-171.8\" font-family=\"Helvetica,sans-Serif\" font-size=\"14.00\">ClusterA ≤ &#45;7.816</text>\n",
       "<text text-anchor=\"start\" x=\"70\" y=\"-156.8\" font-family=\"Helvetica,sans-Serif\" font-size=\"14.00\">gini = 0.408</text>\n",
       "<text text-anchor=\"start\" x=\"64.5\" y=\"-141.8\" font-family=\"Helvetica,sans-Serif\" font-size=\"14.00\">samples = 21</text>\n",
       "<text text-anchor=\"start\" x=\"62.5\" y=\"-126.8\" font-family=\"Helvetica,sans-Serif\" font-size=\"14.00\">value = [15, 6]</text>\n",
       "<text text-anchor=\"start\" x=\"67\" y=\"-111.8\" font-family=\"Helvetica,sans-Serif\" font-size=\"14.00\">class = age0</text>\n",
       "</g>\n",
       "<!-- 1 -->\n",
       "<g id=\"node2\" class=\"node\">\n",
       "<title>1</title>\n",
       "<path fill=\"#399de5\" stroke=\"black\" d=\"M83,-68C83,-68 12,-68 12,-68 6,-68 0,-62 0,-56 0,-56 0,-12 0,-12 0,-6 6,0 12,0 12,0 83,0 83,0 89,0 95,-6 95,-12 95,-12 95,-56 95,-56 95,-62 89,-68 83,-68\"/>\n",
       "<text text-anchor=\"start\" x=\"19.5\" y=\"-52.8\" font-family=\"Helvetica,sans-Serif\" font-size=\"14.00\">gini = 0.0</text>\n",
       "<text text-anchor=\"start\" x=\"10\" y=\"-37.8\" font-family=\"Helvetica,sans-Serif\" font-size=\"14.00\">samples = 6</text>\n",
       "<text text-anchor=\"start\" x=\"8\" y=\"-22.8\" font-family=\"Helvetica,sans-Serif\" font-size=\"14.00\">value = [0, 6]</text>\n",
       "<text text-anchor=\"start\" x=\"9\" y=\"-7.8\" font-family=\"Helvetica,sans-Serif\" font-size=\"14.00\">class = age2</text>\n",
       "</g>\n",
       "<!-- 0&#45;&gt;1 -->\n",
       "<g id=\"edge1\" class=\"edge\">\n",
       "<title>0&#45;&gt;1</title>\n",
       "<path fill=\"none\" stroke=\"black\" d=\"M83.9,-103.73C79.31,-95.06 74.46,-85.9 69.84,-77.18\"/>\n",
       "<polygon fill=\"black\" stroke=\"black\" points=\"72.91,-75.5 65.14,-68.3 66.73,-78.77 72.91,-75.5\"/>\n",
       "<text text-anchor=\"middle\" x=\"57.79\" y=\"-88.5\" font-family=\"Helvetica,sans-Serif\" font-size=\"14.00\">True</text>\n",
       "</g>\n",
       "<!-- 2 -->\n",
       "<g id=\"node3\" class=\"node\">\n",
       "<title>2</title>\n",
       "<path fill=\"#e58139\" stroke=\"black\" d=\"M203.5,-68C203.5,-68 125.5,-68 125.5,-68 119.5,-68 113.5,-62 113.5,-56 113.5,-56 113.5,-12 113.5,-12 113.5,-6 119.5,0 125.5,0 125.5,0 203.5,0 203.5,0 209.5,0 215.5,-6 215.5,-12 215.5,-12 215.5,-56 215.5,-56 215.5,-62 209.5,-68 203.5,-68\"/>\n",
       "<text text-anchor=\"start\" x=\"136.5\" y=\"-52.8\" font-family=\"Helvetica,sans-Serif\" font-size=\"14.00\">gini = 0.0</text>\n",
       "<text text-anchor=\"start\" x=\"123.5\" y=\"-37.8\" font-family=\"Helvetica,sans-Serif\" font-size=\"14.00\">samples = 15</text>\n",
       "<text text-anchor=\"start\" x=\"121.5\" y=\"-22.8\" font-family=\"Helvetica,sans-Serif\" font-size=\"14.00\">value = [15, 0]</text>\n",
       "<text text-anchor=\"start\" x=\"126\" y=\"-7.8\" font-family=\"Helvetica,sans-Serif\" font-size=\"14.00\">class = age0</text>\n",
       "</g>\n",
       "<!-- 0&#45;&gt;2 -->\n",
       "<g id=\"edge2\" class=\"edge\">\n",
       "<title>0&#45;&gt;2</title>\n",
       "<path fill=\"none\" stroke=\"black\" d=\"M127.47,-103.73C132.14,-95.06 137.08,-85.9 141.77,-77.18\"/>\n",
       "<polygon fill=\"black\" stroke=\"black\" points=\"144.9,-78.76 146.56,-68.3 138.73,-75.44 144.9,-78.76\"/>\n",
       "<text text-anchor=\"middle\" x=\"153.73\" y=\"-88.55\" font-family=\"Helvetica,sans-Serif\" font-size=\"14.00\">False</text>\n",
       "</g>\n",
       "</g>\n",
       "</svg>\n"
      ],
      "text/plain": [
       "<graphviz.sources.Source at 0x15b2ee4c0>"
      ]
     },
     "execution_count": 287,
     "metadata": {},
     "output_type": "execute_result"
    }
   ],
   "source": [
    "CART_tree = DecisionTreeClassifier(criterion='gini',splitter = 'best',max_depth=1)\n",
    "CART_tree.fit(dt_data_.drop('stage', axis=1), dt_data_['stage'])\n",
    "dot_data = tree.export_graphviz(CART_tree,\n",
    "                                feature_names=feature,\n",
    "                                class_names=[str(k) for k in np.unique(dt_data_['stage'])],\n",
    "                                filled=True,\n",
    "                                rounded=True,\n",
    "                                special_characters=True)\n",
    "graph = graphviz.Source(dot_data)\n",
    "graph"
   ]
  },
  {
   "cell_type": "code",
   "execution_count": 41,
   "metadata": {
    "ExecuteTime": {
     "end_time": "2023-10-07T15:17:01.769284Z",
     "start_time": "2023-10-07T15:17:01.613534Z"
    },
    "collapsed": false
   },
   "outputs": [
    {
     "data": {
      "text/plain": [
       "<Figure size 800x550 with 0 Axes>"
      ]
     },
     "metadata": {},
     "output_type": "display_data"
    },
    {
     "data": {
      "image/png": "[encoded data removed]",
      "text/plain": [
       "<Figure size 660x440 with 1 Axes>"
      ]
     },
     "metadata": {},
     "output_type": "display_data"
    }
   ],
   "source": [
    "import numpy as np\n",
    "import matplotlib.pyplot as plt\n",
    "from sklearn.metrics import roc_curve, auc\n",
    "from sklearn.model_selection import train_test_split\n",
    "\n",
    "dt_data_ = cluster_class_data[cluster_class_data['stage'] != 'age1']\n",
    "\n",
    "X = dt_data_.iloc[:, :4]\n",
    "y = dt_data_.iloc[:, -1]\n",
    "\n",
    "y = y.replace({'age0': 0, 'age2': 1})\n",
    "\n",
    "# shuffle and split training and test sets\n",
    "X_train, X_test, y_train, y_test = train_test_split(X, y, test_size=0.2, random_state=42)\n",
    "\n",
    "clf = DecisionTreeClassifier(random_state=42, max_depth=1)\n",
    "clf.fit(X_train, y_train)\n",
    "\n",
    "y_score = clf.predict_proba(X_test)[:, 1]\n",
    "\n",
    "# Compute ROC curve and ROC area for each class\n",
    "fpr, tpr, _ = roc_curve(y_test, y_score)\n",
    "roc_auc = auc(fpr, tpr)\n",
    "\n",
    "plt.figure()\n",
    "lw = 2\n",
    "plt.figure(figsize=(6.6, 4.4))\n",
    "plt.plot(fpr, tpr, color='darkorange',\n",
    "         lw=lw, label='ROC curve (area = %0.2f)' % roc_auc)\n",
    "plt.plot([0, 1], [0, 1], color='navy', lw=lw, linestyle='--')\n",
    "plt.xlim([0.0, 1.0])\n",
    "plt.ylim([0.0, 1.05])\n",
    "plt.xlabel('False Positive Rate', fontsize = 18)\n",
    "plt.ylabel('True Positive Rate', fontsize = 18)\n",
    "plt.legend(loc=\"lower right\", frameon=False, fontsize = 16)\n",
    "plt.xticks(fontsize=13)\n",
    "plt.yticks(fontsize=13)\n",
    "\n",
    "plt.savefig(\"/Desktop/new_3_e_l_ROC.pdf\", format=\"pdf\", bbox_inches = 'tight')\n",
    "\n",
    "plt.show()"
   ]
  },
  {
   "cell_type": "markdown",
   "metadata": {
    "ExecuteTime": {
     "end_time": "2023-09-19T12:13:08.319915Z",
     "start_time": "2023-09-19T12:13:08.249449Z"
    },
    "collapsed": false
   },
   "source": [
    "### Middle and Late Decision Trees"
   ]
  },
  {
   "cell_type": "code",
   "execution_count": 34,
   "metadata": {
    "ExecuteTime": {
     "end_time": "2023-10-07T14:19:36.785085Z",
     "start_time": "2023-10-07T14:19:36.781537Z"
    },
    "collapsed": false
   },
   "outputs": [
    {
     "data": {
      "text/plain": [
       "array(['age2', 'age1'], dtype=object)"
      ]
     },
     "execution_count": 34,
     "metadata": {},
     "output_type": "execute_result"
    }
   ],
   "source": [
    "dt_data_ = cluster_class_data[cluster_class_data['stage'] != 'age0']\n",
    "\n",
    "feature=dt_data_.columns.to_list()[:-1]\n",
    "class_names = dt_data_['stage'].unique()\n",
    "class_names"
   ]
  },
  {
   "cell_type": "code",
   "execution_count": 35,
   "metadata": {
    "ExecuteTime": {
     "end_time": "2023-10-07T14:19:38.707301Z",
     "start_time": "2023-10-07T14:19:37.548086Z"
    },
    "collapsed": false
   },
   "outputs": [
    {
     "data": {
      "text/plain": [
       "0.9583333333333334"
      ]
     },
     "execution_count": 35,
     "metadata": {},
     "output_type": "execute_result"
    }
   ],
   "source": [
    "CART_tree = DecisionTreeClassifier(\n",
    "    criterion='gini', splitter='best', max_depth=1)\n",
    "\n",
    "m_l = cross_val_score(CART_tree, dt_data_.drop('stage', axis=1),\n",
    "                      dt_data_['stage'], cv=6,n_jobs=-1).mean()\n",
    "m_l"
   ]
  },
  {
   "cell_type": "code",
   "execution_count": 293,
   "metadata": {
    "ExecuteTime": {
     "end_time": "2023-10-06T09:02:00.530280Z",
     "start_time": "2023-10-06T09:02:00.432427Z"
    },
    "collapsed": false
   },
   "outputs": [
    {
     "data": {
      "image/svg+xml": [
       "<?xml version=\"1.0\" encoding=\"UTF-8\" standalone=\"no\"?>\n",
       "<!DOCTYPE svg PUBLIC \"-//W3C//DTD SVG 1.1//EN\"\n",
       " \"http://www.w3.org/Graphics/SVG/1.1/DTD/svg11.dtd\">\n",
       "<!-- Generated by graphviz version 2.50.0 (0)\n",
       " -->\n",
       "<!-- Title: Tree Pages: 1 -->\n",
       "<svg width=\"224pt\" height=\"195pt\"\n",
       " viewBox=\"0.00 0.00 223.50 195.00\" xmlns=\"http://www.w3.org/2000/svg\" xmlns:xlink=\"http://www.w3.org/1999/xlink\">\n",
       "<g id=\"graph0\" class=\"graph\" transform=\"scale(1 1) rotate(0) translate(4 191)\">\n",
       "<title>Tree</title>\n",
       "<polygon fill=\"white\" stroke=\"transparent\" points=\"-4,4 -4,-191 219.5,-191 219.5,4 -4,4\"/>\n",
       "<!-- 0 -->\n",
       "<g id=\"node1\" class=\"node\">\n",
       "<title>0</title>\n",
       "<path fill=\"#efb083\" stroke=\"black\" d=\"M151,-187C151,-187 60,-187 60,-187 54,-187 48,-181 48,-175 48,-175 48,-116 48,-116 48,-110 54,-104 60,-104 60,-104 151,-104 151,-104 157,-104 163,-110 163,-116 163,-116 163,-175 163,-175 163,-181 157,-187 151,-187\"/>\n",
       "<text text-anchor=\"start\" x=\"56\" y=\"-171.8\" font-family=\"Helvetica,sans-Serif\" font-size=\"14.00\">ClusterD ≤ &#45;2.25</text>\n",
       "<text text-anchor=\"start\" x=\"70\" y=\"-156.8\" font-family=\"Helvetica,sans-Serif\" font-size=\"14.00\">gini = 0.397</text>\n",
       "<text text-anchor=\"start\" x=\"64.5\" y=\"-141.8\" font-family=\"Helvetica,sans-Serif\" font-size=\"14.00\">samples = 22</text>\n",
       "<text text-anchor=\"start\" x=\"62.5\" y=\"-126.8\" font-family=\"Helvetica,sans-Serif\" font-size=\"14.00\">value = [16, 6]</text>\n",
       "<text text-anchor=\"start\" x=\"67\" y=\"-111.8\" font-family=\"Helvetica,sans-Serif\" font-size=\"14.00\">class = age1</text>\n",
       "</g>\n",
       "<!-- 1 -->\n",
       "<g id=\"node2\" class=\"node\">\n",
       "<title>1</title>\n",
       "<path fill=\"#399de5\" stroke=\"black\" d=\"M83,-68C83,-68 12,-68 12,-68 6,-68 0,-62 0,-56 0,-56 0,-12 0,-12 0,-6 6,0 12,0 12,0 83,0 83,0 89,0 95,-6 95,-12 95,-12 95,-56 95,-56 95,-62 89,-68 83,-68\"/>\n",
       "<text text-anchor=\"start\" x=\"19.5\" y=\"-52.8\" font-family=\"Helvetica,sans-Serif\" font-size=\"14.00\">gini = 0.0</text>\n",
       "<text text-anchor=\"start\" x=\"10\" y=\"-37.8\" font-family=\"Helvetica,sans-Serif\" font-size=\"14.00\">samples = 6</text>\n",
       "<text text-anchor=\"start\" x=\"8\" y=\"-22.8\" font-family=\"Helvetica,sans-Serif\" font-size=\"14.00\">value = [0, 6]</text>\n",
       "<text text-anchor=\"start\" x=\"9\" y=\"-7.8\" font-family=\"Helvetica,sans-Serif\" font-size=\"14.00\">class = age2</text>\n",
       "</g>\n",
       "<!-- 0&#45;&gt;1 -->\n",
       "<g id=\"edge1\" class=\"edge\">\n",
       "<title>0&#45;&gt;1</title>\n",
       "<path fill=\"none\" stroke=\"black\" d=\"M83.9,-103.73C79.31,-95.06 74.46,-85.9 69.84,-77.18\"/>\n",
       "<polygon fill=\"black\" stroke=\"black\" points=\"72.91,-75.5 65.14,-68.3 66.73,-78.77 72.91,-75.5\"/>\n",
       "<text text-anchor=\"middle\" x=\"57.79\" y=\"-88.5\" font-family=\"Helvetica,sans-Serif\" font-size=\"14.00\">True</text>\n",
       "</g>\n",
       "<!-- 2 -->\n",
       "<g id=\"node3\" class=\"node\">\n",
       "<title>2</title>\n",
       "<path fill=\"#e58139\" stroke=\"black\" d=\"M203.5,-68C203.5,-68 125.5,-68 125.5,-68 119.5,-68 113.5,-62 113.5,-56 113.5,-56 113.5,-12 113.5,-12 113.5,-6 119.5,0 125.5,0 125.5,0 203.5,0 203.5,0 209.5,0 215.5,-6 215.5,-12 215.5,-12 215.5,-56 215.5,-56 215.5,-62 209.5,-68 203.5,-68\"/>\n",
       "<text text-anchor=\"start\" x=\"136.5\" y=\"-52.8\" font-family=\"Helvetica,sans-Serif\" font-size=\"14.00\">gini = 0.0</text>\n",
       "<text text-anchor=\"start\" x=\"123.5\" y=\"-37.8\" font-family=\"Helvetica,sans-Serif\" font-size=\"14.00\">samples = 16</text>\n",
       "<text text-anchor=\"start\" x=\"121.5\" y=\"-22.8\" font-family=\"Helvetica,sans-Serif\" font-size=\"14.00\">value = [16, 0]</text>\n",
       "<text text-anchor=\"start\" x=\"126\" y=\"-7.8\" font-family=\"Helvetica,sans-Serif\" font-size=\"14.00\">class = age1</text>\n",
       "</g>\n",
       "<!-- 0&#45;&gt;2 -->\n",
       "<g id=\"edge2\" class=\"edge\">\n",
       "<title>0&#45;&gt;2</title>\n",
       "<path fill=\"none\" stroke=\"black\" d=\"M127.47,-103.73C132.14,-95.06 137.08,-85.9 141.77,-77.18\"/>\n",
       "<polygon fill=\"black\" stroke=\"black\" points=\"144.9,-78.76 146.56,-68.3 138.73,-75.44 144.9,-78.76\"/>\n",
       "<text text-anchor=\"middle\" x=\"153.73\" y=\"-88.55\" font-family=\"Helvetica,sans-Serif\" font-size=\"14.00\">False</text>\n",
       "</g>\n",
       "</g>\n",
       "</svg>\n"
      ],
      "text/plain": [
       "<graphviz.sources.Source at 0x14f859400>"
      ]
     },
     "execution_count": 293,
     "metadata": {},
     "output_type": "execute_result"
    }
   ],
   "source": [
    "CART_tree = DecisionTreeClassifier(criterion='gini',splitter = 'best',max_depth=1)\n",
    "CART_tree.fit(dt_data_.drop('stage', axis=1), dt_data_['stage'])\n",
    "dot_data = tree.export_graphviz(CART_tree,\n",
    "                                feature_names=feature,\n",
    "                                class_names=[str(k) for k in np.unique(dt_data_['stage'])],\n",
    "                                filled=True,\n",
    "                                rounded=True,\n",
    "                                special_characters=True)\n",
    "graph = graphviz.Source(dot_data)\n",
    "graph"
   ]
  },
  {
   "cell_type": "code",
   "execution_count": 40,
   "metadata": {
    "ExecuteTime": {
     "end_time": "2023-10-07T15:16:58.783839Z",
     "start_time": "2023-10-07T15:16:58.622020Z"
    },
    "collapsed": false
   },
   "outputs": [
    {
     "data": {
      "text/plain": [
       "<Figure size 800x550 with 0 Axes>"
      ]
     },
     "metadata": {},
     "output_type": "display_data"
    },
    {
     "data": {
      "image/png": "[encoded data removed]",
      "text/plain": [
       "<Figure size 660x440 with 1 Axes>"
      ]
     },
     "metadata": {},
     "output_type": "display_data"
    }
   ],
   "source": [
    "import matplotlib.pyplot as plt\n",
    "from sklearn.metrics import roc_curve, auc\n",
    "from sklearn.model_selection import train_test_split\n",
    "\n",
    "dt_data_ = cluster_class_data[cluster_class_data['stage'] != 'age0']\n",
    "\n",
    "X = dt_data_.iloc[:, :4]\n",
    "y = dt_data_.iloc[:, -1]\n",
    "\n",
    "y = y.replace({'age1': 0, 'age2': 1})\n",
    "\n",
    "# shuffle and split training and test sets\n",
    "X_train, X_test, y_train, y_test = train_test_split(X, y, test_size=0.2, random_state=42)\n",
    "\n",
    "clf = DecisionTreeClassifier(random_state=42, max_depth=1)\n",
    "clf.fit(X_train, y_train)\n",
    "\n",
    "y_score = clf.predict_proba(X_test)[:, 1]\n",
    "\n",
    "# Compute ROC curve and ROC area for each class\n",
    "fpr, tpr, _ = roc_curve(y_test, y_score)\n",
    "roc_auc = auc(fpr, tpr)\n",
    "\n",
    "plt.figure()\n",
    "lw = 2\n",
    "plt.figure(figsize=(6.6, 4.4))\n",
    "plt.plot(fpr, tpr, color='darkorange',\n",
    "         lw=lw, label='ROC curve (area = %0.2f)' % roc_auc)\n",
    "plt.plot([0, 1], [0, 1], color='navy', lw=lw, linestyle='--')\n",
    "plt.xlim([0.0, 1.0])\n",
    "plt.ylim([0.0, 1.05])\n",
    "plt.xlabel('False Positive Rate', fontsize = 18)\n",
    "plt.ylabel('True Positive Rate', fontsize = 18)\n",
    "plt.legend(loc=\"lower right\", frameon=False, fontsize = 16)\n",
    "plt.xticks(fontsize=13)\n",
    "plt.yticks(fontsize=13)\n",
    "\n",
    "plt.savefig(\"/Desktop/new_3_m_l_ROC.pdf\", format=\"pdf\", bbox_inches = 'tight')\n",
    "\n",
    "plt.show()"
   ]
  },
  {
   "cell_type": "code",
   "execution_count": 296,
   "metadata": {
    "ExecuteTime": {
     "end_time": "2023-10-06T09:02:00.984225Z",
     "start_time": "2023-10-06T09:02:00.981522Z"
    },
    "collapsed": false
   },
   "outputs": [
    {
     "name": "stdout",
     "output_type": "stream",
     "text": [
      "e_m_l： 0.8928571428571428\n",
      "e_m： 0.9333333333333332\n",
      "e_l： 0.9444444444444445\n",
      "m_l： 0.9583333333333334\n"
     ]
    }
   ],
   "source": [
    "print('e_m_l：', e_m_l)\n",
    "print('e_m：', e_m)\n",
    "print('e_l：', e_l)\n",
    "print('m_l：', m_l)"
   ]
  }
 ],
 "metadata": {
  "kernelspec": {
   "display_name": "Python 3",
   "language": "python",
   "name": "python3"
  },
  "language_info": {
   "codemirror_mode": {
    "name": "ipython",
    "version": 2
   },
   "file_extension": ".py",
   "mimetype": "text/x-python",
   "name": "python",
   "nbconvert_exporter": "python",
   "pygments_lexer": "ipython2",
   "version": "2.7.6"
  }
 },
 "nbformat": 4,
 "nbformat_minor": 0
}
