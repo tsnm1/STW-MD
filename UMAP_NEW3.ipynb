{
 "cells": [
  {
   "cell_type": "code",
   "execution_count": 1,
   "metadata": {
    "ExecuteTime": {
     "end_time": "2023-10-10T11:58:30.668719Z",
     "start_time": "2023-10-10T11:58:30.378651Z"
    }
   },
   "outputs": [],
   "source": [
    "import numpy as np\n",
    "import pandas as pd\n",
    "from scipy import stats\n",
    "import os\n",
    "import matplotlib.pyplot as plt\n",
    "\n",
    "import rpy2\n",
    "# from rpy2.robjects import r\n",
    "from rpy2.robjects.packages import importr\n",
    "from rpy2.robjects import pandas2ri\n",
    "pandas2ri.activate()\n",
    "\n",
    "plt.rcParams['font.family'] = 'SimHei'\n",
    "plt.rcParams['axes.unicode_minus'] = False\n",
    "\n",
    "import warnings\n",
    "warnings.filterwarnings(\"ignore\")\n",
    "\n",
    "%matplotlib inline\n"
   ]
  },
  {
   "cell_type": "code",
   "execution_count": null,
   "metadata": {},
   "outputs": [],
   "source": [
    "info = pd.read_csv('info.csv')\n",
    "info\n",
    "micepath = ''\n",
    "micefiles = os.listdir('')\n",
    "\n",
    "AllFC = pd.DataFrame()"
   ]
  },
  {
   "cell_type": "code",
   "execution_count": null,
   "metadata": {},
   "outputs": [],
   "source": [
    "age10 = []\n",
    "age20 = []\n",
    "age21 = []\n",
    "\n",
    "up_gene10 = []\n",
    "down_gene10 = []\n",
    "up_gene20 = []\n",
    "down_gene20 = []\n",
    "\n",
    "CDRAll = set()\n",
    "gene_num = []\n",
    "patients = []\n",
    "\n",
    "dif_gene = pd.DataFrame()\n",
    "dif_gene['Num'] = range(1, 17)\n",
    "dif_gene['Region'] = 'Region' + dif_gene['Num'].astype(str)\n",
    "\n",
    "# Record the number of differential genes in each region (excluding duplicated genes in the three-phase comparisons)\n",
    "dif_gene['dif_gene_num'] = np.nan\n",
    "\n",
    "# Record the number of differential genes in the three-phase comparisons\n",
    "dif_gene['age1VSage0'] = np.nan\n",
    "dif_gene['age2VSage0'] = np.nan\n",
    "dif_gene['age2VSage1'] = np.nan\n",
    "\n",
    "# Record the number of upregulated and downregulated genes in each region\n",
    "dif_gene['up_gene10'] = np.nan\n",
    "dif_gene['down_gene10'] = np.nan\n",
    "dif_gene['up_gene20'] = np.nan\n",
    "dif_gene['down_gene20'] = np.nan\n"
   ]
  },
  {
   "cell_type": "code",
   "execution_count": null,
   "metadata": {},
   "outputs": [],
   "source": [
    "ageframe = pd.read_csv(micepath+micefiles[0])\n",
    "ageframe.dropna(inplace=True)\n",
    "conmon_gene = ageframe['num'].to_list()\n",
    "len(conmon_gene)\n"
   ]
  },
  {
   "cell_type": "code",
   "execution_count": null,
   "metadata": {},
   "outputs": [],
   "source": [
    "for i in range(len(micefiles)):\n",
    "    data = pd.read_csv(micepath+micefiles[i])\n",
    "    data.dropna(inplace=True)\n",
    "    num = data['num'].to_list()\n",
    "\n",
    "    conmon_gene = [i for i in conmon_gene if i in num]\n",
    "len(conmon_gene)\n",
    "\n",
    "# pd.DataFrame(conmon_gene,columns=['genename']).to_csv('conmon_gene_18431.csv',index=False)"
   ]
  },
  {
   "cell_type": "code",
   "execution_count": null,
   "metadata": {},
   "outputs": [],
   "source": [
    "for i in range(len(micefiles)):\n",
    "    data = pd.read_csv(micepath + micefiles[i])\n",
    "    data = data[data['num'].isin(conmon_gene)]\n",
    "\n",
    "    gene_list = data.columns[1:]\n",
    "    patients = patients + gene_list.to_list()  # Count the occurrence of patients\n",
    "\n",
    "    # Match CDR values in 'info' with 'donor_id' and 'class' in 'fenzu'\n",
    "    fenzu = info.copy()\n",
    "    fenzu['donor_id'] = fenzu['donor_id'].astype(str).apply(lambda x: \"S\" + x)\n",
    "    fenzu = fenzu[fenzu['donor_id'].isin(gene_list)].reset_index(drop=True)\n",
    "    fenzu['stage'] = fenzu['stage'].apply(lambda x: 'age0' if x == 1 else ('age1' if x == 2 else 'age2'))\n",
    "    fenzu = fenzu.loc[:, ['donor_id', 'stage']]\n",
    "    fenzu = fenzu.rename(columns={'donor_id': 'list', 'stage': 'class'})\n",
    "\n",
    "    # One-hot encode 'fenzu['class']'\n",
    "    design = pd.get_dummies(fenzu['class']).astype(int)\n",
    "    design.index = fenzu['list'].tolist()\n",
    "    data.dropna(inplace=True)\n",
    "\n",
    "    # Save column names as 'genename'\n",
    "    gene_names = data['num'].tolist()\n",
    "\n",
    "    # Remove the first two rows from 'data'; the remaining rows are gene features\n",
    "    data = data.iloc[:, 1:]\n",
    "    # Change the row index of 'data' to 'genename'\n",
    "    data.index = gene_names\n",
    "\n",
    "    # age1-age0\n",
    "    # Differential analysis using limma; Data preparation\n",
    "    limma = importr(\"limma\")\n",
    "    contrast_matrix = limma.makeContrasts(\"age1-age0\", levels=design)\n",
    "\n",
    "    # Analysis step 1\n",
    "    fit = limma.lmFit(data, design)\n",
    "    # Analysis step 2\n",
    "    fit2 = limma.contrasts_fit(fit, contrast_matrix)\n",
    "    fit2 = limma.eBayes(fit2)\n",
    "    # Analysis step 3\n",
    "    tempOutput = limma.topTable(fit2, adjust=\"fdr\", n=float(\"inf\"))\n",
    "\n",
    "    # Remove rows containing NaN values\n",
    "    nrDEG = tempOutput.dropna()\n",
    "    diffsig = nrDEG.copy()\n",
    "\n",
    "    # Use |logFC| > 0.585 and padj < 0.05 (adjusted P-value)\n",
    "    foldChange = 0.585\n",
    "    padj = 0.05\n",
    "    # Filter out all differential genes\n",
    "    All_diffSig = diffsig.loc[(diffsig['P.Value'] < padj) & (\n",
    "        (diffsig['logFC'] > foldChange) | (diffsig['logFC'] < -foldChange))]\n",
    "\n",
    "    # Upregulated genes\n",
    "    diffup = All_diffSig.loc[(All_diffSig['P.Value'] < padj)\n",
    "                            & (All_diffSig['logFC'] > foldChange)]\n",
    "\n",
    "    # Downregulated genes\n",
    "    diffdown = All_diffSig.loc[(All_diffSig['P.Value'] < padj) & (\n",
    "        All_diffSig['logFC'] < -foldChange)]\n",
    "\n",
    "    age10.append(len(All_diffSig))\n",
    "    age1age0 = All_diffSig.index.to_list()\n",
    "\n",
    "    up_gene10.append(len(diffup))\n",
    "    down_gene10.append(len(diffdown))\n",
    "\n",
    "    # age2-age0\n",
    "    # Differential analysis using limma; Data preparation\n",
    "    contrast_matrix = limma.makeContrasts(\"age2-age0\", levels=design)\n",
    "\n",
    "    # Analysis step 1\n",
    "    fit = limma.lmFit(data, design)\n",
    "    # Analysis step 2\n",
    "    fit2 = limma.contrasts_fit(fit, contrast_matrix)\n",
    "    fit2 = limma.eBayes(fit2)\n",
    "    # Analysis step 3\n",
    "    tempOutput = limma.topTable(fit2, adjust=\"fdr\", n=float(\"inf\"))\n",
    "\n",
    "    # Remove rows containing NaN values\n",
    "    nrDEG = tempOutput.dropna()\n",
    "    diffsig = nrDEG.copy()\n",
    "\n",
    "    # Use |logFC| > 0.585 and padj < 0.05 (adjusted P-value)\n",
    "    foldChange = 0.585\n",
    "    padj = 0.05\n",
    "    # Filter out all differential genes\n",
    "    All_diffSig = diffsig.loc[(diffsig['P.Value'] < padj) & (\n",
    "        (diffsig['logFC'] > foldChange) | (diffsig['logFC'] < -foldChange))]\n",
    "\n",
    "    # Upregulated genes\n",
    "    diffup = All_diffSig.loc[(All_diffSig['P.Value'] < padj)\n",
    "                            & (All_diffSig['logFC'] > foldChange)]\n",
    "\n",
    "    # Downregulated genes\n",
    "    diffdown = All_diffSig.loc[(All_diffSig['P.Value'] < padj) & (\n",
    "        All_diffSig['logFC'] < -foldChange)]\n",
    "\n",
    "    age20.append(len(All_diffSig))\n",
    "    age2age0 = All_diffSig.index.to_list()\n",
    "\n",
    "    up_gene20.append(len(diffup))\n",
    "    down_gene20.append(len(diffdown))\n",
    "\n",
    "    # age2-age1\n",
    "    # Differential analysis using limma; Data preparation\n",
    "    contrast_matrix = limma.makeContrasts(\"age2-age1\", levels=design)\n",
    "\n",
    "    # Analysis step 1\n",
    "    fit = limma.lmFit(data, design)\n",
    "    # Analysis step 2\n",
    "    fit2 = limma.contrasts_fit(fit, contrast_matrix)\n",
    "    fit2 = limma.eBayes(fit2)\n",
    "    # Analysis step 3\n",
    "    tempOutput = limma.topTable(fit2, adjust=\"fdr\", n=float(\"inf\"))\n",
    "\n",
    "    # Remove rows containing NaN values\n",
    "    nrDEG = tempOutput.dropna()\n",
    "    diffsig = nrDEG.copy()\n",
    "\n",
    "    # Use |logFC| > 0.585 and padj < 0.05 (adjusted P-value)\n",
    "    foldChange = 0.585\n",
    "    padj = 0.05\n",
    "    # Filter out all differential genes\n",
    "    All_diffSig = diffsig.loc[(diffsig['P.Value'] < padj) & (\n",
    "        (diffsig['logFC'] > foldChange) | (diffsig['logFC'] < -foldChange))]\n",
    "\n",
    "    # Upregulated genes\n",
    "    diffup = All_diffSig.loc[(All_diffSig['P.Value'] < padj)\n",
    "                            & (All_diffSig['logFC'] > foldChange)]\n",
    "\n",
    "    # Downregulated genes\n",
    "    diffdown = All_diffSig.loc[(All_diffSig['P.Value'] < padj) & (\n",
    "        All_diffSig['logFC'] < -foldChange)]\n",
    "\n",
    "    age21.append(len(All_diffSig))\n",
    "    age2age1 = All_diffSig.index.to_list()\n",
    "\n",
    "    # Union of differential genes from all three comparisons\n",
    "    dif_gene_ = set(age1age0).union(age2age0, age2age1)\n",
    "    gene_num.append(len(dif_gene_))\n",
    "    CDRAll = CDRAll | dif_gene_  # 13479\n",
    "\n",
    "len(CDRAll)  # Find 13479 differential genes\n"
   ]
  },
  {
   "cell_type": "code",
   "execution_count": null,
   "metadata": {},
   "outputs": [],
   "source": [
    "dif_gene['dif_gene_num'] = gene_num\n",
    "dif_gene['age1VSage0'] =age10\n",
    "dif_gene['age2VSage0'] =age20\n",
    "dif_gene['age2VSage1'] =age21\n",
    "\n",
    "dif_gene['up_gene10'] = up_gene10\n",
    "dif_gene['down_gene10'] = down_gene10\n",
    "dif_gene['up_gene20'] = up_gene20\n",
    "dif_gene['down_gene20'] = down_gene20\n",
    "dif_gene"
   ]
  },
  {
   "cell_type": "code",
   "execution_count": null,
   "metadata": {},
   "outputs": [],
   "source": [
    "genenames1 = pd.read_csv(\"D:\\\\genename5%.csv\")\n",
    "genenames = genenames1['genename'].to_list()\n",
    "len(genenames)"
   ]
  },
  {
   "cell_type": "code",
   "execution_count": null,
   "metadata": {},
   "outputs": [],
   "source": [
    "# Create a DataFrame to store the count of upregulated and downregulated genes in different age groups\n",
    "up_down_gene = pd.DataFrame({'Mid-term Group': [dif_gene['up_gene10'].sum(), dif_gene['down_gene10'].sum()],\n",
    "              'Late-term Group': [dif_gene['up_gene20'].sum(), dif_gene['down_gene20'].sum()]}, index=['Upregulated Genes', 'Downregulated Genes'])\n",
    "up_down_gene\n",
    "\n",
    "# Combine data from 16 brain regions into one dataframe 'ageframe'\n",
    "ageframe = ageframe[ageframe['num'].isin(common_gene)]\n",
    "ageframe['region'] = 1\n",
    "\n",
    "for i in range(1, 16):\n",
    "    data = pd.read_csv(micepath + micefiles[i])\n",
    "    data = data[data['num'].isin(common_gene)]\n",
    "    data['region'] = i + 1\n",
    "\n",
    "    ageframe = pd.concat([ageframe, data], join='outer', ignore_index=True)\n",
    "\n",
    "# Sort and reset the index of 'ageframe'\n",
    "ageframe.sort_values(by=['num', 'region'], inplace=True)\n",
    "ageframe.reset_index(drop=True, inplace=True)\n",
    "ageframe\n"
   ]
  },
  {
   "cell_type": "code",
   "execution_count": null,
   "metadata": {},
   "outputs": [],
   "source": [
    "# Combine data from 16 brain regions into one DataFrame 'ageframe'\n",
    "ageframe = ageframe[ageframe['num'].isin(common_gene)]\n",
    "ageframe['region'] = 1\n",
    "\n",
    "for i in range(1, 16):\n",
    "    data = pd.read_csv(micepath + micefiles[i])\n",
    "    data = data[data['num'].isin(common_gene)]\n",
    "    data['region'] = i + 1\n",
    "\n",
    "    ageframe = pd.concat([ageframe, data], join='outer', ignore_index=True)\n",
    "\n",
    "ageframe.sort_values(by=['num', 'region'], inplace=True)\n",
    "ageframe.reset_index(drop=True, inplace=True)\n",
    "ageframe\n"
   ]
  },
  {
   "cell_type": "code",
   "execution_count": null,
   "metadata": {},
   "outputs": [],
   "source": [
    "# Count the occurrence of patient data for each brain region\n",
    "patients_times = pd.DataFrame(pd.value_counts(patients))\n",
    "patients_times.reset_index(inplace=True)\n",
    "patients_times.columns=['patient','times']\n",
    "patients_times\n"
   ]
  },
  {
   "cell_type": "code",
   "execution_count": null,
   "metadata": {},
   "outputs": [],
   "source": [
    "# Select patients who have data from at least 3 brain regions\n",
    "patient3 = patients_times[patients_times['times'] >= 3]['patient'].to_list()\n",
    "patient3 = sorted(patient3)\n",
    "len(patient3)\n"
   ]
  },
  {
   "cell_type": "code",
   "execution_count": null,
   "metadata": {},
   "outputs": [],
   "source": [
    "patient3.insert(0,'num')"
   ]
  },
  {
   "cell_type": "code",
   "execution_count": null,
   "metadata": {},
   "outputs": [],
   "source": [
    "patient3"
   ]
  },
  {
   "cell_type": "markdown",
   "metadata": {},
   "source": [
    "FC"
   ]
  },
  {
   "cell_type": "code",
   "execution_count": null,
   "metadata": {},
   "outputs": [],
   "source": [
    "age10_FC = pd.DataFrame()\n",
    "age20_FC = pd.DataFrame()\n",
    "age21_FC = pd.DataFrame()\n",
    "\n",
    "for m in range(len(micefiles)):\n",
    "    data = pd.read_csv(micepath + micefiles[m])\n",
    "    data = data[data['num'].isin(common_gene)]\n",
    "\n",
    "    columns_list = data.columns[1:]\n",
    "\n",
    "    # Map CDR values from 'info' to 'fenzu' class\n",
    "    fenzu = info.copy()\n",
    "    fenzu['donor_id'] = fenzu['donor_id'].astype(str).apply(lambda x: \"S\" + x)\n",
    "    fenzu = fenzu[fenzu['donor_id'].isin(columns_list)].reset_index(drop=True)\n",
    "    fenzu['stage'] = fenzu['stage'].apply(lambda x: 'age0' if x == 1 else ('age1' if x == 2 else 'age2'))\n",
    "    fenzu = fenzu.loc[:, ['donor_id', 'stage']]\n",
    "    fenzu = fenzu.rename(columns={'donor_id': 'list', 'stage': 'class'})\n",
    "\n",
    "    # One-hot encode 'class' in 'fenzu'\n",
    "    design = pd.get_dummies(fenzu['class']).astype(int)\n",
    "    design.index = fenzu['list'].tolist()\n",
    "\n",
    "    data.dropna(inplace=True)\n",
    "\n",
    "    # Save gene names\n",
    "    gene_names = data['num'].tolist()\n",
    "\n",
    "    # Remove the first two columns from 'data' (leaving gene features)\n",
    "    data = data.iloc[:, 1:]\n",
    "    # Change the row index of 'data' to gene names\n",
    "    data.index = gene_names\n",
    "\n",
    "    # age1-age0\n",
    "    # Prepare data for limma differential analysis\n",
    "    # Create a contrast matrix using the limma package in R\n",
    "    limma = importr(\"limma\")\n",
    "    contrast_matrix = limma.makeContrasts(\"age1-age0\", levels=design)\n",
    "\n",
    "    # Perform the analysis\n",
    "    fit = limma.lmFit(data, design)\n",
    "    fit2 = limma.contrasts_fit(fit, contrast_matrix)\n",
    "    fit2 = limma.eBayes(fit2)\n",
    "    tempOutput = limma.topTable(fit2, adjust=\"fdr\", n=float(\"inf\"))\n",
    "\n",
    "    # Remove rows with missing values\n",
    "    nrDEG = tempOutput.dropna()\n",
    "    diffsig = nrDEG.copy()\n",
    "\n",
    "    diffsig.reset_index(inplace=True)\n",
    "    diffsig['Region'] = m + 1\n",
    "    age10_temp = diffsig[diffsig['index'].isin(gene_names)]\n",
    "    age10_FC = pd.concat([age10_FC, age10_temp], join='outer', ignore_index=True)\n",
    "\n",
    "    # age2-age0\n",
    "    # Prepare data for limma differential analysis\n",
    "    # Create a contrast matrix using the limma package in R\n",
    "    contrast_matrix = limma.makeContrasts(\"age2-age0\", levels=design)\n",
    "\n",
    "    # Perform the analysis\n",
    "    fit = limma.lmFit(data, design)\n",
    "    fit2 = limma.contrasts_fit(fit, contrast_matrix)\n",
    "    fit2 = limma.eBayes(fit2)\n",
    "    tempOutput = limma.topTable(fit2, adjust=\"fdr\", n=float(\"inf\"))\n",
    "\n",
    "    # Remove rows with missing values\n",
    "    nrDEG = tempOutput.dropna()\n",
    "    diffsig = nrDEG.copy()\n",
    "\n",
    "    diffsig.reset_index(inplace=True)\n",
    "    diffsig['Region'] = m + 1\n",
    "    age20_temp = diffsig[diffsig['index'].isin(gene_names)]\n",
    "    age20_FC = pd.concat([age20_FC, age20_temp], join='outer', ignore_index=True)\n",
    "\n",
    "    # age2-age1\n",
    "    # Prepare data for limma differential analysis\n",
    "    # Create a contrast matrix using the limma package in R\n",
    "    contrast_matrix = limma.makeContrasts(\"age2-age1\", levels=design)\n",
    "\n",
    "    # Perform the analysis\n",
    "    fit = limma.lmFit(data, design)\n",
    "    fit2 = limma.contrasts_fit(fit, contrast_matrix)\n",
    "    fit2 = limma.eBayes(fit2)\n",
    "    tempOutput = limma.topTable(fit2, adjust=\"fdr\", n=float(\"inf\"))\n",
    "\n",
    "    # Remove rows with missing values\n",
    "    nrDEG = tempOutput.dropna()\n",
    "    diffsig = nrDEG.copy()\n",
    "\n",
    "    diffsig.reset_index(inplace=True)\n",
    "    diffsig['Region'] = m + 1\n",
    "    age21_temp = diffsig[diffsig['index'].isin(gene_names)]\n",
    "    age21_FC = pd.concat([age21_FC, age21_temp], join='outer', ignore_index=True)\n"
   ]
  },
  {
   "cell_type": "code",
   "execution_count": null,
   "metadata": {},
   "outputs": [],
   "source": [
    "age10_FC.sort_values(by=['logFC'], inplace=True)\n",
    "age10_FC"
   ]
  },
  {
   "cell_type": "code",
   "execution_count": null,
   "metadata": {},
   "outputs": [],
   "source": [
    "age20_FC.sort_values(by=['logFC'], inplace=True)\n",
    "age20_FC"
   ]
  },
  {
   "cell_type": "code",
   "execution_count": null,
   "metadata": {},
   "outputs": [],
   "source": [
    "age21_FC.sort_values(by=['logFC'], inplace=True)\n",
    "age21_FC"
   ]
  },
  {
   "cell_type": "code",
   "execution_count": null,
   "metadata": {},
   "outputs": [],
   "source": [
    "# Sort age10_FC by 'index' and 'Region'\n",
    "age10_FC.sort_values(by=['index', 'Region'], inplace=True)\n",
    "\n",
    "# Sort age20_FC by 'index' and 'Region'\n",
    "age20_FC.sort_values(by=['index', 'Region'], inplace=True)\n",
    "\n",
    "# Display age20_FC\n",
    "age20_FC\n"
   ]
  },
  {
   "cell_type": "code",
   "execution_count": null,
   "metadata": {},
   "outputs": [],
   "source": [
    "age10_FC['index'].to_list() == age20_FC['index'].to_list()"
   ]
  },
  {
   "cell_type": "code",
   "execution_count": null,
   "metadata": {},
   "outputs": [],
   "source": [
    "FC = pd.DataFrame({\"age1FC\": age10_FC['logFC'].to_list()\n",
    "                  ,\"age2FC\": age20_FC['logFC'].to_list()\n",
    "                })\n",
    "FC"
   ]
  },
  {
   "cell_type": "code",
   "execution_count": null,
   "metadata": {},
   "outputs": [],
   "source": [
    "positive10  = np.where(FC['age1FC'] > 0)[0].tolist()\n",
    "positive20  = np.where(FC['age2FC'] > 0)[0].tolist()\n",
    "age10_FC['index'].to_list() == age20_FC['index'].to_list()"
   ]
  },
  {
   "cell_type": "code",
   "execution_count": null,
   "metadata": {},
   "outputs": [],
   "source": [
    "# Reverse the sign of negative values in the 'FC' column\n",
    "FC['age1FC'] = -FC['age1FC'][FC['age1FC'] < 0]\n",
    "FC['age2FC'] = -FC['age2FC'][FC['age2FC'] < 0]\n",
    "\n",
    "# Create a new DataFrame with the desired columns\n",
    "new_FC = FC[['genenum', 'age1FC', 'age2FC']]\n"
   ]
  },
  {
   "cell_type": "code",
   "execution_count": null,
   "metadata": {},
   "outputs": [],
   "source": [
    "# Set values below 0.585 in 'age1FC' to 0\n",
    "FC.loc[FC['age1FC'] < 0.585, 'age1FC'] = 0\n",
    "\n",
    "# Add a small positive value to 'age1FC' to prevent all-zero weights\n",
    "FC['age1FC'] += 0.000001\n",
    "\n",
    "# Set values below 0.585 in 'age2FC' to 0\n",
    "FC.loc[FC['age2FC'] < 0.585, 'age2FC'] = 0\n",
    "\n",
    "# Add a small positive value to 'age2FC' to prevent all-zero weights\n",
    "FC['age2FC'] += 0.000001\n"
   ]
  },
  {
   "cell_type": "code",
   "execution_count": null,
   "metadata": {},
   "outputs": [],
   "source": [
    "FC"
   ]
  },
  {
   "cell_type": "code",
   "execution_count": null,
   "metadata": {},
   "outputs": [],
   "source": [
    "# Filter the ageframe DataFrame to include only patients with data from at least 3 brain regions\n",
    "min_regions = 3\n",
    "ageframe = ageframe.loc[:, ageframe.columns[ageframe.count() >= min_regions]]\n"
   ]
  },
  {
   "cell_type": "code",
   "execution_count": null,
   "metadata": {},
   "outputs": [],
   "source": [
    "# Normalization process\n",
    "for gen in genenames:\n",
    "\n",
    "    genedata = ageframe.loc[ageframe['num'] == gen, :]\n",
    "\n",
    "    # Calculate centering for each column, i.e., subtracting the minimum value of each column from its data\n",
    "    center = genedata.iloc[:, 1:].apply(lambda x: x - np.nanmin(x), axis=0)\n",
    "    # Calculate the range (R) for each column, which is the difference between the maximum and minimum values of each column\n",
    "    R = np.nanmax(genedata.iloc[:, 1:], axis=0) - np.nanmin(genedata.iloc[:, 1:], axis=0)\n",
    "    # Normalize the centered data by dividing it by the range of each column\n",
    "    x_star = center / R[np.newaxis, :]\n",
    "\n",
    "    # Further normalize the calculated result, i.e., scale it linearly to the range [1, 4]\n",
    "    genedata.iloc[:, 1:] = x_star * 3 + 1\n",
    "\n",
    "    ageframe.loc[ageframe['num'] == gen, ageframe.columns[1:]] = genedata.iloc[:, 1:]\n",
    "\n",
    "ageframe.reset_index(drop=True, inplace=True)\n"
   ]
  },
  {
   "cell_type": "code",
   "execution_count": null,
   "metadata": {},
   "outputs": [],
   "source": [
    "group = info.copy()\n",
    "group['donor_id'] = group['donor_id'].astype(str).apply(lambda x: \"S\" + x)\n",
    "group = group[group['donor_id'].isin(patient3)].reset_index(drop=True)\n",
    "group['stage'] = group['stage'].apply(lambda x: 'age0' if x == 1 else ('age1' if x == 2 else 'age2'))\n",
    "group = group.loc[:,['donor_id','stage']]\n",
    "group"
   ]
  },
  {
   "cell_type": "code",
   "execution_count": null,
   "metadata": {},
   "outputs": [],
   "source": [
    "# Create a weighted data table based on donor_id and genenames\n",
    "donor_id = group['donor_id'].to_list()\n",
    "\n",
    "# Create a new DataFrame for weighted data\n",
    "FChou = pd.DataFrame(index=genenames, columns=donor_id)\n",
    "FChou\n"
   ]
  },
  {
   "cell_type": "code",
   "execution_count": null,
   "metadata": {},
   "outputs": [],
   "source": [
    "# Start the weighting process\n",
    "for gen in FChou.index:\n",
    "    for m in FChou.columns:\n",
    "        # Get the data for a specific gene and donor\n",
    "        naoqu = ageframe.loc[ageframe['num'] == gen, m]\n",
    "        degree = group[group['donor_id'] == m]['stage'].tolist()[0]\n",
    "\n",
    "        if degree == \"age0\":\n",
    "            # If the degree is \"age0\", calculate the weighted value as the mean of available data\n",
    "            series = naoqu.dropna()\n",
    "            FChou.loc[gen, m] = np.mean(series)\n",
    "\n",
    "        elif degree == \"age1\":\n",
    "            # If the degree is \"age1\", calculate the weighted value using age1FC weights\n",
    "            quanzhong = FC.loc[FC['genenum'] == gen, \"age1FC\"]\n",
    "            quanzhong = quanzhong[(-naoqu.isna()).to_list()]\n",
    "            naoqu = naoqu.dropna()\n",
    "            FChou.loc[gen, m] = np.dot(quanzhong / np.sum(quanzhong), naoqu)\n",
    "\n",
    "        else:\n",
    "            # If the degree is \"age2\", calculate the weighted value using age2FC weights\n",
    "            quanzhong = FC.loc[FC['genenum'] == gen, \"age2FC\"]\n",
    "            quanzhong = quanzhong[(-naoqu.isna()).to_list()]\n",
    "            naoqu = naoqu.dropna()\n",
    "            FChou.loc[gen, m] = np.dot(quanzhong / np.sum(quanzhong), naoqu)\n"
   ]
  },
  {
   "cell_type": "code",
   "execution_count": null,
   "metadata": {},
   "outputs": [],
   "source": [
    "FChou.sum().sum()"
   ]
  },
  {
   "cell_type": "code",
   "execution_count": null,
   "metadata": {},
   "outputs": [],
   "source": [
    "FChou = FChou.astype(float)\n",
    "FChou"
   ]
  },
  {
   "cell_type": "code",
   "execution_count": null,
   "metadata": {},
   "outputs": [],
   "source": [
    "# Encode the 'stage' column in the 'group' DataFrame using one-hot encoding\n",
    "design = pd.get_dummies(group['stage'])\n",
    "design.index = group['donor_id'].tolist()\n"
   ]
  },
  {
   "cell_type": "code",
   "execution_count": null,
   "metadata": {},
   "outputs": [],
   "source": [
    "design"
   ]
  },
  {
   "cell_type": "code",
   "execution_count": null,
   "metadata": {},
   "outputs": [],
   "source": [
    "# age1 - age0\n",
    "# Differential analysis preparation\n",
    "# Create a contrast matrix using the 'limma' package in R\n",
    "limma = importr(\"limma\")\n",
    "contrast_matrix = limma.makeContrasts(\"age1-age0\", levels=design)\n",
    "\n",
    "# Start the analysis - Step 1\n",
    "fit = limma.lmFit(FChou, design)\n",
    "# Step 2\n",
    "fit2 = limma.contrasts_fit(fit, contrast_matrix)\n",
    "fit2 = limma.eBayes(fit2)\n",
    "# Step 3\n",
    "tempOutput = limma.topTable(fit2, adjust=\"fdr\", n=float(\"inf\"))\n",
    "# Remove rows containing missing values\n",
    "nrDEG = tempOutput.dropna()\n",
    "diffsig = nrDEG.copy()\n",
    "\n",
    "# We use |logFC| > 0.585 and padj < 0.05 (adjusted P-value) as thresholds\n",
    "foldChange = 0.585\n",
    "padj = 0.05\n",
    "\n",
    "# Filter out all differentially expressed genes\n",
    "All_diffSig10 = diffsig.loc[(diffsig['P.Value'] < padj) & (\n",
    "        (diffsig['logFC'] > foldChange) | (diffsig['logFC'] < -foldChange))]\n",
    "\n",
    "# Upregulated genes\n",
    "diffup10 = All_diffSig10.loc[(All_diffSig10['P.Value'] < padj)\n",
    "                             & (All_diffSig10['logFC'] > foldChange)]\n",
    "\n",
    "# Downregulated genes\n",
    "diffdown10 = All_diffSig10.loc[(All_diffSig10['P.Value'] < padj) & (\n",
    "        All_diffSig10['logFC'] < -foldChange)]\n"
   ]
  },
  {
   "cell_type": "code",
   "execution_count": null,
   "metadata": {},
   "outputs": [],
   "source": [
    "# age2 - age0\n",
    "# Differential analysis preparation\n",
    "# Create a contrast matrix using the 'limma' package in R\n",
    "limma = importr(\"limma\")\n",
    "contrast_matrix = limma.makeContrasts(\"age2-age0\", levels=design)\n",
    "\n",
    "# Start the analysis - Step 1\n",
    "fit = limma.lmFit(FChou, design)\n",
    "# Step 2\n",
    "fit2 = limma.contrasts_fit(fit, contrast_matrix)\n",
    "fit2 = limma.eBayes(fit2)\n",
    "# Step 3\n",
    "tempOutput = limma.topTable(fit2, adjust=\"fdr\", n=float(\"inf\"))\n",
    "# Remove rows containing missing values\n",
    "nrDEG = tempOutput.dropna()\n",
    "diffsig = nrDEG.copy()\n",
    "\n",
    "# We use |logFC| > 0.585 and padj < 0.05 (adjusted P-value) as thresholds\n",
    "foldChange = 0.585\n",
    "padj = 0.05\n",
    "\n",
    "# Filter out all differentially expressed genes\n",
    "All_diffSig20 = diffsig.loc[(diffsig['P.Value'] < padj) & (\n",
    "    (diffsig['logFC'] > foldChange) | (diffsig['logFC'] < -foldChange))]\n",
    "\n",
    "# Upregulated genes\n",
    "diffup20 = All_diffSig20.loc[(All_diffSig20['P.Value'] < padj)\n",
    "                        & (All_diffSig20['logFC'] > foldChange)]\n",
    "\n",
    "# Downregulated genes\n",
    "diffdown20 = All_diffSig20.loc[(All_diffSig20['P.Value'] < padj) & (\n",
    "    All_diffSig20['logFC'] < -foldChange)]\n"
   ]
  },
  {
   "cell_type": "code",
   "execution_count": null,
   "metadata": {},
   "outputs": [],
   "source": [
    "# age2 - age1\n",
    "# Differential analysis preparation\n",
    "# Create a contrast matrix using the 'limma' package in R\n",
    "limma = importr(\"limma\")\n",
    "contrast_matrix = limma.makeContrasts(\"age2-age1\", levels=design)\n",
    "\n",
    "# Start the analysis - Step 1\n",
    "fit = limma.lmFit(FChou, design)\n",
    "# Step 2\n",
    "fit2 = limma.contrasts_fit(fit, contrast_matrix)\n",
    "fit2 = limma.eBayes(fit2)\n",
    "# Step 3\n",
    "tempOutput = limma.topTable(fit2, adjust=\"fdr\", n=float(\"inf\"))\n",
    "# Remove rows containing missing values\n",
    "nrDEG = tempOutput.dropna()\n",
    "diffsig = nrDEG.copy()\n",
    "\n",
    "# We use |logFC| > 0.585 and padj < 0.05 (adjusted P-value) as thresholds\n",
    "foldChange = 0.585\n",
    "padj = 0.05\n",
    "\n",
    "# Filter out all differentially expressed genes\n",
    "All_diffSig21 = diffsig.loc[(diffsig['P.Value'] < padj) & (\n",
    "    (diffsig['logFC'] > foldChange) | (diffsig['logFC'] < -foldChange))]\n",
    "\n",
    "# Upregulated genes\n",
    "diffup21 = All_diffSig21.loc[(All_diffSig21['P.Value'] < padj)\n",
    "                        & (All_diffSig21['logFC'] > foldChange)]\n",
    "\n",
    "# Downregulated genes\n",
    "diffdown21 = All_diffSig21.loc[(All_diffSig21['P.Value'] < padj) & (\n",
    "    All_diffSig21['logFC'] < -foldChange)]\n"
   ]
  },
  {
   "cell_type": "code",
   "execution_count": null,
   "metadata": {},
   "outputs": [],
   "source": [
    "limma_all = [len(All_diffSig10), len(All_diffSig20), len(All_diffSig21)]\n",
    "limma_up = [len(diffup10), len(diffup20), len(diffup21)]\n",
    "limma_down = [len(diffdown10), len(diffdown20), len(diffdown21)]\n",
    "\n",
    "limma_diff = pd.DataFrame(index=['age1-age0', 'age2-age0', 'age2-age1'])\n",
    "limma_diff['All Differential Genes'] = limma_all\n",
    "limma_diff['Upregulated Genes'] = limma_up\n",
    "limma_diff['Downregulated Genes'] = limma_down\n",
    "limma_diff\n"
   ]
  },
  {
   "cell_type": "code",
   "execution_count": null,
   "metadata": {},
   "outputs": [],
   "source": [
    "limma_all_gene = set(All_diffSig10.index.to_list()).union(All_diffSig20.index.to_list(), All_diffSig21.index.to_list())\n",
    "len(limma_all_gene)"
   ]
  },
  {
   "cell_type": "code",
   "execution_count": null,
   "metadata": {},
   "outputs": [],
   "source": [
    "limma_data = FChou.loc[limma_all_gene,:]\n",
    "limma_data.sort_index(inplace=True)\n",
    "limma_data"
   ]
  },
  {
   "cell_type": "code",
   "execution_count": null,
   "metadata": {},
   "outputs": [],
   "source": [
    "# Density Curve\n",
    "kernel_curve = limma_data.copy()\n",
    "kernel_curve.columns = group['stage']\n",
    "kernel_curve\n"
   ]
  },
  {
   "cell_type": "code",
   "execution_count": null,
   "metadata": {},
   "outputs": [],
   "source": [
    "age0 = []\n",
    "age1 = []\n",
    "age2 = []\n",
    "for i in range(len(group)):\n",
    "    if group['stage'][i] == 'age0':\n",
    "        age0 = age0 + kenerl_curve.iloc[:,i].to_list()\n",
    "    elif group['stage'][i] == 'age1':\n",
    "        age1 = age1 + kenerl_curve.iloc[:,i].to_list()\n",
    "    else:\n",
    "        age2 = age2 + kenerl_curve.iloc[:,i].to_list()"
   ]
  },
  {
   "cell_type": "code",
   "execution_count": null,
   "metadata": {},
   "outputs": [],
   "source": [
    "import seaborn as sns\n",
    "sns.kdeplot(age0,  shade=True)\n",
    "sns.kdeplot(age1,  shade=True)\n",
    "sns.kdeplot(age2,  shade=True)\n",
    "plt.legend(['early','mid','late'])"
   ]
  },
  {
   "cell_type": "markdown",
   "metadata": {},
   "source": [
    "Initialisation Configuration"
   ]
  },
  {
   "cell_type": "code",
   "execution_count": null,
   "metadata": {
    "collapsed": false
   },
   "outputs": [],
   "source": [
    "import pandas as pd\n",
    "import matplotlib.pyplot as plt\n",
    "from rpy2.robjects import pandas2ri\n",
    "from sklearn.cluster import KMeans\n",
    "\n",
    "pandas2ri.activate()\n",
    "\n",
    "plt.rcParams['axes.unicode_minus'] = False\n",
    "\n",
    "import warnings\n",
    "warnings.filterwarnings(\"ignore\")\n",
    "\n",
    "%matplotlib inline"
   ]
  },
  {
   "cell_type": "markdown",
   "metadata": {
    "collapsed": false
   },
   "source": [
    "Standardisation of data"
   ]
  },
  {
   "cell_type": "code",
   "execution_count": null,
   "metadata": {
    "collapsed": false
   },
   "outputs": [],
   "source": [
    "from sklearn. preprocessing import StandardScaler\n",
    "scaler = StandardScaler()\n",
    "scaled_limma = pd.DataFrame(scaler.fit_transform(limma_data), columns= limma_data.columns , index = limma_data.index)\n",
    "\n",
    "scaled_limma"
   ]
  },
  {
   "cell_type": "markdown",
   "metadata": {
    "collapsed": false
   },
   "source": [
    "Downgraded to 2 dimensions using UMAP (downgraded for number of samples, not for number of genes)"
   ]
  },
  {
   "cell_type": "code",
   "execution_count": null,
   "metadata": {
    "collapsed": false
   },
   "outputs": [],
   "source": [
    "import umap.umap_ as umap\n",
    "\n",
    "reducer = umap.UMAP(n_components=2, n_epochs=500,random_state=42,\n",
    "                    metric='euclidean', n_neighbors=30, min_dist=0.1)\n",
    "reduced_data = reducer.fit_transform(scaled_limma)\n",
    "reduced_data"
   ]
  },
  {
   "cell_type": "markdown",
   "metadata": {
    "collapsed": false
   },
   "source": [
    "Exploring the optimal number of clusters"
   ]
  },
  {
   "cell_type": "code",
   "execution_count": null,
   "metadata": {
    "collapsed": false
   },
   "outputs": [],
   "source": [
    "from yellowbrick.cluster import KElbowVisualizer\n",
    "model = KMeans()\n",
    "\n",
    "plt.rc('axes', labelweight='normal')\n",
    "visualizer = KElbowVisualizer(model, k=(2,10), timings=True)\n",
    "visualizer.fit(reduced_data)\n",
    "visualizer.show()"
   ]
  },
  {
   "cell_type": "markdown",
   "metadata": {
    "collapsed": false
   },
   "source": [
    "Clustering of dimensionality reduced data using kmeans"
   ]
  },
  {
   "cell_type": "code",
   "execution_count": null,
   "metadata": {
    "collapsed": false
   },
   "outputs": [],
   "source": [
    "kmeans = KMeans(n_clusters=4, random_state=42)  # Specify the number of clusters\n",
    "clusters = kmeans.fit(reduced_data)\n",
    "# clusters.labels_"
   ]
  },
  {
   "cell_type": "code",
   "execution_count": null,
   "metadata": {
    "collapsed": false
   },
   "outputs": [],
   "source": [
    "import matplotlib.pyplot as plt\n",
    "import numpy as np\n",
    "\n",
    "# Assuming reduced_data is UMAP-embedded data and clusters.labels_ contains cluster assignments\n",
    "\n",
    "# Create a figure for the scatter plot\n",
    "plt.figure(figsize=(10.5, 7))\n",
    "\n",
    "# Get unique cluster labels\n",
    "unique_labels = np.unique(clusters.labels_)\n",
    "\n",
    "# Define a mapping of cluster labels\n",
    "category_colors = {\n",
    "    \"Cluster A\": \"blue\",\n",
    "    \"Cluster B\": \"green\",\n",
    "    \"Cluster C\": \"orange\",\n",
    "    \"Cluster D\": \"red\"\n",
    "}\n",
    "\n",
    "# Initialize a list to store legend handles\n",
    "legend_handles = []\n",
    "categories = ['Cluster A', 'Cluster B', 'Cluster C', 'Cluster D']\n",
    "\n",
    "# Loop through different clusters and assign a unique color and label to each\n",
    "for label in unique_labels:\n",
    "    cluster_points = reduced_data[clusters.labels_ == label]\n",
    "\n",
    "    # Get the corresponding category label\n",
    "    category_label = categories[label]\n",
    "\n",
    "    # Get the color for the category label from the mapping\n",
    "    color = category_colors.get(category_label, 'gray')  # Default to gray if not found\n",
    "\n",
    "    # Plot the cluster points with the assigned color and label\n",
    "    scatter = plt.scatter(cluster_points[:, 0], cluster_points[:, 1], s=10, alpha=0.7, label=f'{category_label}', color=color)\n",
    "\n",
    "    # Append the scatter object to the legend handles\n",
    "    legend_handles.append(scatter)\n",
    "\n",
    "# Set font weight for x and y axis labels\n",
    "plt.rc('axes', labelweight='bold')\n",
    "\n",
    "# Add title and axis labels\n",
    "plt.title('KMeans Clustering Results', fontsize=22)\n",
    "plt.xlabel('UMAP Dimension 1', fontsize=22)\n",
    "plt.ylabel('UMAP Dimension 2', fontsize=22)\n",
    "\n",
    "plt.xticks(fontsize=22)\n",
    "plt.yticks(fontsize=22)\n",
    "\n",
    "# Add legend with increased marker size\n",
    "legend = plt.legend(handles=legend_handles, loc='upper left', fontsize=25, frameon=False)\n",
    "for legend_handle in legend.legendHandles:\n",
    "    legend_handle.set_sizes([150])  # Adjust the size as needed\n",
    "\n",
    "# Save the plot as a PDF file\n",
    "plt.savefig(\"new_3_KMeans.pdf\", format=\"pdf\")\n",
    "\n",
    "# Show the plot\n",
    "plt.show()"
   ]
  },
  {
   "cell_type": "markdown",
   "metadata": {
    "collapsed": false
   },
   "source": [
    "Splicing the results after gene clustering with the original data"
   ]
  },
  {
   "cell_type": "code",
   "execution_count": null,
   "metadata": {
    "collapsed": false
   },
   "outputs": [],
   "source": [
    "cluster_data = scaled_limma.copy()\n",
    "cluster_data['label'] = clusters.labels_\n",
    "cluster_data"
   ]
  },
  {
   "cell_type": "markdown",
   "metadata": {
    "collapsed": false
   },
   "source": [
    "The number of Genes"
   ]
  },
  {
   "cell_type": "code",
   "execution_count": null,
   "metadata": {
    "collapsed": false
   },
   "outputs": [],
   "source": [
    "from collections import Counter\n",
    "\n",
    "element_counts = Counter(cluster_data['label'])\n",
    "\n",
    "# print results\n",
    "for element, count in element_counts.items():\n",
    "    print(f\"{element}: {count} times\")"
   ]
  },
  {
   "cell_type": "markdown",
   "metadata": {
    "collapsed": false
   },
   "source": [
    "Plotting the number of genes on a bar graph"
   ]
  },
  {
   "cell_type": "code",
   "execution_count": null,
   "metadata": {
    "collapsed": false
   },
   "outputs": [],
   "source": [
    "import seaborn as sns\n",
    "import matplotlib.pyplot as plt\n",
    "\n",
    "# Assuming you have a list of categories and corresponding colors\n",
    "category_colors = {\n",
    "    \"Cluster A\": \"blue\",\n",
    "    \"Cluster B\": \"green\",\n",
    "    \"Cluster C\": \"orange\",\n",
    "    \"Cluster D\": \"red\"\n",
    "}\n",
    "\n",
    "# Assuming you have a list of categories and corresponding values\n",
    "categories = [\"Cluster A\", \"Cluster B\", \"Cluster C\", \"Cluster D\"]\n",
    "values = [100, 122, 139, 154]\n",
    "\n",
    "# Create Seaborn style bar plot\n",
    "sns.set(style=\"whitegrid\")\n",
    "\n",
    "# Specify the bar width\n",
    "bar_width = 0.4\n",
    "\n",
    "# Create the bar plot and set the palette based on category_colors\n",
    "plt.figure(figsize=(6, 4))\n",
    "sns.barplot(x=categories, y=values, palette=[category_colors[cat] for cat in categories], ci=None, capsize=0.2, width=bar_width)\n",
    "\n",
    "# Set the font weight for the x and y axis labels\n",
    "plt.rc('axes', labelweight='bold')\n",
    "\n",
    "# Set the labels for x and y axes\n",
    "plt.xlabel(\"Clusters\", fontsize=13)\n",
    "plt.ylabel(\"Number of Genes\",  fontsize=13)\n",
    "\n",
    "plt.xticks(fontsize=12)\n",
    "# , rotation=15\n",
    "plt.yticks(fontsize=12)\n",
    "\n",
    "# Show the plot\n",
    "plt.tight_layout()\n",
    "\n",
    "# Save the plot as a PDF file\n",
    "plt.savefig(\"new_3_numbers.pdf\", format=\"pdf\")\n",
    "\n",
    "# Show the plot\n",
    "plt.show()"
   ]
  },
  {
   "cell_type": "markdown",
   "metadata": {
    "ExecuteTime": {
     "end_time": "2023-09-19T11:23:55.668021Z",
     "start_time": "2023-09-19T11:23:55.665067Z"
    },
    "collapsed": false
   },
   "source": [
    "Extraction of the first principal component for each type of gene"
   ]
  },
  {
   "cell_type": "code",
   "execution_count": null,
   "metadata": {
    "collapsed": false
   },
   "outputs": [],
   "source": [
    "from sklearn.decomposition import PCA\n",
    "\n",
    "cluster_class_data  = pd.DataFrame()\n",
    "for m in range(4):\n",
    "    class_m = cluster_data[cluster_data['label'] == m]\n",
    "    class_m = class_m.iloc[:,:-1].T\n",
    "    # first principal component\n",
    "    pca = PCA(n_components=1)\n",
    "    cluster_class_data = pd.concat([cluster_class_data, pd.DataFrame(pca.fit_transform(class_m)[:,0])], axis=1)\n",
    "\n",
    "\n",
    "cluster_class_data.columns = [\"ClusterA\", \"ClusterB\", \"ClusterC\", \"ClusterD\"]\n",
    "\n",
    "cluster_class_data['fenzu_list'] = cluster_data.columns[:-1]\n",
    "cluster_class_data= pd.merge(cluster_class_data, group, left_on='fenzu_list',right_on='donor_id')\n",
    "\n",
    "cluster_class_data.drop(['fenzu_list','donor_id'], axis=1, inplace=True)\n",
    "cluster_class_data"
   ]
  },
  {
   "cell_type": "markdown",
   "metadata": {
    "ExecuteTime": {
     "end_time": "2023-09-19T11:23:56.929699Z",
     "start_time": "2023-09-19T11:23:56.919542Z"
    },
    "collapsed": false
   },
   "source": [
    "Calculate the variance contribution of the first principal component"
   ]
  },
  {
   "cell_type": "code",
   "execution_count": null,
   "metadata": {
    "collapsed": false
   },
   "outputs": [],
   "source": [
    "for m in range(4):\n",
    "    class_m = cluster_data[cluster_data['label'] == m]\n",
    "    class_m = class_m.iloc[:,:-1].T\n",
    "    # first principal component\n",
    "    pca = PCA()\n",
    "    pca.fit_transform(class_m)\n",
    "    first_principal_component_variance = pca.explained_variance_[0]  # Variance of the first principal component\n",
    "    total_variance = np.sum(pca.explained_variance_)  # total variance\n",
    "    contribution_ratio = first_principal_component_variance / total_variance\n",
    "    print(contribution_ratio)"
   ]
  },
  {
   "cell_type": "markdown",
   "metadata": {
    "collapsed": false
   },
   "source": [
    "Plotting the bar chart of the variance contribution of the first principal component"
   ]
  },
  {
   "cell_type": "code",
   "execution_count": null,
   "metadata": {
    "collapsed": false
   },
   "outputs": [],
   "source": [
    "import seaborn as sns\n",
    "import matplotlib.pyplot as plt\n",
    "\n",
    "# Assuming you have a list of categories and corresponding colors\n",
    "category_colors = {\n",
    "    \"Cluster A\": \"blue\",\n",
    "    \"Cluster B\": \"green\",\n",
    "    \"Cluster C\": \"orange\",\n",
    "    \"Cluster D\": \"red\"\n",
    "}\n",
    "\n",
    "# Assuming you have a list of categories and corresponding values\n",
    "categories = [\"Cluster A\", \"Cluster B\", \"Cluster C\", \"Cluster D\"]\n",
    "values = [0.7400718726954773, 0.3413049259284413, 0.4558431526690638, 0.18759804954098427]\n",
    "\n",
    "# Create Seaborn style bar plot\n",
    "sns.set(style=\"whitegrid\")\n",
    "\n",
    "# Specify the bar width\n",
    "bar_width = 0.4\n",
    "\n",
    "# Create the bar plot and set the palette based on category_colors\n",
    "plt.figure(figsize=(6, 4))\n",
    "sns.barplot(x=categories, y=values, palette=[category_colors[cat] for cat in categories], ci=None, capsize=0.2, width=bar_width)\n",
    "\n",
    "# Set the font weight for the x and y axis labels\n",
    "plt.rc('axes', labelweight='bold')\n",
    "\n",
    "# Set the labels for x and y axes\n",
    "plt.xlabel(\"Clusters\", fontsize=13)\n",
    "plt.ylabel(\"Variance contribution rates\", fontsize=13)\n",
    "\n",
    "plt.xticks(fontsize=12)\n",
    "plt.yticks(fontsize=12)\n",
    "\n",
    "# Show the plot\n",
    "plt.tight_layout()\n",
    "\n",
    "# Save the plot as a PDF file\n",
    "plt.savefig(\"new_3_contribution.pdf\", format=\"pdf\")\n",
    "\n",
    "# Show the plot\n",
    "plt.show()"
   ]
  },
  {
   "cell_type": "markdown",
   "metadata": {
    "ExecuteTime": {
     "end_time": "2023-09-19T11:23:58.082592Z",
     "start_time": "2023-09-19T11:23:58.070954Z"
    },
    "collapsed": false
   },
   "source": [
    "Decision Tree Validation"
   ]
  },
  {
   "cell_type": "code",
   "execution_count": null,
   "metadata": {
    "collapsed": false
   },
   "outputs": [],
   "source": [
    "from sklearn.model_selection import cross_val_score\n",
    "from sklearn.tree import DecisionTreeClassifier\n",
    "\n",
    "from sklearn import tree\n",
    "import graphviz\n",
    "\n",
    "from sklearn.utils import shuffle\n",
    "cluster_class_data = shuffle(cluster_class_data, random_state=42)"
   ]
  },
  {
   "cell_type": "markdown",
   "metadata": {
    "collapsed": false
   },
   "source": [
    "Disrupt the order of the samples 20 times and calculate the average accuracy"
   ]
  },
  {
   "cell_type": "code",
   "execution_count": null,
   "metadata": {
    "collapsed": false
   },
   "outputs": [],
   "source": [
    "e_m_l = []\n",
    "e_m = []\n",
    "e_l = []\n",
    "m_l = []\n",
    "\n",
    "for i in range(20):\n",
    "    cluster_class_data = shuffle(cluster_class_data, random_state=i)\n",
    "\n",
    "    # early, middle and late stage\n",
    "    data1 = cluster_class_data.copy()\n",
    "    CART_tree = DecisionTreeClassifier(criterion='gini', splitter='best', max_depth=2)\n",
    "    temp1 = cross_val_score(CART_tree, data1.drop('stage', axis=1),\n",
    "                            data1['stage'], cv=6,n_jobs=-1).mean()\n",
    "    e_m_l.append(temp1)\n",
    "\n",
    "    # early and middle stage\n",
    "    data2 = cluster_class_data[cluster_class_data['stage'] != 'age2']\n",
    "    CART_tree = DecisionTreeClassifier(criterion='gini', splitter='best', max_depth=1)\n",
    "    temp2 = cross_val_score(CART_tree, data2.drop('stage', axis=1),\n",
    "                            data2['stage'], cv=6,n_jobs=-1).mean()\n",
    "    e_m.append(temp2)\n",
    "\n",
    "    # early and late stage\n",
    "    data3 = cluster_class_data[cluster_class_data['stage'] != 'age1']\n",
    "    CART_tree = DecisionTreeClassifier(criterion='gini', splitter='best', max_depth=1)\n",
    "    temp3 = cross_val_score(CART_tree, data3.drop('stage', axis=1),\n",
    "                            data3['stage'], cv=6,n_jobs=-1).mean()\n",
    "    e_l.append(temp3)\n",
    "\n",
    "    # middle and late stage\n",
    "    data4 = cluster_class_data[cluster_class_data['stage'] != 'age0']\n",
    "    CART_tree = DecisionTreeClassifier(criterion='gini', splitter='best', max_depth=1)\n",
    "    temp4 = cross_val_score(CART_tree, data4.drop('stage', axis=1),\n",
    "                            data4['stage'], cv=6,n_jobs=-1).mean()\n",
    "    m_l.append(temp4)\n",
    "\n",
    "print('early, middle and late stage：', np.mean(e_m_l))\n",
    "print('early and middle stage：', np.mean(e_m))\n",
    "print('early and late stage：', np.mean(e_l))\n",
    "print('middle and late stage：', np.mean(m_l))"
   ]
  },
  {
   "cell_type": "markdown",
   "metadata": {
    "collapsed": false
   },
   "source": [
    "Disrupt the sample order 20 times and calculate the average feature importance"
   ]
  },
  {
   "cell_type": "code",
   "execution_count": null,
   "metadata": {
    "collapsed": false
   },
   "outputs": [],
   "source": [
    "# View the classification features used for each cross-validation\n",
    "from sklearn.model_selection import KFold\n",
    "\n",
    "feature_importances_1 = []\n",
    "feature_importances_2 = []\n",
    "feature_importances_3 = []\n",
    "feature_importances_4 = []\n",
    "\n",
    "for i in range(20):\n",
    "    cluster_class_data = shuffle(cluster_class_data, random_state=i)\n",
    "\n",
    "    # early, middle and late stage---------------------------------------------------------------------------------\n",
    "    data1 = cluster_class_data.copy()\n",
    "\n",
    "    X = data1.drop('stage', axis=1)\n",
    "    y = data1['stage']\n",
    "    clf = DecisionTreeClassifier(criterion='gini', splitter='best', max_depth=2)\n",
    "    cv = KFold(n_splits=6,)\n",
    "\n",
    "    for train_index, test_index in cv.split(X,y):\n",
    "        X_train, X_test = X.iloc[train_index], X.iloc[test_index]\n",
    "        y_train, y_test = y.iloc[train_index], y.iloc[test_index]\n",
    "        clf.fit(X_train, y_train)\n",
    "\n",
    "        importance = clf.feature_importances_\n",
    "        feature_importances_1.append(list(importance))\n",
    "\n",
    "\n",
    "    # early and middle stage---------------------------------------------------------------------------------\n",
    "    data2 = cluster_class_data[cluster_class_data['stage'] != 'age2']\n",
    "\n",
    "    X = data2.drop('stage', axis=1)\n",
    "    y = data2['stage']\n",
    "    clf = DecisionTreeClassifier(criterion='gini', splitter='best', max_depth=1)\n",
    "    cv = KFold(n_splits=6,)\n",
    "\n",
    "    for train_index, test_index in cv.split(X,y):\n",
    "        X_train, X_test = X.iloc[train_index], X.iloc[test_index]\n",
    "        y_train, y_test = y.iloc[train_index], y.iloc[test_index]\n",
    "        clf.fit(X_train, y_train)\n",
    "\n",
    "        importance = clf.feature_importances_\n",
    "        feature_importances_2.append(list(importance))\n",
    "\n",
    "\n",
    "    # early and late stage---------------------------------------------------------------------------------\n",
    "    data3 = cluster_class_data[cluster_class_data['stage'] != 'age1']\n",
    "\n",
    "    X = data3.drop('stage', axis=1)\n",
    "    y = data3['stage']\n",
    "    clf = DecisionTreeClassifier(criterion='gini', splitter='best', max_depth=1)\n",
    "    cv = KFold(n_splits=6,)\n",
    "\n",
    "    for train_index, test_index in cv.split(X,y):\n",
    "        X_train, X_test = X.iloc[train_index], X.iloc[test_index]\n",
    "        y_train, y_test = y.iloc[train_index], y.iloc[test_index]\n",
    "        clf.fit(X_train, y_train)\n",
    "\n",
    "        importance = clf.feature_importances_\n",
    "        feature_importances_3.append(list(importance))\n",
    "\n",
    "\n",
    "    # middle and late stage---------------------------------------------------------------------------------\n",
    "    data4 = cluster_class_data[cluster_class_data['stage'] != 'age0']\n",
    "\n",
    "    X = data4.drop('stage', axis=1)\n",
    "    y = data4['stage']\n",
    "    clf = DecisionTreeClassifier(criterion='gini', splitter='best', max_depth=1)\n",
    "    cv = KFold(n_splits=6,)\n",
    "\n",
    "    for train_index, test_index in cv.split(X,y):\n",
    "        X_train, X_test = X.iloc[train_index], X.iloc[test_index]\n",
    "        y_train, y_test = y.iloc[train_index], y.iloc[test_index]\n",
    "        clf.fit(X_train, y_train)\n",
    "\n",
    "        importance = clf.feature_importances_\n",
    "        feature_importances_4.append(list(importance))\n",
    "\n",
    "\n",
    "\n",
    "# early, middle and late stage---------------------------------------------------------------------------------\n",
    "sums = [0] * len(feature_importances_1[0])\n",
    "for sublist in feature_importances_1:\n",
    "    for i, value in enumerate(sublist):\n",
    "        sums[i] += value\n",
    "num_sublists = len(feature_importances_1)\n",
    "averages = [total / num_sublists for total in sums]\n",
    "print(\"early, middle and late stage：\", averages)\n",
    "\n",
    "\n",
    "# early and middle stage---------------------------------------------------------------------------------\n",
    "sums = [0] * len(feature_importances_2[0])\n",
    "for sublist in feature_importances_2:\n",
    "    for i, value in enumerate(sublist):\n",
    "        sums[i] += value\n",
    "num_sublists = len(feature_importances_2)\n",
    "averages = [total / num_sublists for total in sums]\n",
    "print(\"early and middle stage：\", averages)\n",
    "\n",
    "\n",
    "# early and late stage---------------------------------------------------------------------------------\n",
    "sums = [0] * len(feature_importances_3[0])\n",
    "for sublist in feature_importances_3:\n",
    "    for i, value in enumerate(sublist):\n",
    "        sums[i] += value\n",
    "num_sublists = len(feature_importances_3)\n",
    "averages = [total / num_sublists for total in sums]\n",
    "print(\"early and late stage：\", averages)\n",
    "\n",
    "\n",
    "# middle and late stage---------------------------------------------------------------------------------\n",
    "sums = [0] * len(feature_importances_4[0])\n",
    "for sublist in feature_importances_4:\n",
    "    for i, value in enumerate(sublist):\n",
    "        sums[i] += value\n",
    "num_sublists = len(feature_importances_4)\n",
    "averages = [total / num_sublists for total in sums]\n",
    "print(\"middle and late stage：\", averages)"
   ]
  },
  {
   "cell_type": "markdown",
   "metadata": {
    "ExecuteTime": {
     "end_time": "2023-09-19T12:12:58.688074Z",
     "start_time": "2023-09-19T12:12:58.680698Z"
    },
    "collapsed": false
   },
   "source": [
    "### Early, middle and late decision trees"
   ]
  },
  {
   "cell_type": "code",
   "execution_count": null,
   "metadata": {
    "collapsed": false
   },
   "outputs": [],
   "source": [
    "dt_data_ = cluster_class_data.copy()\n",
    "\n",
    "feature=dt_data_.columns.to_list()[:-1]\n",
    "class_names = dt_data_['stage'].unique()\n",
    "class_names"
   ]
  },
  {
   "cell_type": "code",
   "execution_count": null,
   "metadata": {
    "collapsed": false
   },
   "outputs": [],
   "source": [
    "CART_tree = DecisionTreeClassifier(\n",
    "    criterion='gini', splitter='best', max_depth=2)\n",
    "\n",
    "e_m_l = cross_val_score(CART_tree, dt_data_.drop('stage', axis=1),\n",
    "                        dt_data_['stage'], cv=6,n_jobs=-1).mean()\n",
    "\n",
    "e_m_l"
   ]
  },
  {
   "cell_type": "code",
   "execution_count": null,
   "metadata": {
    "collapsed": false
   },
   "outputs": [],
   "source": [
    "CART_tree = DecisionTreeClassifier(criterion='gini',splitter = 'best',max_depth=2)\n",
    "CART_tree.fit(dt_data_.drop('stage', axis=1), dt_data_['stage'])\n",
    "dot_data = tree.export_graphviz(CART_tree,\n",
    "                                feature_names=feature,\n",
    "                                class_names=[str(k) for k in np.unique(dt_data_['stage'])],\n",
    "                                filled=True,\n",
    "                                rounded=True,\n",
    "                                special_characters=True)\n",
    "graph = graphviz.Source(dot_data)\n",
    "graph"
   ]
  },
  {
   "cell_type": "code",
   "execution_count": null,
   "metadata": {
    "collapsed": false
   },
   "outputs": [],
   "source": [
    "import numpy as np\n",
    "import matplotlib.pyplot as plt\n",
    "from itertools import cycle\n",
    "from sklearn.metrics import roc_curve, auc\n",
    "from sklearn.model_selection import train_test_split\n",
    "from sklearn.preprocessing import label_binarize\n",
    "from sklearn.multiclass import OneVsRestClassifier\n",
    "from scipy import interp\n",
    "\n",
    "X = cluster_class_data.iloc[:, :4]\n",
    "y = cluster_class_data.iloc[:, -1]\n",
    "\n",
    "y = y.replace({'age0': 0, 'age1': 1, 'age2': 2})\n",
    "\n",
    "y_binarized = label_binarize(y, classes=[0, 1, 2])\n",
    "n_classes = y_binarized.shape[1]\n",
    "\n",
    "random_state = np.random.RandomState(0)\n",
    "X_train, X_test, y_train, y_test = train_test_split(X, y_binarized, test_size=.5, random_state=random_state)\n",
    "\n",
    "tree_classifier = DecisionTreeClassifier(random_state=random_state, max_depth=2)\n",
    "\n",
    "# build OneVsRestClassifier\n",
    "classifier = OneVsRestClassifier(tree_classifier)\n",
    "y_score = classifier.fit(X_train, y_train).predict_proba(X_test)\n",
    "\n",
    "# calculate ROC\n",
    "fpr = dict()\n",
    "tpr = dict()\n",
    "roc_auc = dict()\n",
    "for i in range(n_classes):\n",
    "    fpr[i], tpr[i], _ = roc_curve(y_test[:, i], y_score[:, i])\n",
    "    roc_auc[i] = auc(fpr[i], tpr[i])\n",
    "\n",
    "# Compute micro-average ROC curve and ROC area\n",
    "fpr[\"micro\"], tpr[\"micro\"], _ = roc_curve(y_test.ravel(), y_score.ravel())\n",
    "roc_auc[\"micro\"] = auc(fpr[\"micro\"], tpr[\"micro\"])\n",
    "\n",
    "# Compute macro-average ROC curve and ROC area\n",
    "# First aggregate all false positive rates\n",
    "all_fpr = np.unique(np.concatenate([fpr[i] for i in range(n_classes)]))\n",
    "# Then interpolate all ROC curves at this points\n",
    "mean_tpr = np.zeros_like(all_fpr)\n",
    "for i in range(n_classes):\n",
    "    mean_tpr += interp(all_fpr, fpr[i], tpr[i])\n",
    "# Finally average it and compute AUC\n",
    "mean_tpr /= n_classes\n",
    "fpr[\"macro\"] = all_fpr\n",
    "tpr[\"macro\"] = mean_tpr\n",
    "roc_auc[\"macro\"] = auc(fpr[\"macro\"], tpr[\"macro\"])\n",
    "\n",
    "# Plot all ROC curves\n",
    "lw=2\n",
    "plt.figure(figsize=(9, 6))\n",
    "plt.plot(fpr[\"micro\"], tpr[\"micro\"],\n",
    "         label='micro-average ROC curve (area = {0:0.2f})'\n",
    "               ''.format(roc_auc[\"micro\"]),\n",
    "         color='deeppink', linestyle=':', linewidth=4)\n",
    "\n",
    "plt.plot(fpr[\"macro\"], tpr[\"macro\"],\n",
    "         label='macro-average ROC curve (area = {0:0.2f})'\n",
    "               ''.format(roc_auc[\"macro\"]),\n",
    "         color='navy', linestyle=':', linewidth=4)\n",
    "\n",
    "colors = cycle(['aqua', 'darkorange', 'cornflowerblue'])\n",
    "for i, color in zip(range(n_classes), colors):\n",
    "    plt.plot(fpr[i], tpr[i], color=color, lw=lw,\n",
    "             label='ROC curve of AGE{0} (area = {1:0.2f})'\n",
    "             ''.format(i, roc_auc[i]))\n",
    "\n",
    "plt.plot([0, 1], [0, 1], 'k--', lw=lw)\n",
    "plt.xlim([0.0, 1.0])\n",
    "plt.ylim([0.0, 1.05])\n",
    "plt.xlabel('False Positive Rate', fontsize = 24)\n",
    "plt.ylabel('True Positive Rate', fontsize = 24)\n",
    "plt.xticks(fontsize=17)\n",
    "plt.yticks(fontsize=17)\n",
    "# plt.title('Some extension of Receiver operating characteristic to multi-class')\n",
    "plt.legend(loc=\"lower right\", fontsize = 14.5, frameon=False)\n",
    "\n",
    "plt.savefig(\"new_3_emlROC.pdf\", format=\"pdf\", bbox_inches = 'tight')\n",
    "plt.show()"
   ]
  },
  {
   "cell_type": "markdown",
   "metadata": {
    "ExecuteTime": {
     "end_time": "2023-09-19T12:13:04.898108Z",
     "start_time": "2023-09-19T12:13:04.791723Z"
    },
    "collapsed": false
   },
   "source": [
    "### Early and mid-term decision trees"
   ]
  },
  {
   "cell_type": "code",
   "execution_count": null,
   "metadata": {
    "collapsed": false
   },
   "outputs": [],
   "source": [
    "dt_data_ = cluster_class_data[cluster_class_data['stage'] != 'age2']\n",
    "\n",
    "feature=dt_data_.columns.to_list()[:-1]\n",
    "class_names = dt_data_['stage'].unique()\n",
    "class_names"
   ]
  },
  {
   "cell_type": "code",
   "execution_count": null,
   "metadata": {
    "collapsed": false
   },
   "outputs": [],
   "source": [
    "CART_tree = DecisionTreeClassifier(\n",
    "    criterion='gini', splitter='best', max_depth=1)\n",
    "\n",
    "e_m = cross_val_score(CART_tree, dt_data_.drop('stage', axis=1),\n",
    "                      dt_data_['stage'], cv=6,n_jobs=-1).mean()\n",
    "e_m"
   ]
  },
  {
   "cell_type": "code",
   "execution_count": null,
   "metadata": {
    "collapsed": false
   },
   "outputs": [],
   "source": [
    "CART_tree = DecisionTreeClassifier(criterion='gini',splitter = 'best',max_depth=1)\n",
    "CART_tree.fit(dt_data_.drop('stage', axis=1), dt_data_['stage'])\n",
    "dot_data = tree.export_graphviz(CART_tree,\n",
    "                                feature_names=feature,\n",
    "                                class_names=[str(k) for k in np.unique(dt_data_['stage'])],\n",
    "                                filled=True,\n",
    "                                rounded=True,\n",
    "                                special_characters=True)\n",
    "graph = graphviz.Source(dot_data)\n",
    "graph"
   ]
  },
  {
   "cell_type": "code",
   "execution_count": null,
   "metadata": {
    "collapsed": false
   },
   "outputs": [],
   "source": [
    "import numpy as np\n",
    "import matplotlib.pyplot as plt\n",
    "from sklearn.metrics import roc_curve, auc\n",
    "from sklearn.model_selection import train_test_split\n",
    "\n",
    "dt_data_ = cluster_class_data[cluster_class_data['stage'] != 'age2']\n",
    "\n",
    "X = dt_data_.iloc[:, :4]\n",
    "y = dt_data_.iloc[:, -1]\n",
    "\n",
    "y = y.replace({'age0': 0, 'age1': 1})\n",
    "\n",
    "# shuffle and split training and test sets\n",
    "X_train, X_test, y_train, y_test = train_test_split(X, y, test_size=0.2, random_state=42)\n",
    "\n",
    "clf = DecisionTreeClassifier(random_state=42, max_depth=1)\n",
    "clf.fit(X_train, y_train)\n",
    "\n",
    "y_score = clf.predict_proba(X_test)[:, 1]\n",
    "\n",
    "# Compute ROC curve and ROC area for each class\n",
    "fpr, tpr, _ = roc_curve(y_test, y_score, drop_intermediate=True)\n",
    "roc_auc = auc(fpr, tpr)\n",
    "\n",
    "plt.figure()\n",
    "lw = 2\n",
    "plt.figure(figsize=(6.6, 4.4))\n",
    "plt.plot(fpr, tpr, color='darkorange',\n",
    "         lw=lw, label='ROC curve (area = %0.2f)' % roc_auc)\n",
    "plt.plot([0, 1], [0, 1], color='navy', lw=lw, linestyle='--')\n",
    "plt.xlim([0.0, 1.0])\n",
    "plt.ylim([0.0, 1.05])\n",
    "plt.xlabel('False Positive Rate', fontsize = 18)\n",
    "plt.ylabel('True Positive Rate', fontsize = 18)\n",
    "plt.legend(loc=\"lower right\", frameon=False, fontsize = 16)\n",
    "plt.xticks(fontsize=13)\n",
    "plt.yticks(fontsize=13)\n",
    "\n",
    "plt.savefig(\"new_3_emROC.pdf\", format=\"pdf\", bbox_inches = 'tight')\n",
    "\n",
    "plt.show()"
   ]
  },
  {
   "cell_type": "markdown",
   "metadata": {
    "ExecuteTime": {
     "end_time": "2023-09-19T12:13:06.591215Z",
     "start_time": "2023-09-19T12:13:06.523075Z"
    },
    "collapsed": false
   },
   "source": [
    "### Early and Late Decision Trees"
   ]
  },
  {
   "cell_type": "code",
   "execution_count": null,
   "metadata": {
    "collapsed": false
   },
   "outputs": [],
   "source": [
    "dt_data_ = cluster_class_data[cluster_class_data['stage'] != 'age1']\n",
    "\n",
    "feature=dt_data_.columns.to_list()[:-1]\n",
    "class_names = dt_data_['stage'].unique()\n",
    "class_names"
   ]
  },
  {
   "cell_type": "code",
   "execution_count": null,
   "metadata": {
    "collapsed": false
   },
   "outputs": [],
   "source": [
    "CART_tree = DecisionTreeClassifier(\n",
    "    criterion='gini', splitter='best', max_depth=1)\n",
    "\n",
    "e_l = cross_val_score(CART_tree, dt_data_.drop('stage', axis=1),\n",
    "                      dt_data_['stage'], cv=6,n_jobs=-1).mean()\n",
    "e_l"
   ]
  },
  {
   "cell_type": "code",
   "execution_count": null,
   "metadata": {
    "collapsed": false
   },
   "outputs": [],
   "source": [
    "CART_tree = DecisionTreeClassifier(criterion='gini',splitter = 'best',max_depth=1)\n",
    "CART_tree.fit(dt_data_.drop('stage', axis=1), dt_data_['stage'])\n",
    "dot_data = tree.export_graphviz(CART_tree,\n",
    "                                feature_names=feature,\n",
    "                                class_names=[str(k) for k in np.unique(dt_data_['stage'])],\n",
    "                                filled=True,\n",
    "                                rounded=True,\n",
    "                                special_characters=True)\n",
    "graph = graphviz.Source(dot_data)\n",
    "graph"
   ]
  },
  {
   "cell_type": "code",
   "execution_count": null,
   "metadata": {
    "collapsed": false
   },
   "outputs": [],
   "source": [
    "import numpy as np\n",
    "import matplotlib.pyplot as plt\n",
    "from sklearn.metrics import roc_curve, auc\n",
    "from sklearn.model_selection import train_test_split\n",
    "\n",
    "dt_data_ = cluster_class_data[cluster_class_data['stage'] != 'age1']\n",
    "\n",
    "X = dt_data_.iloc[:, :4]\n",
    "y = dt_data_.iloc[:, -1]\n",
    "\n",
    "y = y.replace({'age0': 0, 'age2': 1})\n",
    "\n",
    "# shuffle and split training and test sets\n",
    "X_train, X_test, y_train, y_test = train_test_split(X, y, test_size=0.2, random_state=42)\n",
    "\n",
    "clf = DecisionTreeClassifier(random_state=42, max_depth=1)\n",
    "clf.fit(X_train, y_train)\n",
    "\n",
    "y_score = clf.predict_proba(X_test)[:, 1]\n",
    "\n",
    "# Compute ROC curve and ROC area for each class\n",
    "fpr, tpr, _ = roc_curve(y_test, y_score)\n",
    "roc_auc = auc(fpr, tpr)\n",
    "\n",
    "plt.figure()\n",
    "lw = 2\n",
    "plt.figure(figsize=(6.6, 4.4))\n",
    "plt.plot(fpr, tpr, color='darkorange',\n",
    "         lw=lw, label='ROC curve (area = %0.2f)' % roc_auc)\n",
    "plt.plot([0, 1], [0, 1], color='navy', lw=lw, linestyle='--')\n",
    "plt.xlim([0.0, 1.0])\n",
    "plt.ylim([0.0, 1.05])\n",
    "plt.xlabel('False Positive Rate', fontsize = 18)\n",
    "plt.ylabel('True Positive Rate', fontsize = 18)\n",
    "plt.legend(loc=\"lower right\", frameon=False, fontsize = 16)\n",
    "plt.xticks(fontsize=13)\n",
    "plt.yticks(fontsize=13)\n",
    "\n",
    "plt.savefig(\"new_3_elROC.pdf\", format=\"pdf\", bbox_inches = 'tight')\n",
    "\n",
    "plt.show()"
   ]
  },
  {
   "cell_type": "markdown",
   "metadata": {
    "ExecuteTime": {
     "end_time": "2023-09-19T12:13:08.319915Z",
     "start_time": "2023-09-19T12:13:08.249449Z"
    },
    "collapsed": false
   },
   "source": [
    "### Middle and Late Decision Trees"
   ]
  },
  {
   "cell_type": "code",
   "execution_count": null,
   "metadata": {
    "collapsed": false
   },
   "outputs": [],
   "source": [
    "dt_data_ = cluster_class_data[cluster_class_data['stage'] != 'age0']\n",
    "\n",
    "feature=dt_data_.columns.to_list()[:-1]\n",
    "class_names = dt_data_['stage'].unique()\n",
    "class_names"
   ]
  },
  {
   "cell_type": "code",
   "execution_count": null,
   "metadata": {
    "collapsed": false
   },
   "outputs": [],
   "source": [
    "CART_tree = DecisionTreeClassifier(\n",
    "    criterion='gini', splitter='best', max_depth=1)\n",
    "\n",
    "m_l = cross_val_score(CART_tree, dt_data_.drop('stage', axis=1),\n",
    "                      dt_data_['stage'], cv=6,n_jobs=-1).mean()\n",
    "m_l"
   ]
  },
  {
   "cell_type": "code",
   "execution_count": null,
   "metadata": {
    "collapsed": false
   },
   "outputs": [],
   "source": [
    "CART_tree = DecisionTreeClassifier(criterion='gini',splitter = 'best',max_depth=1)\n",
    "CART_tree.fit(dt_data_.drop('stage', axis=1), dt_data_['stage'])\n",
    "dot_data = tree.export_graphviz(CART_tree,\n",
    "                                feature_names=feature,\n",
    "                                class_names=[str(k) for k in np.unique(dt_data_['stage'])],\n",
    "                                filled=True,\n",
    "                                rounded=True,\n",
    "                                special_characters=True)\n",
    "graph = graphviz.Source(dot_data)\n",
    "graph"
   ]
  },
  {
   "cell_type": "code",
   "execution_count": null,
   "metadata": {
    "collapsed": false
   },
   "outputs": [],
   "source": [
    "import matplotlib.pyplot as plt\n",
    "from sklearn.metrics import roc_curve, auc\n",
    "from sklearn.model_selection import train_test_split\n",
    "\n",
    "dt_data_ = cluster_class_data[cluster_class_data['stage'] != 'age0']\n",
    "\n",
    "X = dt_data_.iloc[:, :4]\n",
    "y = dt_data_.iloc[:, -1]\n",
    "\n",
    "y = y.replace({'age1': 0, 'age2': 1})\n",
    "\n",
    "# shuffle and split training and test sets\n",
    "X_train, X_test, y_train, y_test = train_test_split(X, y, test_size=0.2, random_state=42)\n",
    "\n",
    "clf = DecisionTreeClassifier(random_state=42, max_depth=1)\n",
    "clf.fit(X_train, y_train)\n",
    "\n",
    "y_score = clf.predict_proba(X_test)[:, 1]\n",
    "\n",
    "# Compute ROC curve and ROC area for each class\n",
    "fpr, tpr, _ = roc_curve(y_test, y_score)\n",
    "roc_auc = auc(fpr, tpr)\n",
    "\n",
    "plt.figure()\n",
    "lw = 2\n",
    "plt.figure(figsize=(6.6, 4.4))\n",
    "plt.plot(fpr, tpr, color='darkorange',\n",
    "         lw=lw, label='ROC curve (area = %0.2f)' % roc_auc)\n",
    "plt.plot([0, 1], [0, 1], color='navy', lw=lw, linestyle='--')\n",
    "plt.xlim([0.0, 1.0])\n",
    "plt.ylim([0.0, 1.05])\n",
    "plt.xlabel('False Positive Rate', fontsize = 18)\n",
    "plt.ylabel('True Positive Rate', fontsize = 18)\n",
    "plt.legend(loc=\"lower right\", frameon=False, fontsize = 16)\n",
    "plt.xticks(fontsize=13)\n",
    "plt.yticks(fontsize=13)\n",
    "\n",
    "plt.savefig(\"new_3_mlROC.pdf\", format=\"pdf\", bbox_inches = 'tight')\n",
    "\n",
    "plt.show()"
   ]
  },
  {
   "cell_type": "code",
   "execution_count": null,
   "metadata": {
    "collapsed": false
   },
   "outputs": [],
   "source": [
    "print('e_m_l：', e_m_l)\n",
    "print('e_m：', e_m)\n",
    "print('e_l：', e_l)\n",
    "print('m_l：', m_l)"
   ]
  }
 ],
 "metadata": {
  "kernelspec": {
   "display_name": "Python 3",
   "language": "python",
   "name": "python3"
  },
  "language_info": {
   "codemirror_mode": {
    "name": "ipython",
    "version": 2
   },
   "file_extension": ".py",
   "mimetype": "text/x-python",
   "name": "python",
   "nbconvert_exporter": "python",
   "pygments_lexer": "ipython2",
   "version": "2.7.6"
  }
 },
 "nbformat": 4,
 "nbformat_minor": 0
}
