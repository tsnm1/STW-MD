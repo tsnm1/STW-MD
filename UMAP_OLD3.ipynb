{
 "cells": [
  {
   "cell_type": "code",
   "execution_count": null,
   "metadata": {
    "is_executing": true
   },
   "outputs": [],
   "source": [
    "import numpy as np\n",
    "import pandas as pd\n",
    "from scipy import stats\n",
    "import os\n",
    "import matplotlib.pyplot as plt\n",
    "\n",
    "import rpy2\n",
    "# from rpy2.robjects import r\n",
    "from rpy2.robjects.packages import importr\n",
    "from rpy2.robjects import pandas2ri\n",
    "pandas2ri.activate()\n",
    "\n",
    "plt.rcParams['font.family'] = 'SimHei'\n",
    "plt.rcParams['axes.unicode_minus'] = False\n",
    "\n",
    "import warnings\n",
    "warnings.filterwarnings(\"ignore\")\n",
    "\n",
    "%matplotlib inline\n"
   ]
  },
  {
   "cell_type": "code",
   "execution_count": null,
   "metadata": {},
   "outputs": [],
   "source": [
    "info = pd.read_csv('D:/braindata/AMP-AD_MSBB_MSSM_covariates_mRNA_AffymetrixU133AB.tsv', sep='\\t')\n",
    "info"
   ]
  },
  {
   "cell_type": "code",
   "execution_count": null,
   "metadata": {},
   "outputs": [],
   "source": [
    "stage = info.groupby(by='CDR').count().reset_index()\n",
    "stage['stage'] = ('CDR' + stage['CDR'].astype(str))\n",
    "stage"
   ]
  },
  {
   "cell_type": "code",
   "execution_count": null,
   "metadata": {},
   "outputs": [],
   "source": [
    "import matplotlib.pyplot as plt\n",
    "\n",
    "plt.figure(figsize=(6, 4))\n",
    "plt.bar(stage['stage'], stage['BrainBank'], width=0.3, color='tan')  # , color='tan'\n",
    "for i in range(len(stage)):\n",
    "    plt.text(stage['stage'][i], stage['BrainBank'][i] + 0.1, stage['BrainBank'][i], ha='center', va='bottom')\n",
    "plt.ylim((0, 25))\n",
    "plt.ylabel('Number of Individuals')\n",
    "\n",
    "ax = plt.gca()  # Get the axis\n",
    "ax.spines['top'].set_visible(False)\n",
    "ax.spines['right'].set_visible(False)\n",
    "# ax.axis.grid(color='lightgray', linewidth=0.5, alpha=0.8)\n"
   ]
  },
  {
   "cell_type": "code",
   "execution_count": null,
   "metadata": {},
   "outputs": [],
   "source": [
    "micepath = 'D:/'\n",
    "micefiles = os.listdir('D:')\n",
    "\n",
    "AllFC = pd.DataFrame()\n"
   ]
  },
  {
   "cell_type": "code",
   "execution_count": null,
   "metadata": {},
   "outputs": [],
   "source": [
    "CDR10 = []\n",
    "CDR20 = []\n",
    "CDR21 = []\n",
    "\n",
    "up_gene10 = []\n",
    "down_gene10 = []\n",
    "up_gene20 = []\n",
    "down_gene20 = []\n",
    "\n",
    "CDRAll = set()\n",
    "gene_num = []\n",
    "patients = []\n",
    "\n",
    "dif_gene = pd.DataFrame()\n",
    "dif_gene['Num'] = range(1, 20)\n",
    "dif_gene['Region'] = 'Region' + dif_gene['Num'].astype(str)\n",
    "\n",
    "# Record the number of differential genes in each region (excluding duplicates in the three-stage comparison)\n",
    "dif_gene['dif_gene_num'] = np.nan\n",
    "\n",
    "# Record the number of differential genes in the three-stage comparison\n",
    "dif_gene['CDR1VSCDR0'] = np.nan\n",
    "dif_gene['CDR2VSCDR0'] = np.nan\n",
    "dif_gene['CDR2VSCDR1'] = np.nan\n",
    "\n",
    "# Record the number of upregulated genes and downregulated genes in each region (Mid-stage VS Early stage 10, Late-stage VS Early stage 20)\n",
    "dif_gene['up_gene10'] = np.nan\n",
    "dif_gene['down_gene10'] = np.nan\n",
    "dif_gene['up_gene20'] = np.nan\n",
    "dif_gene['down_gene20'] = np.nan\n"
   ]
  },
  {
   "cell_type": "code",
   "execution_count": null,
   "metadata": {},
   "outputs": [],
   "source": [
    "CDRframe = pd.read_csv(micepath+micefiles[0])\n",
    "CDRframe.dropna(inplace=True)\n",
    "conmon_gene = CDRframe['genename'].to_list()\n",
    "len(conmon_gene)"
   ]
  },
  {
   "cell_type": "code",
   "execution_count": null,
   "metadata": {},
   "outputs": [],
   "source": [
    "for i in range(len(micefiles)):\n",
    "    data = pd.read_csv(micepath+micefiles[i])\n",
    "    data.dropna(inplace=True)\n",
    "    genename = data['genename'].to_list()\n",
    "\n",
    "    conmon_gene = [i for i in conmon_gene if i in genename]\n",
    "len(conmon_gene)\n",
    "# pd.DataFrame(conmon_gene,columns=['genename']).to_csv('conmon_gene_18431.csv',index=False)"
   ]
  },
  {
   "cell_type": "code",
   "execution_count": null,
   "metadata": {},
   "outputs": [],
   "source": [
    "CDR10 = []\n",
    "CDR20 = []\n",
    "CDR21 = []\n",
    "\n",
    "up_gene10 = []\n",
    "down_gene10 = []\n",
    "up_gene20 = []\n",
    "down_gene20 = []\n",
    "\n",
    "CDRAll = set()\n",
    "gene_num = []\n",
    "patients = []\n",
    "\n",
    "dif_gene = pd.DataFrame()\n",
    "dif_gene['Num'] = range(1, len(micefiles) + 1)\n",
    "dif_gene['Region'] = 'Region' + dif_gene['Num'].astype(str)\n",
    "\n",
    "# Record the number of times each patient appears\n",
    "for i in range(len(micefiles)):\n",
    "    data = pd.read_csv(micepath + micefiles[i])\n",
    "    data = data[data['genename'].isin(conmon_gene)]\n",
    "\n",
    "    patients += data.columns[2:].tolist()\n",
    "\n",
    "    # Match the CDR values in the 'info' dataframe with the 'class' values in 'fenzu'\n",
    "    fenzu = info.copy()\n",
    "    fenzu['BrainBank'] = fenzu['BrainBank'].astype(str).apply(lambda x: \"X\" + x)\n",
    "    fenzu = fenzu[fenzu['BrainBank'].isin(data.columns[2:])].reset_index(drop=True)\n",
    "    fenzu['CDR'] = fenzu['CDR'].apply(lambda x: 'CDR0' if x < 1 else ('CDR1' if x <= 2 else 'CDR2'))\n",
    "    fenzu = fenzu.loc[:, ['BrainBank', 'CDR']]\n",
    "    fenzu = fenzu.rename(columns={'BrainBank': 'list', 'CDR': 'class'})\n",
    "\n",
    "    # One-hot encode the 'class' values in 'fenzu'\n",
    "    design = pd.get_dummies(fenzu['class'])\n",
    "    design.index = fenzu['list'].tolist()\n",
    "\n",
    "    data.dropna(inplace=True)\n",
    "\n",
    "    # Save the column names (gene names)\n",
    "    lieming1 = data['genename'].tolist()\n",
    "    # Remove the first two columns, leaving only the gene features\n",
    "    data = data.iloc[:, 2:]\n",
    "    # Set the row index of 'data' to be the gene names\n",
    "    data.index = lieming1\n",
    "\n",
    "    # CDR1-CDR0\n",
    "    # Prepare data for limma differential analysis\n",
    "    # Create a contrast matrix using the 'limma' package in R\n",
    "    limma = importr(\"limma\")\n",
    "    contrast_matrix = limma.makeContrasts(\"CDR1-CDR0\", levels=design)\n",
    "\n",
    "    # Start the analysis - step 1\n",
    "    fit = limma.lmFit(data, design)\n",
    "    # Step 2\n",
    "    fit2 = limma.contrasts_fit(fit, contrast_matrix)\n",
    "    fit2 = limma.eBayes(fit2)\n",
    "    # Step 3\n",
    "    tempOutput = limma.topTable(fit2, adjust=\"fdr\", n=float(\"inf\"))\n",
    "    # Remove rows with missing values\n",
    "    nrDEG = tempOutput.dropna()\n",
    "    diffsig = nrDEG.copy()\n",
    "\n",
    "    # Use criteria: |logFC| > 0.585 and padj < 0.05 (adjusted P-value)\n",
    "    foldChange = 0.585\n",
    "    padj = 0.05\n",
    "    # Filter for all differential genes based on the criteria\n",
    "    All_diffSig = diffsig.loc[(diffsig['P.Value'] < padj) & (\n",
    "        (diffsig['logFC'] > foldChange) | (diffsig['logFC'] < -foldChange))]\n",
    "\n",
    "    # Upregulated genes\n",
    "    diffup = All_diffSig.loc[(All_diffSig['P.Value'] < padj)\n",
    "                            & (All_diffSig['logFC'] > foldChange)]\n",
    "\n",
    "    # Downregulated genes\n",
    "    diffdown = All_diffSig.loc[(All_diffSig['P.Value'] < padj) & (\n",
    "        All_diffSig['logFC'] < -foldChange)]\n",
    "\n",
    "    CDR10.append(len(All_diffSig))\n",
    "    CDR1CDR0 = All_diffSig.index.tolist()\n",
    "\n",
    "    up_gene10.append(len(diffup))\n",
    "    down_gene10.append(len(diffdown))\n",
    "\n",
    "    # CDR2-CDR0\n",
    "    # Prepare data for limma differential analysis\n",
    "    # Create a contrast matrix using the 'limma' package in R\n",
    "    limma = importr(\"limma\")\n",
    "    contrast_matrix = limma.makeContrasts(\"CDR2-CDR0\", levels=design)\n",
    "\n",
    "    # Start the analysis - step 1\n",
    "    fit = limma.lmFit(data, design)\n",
    "    # Step 2\n",
    "    fit2 = limma.contrasts_fit(fit, contrast_matrix)\n",
    "    fit2 = limma.eBayes(fit2)\n",
    "    # Step 3\n",
    "    tempOutput = limma.topTable(fit2, adjust=\"fdr\", n=float(\"inf\"))\n",
    "    # Remove rows with missing values\n",
    "    nrDEG = tempOutput.dropna()\n",
    "    diffsig = nrDEG.copy()\n",
    "\n",
    "    # Use criteria: |logFC| > 0.585 and padj < 0.05 (adjusted P-value)\n",
    "    foldChange = 0.585\n",
    "    padj = 0.05\n",
    "    # Filter for all differential genes based on the criteria\n",
    "    All_diffSig = diffsig.loc[(diffsig['P.Value'] < padj) & (\n",
    "        (diffsig['logFC'] > foldChange) | (diffsig['logFC'] < -foldChange))]\n",
    "\n",
    "    # Upregulated genes\n",
    "    diffup = All_diffSig.loc[(All_diffSig['P.Value'] < padj)\n",
    "                            & (All_diffSig['logFC'] > foldChange)]\n",
    "\n",
    "    # Downregulated genes\n",
    "    diffdown = All_diffSig.loc[(All_diffSig['P.Value'] < padj) & (\n",
    "        All_diffSig['logFC'] < -foldChange)]\n",
    "\n",
    "    CDR20.append(len(All_diffSig))\n",
    "    CDR2CDR0 = All_diffSig.index.tolist()\n",
    "\n",
    "    up_gene20.append(len(diffup))\n",
    "    down_gene20.append(len(diffdown))\n",
    "\n",
    "    # CDR2-CDR1\n",
    "    # Prepare data for limma differential analysis\n",
    "    # Create a contrast matrix using the 'limma' package in R\n",
    "    limma = importr(\"limma\")\n",
    "    contrast_matrix = limma.makeContrasts(\"CDR2-CDR1\", levels=design)\n",
    "\n",
    "    # Start the analysis - step 1\n",
    "    fit = limma.lmFit(data, design)\n",
    "    # Step 2\n",
    "    fit2 = limma.contrasts_fit(fit, contrast_matrix)\n",
    "    fit2 = limma.eBayes(fit2)\n",
    "    # Step 3\n",
    "    tempOutput = limma.topTable(fit2, adjust=\"fdr\", n=float(\"inf\"))\n",
    "    # Remove rows with missing values\n",
    "    nrDEG = tempOutput.dropna()\n",
    "    diffsig = nrDEG.copy()\n",
    "\n",
    "    # Use criteria: |logFC| > 0.585 and padj < 0.05 (adjusted P-value)\n",
    "    foldChange = 0.585\n",
    "    padj = 0.05\n",
    "    # Filter for all differential genes based on the criteria\n",
    "    All_diffSig = diffsig.loc[(diffsig['P.Value'] < padj) & (\n",
    "        (diffsig['logFC'] > foldChange) | (diffsig['logFC'] < -foldChange))]\n",
    "\n",
    "    # Upregulated genes\n",
    "    diffup = All_diffSig.loc[(All_diffSig['P.Value'] < padj)\n",
    "                            & (All_diffSig['logFC'] > foldChange)]\n",
    "\n",
    "    # Downregulated genes\n",
    "    diffdown = All_diffSig.loc[(All_diffSig['P.Value'] < padj) & (\n",
    "        All_diffSig['logFC'] < -foldChange)]\n",
    "\n",
    "    CDR21.append(len(All_diffSig))\n",
    "    CDR2CDR1 = All_diffSig.index.tolist()\n",
    "\n",
    "    # Find the union of differential genes\n",
    "    dif_gene_ = set(CDR1CDR0).union(CDR2CDR0, CDR2CDR1)\n",
    "    gene_num.append(len(dif_gene_))\n",
    "    CDRAll = CDRAll | dif_gene_  #1014\n"
   ]
  },
  {
   "cell_type": "code",
   "execution_count": null,
   "metadata": {},
   "outputs": [],
   "source": [
    "gene_num\n",
    "len(CDRAll)"
   ]
  },
  {
   "cell_type": "code",
   "execution_count": null,
   "metadata": {},
   "outputs": [],
   "source": [
    "dif_gene['dif_gene_num'] = gene_num\n",
    "dif_gene['CDR1VSCDR0'] =CDR10\n",
    "dif_gene['CDR2VSCDR0'] =CDR20\n",
    "dif_gene['CDR2VSCDR1'] =CDR21\n",
    "\n",
    "dif_gene['up_gene10'] = up_gene10\n",
    "dif_gene['down_gene10'] = down_gene10\n",
    "dif_gene['up_gene20'] = up_gene20\n",
    "dif_gene['down_gene20'] = down_gene20\n",
    "dif_gene\n"
   ]
  },
  {
   "cell_type": "code",
   "execution_count": null,
   "metadata": {},
   "outputs": [],
   "source": [
    "# Plot for dif_gene_num\n",
    "plt.figure(figsize=(10, 6))\n",
    "plt.bar(dif_gene['Region'], dif_gene['dif_gene_num'], width=0.3, color='tan') # , color='tan'\n",
    "for i in range(len(dif_gene)):\n",
    "    plt.text(dif_gene['Region'][i], dif_gene['dif_gene_num'][i]+2, dif_gene['dif_gene_num'][i], ha='center', va='bottom')\n",
    "# plt.ylim((0, 25))\n",
    "plt.ylabel('Number of Differential Genes')\n",
    "plt.xticks(rotation=45)\n",
    "\n",
    "ax = plt.gca()  # Get the axis\n",
    "ax.spines['top'].set_visible(False)\n",
    "ax.spines['right'].set_visible(False)\n",
    "# ax.axis.grid(color='lightgray',linewidth=0.5,alpha=0.8)\n"
   ]
  },
  {
   "cell_type": "code",
   "execution_count": null,
   "metadata": {},
   "outputs": [],
   "source": [
    "up_down_gene = pd.DataFrame({'Mid-term Group': [dif_gene['up_gene10'].sum(), dif_gene['down_gene10'].sum()], \n",
    "              'Late-term Group': [dif_gene['up_gene20'].sum(),dif_gene['down_gene20'].sum()]}, index=['Upregulated Genes','Downregulated Genes'])\n",
    "up_down_gene\n"
   ]
  },
  {
   "cell_type": "code",
   "execution_count": null,
   "metadata": {},
   "outputs": [],
   "source": [
    "x = np.arange(2)\n",
    "width = 0.3\n",
    "fig, ax = plt.subplots()\n",
    "rects1 = ax.bar(x - width/2, up_down_gene['Mid-term Group'], width, label='Mid-term Group', color='tan')\n",
    "rects2 = ax.bar(x + width/2, up_down_gene['Late-term Group'], width, label='Late-term Group', color='steelblue')\n",
    "ax.set_ylabel('Significant Genes Count (Count)')\n",
    "ax.set_xticks(x)\n",
    "ax.set_xticklabels(['Upregulated Genes', 'Downregulated Genes'])\n",
    "ax.legend()\n",
    "\n",
    "# Adding numbers as text labels\n",
    "def autolabel(rects):\n",
    "    for rect in rects:\n",
    "        height = rect.get_height()\n",
    "        ax.annotate('{}'.format(height),\n",
    "                    xy=(rect.get_x() + rect.get_width() / 2, height),\n",
    "                    xytext=(0, 3),  # Vertical text offset\n",
    "                    textcoords=\"offset points\",\n",
    "                    ha='center', va='bottom')\n",
    "\n",
    "autolabel(rects1)\n",
    "autolabel(rects2)\n"
   ]
  },
  {
   "cell_type": "code",
   "execution_count": null,
   "metadata": {},
   "outputs": [],
   "source": [
    "# Creating an empty list to store the names of differentially expressed genes\n",
    "genenames = []\n",
    "\n",
    "# Iterating through the set CDRAll, which contains the union of differentially expressed genes\n",
    "for g_name in CDRAll:\n",
    "    genenames.append(g_name)\n",
    "\n",
    "# Sorting the gene names in alphabetical order\n",
    "genenames = sorted(genenames)\n",
    "\n",
    "# Determining the total number of unique genes in the list\n",
    "total_unique_genes = len(genenames)\n"
   ]
  },
  {
   "cell_type": "code",
   "execution_count": null,
   "metadata": {},
   "outputs": [],
   "source": [
    "# pd.DataFrame(genenames,columns=['genename']).to_csv('genenames_1014.csv',index=False)"
   ]
  },
  {
   "cell_type": "markdown",
   "metadata": {},
   "source": [
    "19 Region"
   ]
  },
  {
   "cell_type": "code",
   "execution_count": null,
   "metadata": {},
   "outputs": [],
   "source": [
    "CDRframe = CDRframe[CDRframe['genename'].isin(conmon_gene)]\n",
    "CDRframe['genenum'] = 1\n",
    "\n",
    "for i in range(1,19):\n",
    "    data = pd.read_csv(micepath+micefiles[i])\n",
    "    data = data[data['genename'].isin(conmon_gene)]\n",
    "    data['genenum'] = i+1\n",
    "\n",
    "    CDRframe = pd.concat([CDRframe, data], join='outer', ignore_index=True)\n",
    "\n",
    "CDRframe.sort_values(by=['genename','genenum'], inplace=True)\n",
    "CDRframe.reset_index(drop=True,inplace=True)\n",
    "CDRframe"
   ]
  },
  {
   "cell_type": "code",
   "execution_count": null,
   "metadata": {},
   "outputs": [],
   "source": [
    "# CDRframe.to_csv('CDRframe.csv',index=False)"
   ]
  },
  {
   "cell_type": "code",
   "execution_count": null,
   "metadata": {},
   "outputs": [],
   "source": [
    "# Counting the occurrences of each patient's data in the 'patients' list\n",
    "patient_counts = pd.value_counts(patients)\n",
    "\n",
    "# Creating a DataFrame to store the patient and their corresponding data occurrence counts\n",
    "patients_times = pd.DataFrame(patient_counts)\n",
    "\n",
    "# Resetting the index of the DataFrame to have a 'patient' column\n",
    "patients_times.reset_index(inplace=True)\n",
    "\n",
    "# Renaming the columns of the DataFrame to 'patient' and 'times'\n",
    "patients_times.columns = ['patient', 'times']\n"
   ]
  },
  {
   "cell_type": "code",
   "execution_count": null,
   "metadata": {},
   "outputs": [],
   "source": [
    "# Filtering patients with data from at least 3 brain regions\n",
    "patient3 = patients_times[patients_times['times'] >= 3]['patient'].to_list()\n",
    "\n",
    "# Sorting the patient identifiers\n",
    "patient3 = sorted(patient3)\n",
    "\n",
    "# Getting the count of such patients\n",
    "num_patient3 = len(patient3)"
   ]
  },
  {
   "cell_type": "code",
   "execution_count": null,
   "metadata": {},
   "outputs": [],
   "source": [
    "patient3.insert(0,'genename')\n",
    "patient3.insert(1,'genenum')"
   ]
  },
  {
   "cell_type": "code",
   "execution_count": null,
   "metadata": {},
   "outputs": [],
   "source": [
    "# pd.DataFrame(patient3,columns=['patient']).to_csv('patient3.csv',index=False)"
   ]
  },
  {
   "cell_type": "markdown",
   "metadata": {},
   "source": [
    "FC"
   ]
  },
  {
   "cell_type": "code",
   "execution_count": null,
   "metadata": {},
   "outputs": [],
   "source": [
    "CDR10_FC = pd.DataFrame()\n",
    "CDR20_FC = pd.DataFrame()\n",
    "CDR21_FC = pd.DataFrame()\n",
    "\n",
    "for m in range(len(micefiles)):\n",
    "    # Read data from a CSV file\n",
    "    data = pd.read_csv(micepath + micefiles[m])\n",
    "    # Filter data based on common genes\n",
    "    data = data[data['genename'].isin(common_gene)]\n",
    "\n",
    "    # Extract the list of patients\n",
    "    patient_list = data.columns[2:]\n",
    "\n",
    "    # Map CDR values from 'info' to 'fenzu' class\n",
    "    fenzu = info.copy()\n",
    "    fenzu['BrainBank'] = fenzu['BrainBank'].astype(str).apply(lambda x: \"X\" + x)\n",
    "    fenzu = fenzu[fenzu['BrainBank'].isin(patient_list)].reset_index(drop=True)\n",
    "    fenzu['CDR'] = fenzu['CDR'].apply(lambda x: 'CDR0' if x < 1 else ('CDR1' if x <= 2 else 'CDR2'))\n",
    "    fenzu = fenzu.loc[:, ['BrainBank', 'CDR']]\n",
    "    fenzu = fenzu.rename(columns={'BrainBank': 'list', 'CDR': 'class'})\n",
    "\n",
    "    # Encode the 'class' column as one-hot vectors\n",
    "    design = pd.get_dummies(fenzu['class'])\n",
    "    design.index = fenzu['list'].tolist()\n",
    "\n",
    "    # Drop rows with missing values in the data\n",
    "    data.dropna(inplace=True)\n",
    "\n",
    "    # Store the gene names in 'lieming1'\n",
    "    lieming1 = data['genename'].tolist()\n",
    "    \n",
    "    # Remove the first two columns (gene identifier and description)\n",
    "    data = data.iloc[:, 2:]\n",
    "\n",
    "    # Set the row index of 'data' to 'genename'\n",
    "    data.index = lieming1\n",
    "\n",
    "    # CDR1-CDR0\n",
    "    limma = importr(\"limma\")\n",
    "    contrast_matrix = limma.makeContrasts(\"CDR1-CDR0\", levels=design)\n",
    "    fit = limma.lmFit(data, design)\n",
    "    fit2 = limma.contrasts_fit(fit, contrast_matrix)\n",
    "    fit2 = limma.eBayes(fit2)\n",
    "    tempOutput = limma.topTable(fit2, adjust=\"fdr\", n=float(\"inf\"))\n",
    "    nrDEG = tempOutput.dropna()\n",
    "    diffsig = nrDEG.copy()\n",
    "    diffsig.reset_index(inplace=True)\n",
    "    diffsig['Region'] = m + 1\n",
    "    CDR10_temp = diffsig[diffsig['index'].isin(genenames)]\n",
    "    CDR10_FC = pd.concat([CDR10_FC, CDR10_temp], join='outer', ignore_index=True)\n",
    "\n",
    "    # CDR2-CDR0\n",
    "    contrast_matrix = limma.makeContrasts(\"CDR2-CDR0\", levels=design)\n",
    "    fit = limma.lmFit(data, design)\n",
    "    fit2 = limma.contrasts_fit(fit, contrast_matrix)\n",
    "    fit2 = limma.eBayes(fit2)\n",
    "    tempOutput = limma.topTable(fit2, adjust=\"fdr\", n=float(\"inf\"))\n",
    "    nrDEG = tempOutput.dropna()\n",
    "    diffsig = nrDEG.copy()\n",
    "    diffsig.reset_index(inplace=True)\n",
    "    diffsig['Region'] = m + 1\n",
    "    CDR20_temp = diffsig[diffsig['index'].isin(genenames)]\n",
    "    CDR20_FC = pd.concat([CDR20_FC, CDR20_temp], join='outer', ignore_index=True)\n"
   ]
  },
  {
   "cell_type": "code",
   "execution_count": null,
   "metadata": {},
   "outputs": [],
   "source": [
    "fenzu"
   ]
  },
  {
   "cell_type": "code",
   "execution_count": null,
   "metadata": {},
   "outputs": [],
   "source": [
    "CDR10_FC"
   ]
  },
  {
   "cell_type": "code",
   "execution_count": null,
   "metadata": {},
   "outputs": [],
   "source": [
    "CDR20_FC"
   ]
  },
  {
   "cell_type": "code",
   "execution_count": null,
   "metadata": {},
   "outputs": [],
   "source": [
    "CDR10_FC.sort_values(by=['index','Region'], inplace=True)\n",
    "CDR20_FC.sort_values(by=['index','Region'], inplace=True)\n",
    "CDR20_FC"
   ]
  },
  {
   "cell_type": "code",
   "execution_count": null,
   "metadata": {},
   "outputs": [],
   "source": [
    "CDR10_FC['index'].to_list() == CDR20_FC['index'].to_list()"
   ]
  },
  {
   "cell_type": "code",
   "execution_count": null,
   "metadata": {},
   "outputs": [],
   "source": [
    "FC = pd.DataFrame({\"CDR1FC\": CDR10_FC['logFC'].to_list()\n",
    "                  ,\"CDR2FC\": CDR20_FC['logFC'].to_list() \n",
    "                })\n",
    "FC"
   ]
  },
  {
   "cell_type": "code",
   "execution_count": null,
   "metadata": {},
   "outputs": [],
   "source": [
    "positive10  = np.where(FC['CDR1FC'] > 0)[0].tolist()\n",
    "positive20  = np.where(FC['CDR2FC'] > 0)[0].tolist()\n",
    "CDR10_FC['index'].to_list() == CDR20_FC['index'].to_list()"
   ]
  },
  {
   "cell_type": "code",
   "execution_count": null,
   "metadata": {},
   "outputs": [],
   "source": [
    "# Replace negative values with their absolute values\n",
    "FC[FC < 0] = -FC\n",
    "# Add a 'genename' column from CDR10_FC's 'index' values\n",
    "FC['genename'] = CDR10_FC['index'].to_list()\n",
    "# Select specific columns 'genename', 'CDR1FC', and 'CDR2FC'\n",
    "FC = FC[['genename', 'CDR1FC', 'CDR2FC']]\n"
   ]
  },
  {
   "cell_type": "code",
   "execution_count": null,
   "metadata": {},
   "outputs": [],
   "source": [
    "# Set the weights of non-significant genes in 'CDR1FC' to 0\n",
    "FC.loc[FC['CDR1FC'] < 0.585, 'CDR1FC'] = 0\n",
    "# Add a small value to prevent all-zero genes\n",
    "FC['CDR1FC'] += 0.000001\n",
    "\n",
    "# Set the weights of non-significant genes in 'CDR2FC' to 0\n",
    "FC.loc[FC['CDR2FC'] < 0.585, 'CDR2FC'] = 0\n",
    "# Add a small value to prevent all-zero genes\n",
    "FC['CDR2FC'] += 0.000001\n"
   ]
  },
  {
   "cell_type": "code",
   "execution_count": null,
   "metadata": {},
   "outputs": [],
   "source": [
    "FC['CDR1FC'].sum() , FC['CDR2FC'].sum()"
   ]
  },
  {
   "cell_type": "code",
   "execution_count": null,
   "metadata": {},
   "outputs": [],
   "source": [
    "FC"
   ]
  },
  {
   "cell_type": "code",
   "execution_count": null,
   "metadata": {},
   "outputs": [],
   "source": [
    "# Filter CDRframe to include only patients with data in at least 3 brain regions\n",
    "CDRframe = CDRframe.loc[:, patient3]\n"
   ]
  },
  {
   "cell_type": "code",
   "execution_count": null,
   "metadata": {},
   "outputs": [],
   "source": [
    "CDRframe = CDRframe[CDRframe['genename'].isin(genenames)]\n",
    "CDRframe.shape, CDRframe.isna().sum().sum()"
   ]
  },
  {
   "cell_type": "code",
   "execution_count": null,
   "metadata": {},
   "outputs": [],
   "source": [
    "for gen in genenames:\n",
    "    # Filter the data for the current gene\n",
    "    genedata = CDRframe.loc[CDRframe['genename'] == gen, :]\n",
    "\n",
    "    # Calculate the centering for each column (subtract minimum value)\n",
    "    center = genedata.iloc[:, 2:].apply(lambda x: x - np.nanmin(x), axis=0)\n",
    "    \n",
    "    # Calculate the range (maximum - minimum) for each column\n",
    "    R = np.nanmax(genedata.iloc[:, 2:], axis=0) - np.nanmin(genedata.iloc[:, 2:], axis=0)\n",
    "    \n",
    "    # Normalize the centered data by dividing by the range (scaling)\n",
    "    x_star = center / R[np.newaxis, :]\n",
    "\n",
    "    # Further normalize the data by multiplying by 3 and adding 1\n",
    "    genedata.iloc[:, 2:] = x_star * 3 + 1\n",
    "\n",
    "    # Update the normalized data in the original DataFrame\n",
    "    CDRframe.loc[CDRframe['genename'] == gen, CDRframe.columns[2:]] = genedata.iloc[:, 2:]\n",
    "\n",
    "# Reset the index of the DataFrame\n",
    "CDRframe.reset_index(drop=True, inplace=True)\n"
   ]
  },
  {
   "cell_type": "code",
   "execution_count": null,
   "metadata": {},
   "outputs": [],
   "source": [
    "CDRframe.iloc[:,2:].sum().sum()"
   ]
  },
  {
   "cell_type": "code",
   "execution_count": null,
   "metadata": {},
   "outputs": [],
   "source": [
    "list = CDRframe.columns[2:]\n",
    "group = info.copy()\n",
    "group['BrainBank'] = group['BrainBank'].astype(str).apply(lambda x: \"X\" + x)\n",
    "group = group[group['BrainBank'].isin(list)].reset_index(drop=True)\n",
    "group['CDR'] = group['CDR'].apply(lambda x: 'CDR0' if x < 1 else ('CDR1' if x <= 2 else 'CDR2'))\n",
    "group = group.loc[:,['BrainBank','CDR']]\n",
    "group\n"
   ]
  },
  {
   "cell_type": "code",
   "execution_count": null,
   "metadata": {},
   "outputs": [],
   "source": [
    "BrainBank = group['BrainBank'].to_list()\n",
    "\n",
    "# Create a weighted data table\n",
    "FChou = pd.DataFrame(index=genenames, columns=BrainBank)\n",
    "FChou\n"
   ]
  },
  {
   "cell_type": "code",
   "execution_count": null,
   "metadata": {},
   "outputs": [],
   "source": [
    "for gen in FChou.index:\n",
    "    for m in FChou.columns:\n",
    "        brain_data = CDRframe.loc[CDRframe['genename'] == gen, m]\n",
    "        degree = group[group['BrainBank'] == m]['CDR'].tolist()[0]\n",
    "\n",
    "        if degree == \"CDR0\":\n",
    "            non_nan_series = brain_data.dropna()\n",
    "            FChou.loc[gen, m] = np.mean(non_nan_series)\n",
    "\n",
    "        elif degree == \"CDR1\":\n",
    "            weights = FC.loc[FC['genename'] == gen, \"CDR1FC\"]\n",
    "            weights = weights[(-brain_data.isna()).to_list()]\n",
    "            brain_data = brain_data.dropna()\n",
    "            FChou.loc[gen, m] = np.dot(weights / np.sum(weights), brain_data)\n",
    "\n",
    "        else:\n",
    "            weights = FC.loc[FC['genename'] == gen, \"CDR2FC\"]\n",
    "            weights = weights[(-brain_data.isna()).to_list()]\n",
    "            brain_data = brain_data.dropna()\n",
    "            FChou.loc[gen, m] = np.dot(weights / np.sum(weights), brain_data)\n"
   ]
  },
  {
   "cell_type": "code",
   "execution_count": null,
   "metadata": {},
   "outputs": [],
   "source": [
    "FChou.sum().sum()"
   ]
  },
  {
   "cell_type": "code",
   "execution_count": null,
   "metadata": {},
   "outputs": [],
   "source": [
    "FChou = FChou.astype(float)\n",
    "FChou"
   ]
  },
  {
   "cell_type": "code",
   "execution_count": null,
   "metadata": {},
   "outputs": [],
   "source": [
    "# Convert 'CDR' column to one-hot encoding\n",
    "design = pd.get_dummies(group['CDR'])\n",
    "design.index = group['BrainBank'].tolist()\n"
   ]
  },
  {
   "cell_type": "code",
   "execution_count": null,
   "metadata": {},
   "outputs": [],
   "source": [
    "# CDR1-CDR0  \n",
    "# Differential analysis using limma  Data preparation\n",
    "# Create a contrast matrix using the limma package in R\n",
    "limma = importr(\"limma\")\n",
    "contrast_matrix = limma.makeContrasts(\"CDR1-CDR0\", levels=design)\n",
    "\n",
    "# Start the analysis - Step 1\n",
    "fit = limma.lmFit(FChou, design)\n",
    "# Step 2\n",
    "fit2 = limma.contrasts_fit(fit, contrast_matrix)\n",
    "fit2 = limma.eBayes(fit2)\n",
    "# Step 3\n",
    "tempOutput = limma.topTable(fit2, adjust=\"fdr\", n=float(\"inf\"))\n",
    "# Remove rows with missing values\n",
    "nrDEG = tempOutput.dropna()\n",
    "diffsig = nrDEG.copy()\n",
    "\n",
    "# We use |logFC| > 0.585 and padj < 0.05 (adjusted P-value) as thresholds\n",
    "foldChange = 0.585\n",
    "padj = 0.05\n",
    "\n",
    "# Filter out all differentially expressed genes\n",
    "All_diffSig10 = diffsig.loc[(diffsig['P.Value'] < padj) & (\n",
    "    (diffsig['logFC'] > foldChange) | (diffsig['logFC'] < -foldChange))]\n",
    "\n",
    "# Upregulated\n",
    "diffup10 = All_diffSig10.loc[(All_diffSig10['P.Value'] < padj)\n",
    "                        & (All_diffSig10['logFC'] > foldChange)]\n",
    "\n",
    "# Downregulated\n",
    "diffdown10 = All_diffSig10.loc[(All_diffSig10['P.Value'] < padj) & (\n",
    "    All_diffSig10['logFC'] < -foldChange)]\n"
   ]
  },
  {
   "cell_type": "code",
   "execution_count": null,
   "metadata": {},
   "outputs": [],
   "source": [
    "# CDR2-CDR0  \n",
    "# Differential analysis using limma  Data preparation\n",
    "# Create a contrast matrix using the limma package in R\n",
    "limma = importr(\"limma\")\n",
    "contrast_matrix = limma.makeContrasts(\"CDR2-CDR0\", levels=design)\n",
    "\n",
    "# Start the analysis - Step 1\n",
    "fit = limma.lmFit(FChou, design)\n",
    "# Step 2\n",
    "fit2 = limma.contrasts_fit(fit, contrast_matrix)\n",
    "fit2 = limma.eBayes(fit2)\n",
    "# Step 3\n",
    "tempOutput = limma.topTable(fit2, adjust=\"fdr\", n=float(\"inf\"))\n",
    "# Remove rows with missing values\n",
    "nrDEG = tempOutput.dropna()\n",
    "diffsig = nrDEG.copy()\n",
    "\n",
    "# We use |logFC| > 0.585 and padj < 0.05 (adjusted P-value) as thresholds\n",
    "foldChange = 0.585\n",
    "padj = 0.05\n",
    "\n",
    "# Filter out all differentially expressed genes\n",
    "All_diffSig20 = diffsig.loc[(diffsig['P.Value'] < padj) & (\n",
    "    (diffsig['logFC'] > foldChange) | (diffsig['logFC'] < -foldChange))]\n",
    "\n",
    "# Upregulated\n",
    "diffup20 = All_diffSig20.loc[(All_diffSig20['P.Value'] < padj)\n",
    "                        & (All_diffSig20['logFC'] > foldChange)]\n",
    "\n",
    "# Downregulated\n",
    "diffdown20 = All_diffSig20.loc[(All_diffSig20['P.Value'] < padj) & (\n",
    "    All_diffSig20['logFC'] < -foldChange)]\n"
   ]
  },
  {
   "cell_type": "code",
   "execution_count": null,
   "metadata": {},
   "outputs": [],
   "source": [
    "# CDR2-CDR1 \n",
    "# Differential analysis using limma  Data preparation\n",
    "# Create a contrast matrix using the limma package in R\n",
    "limma = importr(\"limma\")\n",
    "contrast_matrix = limma.makeContrasts(\"CDR2-CDR1\", levels=design)\n",
    "\n",
    "# Start the analysis - Step 1\n",
    "fit = limma.lmFit(FChou, design)\n",
    "# Step 2\n",
    "fit2 = limma.contrasts_fit(fit, contrast_matrix)\n",
    "fit2 = limma.eBayes(fit2)\n",
    "# Step 3\n",
    "tempOutput = limma.topTable(fit2, adjust=\"fdr\", n=float(\"inf\"))\n",
    "# Remove rows with missing values\n",
    "nrDEG = tempOutput.dropna()\n",
    "diffsig = nrDEG.copy()\n",
    "\n",
    "# We use |logFC| > 0.585 and padj < 0.05 (adjusted P-value) as thresholds\n",
    "foldChange = 0.585\n",
    "padj = 0.05\n",
    "\n",
    "# Filter out all differentially expressed genes\n",
    "All_diffSig21 = diffsig.loc[(diffsig['P.Value'] < padj) & (\n",
    "    (diffsig['logFC'] > foldChange) | (diffsig['logFC'] < -foldChange))]\n",
    "\n",
    "# Upregulated\n",
    "diffup21 = All_diffSig21.loc[(All_diffSig21['P.Value'] < padj)\n",
    "                        & (All_diffSig21['logFC'] > foldChange)]\n",
    "\n",
    "# Downregulated\n",
    "diffdown21 = All_diffSig21.loc[(All_diffSig21['P.Value'] < padj) & (\n",
    "    All_diffSig21['logFC'] < -foldChange)]\n"
   ]
  },
  {
   "cell_type": "code",
   "execution_count": null,
   "metadata": {},
   "outputs": [],
   "source": [
    "limma_all = [len(All_diffSig10), len(All_diffSig20), len(All_diffSig21)]\n",
    "limma_up = [len(diffup10), len(diffup20), len(diffup21)]\n",
    "limma_down = [len(diffdown10), len(diffdown20), len(diffdown21)]\n",
    "\n",
    "limma_diff = pd.DataFrame(index=['CDR1-CDR0', 'CDR2-CDR0', 'CDR2-CDR1'])\n",
    "limma_diff['All Differential Genes'] = limma_all\n",
    "limma_diff['Upregulated Genes'] = limma_up\n",
    "limma_diff['Downregulated Genes'] = limma_down\n",
    "limma_diff\n"
   ]
  },
  {
   "cell_type": "code",
   "execution_count": null,
   "metadata": {},
   "outputs": [],
   "source": [
    "limma_all_gene = set(All_diffSig10.index.to_list()).union(All_diffSig20.index.to_list(), All_diffSig21.index.to_list())\n",
    "len(limma_all_gene)"
   ]
  },
  {
   "cell_type": "code",
   "execution_count": null,
   "metadata": {},
   "outputs": [],
   "source": [
    "limma_data = FChou.loc[limma_all_gene,:]\n",
    "limma_data.sort_index(inplace=True)\n",
    "limma_data"
   ]
  },
  {
   "cell_type": "code",
   "execution_count": null,
   "metadata": {},
   "outputs": [],
   "source": [
    "limma_data.sum().sum()"
   ]
  },
  {
   "cell_type": "markdown",
   "metadata": {},
   "source": [
    "Curve"
   ]
  },
  {
   "cell_type": "code",
   "execution_count": null,
   "metadata": {},
   "outputs": [],
   "source": [
    "kenerl_curve = limma_data.copy()\n",
    "kenerl_curve.columns = group['CDR']\n",
    "kenerl_curve"
   ]
  },
  {
   "cell_type": "code",
   "execution_count": null,
   "metadata": {},
   "outputs": [],
   "source": [
    "CDR0 = []\n",
    "CDR1 = []\n",
    "CDR2 = []\n",
    "for i in range(len(group)):\n",
    "    if group['CDR'][i] == 'CDR0':\n",
    "        CDR0 = CDR0 + kenerl_curve.iloc[:,i].to_list()\n",
    "    elif group['CDR'][i] == 'CDR1':\n",
    "        CDR1 = CDR1 + kenerl_curve.iloc[:,i].to_list()\n",
    "    else:\n",
    "        CDR2 = CDR2 + kenerl_curve.iloc[:,i].to_list()"
   ]
  },
  {
   "cell_type": "code",
   "execution_count": null,
   "metadata": {},
   "outputs": [],
   "source": [
    "import seaborn as sns\n",
    "sns.kdeplot(CDR0, shade=True)\n",
    "sns.kdeplot(CDR1, shade=True)\n",
    "sns.kdeplot(CDR2, shade=True)\n",
    "plt.legend(['Early', 'Intermediate', 'Late'])\n"
   ]
  },
  {
   "cell_type": "markdown",
   "metadata": {},
   "source": [
    "Initialisation Configuration"
   ]
  },
  {
   "cell_type": "code",
   "execution_count": 1,
   "metadata": {
    "ExecuteTime": {
     "end_time": "2023-10-07T15:07:08.092045Z",
     "start_time": "2023-10-07T15:07:07.642299Z"
    },
    "collapsed": false
   },
   "outputs": [],
   "source": [
    "import pandas as pd\n",
    "import matplotlib.pyplot as plt\n",
    "from rpy2.robjects import pandas2ri\n",
    "from sklearn.cluster import KMeans\n",
    "\n",
    "pandas2ri.activate()\n",
    "\n",
    "plt.rcParams['axes.unicode_minus'] = False\n",
    "\n",
    "import warnings\n",
    "warnings.filterwarnings(\"ignore\")\n",
    "\n",
    "%matplotlib inline"
   ]
  },
  {
   "cell_type": "markdown",
   "metadata": {
    "collapsed": false
   },
   "source": [
    "Standardisation of data"
   ]
  },
  {
   "cell_type": "code",
   "execution_count": 3,
   "metadata": {
    "ExecuteTime": {
     "end_time": "2023-10-07T15:07:45.081114Z",
     "start_time": "2023-10-07T15:07:45.065010Z"
    },
    "collapsed": false
   },
   "outputs": [
    {
     "data": {
      "text/html": [
       "<div>\n",
       "<style scoped>\n",
       "    .dataframe tbody tr th:only-of-type {\n",
       "        vertical-align: middle;\n",
       "    }\n",
       "\n",
       "    .dataframe tbody tr th {\n",
       "        vertical-align: top;\n",
       "    }\n",
       "\n",
       "    .dataframe thead th {\n",
       "        text-align: right;\n",
       "    }\n",
       "</style>\n",
       "<table border=\"1\" class=\"dataframe\">\n",
       "  <thead>\n",
       "    <tr style=\"text-align: right;\">\n",
       "      <th></th>\n",
       "      <th>X1006</th>\n",
       "      <th>X1012</th>\n",
       "      <th>X1018</th>\n",
       "      <th>X1023</th>\n",
       "      <th>X1027</th>\n",
       "      <th>X1039</th>\n",
       "      <th>X111</th>\n",
       "      <th>X13</th>\n",
       "      <th>X176</th>\n",
       "      <th>X184</th>\n",
       "      <th>...</th>\n",
       "      <th>X941</th>\n",
       "      <th>X956</th>\n",
       "      <th>X963</th>\n",
       "      <th>X972</th>\n",
       "      <th>X973</th>\n",
       "      <th>X975</th>\n",
       "      <th>X988</th>\n",
       "      <th>X989</th>\n",
       "      <th>X990</th>\n",
       "      <th>X992</th>\n",
       "    </tr>\n",
       "  </thead>\n",
       "  <tbody>\n",
       "    <tr>\n",
       "      <th>AACS</th>\n",
       "      <td>0.040145</td>\n",
       "      <td>0.380907</td>\n",
       "      <td>-0.546453</td>\n",
       "      <td>0.485592</td>\n",
       "      <td>-1.283999</td>\n",
       "      <td>1.947714</td>\n",
       "      <td>-0.712846</td>\n",
       "      <td>-0.399685</td>\n",
       "      <td>-0.853669</td>\n",
       "      <td>0.558296</td>\n",
       "      <td>...</td>\n",
       "      <td>1.164374</td>\n",
       "      <td>0.132191</td>\n",
       "      <td>0.332997</td>\n",
       "      <td>1.621314</td>\n",
       "      <td>0.740598</td>\n",
       "      <td>-1.278277</td>\n",
       "      <td>0.632864</td>\n",
       "      <td>-0.411796</td>\n",
       "      <td>-0.084379</td>\n",
       "      <td>-1.017602</td>\n",
       "    </tr>\n",
       "    <tr>\n",
       "      <th>ABCA8</th>\n",
       "      <td>0.850539</td>\n",
       "      <td>1.103616</td>\n",
       "      <td>-1.602605</td>\n",
       "      <td>0.672544</td>\n",
       "      <td>-0.397754</td>\n",
       "      <td>1.149659</td>\n",
       "      <td>1.140159</td>\n",
       "      <td>-0.199300</td>\n",
       "      <td>1.226691</td>\n",
       "      <td>2.136472</td>\n",
       "      <td>...</td>\n",
       "      <td>0.738354</td>\n",
       "      <td>1.035865</td>\n",
       "      <td>-0.951173</td>\n",
       "      <td>1.379345</td>\n",
       "      <td>0.066544</td>\n",
       "      <td>0.072512</td>\n",
       "      <td>1.393987</td>\n",
       "      <td>-1.055761</td>\n",
       "      <td>0.619896</td>\n",
       "      <td>0.200372</td>\n",
       "    </tr>\n",
       "    <tr>\n",
       "      <th>ABCG2</th>\n",
       "      <td>-0.192338</td>\n",
       "      <td>0.154886</td>\n",
       "      <td>0.106349</td>\n",
       "      <td>0.200662</td>\n",
       "      <td>2.491124</td>\n",
       "      <td>-0.967348</td>\n",
       "      <td>0.769059</td>\n",
       "      <td>-0.170581</td>\n",
       "      <td>-0.820731</td>\n",
       "      <td>0.300132</td>\n",
       "      <td>...</td>\n",
       "      <td>0.404714</td>\n",
       "      <td>-0.467576</td>\n",
       "      <td>0.668990</td>\n",
       "      <td>-0.630775</td>\n",
       "      <td>1.587003</td>\n",
       "      <td>0.495478</td>\n",
       "      <td>1.846550</td>\n",
       "      <td>2.301961</td>\n",
       "      <td>-1.119864</td>\n",
       "      <td>1.077416</td>\n",
       "    </tr>\n",
       "    <tr>\n",
       "      <th>AEBP1</th>\n",
       "      <td>-0.348931</td>\n",
       "      <td>-1.224473</td>\n",
       "      <td>-0.256958</td>\n",
       "      <td>-1.197296</td>\n",
       "      <td>0.570535</td>\n",
       "      <td>-1.604989</td>\n",
       "      <td>-1.151035</td>\n",
       "      <td>-0.248175</td>\n",
       "      <td>-0.154275</td>\n",
       "      <td>-0.482999</td>\n",
       "      <td>...</td>\n",
       "      <td>-3.063257</td>\n",
       "      <td>-0.685881</td>\n",
       "      <td>-0.266475</td>\n",
       "      <td>-0.964559</td>\n",
       "      <td>1.824401</td>\n",
       "      <td>0.719773</td>\n",
       "      <td>1.918543</td>\n",
       "      <td>0.659002</td>\n",
       "      <td>-1.388280</td>\n",
       "      <td>1.252222</td>\n",
       "    </tr>\n",
       "    <tr>\n",
       "      <th>AKR1C3</th>\n",
       "      <td>-0.425908</td>\n",
       "      <td>-2.031274</td>\n",
       "      <td>-0.036859</td>\n",
       "      <td>-1.326577</td>\n",
       "      <td>0.408186</td>\n",
       "      <td>-1.660805</td>\n",
       "      <td>-1.229664</td>\n",
       "      <td>0.244895</td>\n",
       "      <td>-0.107514</td>\n",
       "      <td>0.241079</td>\n",
       "      <td>...</td>\n",
       "      <td>-2.165864</td>\n",
       "      <td>-0.711486</td>\n",
       "      <td>-0.042643</td>\n",
       "      <td>-1.485030</td>\n",
       "      <td>1.824418</td>\n",
       "      <td>1.010818</td>\n",
       "      <td>1.918558</td>\n",
       "      <td>0.768676</td>\n",
       "      <td>-1.767086</td>\n",
       "      <td>1.157654</td>\n",
       "    </tr>\n",
       "    <tr>\n",
       "      <th>...</th>\n",
       "      <td>...</td>\n",
       "      <td>...</td>\n",
       "      <td>...</td>\n",
       "      <td>...</td>\n",
       "      <td>...</td>\n",
       "      <td>...</td>\n",
       "      <td>...</td>\n",
       "      <td>...</td>\n",
       "      <td>...</td>\n",
       "      <td>...</td>\n",
       "      <td>...</td>\n",
       "      <td>...</td>\n",
       "      <td>...</td>\n",
       "      <td>...</td>\n",
       "      <td>...</td>\n",
       "      <td>...</td>\n",
       "      <td>...</td>\n",
       "      <td>...</td>\n",
       "      <td>...</td>\n",
       "      <td>...</td>\n",
       "      <td>...</td>\n",
       "    </tr>\n",
       "    <tr>\n",
       "      <th>WASF1</th>\n",
       "      <td>-1.056959</td>\n",
       "      <td>-0.986973</td>\n",
       "      <td>0.870707</td>\n",
       "      <td>-0.623385</td>\n",
       "      <td>-1.284005</td>\n",
       "      <td>-1.111480</td>\n",
       "      <td>-1.455078</td>\n",
       "      <td>0.605962</td>\n",
       "      <td>-0.807262</td>\n",
       "      <td>0.139537</td>\n",
       "      <td>...</td>\n",
       "      <td>0.883812</td>\n",
       "      <td>-0.530618</td>\n",
       "      <td>-0.578067</td>\n",
       "      <td>-0.608986</td>\n",
       "      <td>-0.959932</td>\n",
       "      <td>-1.278281</td>\n",
       "      <td>-0.489679</td>\n",
       "      <td>-1.055771</td>\n",
       "      <td>-1.188841</td>\n",
       "      <td>0.417101</td>\n",
       "    </tr>\n",
       "    <tr>\n",
       "      <th>WBSCR17</th>\n",
       "      <td>-1.056959</td>\n",
       "      <td>0.524670</td>\n",
       "      <td>-0.070059</td>\n",
       "      <td>0.287772</td>\n",
       "      <td>-0.184885</td>\n",
       "      <td>1.249278</td>\n",
       "      <td>0.159050</td>\n",
       "      <td>0.110120</td>\n",
       "      <td>0.536598</td>\n",
       "      <td>-0.314603</td>\n",
       "      <td>...</td>\n",
       "      <td>-0.747600</td>\n",
       "      <td>-0.339991</td>\n",
       "      <td>0.032358</td>\n",
       "      <td>0.369076</td>\n",
       "      <td>-0.254217</td>\n",
       "      <td>1.516298</td>\n",
       "      <td>-0.433239</td>\n",
       "      <td>-0.860817</td>\n",
       "      <td>-0.536976</td>\n",
       "      <td>-1.017604</td>\n",
       "    </tr>\n",
       "    <tr>\n",
       "      <th>XK</th>\n",
       "      <td>0.077672</td>\n",
       "      <td>-0.555972</td>\n",
       "      <td>0.150693</td>\n",
       "      <td>-0.883953</td>\n",
       "      <td>0.866965</td>\n",
       "      <td>-0.640794</td>\n",
       "      <td>-0.422113</td>\n",
       "      <td>-0.601048</td>\n",
       "      <td>-1.458618</td>\n",
       "      <td>0.373474</td>\n",
       "      <td>...</td>\n",
       "      <td>-1.149465</td>\n",
       "      <td>-0.613145</td>\n",
       "      <td>-0.003535</td>\n",
       "      <td>-0.722564</td>\n",
       "      <td>1.414694</td>\n",
       "      <td>0.083837</td>\n",
       "      <td>0.483782</td>\n",
       "      <td>0.915708</td>\n",
       "      <td>-0.090127</td>\n",
       "      <td>1.084210</td>\n",
       "    </tr>\n",
       "    <tr>\n",
       "      <th>ZNF804A</th>\n",
       "      <td>0.128000</td>\n",
       "      <td>-1.244650</td>\n",
       "      <td>-0.901279</td>\n",
       "      <td>-0.410168</td>\n",
       "      <td>0.272540</td>\n",
       "      <td>-1.067529</td>\n",
       "      <td>-0.814628</td>\n",
       "      <td>-0.626414</td>\n",
       "      <td>0.337216</td>\n",
       "      <td>-0.293214</td>\n",
       "      <td>...</td>\n",
       "      <td>-0.240517</td>\n",
       "      <td>-0.299439</td>\n",
       "      <td>0.297433</td>\n",
       "      <td>-1.614302</td>\n",
       "      <td>1.824403</td>\n",
       "      <td>1.391104</td>\n",
       "      <td>1.129406</td>\n",
       "      <td>0.885882</td>\n",
       "      <td>-1.116914</td>\n",
       "      <td>0.689314</td>\n",
       "    </tr>\n",
       "    <tr>\n",
       "      <th>ZNRF3</th>\n",
       "      <td>-0.849995</td>\n",
       "      <td>-0.761112</td>\n",
       "      <td>-2.342618</td>\n",
       "      <td>-1.282282</td>\n",
       "      <td>-0.882045</td>\n",
       "      <td>0.165098</td>\n",
       "      <td>-1.202791</td>\n",
       "      <td>0.146660</td>\n",
       "      <td>-1.458619</td>\n",
       "      <td>-0.454652</td>\n",
       "      <td>...</td>\n",
       "      <td>-0.238432</td>\n",
       "      <td>-1.732512</td>\n",
       "      <td>-1.530906</td>\n",
       "      <td>-1.281289</td>\n",
       "      <td>-0.668169</td>\n",
       "      <td>1.196613</td>\n",
       "      <td>-0.593375</td>\n",
       "      <td>-1.022102</td>\n",
       "      <td>-1.016668</td>\n",
       "      <td>1.228732</td>\n",
       "    </tr>\n",
       "  </tbody>\n",
       "</table>\n",
       "<p>197 rows × 85 columns</p>\n",
       "</div>"
      ],
      "text/plain": [
       "            X1006     X1012     X1018     X1023     X1027     X1039      X111  \\\n",
       "AACS     0.040145  0.380907 -0.546453  0.485592 -1.283999  1.947714 -0.712846   \n",
       "ABCA8    0.850539  1.103616 -1.602605  0.672544 -0.397754  1.149659  1.140159   \n",
       "ABCG2   -0.192338  0.154886  0.106349  0.200662  2.491124 -0.967348  0.769059   \n",
       "AEBP1   -0.348931 -1.224473 -0.256958 -1.197296  0.570535 -1.604989 -1.151035   \n",
       "AKR1C3  -0.425908 -2.031274 -0.036859 -1.326577  0.408186 -1.660805 -1.229664   \n",
       "...           ...       ...       ...       ...       ...       ...       ...   \n",
       "WASF1   -1.056959 -0.986973  0.870707 -0.623385 -1.284005 -1.111480 -1.455078   \n",
       "WBSCR17 -1.056959  0.524670 -0.070059  0.287772 -0.184885  1.249278  0.159050   \n",
       "XK       0.077672 -0.555972  0.150693 -0.883953  0.866965 -0.640794 -0.422113   \n",
       "ZNF804A  0.128000 -1.244650 -0.901279 -0.410168  0.272540 -1.067529 -0.814628   \n",
       "ZNRF3   -0.849995 -0.761112 -2.342618 -1.282282 -0.882045  0.165098 -1.202791   \n",
       "\n",
       "              X13      X176      X184  ...      X941      X956      X963  \\\n",
       "AACS    -0.399685 -0.853669  0.558296  ...  1.164374  0.132191  0.332997   \n",
       "ABCA8   -0.199300  1.226691  2.136472  ...  0.738354  1.035865 -0.951173   \n",
       "ABCG2   -0.170581 -0.820731  0.300132  ...  0.404714 -0.467576  0.668990   \n",
       "AEBP1   -0.248175 -0.154275 -0.482999  ... -3.063257 -0.685881 -0.266475   \n",
       "AKR1C3   0.244895 -0.107514  0.241079  ... -2.165864 -0.711486 -0.042643   \n",
       "...           ...       ...       ...  ...       ...       ...       ...   \n",
       "WASF1    0.605962 -0.807262  0.139537  ...  0.883812 -0.530618 -0.578067   \n",
       "WBSCR17  0.110120  0.536598 -0.314603  ... -0.747600 -0.339991  0.032358   \n",
       "XK      -0.601048 -1.458618  0.373474  ... -1.149465 -0.613145 -0.003535   \n",
       "ZNF804A -0.626414  0.337216 -0.293214  ... -0.240517 -0.299439  0.297433   \n",
       "ZNRF3    0.146660 -1.458619 -0.454652  ... -0.238432 -1.732512 -1.530906   \n",
       "\n",
       "             X972      X973      X975      X988      X989      X990      X992  \n",
       "AACS     1.621314  0.740598 -1.278277  0.632864 -0.411796 -0.084379 -1.017602  \n",
       "ABCA8    1.379345  0.066544  0.072512  1.393987 -1.055761  0.619896  0.200372  \n",
       "ABCG2   -0.630775  1.587003  0.495478  1.846550  2.301961 -1.119864  1.077416  \n",
       "AEBP1   -0.964559  1.824401  0.719773  1.918543  0.659002 -1.388280  1.252222  \n",
       "AKR1C3  -1.485030  1.824418  1.010818  1.918558  0.768676 -1.767086  1.157654  \n",
       "...           ...       ...       ...       ...       ...       ...       ...  \n",
       "WASF1   -0.608986 -0.959932 -1.278281 -0.489679 -1.055771 -1.188841  0.417101  \n",
       "WBSCR17  0.369076 -0.254217  1.516298 -0.433239 -0.860817 -0.536976 -1.017604  \n",
       "XK      -0.722564  1.414694  0.083837  0.483782  0.915708 -0.090127  1.084210  \n",
       "ZNF804A -1.614302  1.824403  1.391104  1.129406  0.885882 -1.116914  0.689314  \n",
       "ZNRF3   -1.281289 -0.668169  1.196613 -0.593375 -1.022102 -1.016668  1.228732  \n",
       "\n",
       "[197 rows x 85 columns]"
      ]
     },
     "execution_count": 3,
     "metadata": {},
     "output_type": "execute_result"
    }
   ],
   "source": [
    "from sklearn. preprocessing import StandardScaler\n",
    "\n",
    "scaler = StandardScaler()\n",
    "scaled_limma = pd.DataFrame(scaler.fit_transform(limma_data), columns= limma_data.columns , index = limma_data.index)\n",
    "\n",
    "scaled_limma"
   ]
  },
  {
   "cell_type": "markdown",
   "metadata": {
    "collapsed": false
   },
   "source": [
    "Downgraded to 5 dimensions using UMAP (downgraded for number of samples, not for number of genes)"
   ]
  },
  {
   "cell_type": "code",
   "execution_count": 4,
   "metadata": {
    "ExecuteTime": {
     "end_time": "2023-10-07T15:07:50.236885Z",
     "start_time": "2023-10-07T15:07:46.050821Z"
    },
    "collapsed": false
   },
   "outputs": [
    {
     "data": {
      "text/plain": [
       "array([[14.777975 , 11.254902 ,  7.3953953,  6.534886 ,  3.9179041],\n",
       "       [14.794454 , 11.398916 ,  7.4124284,  6.6952305,  3.5617964],\n",
       "       [ 9.219906 ,  7.9057903,  4.5280366,  8.020296 ,  4.7665143],\n",
       "       [ 9.069172 ,  7.8283052,  4.5575037,  7.9925714,  5.1518583],\n",
       "       [ 8.643444 ,  8.231381 ,  4.385399 ,  8.019133 ,  5.1332884],\n",
       "       [ 9.075234 ,  8.042442 ,  4.1918974,  8.094989 ,  4.7523265],\n",
       "       [14.298121 ,  8.8085   ,  6.9558153,  6.6686587,  2.1179469],\n",
       "       [14.545201 , 11.35265  ,  7.5268106,  6.7112517,  3.2406154],\n",
       "       [ 9.252877 ,  7.901635 ,  3.3514392,  8.401932 ,  3.8520482],\n",
       "       [13.902064 ,  8.49716  ,  6.466996 ,  6.818977 ,  2.63447  ],\n",
       "       [14.19953  ,  8.755067 ,  7.075308 ,  6.670009 ,  2.218064 ],\n",
       "       [14.829521 ,  8.960823 ,  6.697759 ,  6.814691 ,  2.5891933],\n",
       "       [14.639787 ,  9.838005 ,  6.7737136,  6.9964695,  3.2613535],\n",
       "       [14.469316 ,  9.0865755,  6.598658 ,  6.345713 ,  2.503977 ],\n",
       "       [14.417959 , 10.951355 ,  7.17077  ,  6.38835  ,  3.600643 ],\n",
       "       [15.095948 ,  9.601943 ,  6.9143395,  6.6376667,  2.811906 ],\n",
       "       [15.018278 , 11.177985 ,  7.6444545,  6.445129 ,  3.7280116],\n",
       "       [14.912369 , 10.755158 ,  7.6813803,  6.3812537,  3.80362  ],\n",
       "       [ 8.91613  ,  7.75637  ,  3.5494554,  8.2749195,  4.2108054],\n",
       "       [14.922254 , 10.709191 ,  6.5548196,  6.816981 ,  3.3599746],\n",
       "       [14.227645 ,  9.367106 ,  6.6552343,  6.4432316,  2.4849718],\n",
       "       [14.654021 , 10.911327 ,  7.5321326,  6.3109407,  3.8830607],\n",
       "       [13.030242 , 11.742207 ,  6.3528705,  6.6272697,  2.1292167],\n",
       "       [ 8.689375 ,  8.000045 ,  4.1291127,  8.426225 ,  4.8003764],\n",
       "       [14.50996  ,  9.713561 ,  7.679467 ,  6.643693 ,  2.4444864],\n",
       "       [15.069626 , 10.5402565,  7.1125727,  6.6888857,  3.4686792],\n",
       "       [ 9.599659 ,  7.725259 ,  3.7492068,  8.29034  ,  3.975493 ],\n",
       "       [15.005735 , 10.512578 ,  7.1449237,  6.328293 ,  3.4331524],\n",
       "       [14.8235855, 10.76554  ,  7.089741 ,  6.4470997,  3.1314604],\n",
       "       [ 8.718275 ,  7.8784175,  4.4601173,  8.285829 ,  4.752575 ],\n",
       "       [ 8.870556 ,  8.055474 ,  4.3887963,  8.395282 ,  4.687171 ],\n",
       "       [14.894227 , 10.268339 ,  6.696828 ,  6.465926 ,  3.1924143],\n",
       "       [14.683865 ,  9.555757 ,  7.1465516,  6.3386855,  3.2848291],\n",
       "       [12.981806 , 11.187591 ,  6.0876875,  6.429747 ,  1.8697841],\n",
       "       [ 9.092828 ,  7.674375 ,  2.9656973,  8.409903 ,  3.8941905],\n",
       "       [ 9.011213 ,  7.808863 ,  3.1749291,  8.37012  ,  3.6970336],\n",
       "       [14.403377 ,  8.831066 ,  7.147993 ,  6.6062493,  2.0186524],\n",
       "       [14.1343775,  8.708305 ,  6.451665 ,  6.9986935,  2.509833 ],\n",
       "       [14.477815 , 10.579503 ,  6.6408706,  6.7054415,  3.5083473],\n",
       "       [14.694866 ,  9.125231 ,  6.6066914,  6.5135775,  2.4287825],\n",
       "       [14.550211 , 11.00924  ,  7.427165 ,  6.6800823,  2.9816651],\n",
       "       [ 9.148662 ,  8.073034 ,  4.7548547,  7.9257855,  5.1263313],\n",
       "       [15.050108 , 11.244488 ,  7.4743347,  6.594632 ,  3.7856233],\n",
       "       [15.113975 , 10.798926 ,  7.6452565,  6.5134964,  3.4851365],\n",
       "       [14.535159 ,  9.329714 ,  7.5217795,  6.350788 ,  2.3660684],\n",
       "       [14.473603 ,  9.254619 ,  7.4088116,  6.424416 ,  2.3209195],\n",
       "       [15.08864  , 11.1939125,  7.6354456,  6.6818385,  3.4011443],\n",
       "       [13.874007 ,  9.937115 ,  6.5267096,  6.4316773,  2.2700088],\n",
       "       [15.016248 ,  9.559263 ,  6.7610106,  6.768859 ,  2.7913294],\n",
       "       [ 8.382729 ,  8.037335 ,  4.2310796,  8.008818 ,  5.1732197],\n",
       "       [12.885964 , 11.087814 ,  6.270896 ,  6.5633464,  1.7916422],\n",
       "       [ 9.436189 ,  7.9402285,  3.542397 ,  8.143549 ,  3.5116289],\n",
       "       [ 9.097763 ,  7.6602182,  2.937631 ,  8.3892765,  3.8232856],\n",
       "       [14.276733 ,  9.660704 ,  6.7914395,  6.3886657,  3.6019206],\n",
       "       [14.203717 ,  8.791088 ,  7.1073723,  6.804636 ,  2.1198604],\n",
       "       [15.078077 , 10.600667 ,  7.743188 ,  6.593622 ,  3.3622675],\n",
       "       [ 9.1057415,  7.736927 ,  3.626829 ,  8.158805 ,  3.7964442],\n",
       "       [14.593342 ,  8.639729 ,  6.586654 ,  6.8718686,  2.2504802],\n",
       "       [ 9.20334  ,  7.8019485,  2.9504735,  8.323986 ,  3.8406465],\n",
       "       [13.224301 , 11.689673 ,  6.545725 ,  6.485949 ,  2.2978764],\n",
       "       [14.284222 ,  9.653612 ,  6.9273663,  6.4804387,  3.4756377],\n",
       "       [14.836727 ,  9.106316 ,  6.7739596,  6.38116  ,  2.6856556],\n",
       "       [14.749103 , 10.096244 ,  7.11005  ,  6.725999 ,  3.5720227],\n",
       "       [12.976522 , 11.634158 ,  6.407202 ,  6.547343 ,  2.096349 ],\n",
       "       [ 8.542801 ,  8.165725 ,  4.2684994,  8.157205 ,  5.0789523],\n",
       "       [15.047257 , 11.110838 ,  7.600108 ,  6.6697035,  3.384725 ],\n",
       "       [ 8.718733 ,  8.221815 ,  4.214    ,  8.044879 ,  5.190511 ],\n",
       "       [14.628644 ,  8.829578 ,  6.6766176,  6.8726764,  1.9139165],\n",
       "       [14.594939 ,  9.063805 ,  6.9747066,  6.9144397,  1.8929178],\n",
       "       [14.295716 ,  9.067787 ,  7.483902 ,  6.630671 ,  2.0930617],\n",
       "       [ 9.238355 ,  7.975516 ,  5.0477543,  7.8651814,  5.3178697],\n",
       "       [ 8.898297 ,  7.9592566,  4.3489766,  8.236458 ,  4.710754 ],\n",
       "       [14.122504 ,  8.5172825,  6.63008  ,  6.9226937,  2.441117 ],\n",
       "       [ 9.125271 ,  7.4316473,  2.8749564,  8.513199 ,  3.457936 ],\n",
       "       [ 9.040714 ,  7.859991 ,  4.657315 ,  8.096667 ,  5.254045 ],\n",
       "       [ 9.648781 ,  7.8932643,  3.7124178,  7.995583 ,  3.5264416],\n",
       "       [13.3709755, 11.787968 ,  6.5567055,  6.631499 ,  2.4089715],\n",
       "       [12.847711 , 11.158596 ,  6.313656 ,  6.519873 ,  1.6853629],\n",
       "       [14.595611 ,  8.557357 ,  6.8279767,  6.571314 ,  2.2273705],\n",
       "       [13.657871 ,  8.444616 ,  6.2448072,  6.9365654,  2.8519428],\n",
       "       [ 9.366803 ,  7.5286336,  3.392859 ,  8.202673 ,  3.572929 ],\n",
       "       [14.791741 , 10.641825 ,  7.753404 ,  6.3012795,  3.8394873],\n",
       "       [ 9.028559 ,  7.410196 ,  3.0359004,  8.307353 ,  3.698971 ],\n",
       "       [12.845689 , 11.512231 ,  6.319044 ,  6.4332848,  1.756744 ],\n",
       "       [ 9.048744 ,  8.175085 ,  4.4724264,  7.747584 ,  4.712612 ],\n",
       "       [ 8.891024 ,  7.9405413,  4.433218 ,  8.3193655,  4.7067776],\n",
       "       [14.729091 ,  8.786866 ,  6.874974 ,  6.420659 ,  2.1842778],\n",
       "       [14.403396 , 10.925238 ,  6.853742 ,  6.542635 ,  3.7184188],\n",
       "       [14.860719 , 10.784098 ,  6.6095057,  6.7702026,  3.4874315],\n",
       "       [ 8.5186615,  8.024712 ,  4.3258834,  7.9298644,  4.9912643],\n",
       "       [ 9.262993 ,  7.7419415,  4.6384616,  8.182077 ,  4.851762 ],\n",
       "       [14.671189 , 11.343285 ,  7.276657 ,  6.627314 ,  3.0842621],\n",
       "       [13.705749 , 11.369914 ,  6.6103373,  6.715959 ,  3.0720453],\n",
       "       [ 9.472416 ,  7.8285913,  3.6114798,  8.086543 ,  3.7224865],\n",
       "       [14.749162 ,  9.999106 ,  6.959363 ,  6.277006 ,  3.0071197],\n",
       "       [ 9.454484 ,  8.0489855,  3.43804  ,  8.147774 ,  3.5914888],\n",
       "       [ 9.139675 ,  7.5490427,  3.3334394,  8.2573185,  3.762781 ],\n",
       "       [ 9.601422 ,  8.295453 ,  3.5682533,  8.163526 ,  3.4777558],\n",
       "       [15.056714 , 11.068333 ,  7.1269226,  6.675577 ,  3.3074076],\n",
       "       [ 9.345983 ,  7.570323 ,  3.0460567,  8.417757 ,  3.4756055],\n",
       "       [14.194592 ,  9.574828 ,  6.6876993,  6.356044 ,  3.70137  ],\n",
       "       [ 8.410819 ,  7.9036365,  4.2146215,  7.991728 ,  4.8777056],\n",
       "       [12.848431 , 11.477465 ,  6.334534 ,  6.4916167,  1.7633272],\n",
       "       [ 8.966034 ,  7.8490696,  3.3699632,  8.38668  ,  4.0934377],\n",
       "       [15.062627 , 10.062533 ,  7.451889 ,  6.397534 ,  3.3933597],\n",
       "       [14.412105 , 10.489717 ,  6.726901 ,  6.5138946,  3.6599088],\n",
       "       [ 9.133375 ,  8.000037 ,  4.337057 ,  8.200691 ,  4.4486713],\n",
       "       [ 8.986521 ,  7.6968365,  3.092008 ,  8.343487 ,  3.897502 ],\n",
       "       [ 9.240278 ,  8.017054 ,  3.1560075,  8.234336 ,  3.814071 ],\n",
       "       [13.858414 , 11.663588 ,  6.928616 ,  6.6057262,  2.7297015],\n",
       "       [13.08671  , 11.660144 ,  6.2574654,  6.744307 ,  2.2088563],\n",
       "       [14.377954 , 10.132788 ,  6.4569273,  6.8239403,  3.4675863],\n",
       "       [14.467158 , 10.759284 ,  6.7100186,  6.512532 ,  3.8210669],\n",
       "       [14.541962 , 10.414514 ,  6.7061443,  6.8337207,  3.6505527],\n",
       "       [12.663705 , 11.444118 ,  6.048139 ,  6.518806 ,  1.7942653],\n",
       "       [14.539629 ,  8.57557  ,  6.677189 ,  6.822227 ,  2.2993653],\n",
       "       [14.153477 ,  9.337184 ,  7.4645452,  6.591708 ,  1.8671365],\n",
       "       [13.098749 , 11.778415 ,  6.3785725,  6.655072 ,  2.0719304],\n",
       "       [ 9.185088 ,  7.443141 ,  3.102761 ,  8.316242 ,  3.5296936],\n",
       "       [14.632818 ,  9.123643 ,  6.6366196,  6.1799664,  2.4769442],\n",
       "       [15.24029  , 11.236701 ,  7.7996755,  6.7052574,  3.5435379],\n",
       "       [14.923868 ,  9.608707 ,  7.535972 ,  6.4985867,  2.9228468],\n",
       "       [ 9.183016 ,  7.5112553,  3.0024304,  8.409081 ,  3.4801571],\n",
       "       [13.812111 ,  8.9635515,  6.394553 ,  6.6243567,  3.3513873],\n",
       "       [14.4125   ,  9.659649 ,  6.9703326,  6.0883555,  3.571803 ],\n",
       "       [ 9.206793 ,  7.405801 ,  2.9050047,  8.483207 ,  3.3376057],\n",
       "       [14.843206 ,  8.920632 ,  6.9341955,  6.4946237,  2.4633412],\n",
       "       [12.978388 , 11.223092 ,  6.2599936,  6.355983 ,  1.8403689],\n",
       "       [14.785828 , 10.887436 ,  6.5747333,  6.859063 ,  3.6018884],\n",
       "       [13.166445 , 10.827346 ,  6.234759 ,  6.3757434,  1.7944009],\n",
       "       [13.725313 ,  8.752353 ,  6.375421 ,  6.693077 ,  3.244219 ],\n",
       "       [13.941742 ,  8.834071 ,  6.5001607,  6.967586 ,  3.0908139],\n",
       "       [14.654751 ,  8.837437 ,  6.3784485,  6.5306435,  2.6474915],\n",
       "       [15.007289 ,  9.711197 ,  6.835911 ,  6.8217893,  2.7460907],\n",
       "       [14.493838 , 10.205327 ,  7.6293325,  6.6040525,  2.5611506],\n",
       "       [13.633949 , 11.4160795,  6.5656514,  6.7198787,  2.9747066],\n",
       "       [15.136847 , 11.201254 ,  7.6743903,  6.6426497,  3.7188654],\n",
       "       [12.7859335, 11.390632 ,  6.093451 ,  6.640672 ,  2.21366  ],\n",
       "       [ 9.164335 ,  7.8582487,  4.6389713,  8.063232 ,  5.165013 ],\n",
       "       [ 9.180328 ,  7.815068 ,  4.6484203,  7.956263 ,  5.2660217],\n",
       "       [ 9.249899 ,  7.440884 ,  2.9269571,  8.4435835,  3.3986979],\n",
       "       [14.889032 , 10.9344225,  7.8137355,  6.615608 ,  3.1764855],\n",
       "       [ 9.391821 ,  7.612925 ,  3.4460173,  8.0715065,  3.842149 ],\n",
       "       [14.492797 , 11.170597 ,  7.1175675,  6.4854007,  3.8398435],\n",
       "       [14.956537 , 10.006608 ,  6.9790826,  6.31546  ,  3.4728906],\n",
       "       [15.127462 ,  9.429666 ,  6.8766265,  6.681096 ,  2.8312495],\n",
       "       [ 8.835069 ,  7.8932095,  4.421452 ,  8.244942 ,  4.7533364],\n",
       "       [13.945012 ,  8.719263 ,  6.4942365,  6.7245026,  3.0499218],\n",
       "       [14.182454 ,  9.413875 ,  6.6696296,  6.1761794,  3.6055322],\n",
       "       [12.830376 , 11.466741 ,  6.212064 ,  6.5404434,  1.8765095],\n",
       "       [12.983998 , 11.440452 ,  6.088858 ,  6.406141 ,  1.9819992],\n",
       "       [12.790573 , 11.470843 ,  6.1705856,  6.5737205,  2.0389895],\n",
       "       [14.951762 ,  9.84462  ,  7.1624746,  6.394813 ,  2.8564298],\n",
       "       [15.165998 , 10.21031  ,  7.10945  ,  6.4947033,  3.3803697],\n",
       "       [14.437731 ,  8.945122 ,  6.6681285,  7.027992 ,  2.506761 ],\n",
       "       [ 8.846923 ,  8.04403  ,  4.558605 ,  7.9521656,  4.694023 ],\n",
       "       [13.115244 , 11.919203 ,  6.5070233,  6.5337095,  2.1098564],\n",
       "       [14.697525 ,  8.892426 ,  6.5864086,  6.9889503,  1.9779677],\n",
       "       [14.611612 ,  9.4151535,  6.6832833,  6.235041 ,  2.9526281],\n",
       "       [12.755839 , 11.431529 ,  6.092518 ,  6.602923 ,  2.0925121],\n",
       "       [12.712815 , 11.6698065,  6.3748126,  6.547609 ,  1.7775816],\n",
       "       [ 8.500148 ,  7.993844 ,  4.337424 ,  8.032472 ,  5.1910625],\n",
       "       [14.396189 ,  9.118872 ,  7.3728943,  6.6840296,  1.9623582],\n",
       "       [ 8.451496 ,  7.926568 ,  4.530502 ,  8.12121  ,  4.9276576],\n",
       "       [14.464295 ,  8.931212 ,  6.349433 ,  6.7290554,  2.4737835],\n",
       "       [15.013596 , 11.11409  ,  7.6364956,  6.814629 ,  3.5828233],\n",
       "       [15.11111  , 11.069951 ,  7.635774 ,  6.4575977,  3.5200834],\n",
       "       [14.402398 ,  8.987319 ,  7.0529404,  6.7887874,  2.021653 ],\n",
       "       [14.720895 , 11.302104 ,  7.0969257,  6.63955  ,  3.784856 ],\n",
       "       [14.704944 ,  9.961826 ,  7.006109 ,  6.9221745,  3.437051 ],\n",
       "       [14.6970415, 11.209184 ,  7.2621717,  6.271713 ,  3.7197301],\n",
       "       [15.086177 , 11.338776 ,  7.7496367,  6.3518786,  3.6121614],\n",
       "       [14.704815 ,  9.609015 ,  7.1782417,  6.629277 ,  3.4434097],\n",
       "       [ 8.803143 ,  7.9749513,  4.5253663,  7.841005 ,  4.8467536],\n",
       "       [ 9.56154  ,  8.034246 ,  3.4502897,  8.140494 ,  3.506248 ],\n",
       "       [ 9.206079 ,  7.7154975,  3.109901 ,  8.388895 ,  3.7415476],\n",
       "       [ 8.5313015,  8.156021 ,  4.339997 ,  8.132522 ,  5.235832 ],\n",
       "       [ 8.903234 ,  8.041248 ,  4.410796 ,  8.304158 ,  4.610967 ],\n",
       "       [14.519091 , 11.288719 ,  7.4479494,  6.509402 ,  3.5927916],\n",
       "       [15.057587 ,  9.579901 ,  6.588937 ,  6.362382 ,  3.0859547],\n",
       "       [14.368041 ,  9.126888 ,  7.17666  ,  6.411406 ,  2.0203962],\n",
       "       [14.964579 ,  9.772565 ,  7.377045 ,  6.3821425,  3.369845 ],\n",
       "       [14.7177105,  8.599847 ,  6.673859 ,  6.4230213,  2.2749145],\n",
       "       [13.823311 ,  8.409976 ,  6.357612 ,  6.9449987,  2.5706086],\n",
       "       [13.746784 ,  8.454288 ,  6.3313584,  6.983777 ,  2.7413945],\n",
       "       [14.376953 ,  9.339009 ,  7.6246476,  6.5994   ,  2.2463312],\n",
       "       [13.175634 , 10.6258955,  6.3677197,  6.484981 ,  1.73223  ],\n",
       "       [12.904052 , 11.581312 ,  6.182447 ,  6.5170546,  1.7797235],\n",
       "       [14.850679 , 11.005451 ,  6.6732345,  6.7584167,  3.634376 ],\n",
       "       [14.544939 ,  9.208763 ,  6.6716356,  7.1334615,  2.8292954],\n",
       "       [13.441173 , 11.738228 ,  6.6820564,  6.5306063,  2.5694566],\n",
       "       [14.617146 , 10.749626 ,  6.7639704,  6.6694326,  3.11959  ],\n",
       "       [14.750167 ,  8.732487 ,  6.411854 ,  6.416391 ,  2.4414475],\n",
       "       [14.896683 , 10.098434 ,  6.5704694,  6.545789 ,  2.9908338],\n",
       "       [ 9.406743 ,  8.100508 ,  4.8827176,  7.764634 ,  5.0307555],\n",
       "       [ 8.653623 ,  8.106096 ,  4.361417 ,  7.870599 ,  4.920092 ],\n",
       "       [14.213637 ,  8.611423 ,  6.8028073,  6.9204836,  2.290801 ]],\n",
       "      dtype=float32)"
      ]
     },
     "execution_count": 4,
     "metadata": {},
     "output_type": "execute_result"
    }
   ],
   "source": [
    "import umap.umap_ as umap\n",
    "\n",
    "reducer = umap.UMAP(n_components=5, n_epochs=500,random_state=42,\n",
    "                    metric='euclidean', n_neighbors=30, min_dist=0.1)\n",
    "reduced_data = reducer.fit_transform(scaled_limma)\n",
    "reduced_data"
   ]
  },
  {
   "cell_type": "markdown",
   "metadata": {
    "collapsed": false
   },
   "source": [
    "Exploring the optimal number of clusters"
   ]
  },
  {
   "cell_type": "code",
   "execution_count": 5,
   "metadata": {
    "ExecuteTime": {
     "end_time": "2023-10-07T15:07:52.420558Z",
     "start_time": "2023-10-07T15:07:51.308872Z"
    },
    "collapsed": false
   },
   "outputs": [
    {
     "data": {
      "image/png": "[encoded data removed]",
      "text/plain": [
       "<Figure size 800x550 with 2 Axes>"
      ]
     },
     "metadata": {},
     "output_type": "display_data"
    },
    {
     "data": {
      "text/plain": [
       "<Axes: title={'center': 'Distortion Score Elbow for KMeans Clustering'}, xlabel='k', ylabel='distortion score'>"
      ]
     },
     "execution_count": 5,
     "metadata": {},
     "output_type": "execute_result"
    }
   ],
   "source": [
    "from yellowbrick.cluster import KElbowVisualizer\n",
    "model = KMeans()\n",
    "\n",
    "visualizer = KElbowVisualizer(model, k=(2,10), timings=True)\n",
    "visualizer.fit(reduced_data)\n",
    "visualizer.show()"
   ]
  },
  {
   "cell_type": "markdown",
   "metadata": {
    "collapsed": false
   },
   "source": [
    "Clustering of dimensionality reduced data using kmeans"
   ]
  },
  {
   "cell_type": "code",
   "execution_count": 6,
   "metadata": {
    "ExecuteTime": {
     "end_time": "2023-10-07T15:07:53.589024Z",
     "start_time": "2023-10-07T15:07:53.560779Z"
    },
    "collapsed": false
   },
   "outputs": [],
   "source": [
    "kmeans = KMeans(n_clusters=5, random_state=42)  # Specify the number of clusters\n",
    "clusters = kmeans.fit(reduced_data)\n",
    "# clusters.labels_"
   ]
  },
  {
   "cell_type": "code",
   "execution_count": 7,
   "metadata": {
    "ExecuteTime": {
     "end_time": "2023-10-07T15:07:54.454676Z",
     "start_time": "2023-10-07T15:07:54.162424Z"
    },
    "collapsed": false
   },
   "outputs": [
    {
     "data": {
      "image/png": "[encoded data removed]",
      "text/plain": [
       "<Figure size 1050x700 with 1 Axes>"
      ]
     },
     "metadata": {},
     "output_type": "display_data"
    }
   ],
   "source": [
    "import matplotlib.pyplot as plt\n",
    "import numpy as np\n",
    "\n",
    "# Assuming reduced_data is UMAP-embedded data and clusters.labels_ contains cluster assignments\n",
    "\n",
    "# Create a figure for the scatter plot\n",
    "plt.figure(figsize=(10.5, 7))\n",
    "\n",
    "# Get unique cluster labels\n",
    "unique_labels = np.unique(clusters.labels_)\n",
    "\n",
    "# Define a mapping of cluster labels\n",
    "category_colors = {\n",
    "    \"Cluster A\": \"blue\",\n",
    "    \"Cluster B\": \"green\",\n",
    "    \"Cluster C\": \"orange\",\n",
    "    \"Cluster D\": \"red\",\n",
    "    \"Cluster E\": \"purple\"\n",
    "}\n",
    "# Initialize a list to store legend handles\n",
    "legend_handles = []\n",
    "categories = ['Cluster A', 'Cluster B', 'Cluster C', 'Cluster D', 'Cluster E']\n",
    "\n",
    "# Loop through different clusters and assign a unique color and label to each\n",
    "for label in unique_labels:\n",
    "    cluster_points = reduced_data[clusters.labels_ == label]\n",
    "\n",
    "    # Get the corresponding category label\n",
    "    category_label = categories[label]\n",
    "\n",
    "    # Get the color for the category label from the mapping\n",
    "    color = category_colors.get(category_label, 'gray')  # Default to gray if not found\n",
    "\n",
    "    # Plot the cluster points with the assigned color and label\n",
    "    scatter = plt.scatter(cluster_points[:, 0], cluster_points[:, 1], s=10, alpha=0.7, label=f'{category_label}', color=color)\n",
    "\n",
    "    # Append the scatter object to the legend handles\n",
    "    legend_handles.append(scatter)\n",
    "\n",
    "# Set font weight for x and y axis labels\n",
    "plt.rc('axes', labelweight='bold')\n",
    "\n",
    "# Add title and axis labels\n",
    "plt.title('KMeans Clustering Results', fontsize=22)\n",
    "plt.xlabel('UMAP Dimension 1', fontsize=22)\n",
    "plt.ylabel('UMAP Dimension 2', fontsize=22)\n",
    "\n",
    "plt.xticks(fontsize=22)\n",
    "plt.yticks(fontsize=22)\n",
    "\n",
    "# Add legend with increased marker size\n",
    "legend = plt.legend(handles=legend_handles, loc='upper left', fontsize=25)\n",
    "for legend_handle in legend.legendHandles:\n",
    "    legend_handle.set_sizes([150])  # Adjust the size as needed\n",
    "\n",
    "# Save the plot as a PDF file\n",
    "plt.savefig(\"/Users/zhangchenyang/Desktop/old_3_KMeans.pdf\", format=\"pdf\")\n",
    "\n",
    "# Show the plot\n",
    "plt.show()"
   ]
  },
  {
   "cell_type": "markdown",
   "metadata": {
    "collapsed": false
   },
   "source": [
    "Splicing the results after gene clustering with the original data"
   ]
  },
  {
   "cell_type": "code",
   "execution_count": 8,
   "metadata": {
    "ExecuteTime": {
     "end_time": "2023-10-07T15:07:56.037609Z",
     "start_time": "2023-10-07T15:07:56.026514Z"
    },
    "collapsed": false
   },
   "outputs": [
    {
     "data": {
      "text/html": [
       "<div>\n",
       "<style scoped>\n",
       "    .dataframe tbody tr th:only-of-type {\n",
       "        vertical-align: middle;\n",
       "    }\n",
       "\n",
       "    .dataframe tbody tr th {\n",
       "        vertical-align: top;\n",
       "    }\n",
       "\n",
       "    .dataframe thead th {\n",
       "        text-align: right;\n",
       "    }\n",
       "</style>\n",
       "<table border=\"1\" class=\"dataframe\">\n",
       "  <thead>\n",
       "    <tr style=\"text-align: right;\">\n",
       "      <th></th>\n",
       "      <th>X1006</th>\n",
       "      <th>X1012</th>\n",
       "      <th>X1018</th>\n",
       "      <th>X1023</th>\n",
       "      <th>X1027</th>\n",
       "      <th>X1039</th>\n",
       "      <th>X111</th>\n",
       "      <th>X13</th>\n",
       "      <th>X176</th>\n",
       "      <th>X184</th>\n",
       "      <th>...</th>\n",
       "      <th>X956</th>\n",
       "      <th>X963</th>\n",
       "      <th>X972</th>\n",
       "      <th>X973</th>\n",
       "      <th>X975</th>\n",
       "      <th>X988</th>\n",
       "      <th>X989</th>\n",
       "      <th>X990</th>\n",
       "      <th>X992</th>\n",
       "      <th>label</th>\n",
       "    </tr>\n",
       "  </thead>\n",
       "  <tbody>\n",
       "    <tr>\n",
       "      <th>AACS</th>\n",
       "      <td>0.040145</td>\n",
       "      <td>0.380907</td>\n",
       "      <td>-0.546453</td>\n",
       "      <td>0.485592</td>\n",
       "      <td>-1.283999</td>\n",
       "      <td>1.947714</td>\n",
       "      <td>-0.712846</td>\n",
       "      <td>-0.399685</td>\n",
       "      <td>-0.853669</td>\n",
       "      <td>0.558296</td>\n",
       "      <td>...</td>\n",
       "      <td>0.132191</td>\n",
       "      <td>0.332997</td>\n",
       "      <td>1.621314</td>\n",
       "      <td>0.740598</td>\n",
       "      <td>-1.278277</td>\n",
       "      <td>0.632864</td>\n",
       "      <td>-0.411796</td>\n",
       "      <td>-0.084379</td>\n",
       "      <td>-1.017602</td>\n",
       "      <td>2</td>\n",
       "    </tr>\n",
       "    <tr>\n",
       "      <th>ABCA8</th>\n",
       "      <td>0.850539</td>\n",
       "      <td>1.103616</td>\n",
       "      <td>-1.602605</td>\n",
       "      <td>0.672544</td>\n",
       "      <td>-0.397754</td>\n",
       "      <td>1.149659</td>\n",
       "      <td>1.140159</td>\n",
       "      <td>-0.199300</td>\n",
       "      <td>1.226691</td>\n",
       "      <td>2.136472</td>\n",
       "      <td>...</td>\n",
       "      <td>1.035865</td>\n",
       "      <td>-0.951173</td>\n",
       "      <td>1.379345</td>\n",
       "      <td>0.066544</td>\n",
       "      <td>0.072512</td>\n",
       "      <td>1.393987</td>\n",
       "      <td>-1.055761</td>\n",
       "      <td>0.619896</td>\n",
       "      <td>0.200372</td>\n",
       "      <td>2</td>\n",
       "    </tr>\n",
       "    <tr>\n",
       "      <th>ABCG2</th>\n",
       "      <td>-0.192338</td>\n",
       "      <td>0.154886</td>\n",
       "      <td>0.106349</td>\n",
       "      <td>0.200662</td>\n",
       "      <td>2.491124</td>\n",
       "      <td>-0.967348</td>\n",
       "      <td>0.769059</td>\n",
       "      <td>-0.170581</td>\n",
       "      <td>-0.820731</td>\n",
       "      <td>0.300132</td>\n",
       "      <td>...</td>\n",
       "      <td>-0.467576</td>\n",
       "      <td>0.668990</td>\n",
       "      <td>-0.630775</td>\n",
       "      <td>1.587003</td>\n",
       "      <td>0.495478</td>\n",
       "      <td>1.846550</td>\n",
       "      <td>2.301961</td>\n",
       "      <td>-1.119864</td>\n",
       "      <td>1.077416</td>\n",
       "      <td>4</td>\n",
       "    </tr>\n",
       "    <tr>\n",
       "      <th>AEBP1</th>\n",
       "      <td>-0.348931</td>\n",
       "      <td>-1.224473</td>\n",
       "      <td>-0.256958</td>\n",
       "      <td>-1.197296</td>\n",
       "      <td>0.570535</td>\n",
       "      <td>-1.604989</td>\n",
       "      <td>-1.151035</td>\n",
       "      <td>-0.248175</td>\n",
       "      <td>-0.154275</td>\n",
       "      <td>-0.482999</td>\n",
       "      <td>...</td>\n",
       "      <td>-0.685881</td>\n",
       "      <td>-0.266475</td>\n",
       "      <td>-0.964559</td>\n",
       "      <td>1.824401</td>\n",
       "      <td>0.719773</td>\n",
       "      <td>1.918543</td>\n",
       "      <td>0.659002</td>\n",
       "      <td>-1.388280</td>\n",
       "      <td>1.252222</td>\n",
       "      <td>4</td>\n",
       "    </tr>\n",
       "    <tr>\n",
       "      <th>AKR1C3</th>\n",
       "      <td>-0.425908</td>\n",
       "      <td>-2.031274</td>\n",
       "      <td>-0.036859</td>\n",
       "      <td>-1.326577</td>\n",
       "      <td>0.408186</td>\n",
       "      <td>-1.660805</td>\n",
       "      <td>-1.229664</td>\n",
       "      <td>0.244895</td>\n",
       "      <td>-0.107514</td>\n",
       "      <td>0.241079</td>\n",
       "      <td>...</td>\n",
       "      <td>-0.711486</td>\n",
       "      <td>-0.042643</td>\n",
       "      <td>-1.485030</td>\n",
       "      <td>1.824418</td>\n",
       "      <td>1.010818</td>\n",
       "      <td>1.918558</td>\n",
       "      <td>0.768676</td>\n",
       "      <td>-1.767086</td>\n",
       "      <td>1.157654</td>\n",
       "      <td>4</td>\n",
       "    </tr>\n",
       "    <tr>\n",
       "      <th>...</th>\n",
       "      <td>...</td>\n",
       "      <td>...</td>\n",
       "      <td>...</td>\n",
       "      <td>...</td>\n",
       "      <td>...</td>\n",
       "      <td>...</td>\n",
       "      <td>...</td>\n",
       "      <td>...</td>\n",
       "      <td>...</td>\n",
       "      <td>...</td>\n",
       "      <td>...</td>\n",
       "      <td>...</td>\n",
       "      <td>...</td>\n",
       "      <td>...</td>\n",
       "      <td>...</td>\n",
       "      <td>...</td>\n",
       "      <td>...</td>\n",
       "      <td>...</td>\n",
       "      <td>...</td>\n",
       "      <td>...</td>\n",
       "      <td>...</td>\n",
       "    </tr>\n",
       "    <tr>\n",
       "      <th>WASF1</th>\n",
       "      <td>-1.056959</td>\n",
       "      <td>-0.986973</td>\n",
       "      <td>0.870707</td>\n",
       "      <td>-0.623385</td>\n",
       "      <td>-1.284005</td>\n",
       "      <td>-1.111480</td>\n",
       "      <td>-1.455078</td>\n",
       "      <td>0.605962</td>\n",
       "      <td>-0.807262</td>\n",
       "      <td>0.139537</td>\n",
       "      <td>...</td>\n",
       "      <td>-0.530618</td>\n",
       "      <td>-0.578067</td>\n",
       "      <td>-0.608986</td>\n",
       "      <td>-0.959932</td>\n",
       "      <td>-1.278281</td>\n",
       "      <td>-0.489679</td>\n",
       "      <td>-1.055771</td>\n",
       "      <td>-1.188841</td>\n",
       "      <td>0.417101</td>\n",
       "      <td>0</td>\n",
       "    </tr>\n",
       "    <tr>\n",
       "      <th>WBSCR17</th>\n",
       "      <td>-1.056959</td>\n",
       "      <td>0.524670</td>\n",
       "      <td>-0.070059</td>\n",
       "      <td>0.287772</td>\n",
       "      <td>-0.184885</td>\n",
       "      <td>1.249278</td>\n",
       "      <td>0.159050</td>\n",
       "      <td>0.110120</td>\n",
       "      <td>0.536598</td>\n",
       "      <td>-0.314603</td>\n",
       "      <td>...</td>\n",
       "      <td>-0.339991</td>\n",
       "      <td>0.032358</td>\n",
       "      <td>0.369076</td>\n",
       "      <td>-0.254217</td>\n",
       "      <td>1.516298</td>\n",
       "      <td>-0.433239</td>\n",
       "      <td>-0.860817</td>\n",
       "      <td>-0.536976</td>\n",
       "      <td>-1.017604</td>\n",
       "      <td>2</td>\n",
       "    </tr>\n",
       "    <tr>\n",
       "      <th>XK</th>\n",
       "      <td>0.077672</td>\n",
       "      <td>-0.555972</td>\n",
       "      <td>0.150693</td>\n",
       "      <td>-0.883953</td>\n",
       "      <td>0.866965</td>\n",
       "      <td>-0.640794</td>\n",
       "      <td>-0.422113</td>\n",
       "      <td>-0.601048</td>\n",
       "      <td>-1.458618</td>\n",
       "      <td>0.373474</td>\n",
       "      <td>...</td>\n",
       "      <td>-0.613145</td>\n",
       "      <td>-0.003535</td>\n",
       "      <td>-0.722564</td>\n",
       "      <td>1.414694</td>\n",
       "      <td>0.083837</td>\n",
       "      <td>0.483782</td>\n",
       "      <td>0.915708</td>\n",
       "      <td>-0.090127</td>\n",
       "      <td>1.084210</td>\n",
       "      <td>4</td>\n",
       "    </tr>\n",
       "    <tr>\n",
       "      <th>ZNF804A</th>\n",
       "      <td>0.128000</td>\n",
       "      <td>-1.244650</td>\n",
       "      <td>-0.901279</td>\n",
       "      <td>-0.410168</td>\n",
       "      <td>0.272540</td>\n",
       "      <td>-1.067529</td>\n",
       "      <td>-0.814628</td>\n",
       "      <td>-0.626414</td>\n",
       "      <td>0.337216</td>\n",
       "      <td>-0.293214</td>\n",
       "      <td>...</td>\n",
       "      <td>-0.299439</td>\n",
       "      <td>0.297433</td>\n",
       "      <td>-1.614302</td>\n",
       "      <td>1.824403</td>\n",
       "      <td>1.391104</td>\n",
       "      <td>1.129406</td>\n",
       "      <td>0.885882</td>\n",
       "      <td>-1.116914</td>\n",
       "      <td>0.689314</td>\n",
       "      <td>4</td>\n",
       "    </tr>\n",
       "    <tr>\n",
       "      <th>ZNRF3</th>\n",
       "      <td>-0.849995</td>\n",
       "      <td>-0.761112</td>\n",
       "      <td>-2.342618</td>\n",
       "      <td>-1.282282</td>\n",
       "      <td>-0.882045</td>\n",
       "      <td>0.165098</td>\n",
       "      <td>-1.202791</td>\n",
       "      <td>0.146660</td>\n",
       "      <td>-1.458619</td>\n",
       "      <td>-0.454652</td>\n",
       "      <td>...</td>\n",
       "      <td>-1.732512</td>\n",
       "      <td>-1.530906</td>\n",
       "      <td>-1.281289</td>\n",
       "      <td>-0.668169</td>\n",
       "      <td>1.196613</td>\n",
       "      <td>-0.593375</td>\n",
       "      <td>-1.022102</td>\n",
       "      <td>-1.016668</td>\n",
       "      <td>1.228732</td>\n",
       "      <td>0</td>\n",
       "    </tr>\n",
       "  </tbody>\n",
       "</table>\n",
       "<p>197 rows × 86 columns</p>\n",
       "</div>"
      ],
      "text/plain": [
       "            X1006     X1012     X1018     X1023     X1027     X1039      X111  \\\n",
       "AACS     0.040145  0.380907 -0.546453  0.485592 -1.283999  1.947714 -0.712846   \n",
       "ABCA8    0.850539  1.103616 -1.602605  0.672544 -0.397754  1.149659  1.140159   \n",
       "ABCG2   -0.192338  0.154886  0.106349  0.200662  2.491124 -0.967348  0.769059   \n",
       "AEBP1   -0.348931 -1.224473 -0.256958 -1.197296  0.570535 -1.604989 -1.151035   \n",
       "AKR1C3  -0.425908 -2.031274 -0.036859 -1.326577  0.408186 -1.660805 -1.229664   \n",
       "...           ...       ...       ...       ...       ...       ...       ...   \n",
       "WASF1   -1.056959 -0.986973  0.870707 -0.623385 -1.284005 -1.111480 -1.455078   \n",
       "WBSCR17 -1.056959  0.524670 -0.070059  0.287772 -0.184885  1.249278  0.159050   \n",
       "XK       0.077672 -0.555972  0.150693 -0.883953  0.866965 -0.640794 -0.422113   \n",
       "ZNF804A  0.128000 -1.244650 -0.901279 -0.410168  0.272540 -1.067529 -0.814628   \n",
       "ZNRF3   -0.849995 -0.761112 -2.342618 -1.282282 -0.882045  0.165098 -1.202791   \n",
       "\n",
       "              X13      X176      X184  ...      X956      X963      X972  \\\n",
       "AACS    -0.399685 -0.853669  0.558296  ...  0.132191  0.332997  1.621314   \n",
       "ABCA8   -0.199300  1.226691  2.136472  ...  1.035865 -0.951173  1.379345   \n",
       "ABCG2   -0.170581 -0.820731  0.300132  ... -0.467576  0.668990 -0.630775   \n",
       "AEBP1   -0.248175 -0.154275 -0.482999  ... -0.685881 -0.266475 -0.964559   \n",
       "AKR1C3   0.244895 -0.107514  0.241079  ... -0.711486 -0.042643 -1.485030   \n",
       "...           ...       ...       ...  ...       ...       ...       ...   \n",
       "WASF1    0.605962 -0.807262  0.139537  ... -0.530618 -0.578067 -0.608986   \n",
       "WBSCR17  0.110120  0.536598 -0.314603  ... -0.339991  0.032358  0.369076   \n",
       "XK      -0.601048 -1.458618  0.373474  ... -0.613145 -0.003535 -0.722564   \n",
       "ZNF804A -0.626414  0.337216 -0.293214  ... -0.299439  0.297433 -1.614302   \n",
       "ZNRF3    0.146660 -1.458619 -0.454652  ... -1.732512 -1.530906 -1.281289   \n",
       "\n",
       "             X973      X975      X988      X989      X990      X992  label  \n",
       "AACS     0.740598 -1.278277  0.632864 -0.411796 -0.084379 -1.017602      2  \n",
       "ABCA8    0.066544  0.072512  1.393987 -1.055761  0.619896  0.200372      2  \n",
       "ABCG2    1.587003  0.495478  1.846550  2.301961 -1.119864  1.077416      4  \n",
       "AEBP1    1.824401  0.719773  1.918543  0.659002 -1.388280  1.252222      4  \n",
       "AKR1C3   1.824418  1.010818  1.918558  0.768676 -1.767086  1.157654      4  \n",
       "...           ...       ...       ...       ...       ...       ...    ...  \n",
       "WASF1   -0.959932 -1.278281 -0.489679 -1.055771 -1.188841  0.417101      0  \n",
       "WBSCR17 -0.254217  1.516298 -0.433239 -0.860817 -0.536976 -1.017604      2  \n",
       "XK       1.414694  0.083837  0.483782  0.915708 -0.090127  1.084210      4  \n",
       "ZNF804A  1.824403  1.391104  1.129406  0.885882 -1.116914  0.689314      4  \n",
       "ZNRF3   -0.668169  1.196613 -0.593375 -1.022102 -1.016668  1.228732      0  \n",
       "\n",
       "[197 rows x 86 columns]"
      ]
     },
     "execution_count": 8,
     "metadata": {},
     "output_type": "execute_result"
    }
   ],
   "source": [
    "cluster_data = scaled_limma.copy()\n",
    "cluster_data['label'] = clusters.labels_\n",
    "cluster_data"
   ]
  },
  {
   "cell_type": "markdown",
   "metadata": {
    "collapsed": false
   },
   "source": [
    "The number of Genes"
   ]
  },
  {
   "cell_type": "code",
   "execution_count": 9,
   "metadata": {
    "ExecuteTime": {
     "end_time": "2023-10-07T15:07:57.766078Z",
     "start_time": "2023-10-07T15:07:57.760375Z"
    },
    "collapsed": false
   },
   "outputs": [
    {
     "name": "stdout",
     "output_type": "stream",
     "text": [
      "2: 50 次\n",
      "4: 31 次\n",
      "0: 61 次\n",
      "1: 28 次\n",
      "3: 27 次\n"
     ]
    }
   ],
   "source": [
    "from collections import Counter\n",
    "\n",
    "element_counts = Counter(cluster_data['label'])\n",
    "\n",
    "# 打印结果\n",
    "for element, count in element_counts.items():\n",
    "    print(f\"{element}: {count} times\")"
   ]
  },
  {
   "cell_type": "markdown",
   "metadata": {
    "collapsed": false
   },
   "source": [
    "Plotting the number of genes on a bar graph"
   ]
  },
  {
   "cell_type": "code",
   "execution_count": 33,
   "metadata": {
    "ExecuteTime": {
     "end_time": "2023-09-27T14:55:00.975571Z",
     "start_time": "2023-09-27T14:55:00.837648Z"
    },
    "collapsed": false
   },
   "outputs": [
    {
     "data": {
      "image/png": "[encoded data removed]",
      "text/plain": [
       "<Figure size 600x400 with 1 Axes>"
      ]
     },
     "metadata": {},
     "output_type": "display_data"
    }
   ],
   "source": [
    "import seaborn as sns\n",
    "import matplotlib.pyplot as plt\n",
    "\n",
    "# Assuming you have a list of categories and corresponding colors\n",
    "category_colors = {\n",
    "    \"Cluster A\": \"blue\",\n",
    "    \"Cluster B\": \"green\",\n",
    "    \"Cluster C\": \"orange\",\n",
    "    \"Cluster D\": \"red\",\n",
    "    \"Cluster E\": \"purple\"\n",
    "}\n",
    "\n",
    "# Assuming you have a list of categories and corresponding values\n",
    "categories = [\"Cluster A\", \"Cluster B\", \"Cluster C\", \"Cluster D\", \"Cluster E\"]\n",
    "values = [61, 28, 50, 27, 31]\n",
    "\n",
    "# Create Seaborn style bar plot\n",
    "sns.set(style=\"whitegrid\")\n",
    "\n",
    "# Specify the bar width\n",
    "bar_width = 0.4\n",
    "\n",
    "# Create the bar plot and set the palette based on category_colors\n",
    "plt.figure(figsize=(6, 4))\n",
    "sns.barplot(x=categories, y=values, palette=[category_colors[cat] for cat in categories], ci=None, capsize=0.2, width=bar_width)\n",
    "\n",
    "# Set the font weight for the x and y axis labels\n",
    "plt.rc('axes', labelweight='bold')\n",
    "\n",
    "# Set the labels for x and y axes\n",
    "plt.xlabel(\"Clusters\", fontsize=13)\n",
    "plt.ylabel(\"Number of Genes\",  fontsize=13)\n",
    "\n",
    "plt.xticks(fontsize=12)\n",
    "plt.yticks(fontsize=12)\n",
    "\n",
    "# Show the plot\n",
    "plt.tight_layout()\n",
    "\n",
    "# Save the plot as a PDF file\n",
    "plt.savefig(\"/Users/zhangchenyang/Desktop/old_3_numbers.pdf\", format=\"pdf\")\n",
    "\n",
    "# Show the plot\n",
    "plt.show()\n"
   ]
  },
  {
   "cell_type": "markdown",
   "metadata": {
    "collapsed": false
   },
   "source": [
    "Extraction of the first principal component for each type of gene"
   ]
  },
  {
   "cell_type": "code",
   "execution_count": 10,
   "metadata": {
    "ExecuteTime": {
     "end_time": "2023-10-07T15:08:00.676672Z",
     "start_time": "2023-10-07T15:08:00.651238Z"
    },
    "collapsed": false
   },
   "outputs": [
    {
     "data": {
      "text/html": [
       "<div>\n",
       "<style scoped>\n",
       "    .dataframe tbody tr th:only-of-type {\n",
       "        vertical-align: middle;\n",
       "    }\n",
       "\n",
       "    .dataframe tbody tr th {\n",
       "        vertical-align: top;\n",
       "    }\n",
       "\n",
       "    .dataframe thead th {\n",
       "        text-align: right;\n",
       "    }\n",
       "</style>\n",
       "<table border=\"1\" class=\"dataframe\">\n",
       "  <thead>\n",
       "    <tr style=\"text-align: right;\">\n",
       "      <th></th>\n",
       "      <th>ClusterA</th>\n",
       "      <th>ClusterB</th>\n",
       "      <th>ClusterC</th>\n",
       "      <th>ClusterD</th>\n",
       "      <th>ClusterE</th>\n",
       "      <th>CDR</th>\n",
       "    </tr>\n",
       "  </thead>\n",
       "  <tbody>\n",
       "    <tr>\n",
       "      <th>0</th>\n",
       "      <td>-3.111681</td>\n",
       "      <td>8.764876</td>\n",
       "      <td>5.596656</td>\n",
       "      <td>-2.350770</td>\n",
       "      <td>-0.363778</td>\n",
       "      <td>CDR2</td>\n",
       "    </tr>\n",
       "    <tr>\n",
       "      <th>1</th>\n",
       "      <td>-0.813034</td>\n",
       "      <td>-5.195916</td>\n",
       "      <td>-4.019205</td>\n",
       "      <td>-4.144205</td>\n",
       "      <td>-4.262915</td>\n",
       "      <td>CDR0</td>\n",
       "    </tr>\n",
       "    <tr>\n",
       "      <th>2</th>\n",
       "      <td>0.865323</td>\n",
       "      <td>0.210081</td>\n",
       "      <td>1.682452</td>\n",
       "      <td>-2.040741</td>\n",
       "      <td>-1.716661</td>\n",
       "      <td>CDR0</td>\n",
       "    </tr>\n",
       "    <tr>\n",
       "      <th>3</th>\n",
       "      <td>-2.096346</td>\n",
       "      <td>2.254714</td>\n",
       "      <td>-2.652047</td>\n",
       "      <td>-1.834963</td>\n",
       "      <td>-3.403392</td>\n",
       "      <td>CDR2</td>\n",
       "    </tr>\n",
       "    <tr>\n",
       "      <th>4</th>\n",
       "      <td>-1.298082</td>\n",
       "      <td>3.806947</td>\n",
       "      <td>7.226237</td>\n",
       "      <td>-1.838427</td>\n",
       "      <td>4.148587</td>\n",
       "      <td>CDR2</td>\n",
       "    </tr>\n",
       "    <tr>\n",
       "      <th>...</th>\n",
       "      <td>...</td>\n",
       "      <td>...</td>\n",
       "      <td>...</td>\n",
       "      <td>...</td>\n",
       "      <td>...</td>\n",
       "      <td>...</td>\n",
       "    </tr>\n",
       "    <tr>\n",
       "      <th>80</th>\n",
       "      <td>-1.417393</td>\n",
       "      <td>3.551265</td>\n",
       "      <td>5.638964</td>\n",
       "      <td>0.170422</td>\n",
       "      <td>4.637248</td>\n",
       "      <td>CDR2</td>\n",
       "    </tr>\n",
       "    <tr>\n",
       "      <th>81</th>\n",
       "      <td>-1.109580</td>\n",
       "      <td>-3.229742</td>\n",
       "      <td>-1.362751</td>\n",
       "      <td>6.214908</td>\n",
       "      <td>8.651514</td>\n",
       "      <td>CDR1</td>\n",
       "    </tr>\n",
       "    <tr>\n",
       "      <th>82</th>\n",
       "      <td>-1.660555</td>\n",
       "      <td>5.174661</td>\n",
       "      <td>6.642004</td>\n",
       "      <td>0.935011</td>\n",
       "      <td>5.031258</td>\n",
       "      <td>CDR2</td>\n",
       "    </tr>\n",
       "    <tr>\n",
       "      <th>83</th>\n",
       "      <td>-0.853239</td>\n",
       "      <td>-3.747411</td>\n",
       "      <td>-2.924285</td>\n",
       "      <td>-4.831246</td>\n",
       "      <td>-4.590978</td>\n",
       "      <td>CDR0</td>\n",
       "    </tr>\n",
       "    <tr>\n",
       "      <th>84</th>\n",
       "      <td>-1.546969</td>\n",
       "      <td>4.474315</td>\n",
       "      <td>6.985899</td>\n",
       "      <td>-1.013570</td>\n",
       "      <td>5.194233</td>\n",
       "      <td>CDR2</td>\n",
       "    </tr>\n",
       "  </tbody>\n",
       "</table>\n",
       "<p>85 rows × 6 columns</p>\n",
       "</div>"
      ],
      "text/plain": [
       "    ClusterA  ClusterB  ClusterC  ClusterD  ClusterE   CDR\n",
       "0  -3.111681  8.764876  5.596656 -2.350770 -0.363778  CDR2\n",
       "1  -0.813034 -5.195916 -4.019205 -4.144205 -4.262915  CDR0\n",
       "2   0.865323  0.210081  1.682452 -2.040741 -1.716661  CDR0\n",
       "3  -2.096346  2.254714 -2.652047 -1.834963 -3.403392  CDR2\n",
       "4  -1.298082  3.806947  7.226237 -1.838427  4.148587  CDR2\n",
       "..       ...       ...       ...       ...       ...   ...\n",
       "80 -1.417393  3.551265  5.638964  0.170422  4.637248  CDR2\n",
       "81 -1.109580 -3.229742 -1.362751  6.214908  8.651514  CDR1\n",
       "82 -1.660555  5.174661  6.642004  0.935011  5.031258  CDR2\n",
       "83 -0.853239 -3.747411 -2.924285 -4.831246 -4.590978  CDR0\n",
       "84 -1.546969  4.474315  6.985899 -1.013570  5.194233  CDR2\n",
       "\n",
       "[85 rows x 6 columns]"
      ]
     },
     "execution_count": 10,
     "metadata": {},
     "output_type": "execute_result"
    }
   ],
   "source": [
    "from sklearn.decomposition import PCA\n",
    "\n",
    "cluster_class_data  = pd.DataFrame()\n",
    "for m in range(5):\n",
    "    class_m = cluster_data[cluster_data['label'] == m]\n",
    "    class_m = class_m.iloc[:,:-1].T\n",
    "    # first principal component\n",
    "    pca = PCA(n_components=1)\n",
    "    cluster_class_data = pd.concat([cluster_class_data, pd.DataFrame(pca.fit_transform(class_m)[:,0])], axis=1)\n",
    "\n",
    "\n",
    "cluster_class_data.columns = [\"ClusterA\", \"ClusterB\", \"ClusterC\", \"ClusterD\", \"ClusterE\"]\n",
    "\n",
    "cluster_class_data['fenzu_list'] = cluster_data.columns[:-1]\n",
    "cluster_class_data= pd.merge(cluster_class_data, group, left_on='fenzu_list',right_on='BrainBank')\n",
    "\n",
    "cluster_class_data.drop(['fenzu_list','BrainBank'],axis=1,inplace=True)\n",
    "cluster_class_data"
   ]
  },
  {
   "cell_type": "markdown",
   "metadata": {
    "collapsed": false
   },
   "source": [
    "Calculate the variance contribution of the first principal component"
   ]
  },
  {
   "cell_type": "code",
   "execution_count": 11,
   "metadata": {
    "ExecuteTime": {
     "end_time": "2023-10-07T15:08:02.819094Z",
     "start_time": "2023-10-07T15:08:02.763431Z"
    },
    "collapsed": false
   },
   "outputs": [
    {
     "name": "stdout",
     "output_type": "stream",
     "text": [
      "0.1699216032427904\n",
      "0.5338668529769856\n",
      "0.3711736837129753\n",
      "0.521321272697422\n",
      "0.5364056091241008\n"
     ]
    }
   ],
   "source": [
    "for m in range(5):\n",
    "    class_m = cluster_data[cluster_data['label'] == m]\n",
    "    class_m = class_m.iloc[:,:-1].T\n",
    "    # first principal component\n",
    "    pca = PCA()\n",
    "    pca.fit_transform(class_m)\n",
    "    first_principal_component_variance = pca.explained_variance_[0]  # Variance of the first principal component\n",
    "    total_variance = np.sum(pca.explained_variance_)  # total variance\n",
    "    contribution_ratio = first_principal_component_variance / total_variance\n",
    "    print(contribution_ratio)"
   ]
  },
  {
   "cell_type": "markdown",
   "metadata": {
    "collapsed": false
   },
   "source": [
    "Plotting the bar chart of the variance contribution of the first principal component"
   ]
  },
  {
   "cell_type": "code",
   "execution_count": 12,
   "metadata": {
    "ExecuteTime": {
     "end_time": "2023-10-06T07:47:48.172375Z",
     "start_time": "2023-10-06T07:47:48.010613Z"
    },
    "collapsed": false
   },
   "outputs": [
    {
     "data": {
      "image/png": "[encoded data removed]",
      "text/plain": [
       "<Figure size 600x400 with 1 Axes>"
      ]
     },
     "metadata": {},
     "output_type": "display_data"
    }
   ],
   "source": [
    "import seaborn as sns\n",
    "import matplotlib.pyplot as plt\n",
    "\n",
    "# Assuming you have a list of categories and corresponding colors\n",
    "category_colors = {\n",
    "    \"Cluster A\": \"blue\",\n",
    "    \"Cluster B\": \"green\",\n",
    "    \"Cluster C\": \"orange\",\n",
    "    \"Cluster D\": \"red\",\n",
    "    \"Cluster E\": \"purple\"\n",
    "}\n",
    "\n",
    "categories = [\"Cluster A\", \"Cluster B\", \"Cluster C\", \"Cluster D\", \"Cluster E\"]\n",
    "values = [0.1699216032427904, 0.5338668529769856, 0.3711736837129753, 0.521321272697422, 0.5364056091241008]\n",
    "\n",
    "# Create Seaborn style bar plot\n",
    "sns.set(style=\"whitegrid\")\n",
    "\n",
    "# Specify the bar width\n",
    "bar_width = 0.4\n",
    "\n",
    "# Create the bar plot and set the palette based on category_colors\n",
    "plt.figure(figsize=(6, 4))\n",
    "sns.barplot(x=categories, y=values, palette=[category_colors[cat] for cat in categories], ci=None, capsize=0.2, width=bar_width)\n",
    "\n",
    "# Set the font weight for the x and y axis labels\n",
    "plt.rc('axes', labelweight='bold')\n",
    "\n",
    "# Set the labels for x and y axes\n",
    "plt.xlabel(\"Clusters\", fontsize=13)\n",
    "plt.ylabel(\"Variance contribution rates\", fontsize=13)\n",
    "\n",
    "plt.xticks(fontsize=12)\n",
    "plt.yticks(fontsize=12)\n",
    "\n",
    "# Show the plot\n",
    "plt.tight_layout()\n",
    "\n",
    "# Save the plot as a PDF file\n",
    "plt.savefig(\"/Users/zhangchenyang/Desktop/old_3_contribution.pdf\", format=\"pdf\")\n",
    "\n",
    "# Show the plot\n",
    "plt.show()"
   ]
  },
  {
   "cell_type": "markdown",
   "metadata": {
    "collapsed": false
   },
   "source": [
    "Decision Tree Validation"
   ]
  },
  {
   "cell_type": "code",
   "execution_count": 12,
   "metadata": {
    "ExecuteTime": {
     "end_time": "2023-10-07T15:08:06.623447Z",
     "start_time": "2023-10-07T15:08:06.601280Z"
    },
    "collapsed": false
   },
   "outputs": [],
   "source": [
    "from sklearn.model_selection import cross_val_score\n",
    "from sklearn.tree import DecisionTreeClassifier\n",
    "\n",
    "from sklearn import tree\n",
    "import graphviz\n",
    "\n",
    "from sklearn.utils import shuffle\n",
    "cluster_class_data = shuffle(cluster_class_data, random_state=42)"
   ]
  },
  {
   "cell_type": "markdown",
   "metadata": {
    "collapsed": false
   },
   "source": [
    "Disrupt the order of the samples 20 times and calculate the average accuracy"
   ]
  },
  {
   "cell_type": "code",
   "execution_count": 14,
   "metadata": {
    "ExecuteTime": {
     "end_time": "2023-10-07T15:08:10.701254Z",
     "start_time": "2023-10-07T15:08:08.170608Z"
    },
    "collapsed": false
   },
   "outputs": [
    {
     "name": "stdout",
     "output_type": "stream",
     "text": [
      "早中晚： 0.8872619047619048\n",
      "早中： 0.9040509259259257\n",
      "早晚： 0.8804629629629632\n",
      "中晚： 0.9241666666666667\n"
     ]
    }
   ],
   "source": [
    "e_m_l = []\n",
    "e_m = []\n",
    "e_l = []\n",
    "m_l = []\n",
    "\n",
    "for i in range(20):\n",
    "    cluster_class_data = shuffle(cluster_class_data, random_state=i)\n",
    "\n",
    "    # early, middle and late stage\n",
    "    data1 = cluster_class_data.copy()\n",
    "    CART_tree = DecisionTreeClassifier(criterion='gini', splitter='best', max_depth=2)\n",
    "    temp1 = cross_val_score(CART_tree, data1.drop('CDR', axis=1),\n",
    "                            data1['CDR'], cv=6,n_jobs=-1).mean()\n",
    "    e_m_l.append(temp1)\n",
    "\n",
    "    # early and middle stage\n",
    "    data2 = cluster_class_data[cluster_class_data['CDR'] != 'CDR2']\n",
    "    CART_tree = DecisionTreeClassifier(criterion='gini', splitter='best', max_depth=1)\n",
    "    temp2 = cross_val_score(CART_tree, data2.drop('CDR', axis=1),\n",
    "                            data2['CDR'], cv=6,n_jobs=-1).mean()\n",
    "    e_m.append(temp2)\n",
    "\n",
    "    # early and late stage\n",
    "    data3 = cluster_class_data[cluster_class_data['CDR'] != 'CDR1']\n",
    "    CART_tree = DecisionTreeClassifier(criterion='gini', splitter='best', max_depth=1)\n",
    "    temp3 = cross_val_score(CART_tree, data3.drop('CDR', axis=1),\n",
    "                            data3['CDR'], cv=6,n_jobs=-1).mean()\n",
    "    e_l.append(temp3)\n",
    "\n",
    "    # middle and late stage\n",
    "    data4 = cluster_class_data[cluster_class_data['CDR'] != 'CDR0']\n",
    "    CART_tree = DecisionTreeClassifier(criterion='gini', splitter='best', max_depth=1)\n",
    "    temp4 = cross_val_score(CART_tree, data4.drop('CDR', axis=1),\n",
    "                            data4['CDR'], cv=6,n_jobs=-1).mean()\n",
    "    m_l.append(temp4)\n",
    "\n",
    "print('early, middle and late stage：', np.mean(e_m_l))\n",
    "print('early and middle stage：', np.mean(e_m))\n",
    "print('early and late stage：', np.mean(e_l))\n",
    "print('middle and late stage：', np.mean(m_l))"
   ]
  },
  {
   "cell_type": "markdown",
   "metadata": {
    "collapsed": false
   },
   "source": [
    " Disrupt the sample order 20 times and calculate the average feature importance"
   ]
  },
  {
   "cell_type": "code",
   "execution_count": 15,
   "metadata": {
    "ExecuteTime": {
     "end_time": "2023-10-07T15:08:11.048483Z",
     "start_time": "2023-10-07T15:08:10.711562Z"
    },
    "collapsed": false
   },
   "outputs": [
    {
     "name": "stdout",
     "output_type": "stream",
     "text": [
      "早中晚期： [0.000428250824040126, 0.5420484534069573, 0.004446843553814331, 0.36449087765208804, 0.08858557456310004]\n",
      "早中期： [0.0, 0.0, 0.0, 0.8083333333333333, 0.19166666666666668]\n",
      "早晚期： [0.0, 0.49166666666666664, 0.475, 0.0, 0.03333333333333333]\n",
      "中晚期： [0.0, 0.9666666666666667, 0.0, 0.03333333333333333, 0.0]\n"
     ]
    }
   ],
   "source": [
    "# View the classification features used for each cross-validation\n",
    "from sklearn.model_selection import KFold\n",
    "\n",
    "feature_importances_1 = []\n",
    "feature_importances_2 = []\n",
    "feature_importances_3 = []\n",
    "feature_importances_4 = []\n",
    "\n",
    "for i in range(20):\n",
    "    cluster_class_data = shuffle(cluster_class_data, random_state=i)\n",
    "\n",
    "    # early, middle and late stage---------------------------------------------------------------------------------\n",
    "    data1 = cluster_class_data.copy()\n",
    "\n",
    "    X = data1.drop('CDR', axis=1)\n",
    "    y = data1['CDR']\n",
    "    clf = DecisionTreeClassifier(criterion='gini', splitter='best', max_depth=2)\n",
    "    cv = KFold(n_splits=6,)\n",
    "\n",
    "    for train_index, test_index in cv.split(X,y):\n",
    "        X_train, X_test = X.iloc[train_index], X.iloc[test_index]\n",
    "        y_train, y_test = y.iloc[train_index], y.iloc[test_index]\n",
    "        clf.fit(X_train, y_train)\n",
    "\n",
    "        importance = clf.feature_importances_\n",
    "        feature_importances_1.append(list(importance))\n",
    "\n",
    "\n",
    "    # early and middle stage---------------------------------------------------------------------------------\n",
    "    data2 = cluster_class_data[cluster_class_data['CDR'] != 'CDR2']\n",
    "\n",
    "    X = data2.drop('CDR', axis=1)\n",
    "    y = data2['CDR']\n",
    "    clf = DecisionTreeClassifier(criterion='gini', splitter='best', max_depth=1)\n",
    "    cv = KFold(n_splits=6,)\n",
    "\n",
    "    for train_index, test_index in cv.split(X,y):\n",
    "        X_train, X_test = X.iloc[train_index], X.iloc[test_index]\n",
    "        y_train, y_test = y.iloc[train_index], y.iloc[test_index]\n",
    "        clf.fit(X_train, y_train)\n",
    "\n",
    "        importance = clf.feature_importances_\n",
    "        feature_importances_2.append(list(importance))\n",
    "\n",
    "\n",
    "    # early and late stage---------------------------------------------------------------------------------\n",
    "    data3 = cluster_class_data[cluster_class_data['CDR'] != 'CDR1']\n",
    "\n",
    "    X = data3.drop('CDR', axis=1)\n",
    "    y = data3['CDR']\n",
    "    clf = DecisionTreeClassifier(criterion='gini', splitter='best', max_depth=1)\n",
    "    cv = KFold(n_splits=6,)\n",
    "\n",
    "    for train_index, test_index in cv.split(X,y):\n",
    "        X_train, X_test = X.iloc[train_index], X.iloc[test_index]\n",
    "        y_train, y_test = y.iloc[train_index], y.iloc[test_index]\n",
    "        clf.fit(X_train, y_train)\n",
    "\n",
    "        importance = clf.feature_importances_\n",
    "        feature_importances_3.append(list(importance))\n",
    "\n",
    "\n",
    "    # middle and late stage---------------------------------------------------------------------------------\n",
    "    data4 = cluster_class_data[cluster_class_data['CDR'] != 'CDR0']\n",
    "\n",
    "    X = data4.drop('CDR', axis=1)\n",
    "    y = data4['CDR']\n",
    "    clf = DecisionTreeClassifier(criterion='gini', splitter='best', max_depth=1)\n",
    "    cv = KFold(n_splits=6,)\n",
    "\n",
    "    for train_index, test_index in cv.split(X,y):\n",
    "        X_train, X_test = X.iloc[train_index], X.iloc[test_index]\n",
    "        y_train, y_test = y.iloc[train_index], y.iloc[test_index]\n",
    "        clf.fit(X_train, y_train)\n",
    "\n",
    "        importance = clf.feature_importances_\n",
    "        feature_importances_4.append(list(importance))\n",
    "\n",
    "\n",
    "\n",
    "# early, middle and late stage---------------------------------------------------------------------------------\n",
    "sums = [0] * len(feature_importances_1[0])\n",
    "for sublist in feature_importances_1:\n",
    "    for i, value in enumerate(sublist):\n",
    "        sums[i] += value\n",
    "num_sublists = len(feature_importances_1)\n",
    "averages = [total / num_sublists for total in sums]\n",
    "print(\"early, middle and late stage：\", averages)\n",
    "\n",
    "\n",
    "# early and middle stage---------------------------------------------------------------------------------\n",
    "sums = [0] * len(feature_importances_2[0])\n",
    "for sublist in feature_importances_2:\n",
    "    for i, value in enumerate(sublist):\n",
    "        sums[i] += value\n",
    "num_sublists = len(feature_importances_2)\n",
    "averages = [total / num_sublists for total in sums]\n",
    "print(\"early and middle stage：\", averages)\n",
    "\n",
    "\n",
    "# early and late stage---------------------------------------------------------------------------------\n",
    "sums = [0] * len(feature_importances_3[0])\n",
    "for sublist in feature_importances_3:\n",
    "    for i, value in enumerate(sublist):\n",
    "        sums[i] += value\n",
    "num_sublists = len(feature_importances_3)\n",
    "averages = [total / num_sublists for total in sums]\n",
    "print(\"early and late stage：\", averages)\n",
    "\n",
    "\n",
    "# middle and late stage---------------------------------------------------------------------------------\n",
    "sums = [0] * len(feature_importances_4[0])\n",
    "for sublist in feature_importances_4:\n",
    "    for i, value in enumerate(sublist):\n",
    "        sums[i] += value\n",
    "num_sublists = len(feature_importances_4)\n",
    "averages = [total / num_sublists for total in sums]\n",
    "print(\"middle and late stage：\", averages)"
   ]
  },
  {
   "cell_type": "markdown",
   "metadata": {
    "collapsed": false
   },
   "source": [
    "### Early, middle and late decision trees"
   ]
  },
  {
   "cell_type": "code",
   "execution_count": 16,
   "metadata": {
    "ExecuteTime": {
     "end_time": "2023-10-07T15:08:12.414980Z",
     "start_time": "2023-10-07T15:08:12.409287Z"
    },
    "collapsed": false
   },
   "outputs": [
    {
     "data": {
      "text/plain": [
       "array(['CDR1', 'CDR2', 'CDR0'], dtype=object)"
      ]
     },
     "execution_count": 16,
     "metadata": {},
     "output_type": "execute_result"
    }
   ],
   "source": [
    "dt_data_ = cluster_class_data.copy()\n",
    "\n",
    "feature=dt_data_.columns.to_list()[:-1]\n",
    "class_names = dt_data_['CDR'].unique()\n",
    "class_names"
   ]
  },
  {
   "cell_type": "code",
   "execution_count": 19,
   "metadata": {
    "ExecuteTime": {
     "end_time": "2023-10-07T14:27:58.946566Z",
     "start_time": "2023-10-07T14:27:58.924645Z"
    },
    "collapsed": false
   },
   "outputs": [
    {
     "data": {
      "text/plain": [
       "0.8941176470588236"
      ]
     },
     "execution_count": 19,
     "metadata": {},
     "output_type": "execute_result"
    }
   ],
   "source": [
    "CART_tree = DecisionTreeClassifier(\n",
    "    criterion='gini', splitter='best', max_depth=2)\n",
    "\n",
    "e_m_l = cross_val_score(CART_tree, dt_data_.drop('CDR', axis=1),\n",
    "                        dt_data_['CDR'], cv=5,n_jobs=-1).mean()\n",
    "\n",
    "e_m_l"
   ]
  },
  {
   "cell_type": "code",
   "execution_count": 45,
   "metadata": {
    "ExecuteTime": {
     "end_time": "2023-10-06T08:23:29.928935Z",
     "start_time": "2023-10-06T08:23:29.779220Z"
    },
    "collapsed": false
   },
   "outputs": [
    {
     "data": {
      "image/svg+xml": [
       "<?xml version=\"1.0\" encoding=\"UTF-8\" standalone=\"no\"?>\n",
       "<!DOCTYPE svg PUBLIC \"-//W3C//DTD SVG 1.1//EN\"\n",
       " \"http://www.w3.org/Graphics/SVG/1.1/DTD/svg11.dtd\">\n",
       "<!-- Generated by graphviz version 2.50.0 (0)\n",
       " -->\n",
       "<!-- Title: Tree Pages: 1 -->\n",
       "<svg width=\"331pt\" height=\"314pt\"\n",
       " viewBox=\"0.00 0.00 331.00 314.00\" xmlns=\"http://www.w3.org/2000/svg\" xmlns:xlink=\"http://www.w3.org/1999/xlink\">\n",
       "<g id=\"graph0\" class=\"graph\" transform=\"scale(1 1) rotate(0) translate(4 310)\">\n",
       "<title>Tree</title>\n",
       "<polygon fill=\"white\" stroke=\"transparent\" points=\"-4,4 -4,-310 327,-310 327,4 -4,4\"/>\n",
       "<!-- 0 -->\n",
       "<g id=\"node1\" class=\"node\">\n",
       "<title>0</title>\n",
       "<path fill=\"#eee4fb\" stroke=\"black\" d=\"M248.5,-306C248.5,-306 140.5,-306 140.5,-306 134.5,-306 128.5,-300 128.5,-294 128.5,-294 128.5,-235 128.5,-235 128.5,-229 134.5,-223 140.5,-223 140.5,-223 248.5,-223 248.5,-223 254.5,-223 260.5,-229 260.5,-235 260.5,-235 260.5,-294 260.5,-294 260.5,-300 254.5,-306 248.5,-306\"/>\n",
       "<text text-anchor=\"start\" x=\"147.5\" y=\"-290.8\" font-family=\"Helvetica,sans-Serif\" font-size=\"14.00\">ClusterB ≤ 0.74</text>\n",
       "<text text-anchor=\"start\" x=\"162.5\" y=\"-275.8\" font-family=\"Helvetica,sans-Serif\" font-size=\"14.00\">gini = 0.66</text>\n",
       "<text text-anchor=\"start\" x=\"153.5\" y=\"-260.8\" font-family=\"Helvetica,sans-Serif\" font-size=\"14.00\">samples = 85</text>\n",
       "<text text-anchor=\"start\" x=\"136.5\" y=\"-245.8\" font-family=\"Helvetica,sans-Serif\" font-size=\"14.00\">value = [25, 26, 34]</text>\n",
       "<text text-anchor=\"start\" x=\"152.5\" y=\"-230.8\" font-family=\"Helvetica,sans-Serif\" font-size=\"14.00\">class = CDR2</text>\n",
       "</g>\n",
       "<!-- 1 -->\n",
       "<g id=\"node2\" class=\"node\">\n",
       "<title>1</title>\n",
       "<path fill=\"#f8fefb\" stroke=\"black\" d=\"M176,-187C176,-187 75,-187 75,-187 69,-187 63,-181 63,-175 63,-175 63,-116 63,-116 63,-110 69,-104 75,-104 75,-104 176,-104 176,-104 182,-104 188,-110 188,-116 188,-116 188,-175 188,-175 188,-181 182,-187 176,-187\"/>\n",
       "<text text-anchor=\"start\" x=\"72.5\" y=\"-171.8\" font-family=\"Helvetica,sans-Serif\" font-size=\"14.00\">ClusterD ≤ &#45;1.141</text>\n",
       "<text text-anchor=\"start\" x=\"90\" y=\"-156.8\" font-family=\"Helvetica,sans-Serif\" font-size=\"14.00\">gini = 0.565</text>\n",
       "<text text-anchor=\"start\" x=\"84.5\" y=\"-141.8\" font-family=\"Helvetica,sans-Serif\" font-size=\"14.00\">samples = 55</text>\n",
       "<text text-anchor=\"start\" x=\"71\" y=\"-126.8\" font-family=\"Helvetica,sans-Serif\" font-size=\"14.00\">value = [25, 26, 4]</text>\n",
       "<text text-anchor=\"start\" x=\"83.5\" y=\"-111.8\" font-family=\"Helvetica,sans-Serif\" font-size=\"14.00\">class = CDR1</text>\n",
       "</g>\n",
       "<!-- 0&#45;&gt;1 -->\n",
       "<g id=\"edge1\" class=\"edge\">\n",
       "<title>0&#45;&gt;1</title>\n",
       "<path fill=\"none\" stroke=\"black\" d=\"M170.56,-222.91C165.42,-214.2 159.94,-204.9 154.63,-195.89\"/>\n",
       "<polygon fill=\"black\" stroke=\"black\" points=\"157.49,-193.86 149.4,-187.02 151.46,-197.41 157.49,-193.86\"/>\n",
       "<text text-anchor=\"middle\" x=\"143.15\" y=\"-207.53\" font-family=\"Helvetica,sans-Serif\" font-size=\"14.00\">True</text>\n",
       "</g>\n",
       "<!-- 4 -->\n",
       "<g id=\"node5\" class=\"node\">\n",
       "<title>4</title>\n",
       "<path fill=\"#8139e5\" stroke=\"black\" d=\"M311,-179.5C311,-179.5 218,-179.5 218,-179.5 212,-179.5 206,-173.5 206,-167.5 206,-167.5 206,-123.5 206,-123.5 206,-117.5 212,-111.5 218,-111.5 218,-111.5 311,-111.5 311,-111.5 317,-111.5 323,-117.5 323,-123.5 323,-123.5 323,-167.5 323,-167.5 323,-173.5 317,-179.5 311,-179.5\"/>\n",
       "<text text-anchor=\"start\" x=\"236.5\" y=\"-164.3\" font-family=\"Helvetica,sans-Serif\" font-size=\"14.00\">gini = 0.0</text>\n",
       "<text text-anchor=\"start\" x=\"223.5\" y=\"-149.3\" font-family=\"Helvetica,sans-Serif\" font-size=\"14.00\">samples = 30</text>\n",
       "<text text-anchor=\"start\" x=\"214\" y=\"-134.3\" font-family=\"Helvetica,sans-Serif\" font-size=\"14.00\">value = [0, 0, 30]</text>\n",
       "<text text-anchor=\"start\" x=\"222.5\" y=\"-119.3\" font-family=\"Helvetica,sans-Serif\" font-size=\"14.00\">class = CDR2</text>\n",
       "</g>\n",
       "<!-- 0&#45;&gt;4 -->\n",
       "<g id=\"edge4\" class=\"edge\">\n",
       "<title>0&#45;&gt;4</title>\n",
       "<path fill=\"none\" stroke=\"black\" d=\"M218.79,-222.91C225.45,-211.76 232.7,-199.66 239.41,-188.44\"/>\n",
       "<polygon fill=\"black\" stroke=\"black\" points=\"242.53,-190.05 244.66,-179.67 236.52,-186.45 242.53,-190.05\"/>\n",
       "<text text-anchor=\"middle\" x=\"250.75\" y=\"-200.21\" font-family=\"Helvetica,sans-Serif\" font-size=\"14.00\">False</text>\n",
       "</g>\n",
       "<!-- 2 -->\n",
       "<g id=\"node3\" class=\"node\">\n",
       "<title>2</title>\n",
       "<path fill=\"#ea985e\" stroke=\"black\" d=\"M105,-68C105,-68 12,-68 12,-68 6,-68 0,-62 0,-56 0,-56 0,-12 0,-12 0,-6 6,0 12,0 12,0 105,0 105,0 111,0 117,-6 117,-12 117,-12 117,-56 117,-56 117,-62 111,-68 105,-68\"/>\n",
       "<text text-anchor=\"start\" x=\"23\" y=\"-52.8\" font-family=\"Helvetica,sans-Serif\" font-size=\"14.00\">gini = 0.291</text>\n",
       "<text text-anchor=\"start\" x=\"17.5\" y=\"-37.8\" font-family=\"Helvetica,sans-Serif\" font-size=\"14.00\">samples = 30</text>\n",
       "<text text-anchor=\"start\" x=\"8\" y=\"-22.8\" font-family=\"Helvetica,sans-Serif\" font-size=\"14.00\">value = [25, 2, 3]</text>\n",
       "<text text-anchor=\"start\" x=\"16.5\" y=\"-7.8\" font-family=\"Helvetica,sans-Serif\" font-size=\"14.00\">class = CDR0</text>\n",
       "</g>\n",
       "<!-- 1&#45;&gt;2 -->\n",
       "<g id=\"edge2\" class=\"edge\">\n",
       "<title>1&#45;&gt;2</title>\n",
       "<path fill=\"none\" stroke=\"black\" d=\"M100.55,-103.73C95.19,-94.97 89.52,-85.7 84.14,-76.91\"/>\n",
       "<polygon fill=\"black\" stroke=\"black\" points=\"87.08,-75 78.88,-68.3 81.11,-78.66 87.08,-75\"/>\n",
       "</g>\n",
       "<!-- 3 -->\n",
       "<g id=\"node4\" class=\"node\">\n",
       "<title>3</title>\n",
       "<path fill=\"#41e686\" stroke=\"black\" d=\"M240,-68C240,-68 147,-68 147,-68 141,-68 135,-62 135,-56 135,-56 135,-12 135,-12 135,-6 141,0 147,0 147,0 240,0 240,0 246,0 252,-6 252,-12 252,-12 252,-56 252,-56 252,-62 246,-68 240,-68\"/>\n",
       "<text text-anchor=\"start\" x=\"158\" y=\"-52.8\" font-family=\"Helvetica,sans-Serif\" font-size=\"14.00\">gini = 0.077</text>\n",
       "<text text-anchor=\"start\" x=\"152.5\" y=\"-37.8\" font-family=\"Helvetica,sans-Serif\" font-size=\"14.00\">samples = 25</text>\n",
       "<text text-anchor=\"start\" x=\"143\" y=\"-22.8\" font-family=\"Helvetica,sans-Serif\" font-size=\"14.00\">value = [0, 24, 1]</text>\n",
       "<text text-anchor=\"start\" x=\"151.5\" y=\"-7.8\" font-family=\"Helvetica,sans-Serif\" font-size=\"14.00\">class = CDR1</text>\n",
       "</g>\n",
       "<!-- 1&#45;&gt;3 -->\n",
       "<g id=\"edge3\" class=\"edge\">\n",
       "<title>1&#45;&gt;3</title>\n",
       "<path fill=\"none\" stroke=\"black\" d=\"M150.82,-103.73C156.26,-94.97 162.01,-85.7 167.48,-76.91\"/>\n",
       "<polygon fill=\"black\" stroke=\"black\" points=\"170.52,-78.64 172.82,-68.3 164.57,-74.95 170.52,-78.64\"/>\n",
       "</g>\n",
       "</g>\n",
       "</svg>\n"
      ],
      "text/plain": [
       "<graphviz.sources.Source at 0x157313400>"
      ]
     },
     "execution_count": 45,
     "metadata": {},
     "output_type": "execute_result"
    }
   ],
   "source": [
    "CART_tree = DecisionTreeClassifier(criterion='gini',splitter = 'best',max_depth=2)\n",
    "CART_tree.fit(dt_data_.drop('CDR', axis=1), dt_data_['CDR'])\n",
    "dot_data = tree.export_graphviz(CART_tree,\n",
    "                                feature_names=feature,\n",
    "                                class_names=[str(k) for k in np.unique(dt_data_['CDR'])],\n",
    "                                filled=True,\n",
    "                                rounded=True,\n",
    "                                special_characters=True)\n",
    "graph = graphviz.Source(dot_data)\n",
    "graph"
   ]
  },
  {
   "cell_type": "code",
   "execution_count": 29,
   "metadata": {
    "ExecuteTime": {
     "end_time": "2023-10-07T15:23:49.580151Z",
     "start_time": "2023-10-07T15:23:49.389612Z"
    },
    "collapsed": false
   },
   "outputs": [
    {
     "data": {
      "image/png": "[encoded data removed]",
      "text/plain": [
       "<Figure size 900x600 with 1 Axes>"
      ]
     },
     "metadata": {},
     "output_type": "display_data"
    }
   ],
   "source": [
    "import numpy as np\n",
    "import matplotlib.pyplot as plt\n",
    "from itertools import cycle\n",
    "from sklearn.metrics import roc_curve, auc\n",
    "from sklearn.model_selection import train_test_split\n",
    "from sklearn.preprocessing import label_binarize\n",
    "from sklearn.multiclass import OneVsRestClassifier\n",
    "from scipy import interp\n",
    "\n",
    "X = cluster_class_data.iloc[:, :4]\n",
    "y = cluster_class_data.iloc[:, -1]\n",
    "\n",
    "y = y.replace({'CDR0': 0, 'CDR1': 1, 'CDR2': 2})\n",
    "\n",
    "y_binarized = label_binarize(y, classes=[0, 1, 2])\n",
    "n_classes = y_binarized.shape[1]\n",
    "\n",
    "random_state = np.random.RandomState(0)\n",
    "X_train, X_test, y_train, y_test = train_test_split(X, y_binarized, test_size=.5, random_state=random_state)\n",
    "\n",
    "tree_classifier = DecisionTreeClassifier(random_state=random_state, max_depth=2)\n",
    "\n",
    "# build OneVsRestClassifier\n",
    "classifier = OneVsRestClassifier(tree_classifier)\n",
    "y_score = classifier.fit(X_train, y_train).predict_proba(X_test)\n",
    "\n",
    "# calculate ROC\n",
    "fpr = dict()\n",
    "tpr = dict()\n",
    "roc_auc = dict()\n",
    "for i in range(n_classes):\n",
    "    fpr[i], tpr[i], _ = roc_curve(y_test[:, i], y_score[:, i])\n",
    "    roc_auc[i] = auc(fpr[i], tpr[i])\n",
    "\n",
    "# Compute micro-average ROC curve and ROC area\n",
    "fpr[\"micro\"], tpr[\"micro\"], _ = roc_curve(y_test.ravel(), y_score.ravel())\n",
    "roc_auc[\"micro\"] = auc(fpr[\"micro\"], tpr[\"micro\"])\n",
    "\n",
    "# Compute macro-average ROC curve and ROC area\n",
    "# First aggregate all false positive rates\n",
    "all_fpr = np.unique(np.concatenate([fpr[i] for i in range(n_classes)]))\n",
    "# Then interpolate all ROC curves at this points\n",
    "mean_tpr = np.zeros_like(all_fpr)\n",
    "for i in range(n_classes):\n",
    "    mean_tpr += interp(all_fpr, fpr[i], tpr[i])\n",
    "# Finally average it and compute AUC\n",
    "mean_tpr /= n_classes\n",
    "fpr[\"macro\"] = all_fpr\n",
    "tpr[\"macro\"] = mean_tpr\n",
    "roc_auc[\"macro\"] = auc(fpr[\"macro\"], tpr[\"macro\"])\n",
    "\n",
    "# Plot all ROC curves\n",
    "lw=2\n",
    "plt.figure(figsize=(9, 6))\n",
    "plt.plot(fpr[\"micro\"], tpr[\"micro\"],\n",
    "         label='micro-average ROC curve (area = {0:0.2f})'\n",
    "               ''.format(roc_auc[\"micro\"]),\n",
    "         color='deeppink', linestyle=':', linewidth=4)\n",
    "\n",
    "plt.plot(fpr[\"macro\"], tpr[\"macro\"],\n",
    "         label='macro-average ROC curve (area = {0:0.2f})'\n",
    "               ''.format(roc_auc[\"macro\"]),\n",
    "         color='navy', linestyle=':', linewidth=4)\n",
    "\n",
    "colors = cycle(['aqua', 'darkorange', 'cornflowerblue'])\n",
    "for i, color in zip(range(n_classes), colors):\n",
    "    plt.plot(fpr[i], tpr[i], color=color, lw=lw,\n",
    "             label='ROC curve of CDR{0} (area = {1:0.2f})'\n",
    "             ''.format(i, roc_auc[i]))\n",
    "\n",
    "plt.plot([0, 1], [0, 1], 'k--', lw=lw)\n",
    "plt.xlim([0.0, 1.0])\n",
    "plt.ylim([0.0, 1.05])\n",
    "plt.xlabel('False Positive Rate', fontsize = 24)\n",
    "plt.ylabel('True Positive Rate', fontsize = 24)\n",
    "plt.xticks(fontsize=17)\n",
    "plt.yticks(fontsize=17)\n",
    "# plt.title('Some extension of Receiver operating characteristic to multi-class')\n",
    "plt.legend(loc=\"lower right\", fontsize = 14.5, frameon=False)\n",
    "\n",
    "plt.savefig(\"/Users/zhangchenyang/Desktop/old_3_早中晚ROC.pdf\", format=\"pdf\", bbox_inches = 'tight')\n",
    "plt.show()"
   ]
  },
  {
   "cell_type": "markdown",
   "metadata": {
    "collapsed": false
   },
   "source": [
    "### Early and mid-term decision trees"
   ]
  },
  {
   "cell_type": "code",
   "execution_count": 44,
   "metadata": {
    "ExecuteTime": {
     "end_time": "2023-10-07T14:33:04.669634Z",
     "start_time": "2023-10-07T14:33:04.665172Z"
    },
    "collapsed": false
   },
   "outputs": [
    {
     "data": {
      "text/plain": [
       "array(['CDR1', 'CDR0'], dtype=object)"
      ]
     },
     "execution_count": 44,
     "metadata": {},
     "output_type": "execute_result"
    }
   ],
   "source": [
    "dt_data_ = cluster_class_data[cluster_class_data['CDR'] != 'CDR2']\n",
    "\n",
    "feature=dt_data_.columns.to_list()[:-1]\n",
    "class_names = dt_data_['CDR'].unique()\n",
    "class_names"
   ]
  },
  {
   "cell_type": "code",
   "execution_count": 70,
   "metadata": {
    "ExecuteTime": {
     "end_time": "2023-09-28T03:07:28.636093Z",
     "start_time": "2023-09-28T03:07:27.517302Z"
    },
    "collapsed": false
   },
   "outputs": [
    {
     "data": {
      "text/plain": [
       "0.9236363636363636"
      ]
     },
     "execution_count": 70,
     "metadata": {},
     "output_type": "execute_result"
    }
   ],
   "source": [
    "CART_tree = DecisionTreeClassifier(\n",
    "    criterion='gini', splitter='best', max_depth=1)\n",
    "\n",
    "e_m = cross_val_score(CART_tree, dt_data_.drop('CDR', axis=1),\n",
    "                      dt_data_['CDR'], cv=5,n_jobs=-1).mean()\n",
    "e_m"
   ]
  },
  {
   "cell_type": "code",
   "execution_count": 72,
   "metadata": {
    "ExecuteTime": {
     "end_time": "2023-09-28T03:07:30.292146Z",
     "start_time": "2023-09-28T03:07:30.153998Z"
    },
    "collapsed": false
   },
   "outputs": [
    {
     "data": {
      "image/svg+xml": [
       "<?xml version=\"1.0\" encoding=\"UTF-8\" standalone=\"no\"?>\n",
       "<!DOCTYPE svg PUBLIC \"-//W3C//DTD SVG 1.1//EN\"\n",
       " \"http://www.w3.org/Graphics/SVG/1.1/DTD/svg11.dtd\">\n",
       "<!-- Generated by graphviz version 2.50.0 (0)\n",
       " -->\n",
       "<!-- Title: Tree Pages: 1 -->\n",
       "<svg width=\"230pt\" height=\"195pt\"\n",
       " viewBox=\"0.00 0.00 230.00 195.00\" xmlns=\"http://www.w3.org/2000/svg\" xmlns:xlink=\"http://www.w3.org/1999/xlink\">\n",
       "<g id=\"graph0\" class=\"graph\" transform=\"scale(1 1) rotate(0) translate(4 191)\">\n",
       "<title>Tree</title>\n",
       "<polygon fill=\"white\" stroke=\"transparent\" points=\"-4,4 -4,-191 226,-191 226,4 -4,4\"/>\n",
       "<!-- 0 -->\n",
       "<g id=\"node1\" class=\"node\">\n",
       "<title>0</title>\n",
       "<path fill=\"#f7fbfe\" stroke=\"black\" d=\"M160,-187C160,-187 62,-187 62,-187 56,-187 50,-181 50,-175 50,-175 50,-116 50,-116 50,-110 56,-104 62,-104 62,-104 160,-104 160,-104 166,-104 172,-110 172,-116 172,-116 172,-175 172,-175 172,-181 166,-187 160,-187\"/>\n",
       "<text text-anchor=\"start\" x=\"58\" y=\"-171.8\" font-family=\"Helvetica,sans-Serif\" font-size=\"14.00\">ClusterD ≤ &#45;1.141</text>\n",
       "<text text-anchor=\"start\" x=\"83\" y=\"-156.8\" font-family=\"Helvetica,sans-Serif\" font-size=\"14.00\">gini = 0.5</text>\n",
       "<text text-anchor=\"start\" x=\"70\" y=\"-141.8\" font-family=\"Helvetica,sans-Serif\" font-size=\"14.00\">samples = 51</text>\n",
       "<text text-anchor=\"start\" x=\"64\" y=\"-126.8\" font-family=\"Helvetica,sans-Serif\" font-size=\"14.00\">value = [25, 26]</text>\n",
       "<text text-anchor=\"start\" x=\"69\" y=\"-111.8\" font-family=\"Helvetica,sans-Serif\" font-size=\"14.00\">class = CDR1</text>\n",
       "</g>\n",
       "<!-- 1 -->\n",
       "<g id=\"node2\" class=\"node\">\n",
       "<title>1</title>\n",
       "<path fill=\"#e78b49\" stroke=\"black\" d=\"M90,-68C90,-68 12,-68 12,-68 6,-68 0,-62 0,-56 0,-56 0,-12 0,-12 0,-6 6,0 12,0 12,0 90,0 90,0 96,0 102,-6 102,-12 102,-12 102,-56 102,-56 102,-62 96,-68 90,-68\"/>\n",
       "<text text-anchor=\"start\" x=\"15.5\" y=\"-52.8\" font-family=\"Helvetica,sans-Serif\" font-size=\"14.00\">gini = 0.137</text>\n",
       "<text text-anchor=\"start\" x=\"10\" y=\"-37.8\" font-family=\"Helvetica,sans-Serif\" font-size=\"14.00\">samples = 27</text>\n",
       "<text text-anchor=\"start\" x=\"8\" y=\"-22.8\" font-family=\"Helvetica,sans-Serif\" font-size=\"14.00\">value = [25, 2]</text>\n",
       "<text text-anchor=\"start\" x=\"9\" y=\"-7.8\" font-family=\"Helvetica,sans-Serif\" font-size=\"14.00\">class = CDR0</text>\n",
       "</g>\n",
       "<!-- 0&#45;&gt;1 -->\n",
       "<g id=\"edge1\" class=\"edge\">\n",
       "<title>0&#45;&gt;1</title>\n",
       "<path fill=\"none\" stroke=\"black\" d=\"M88.66,-103.73C83.91,-95.06 78.89,-85.9 74.11,-77.18\"/>\n",
       "<polygon fill=\"black\" stroke=\"black\" points=\"77.12,-75.39 69.25,-68.3 70.98,-78.75 77.12,-75.39\"/>\n",
       "<text text-anchor=\"middle\" x=\"62.24\" y=\"-88.6\" font-family=\"Helvetica,sans-Serif\" font-size=\"14.00\">True</text>\n",
       "</g>\n",
       "<!-- 2 -->\n",
       "<g id=\"node3\" class=\"node\">\n",
       "<title>2</title>\n",
       "<path fill=\"#399de5\" stroke=\"black\" d=\"M210,-68C210,-68 132,-68 132,-68 126,-68 120,-62 120,-56 120,-56 120,-12 120,-12 120,-6 126,0 132,0 132,0 210,0 210,0 216,0 222,-6 222,-12 222,-12 222,-56 222,-56 222,-62 216,-68 210,-68\"/>\n",
       "<text text-anchor=\"start\" x=\"143\" y=\"-52.8\" font-family=\"Helvetica,sans-Serif\" font-size=\"14.00\">gini = 0.0</text>\n",
       "<text text-anchor=\"start\" x=\"130\" y=\"-37.8\" font-family=\"Helvetica,sans-Serif\" font-size=\"14.00\">samples = 24</text>\n",
       "<text text-anchor=\"start\" x=\"128\" y=\"-22.8\" font-family=\"Helvetica,sans-Serif\" font-size=\"14.00\">value = [0, 24]</text>\n",
       "<text text-anchor=\"start\" x=\"129\" y=\"-7.8\" font-family=\"Helvetica,sans-Serif\" font-size=\"14.00\">class = CDR1</text>\n",
       "</g>\n",
       "<!-- 0&#45;&gt;2 -->\n",
       "<g id=\"edge2\" class=\"edge\">\n",
       "<title>0&#45;&gt;2</title>\n",
       "<path fill=\"none\" stroke=\"black\" d=\"M133.34,-103.73C138.09,-95.06 143.11,-85.9 147.89,-77.18\"/>\n",
       "<polygon fill=\"black\" stroke=\"black\" points=\"151.02,-78.75 152.75,-68.3 144.88,-75.39 151.02,-78.75\"/>\n",
       "<text text-anchor=\"middle\" x=\"159.76\" y=\"-88.6\" font-family=\"Helvetica,sans-Serif\" font-size=\"14.00\">False</text>\n",
       "</g>\n",
       "</g>\n",
       "</svg>\n"
      ],
      "text/plain": [
       "<graphviz.sources.Source at 0x2913b83d0>"
      ]
     },
     "execution_count": 72,
     "metadata": {},
     "output_type": "execute_result"
    }
   ],
   "source": [
    "CART_tree = DecisionTreeClassifier(criterion='gini',splitter = 'best',max_depth=1)\n",
    "CART_tree.fit(dt_data_.drop('CDR', axis=1), dt_data_['CDR'])\n",
    "dot_data = tree.export_graphviz(CART_tree,\n",
    "                                feature_names=feature,\n",
    "                                class_names=[str(k) for k in np.unique(dt_data_['CDR'])],\n",
    "                                filled=True,\n",
    "                                rounded=True,\n",
    "                                special_characters=True)\n",
    "graph = graphviz.Source(dot_data)\n",
    "graph"
   ]
  },
  {
   "cell_type": "code",
   "execution_count": 28,
   "metadata": {
    "ExecuteTime": {
     "end_time": "2023-10-07T15:23:46.723945Z",
     "start_time": "2023-10-07T15:23:46.544214Z"
    },
    "collapsed": false
   },
   "outputs": [
    {
     "data": {
      "text/plain": [
       "<Figure size 800x550 with 0 Axes>"
      ]
     },
     "metadata": {},
     "output_type": "display_data"
    },
    {
     "data": {
      "image/png": "[encoded data removed]",
      "text/plain": [
       "<Figure size 660x440 with 1 Axes>"
      ]
     },
     "metadata": {},
     "output_type": "display_data"
    }
   ],
   "source": [
    "import numpy as np\n",
    "import matplotlib.pyplot as plt\n",
    "from sklearn.metrics import roc_curve, auc\n",
    "from sklearn.model_selection import train_test_split\n",
    "\n",
    "dt_data_ = cluster_class_data[cluster_class_data['CDR'] != 'CDR2']\n",
    "\n",
    "X = dt_data_.iloc[:, :4]\n",
    "y = dt_data_.iloc[:, -1]\n",
    "\n",
    "y = y.replace({'CDR0': 0, 'CDR1': 1})\n",
    "\n",
    "# shuffle and split training and test sets\n",
    "X_train, X_test, y_train, y_test = train_test_split(X, y, test_size=0.2, random_state=42)\n",
    "\n",
    "clf = DecisionTreeClassifier(random_state=42, max_depth=1)\n",
    "clf.fit(X_train, y_train)\n",
    "\n",
    "y_score = clf.predict_proba(X_test)[:, 1]\n",
    "\n",
    "# Compute ROC curve and ROC area for each class\n",
    "fpr, tpr, _ = roc_curve(y_test, y_score, drop_intermediate=True)\n",
    "roc_auc = auc(fpr, tpr)\n",
    "\n",
    "plt.figure()\n",
    "lw = 2\n",
    "plt.figure(figsize=(6.6, 4.4))\n",
    "plt.plot(fpr, tpr, color='darkorange',\n",
    "         lw=lw, label='ROC curve (area = %0.2f)' % roc_auc)\n",
    "plt.plot([0, 1], [0, 1], color='navy', lw=lw, linestyle='--')\n",
    "plt.xlim([0.0, 1.0])\n",
    "plt.ylim([0.0, 1.05])\n",
    "plt.xlabel('False Positive Rate', fontsize = 18)\n",
    "plt.ylabel('True Positive Rate', fontsize = 18)\n",
    "plt.legend(loc=\"lower right\", frameon=False, fontsize = 16)\n",
    "plt.xticks(fontsize=13)\n",
    "plt.yticks(fontsize=13)\n",
    "\n",
    "plt.savefig(\"/Users/zhangchenyang/Desktop/old_3_早中ROC.pdf\", format=\"pdf\", bbox_inches = 'tight')\n",
    "\n",
    "plt.show()"
   ]
  },
  {
   "cell_type": "markdown",
   "metadata": {
    "collapsed": false
   },
   "source": [
    "### Early and Late Decision Trees"
   ]
  },
  {
   "cell_type": "code",
   "execution_count": 48,
   "metadata": {
    "ExecuteTime": {
     "end_time": "2023-10-07T14:34:31.203841Z",
     "start_time": "2023-10-07T14:34:31.199428Z"
    },
    "collapsed": false
   },
   "outputs": [
    {
     "data": {
      "text/plain": [
       "array(['CDR2', 'CDR0'], dtype=object)"
      ]
     },
     "execution_count": 48,
     "metadata": {},
     "output_type": "execute_result"
    }
   ],
   "source": [
    "dt_data_ = cluster_class_data[cluster_class_data['CDR'] != 'CDR1']\n",
    "\n",
    "feature=dt_data_.columns.to_list()[:-1]\n",
    "class_names = dt_data_['CDR'].unique()\n",
    "class_names"
   ]
  },
  {
   "cell_type": "code",
   "execution_count": 305,
   "metadata": {
    "ExecuteTime": {
     "end_time": "2023-09-19T16:45:15.299232Z",
     "start_time": "2023-09-19T16:45:15.278206Z"
    },
    "collapsed": false
   },
   "outputs": [
    {
     "data": {
      "text/plain": [
       "0.9136363636363637"
      ]
     },
     "execution_count": 305,
     "metadata": {},
     "output_type": "execute_result"
    }
   ],
   "source": [
    "CART_tree = DecisionTreeClassifier(\n",
    "    criterion='gini', splitter='best', max_depth=1)\n",
    "\n",
    "e_l = cross_val_score(CART_tree, dt_data_.drop('CDR', axis=1),\n",
    "                      dt_data_['CDR'], cv=5,n_jobs=-1).mean()\n",
    "e_l"
   ]
  },
  {
   "cell_type": "code",
   "execution_count": 307,
   "metadata": {
    "ExecuteTime": {
     "end_time": "2023-09-19T16:45:15.674942Z",
     "start_time": "2023-09-19T16:45:15.598971Z"
    },
    "collapsed": false
   },
   "outputs": [
    {
     "data": {
      "image/svg+xml": [
       "<?xml version=\"1.0\" encoding=\"UTF-8\" standalone=\"no\"?>\n",
       "<!DOCTYPE svg PUBLIC \"-//W3C//DTD SVG 1.1//EN\"\n",
       " \"http://www.w3.org/Graphics/SVG/1.1/DTD/svg11.dtd\">\n",
       "<!-- Generated by graphviz version 2.50.0 (0)\n",
       " -->\n",
       "<!-- Title: Tree Pages: 1 -->\n",
       "<svg width=\"230pt\" height=\"195pt\"\n",
       " viewBox=\"0.00 0.00 230.00 195.00\" xmlns=\"http://www.w3.org/2000/svg\" xmlns:xlink=\"http://www.w3.org/1999/xlink\">\n",
       "<g id=\"graph0\" class=\"graph\" transform=\"scale(1 1) rotate(0) translate(4 191)\">\n",
       "<title>Tree</title>\n",
       "<polygon fill=\"white\" stroke=\"transparent\" points=\"-4,4 -4,-191 226,-191 226,4 -4,4\"/>\n",
       "<!-- 0 -->\n",
       "<g id=\"node1\" class=\"node\">\n",
       "<title>0</title>\n",
       "<path fill=\"#cbe5f8\" stroke=\"black\" d=\"M160,-187C160,-187 62,-187 62,-187 56,-187 50,-181 50,-175 50,-175 50,-116 50,-116 50,-110 56,-104 62,-104 62,-104 160,-104 160,-104 166,-104 172,-110 172,-116 172,-116 172,-175 172,-175 172,-181 166,-187 160,-187\"/>\n",
       "<text text-anchor=\"start\" x=\"58\" y=\"-171.8\" font-family=\"Helvetica,sans-Serif\" font-size=\"14.00\">ClusterD ≤ &#45;2.744</text>\n",
       "<text text-anchor=\"start\" x=\"75.5\" y=\"-156.8\" font-family=\"Helvetica,sans-Serif\" font-size=\"14.00\">gini = 0.488</text>\n",
       "<text text-anchor=\"start\" x=\"70\" y=\"-141.8\" font-family=\"Helvetica,sans-Serif\" font-size=\"14.00\">samples = 59</text>\n",
       "<text text-anchor=\"start\" x=\"64\" y=\"-126.8\" font-family=\"Helvetica,sans-Serif\" font-size=\"14.00\">value = [25, 34]</text>\n",
       "<text text-anchor=\"start\" x=\"69\" y=\"-111.8\" font-family=\"Helvetica,sans-Serif\" font-size=\"14.00\">class = CDR2</text>\n",
       "</g>\n",
       "<!-- 1 -->\n",
       "<g id=\"node2\" class=\"node\">\n",
       "<title>1</title>\n",
       "<path fill=\"#e58139\" stroke=\"black\" d=\"M90,-68C90,-68 12,-68 12,-68 6,-68 0,-62 0,-56 0,-56 0,-12 0,-12 0,-6 6,0 12,0 12,0 90,0 90,0 96,0 102,-6 102,-12 102,-12 102,-56 102,-56 102,-62 96,-68 90,-68\"/>\n",
       "<text text-anchor=\"start\" x=\"23\" y=\"-52.8\" font-family=\"Helvetica,sans-Serif\" font-size=\"14.00\">gini = 0.0</text>\n",
       "<text text-anchor=\"start\" x=\"10\" y=\"-37.8\" font-family=\"Helvetica,sans-Serif\" font-size=\"14.00\">samples = 22</text>\n",
       "<text text-anchor=\"start\" x=\"8\" y=\"-22.8\" font-family=\"Helvetica,sans-Serif\" font-size=\"14.00\">value = [22, 0]</text>\n",
       "<text text-anchor=\"start\" x=\"9\" y=\"-7.8\" font-family=\"Helvetica,sans-Serif\" font-size=\"14.00\">class = CDR0</text>\n",
       "</g>\n",
       "<!-- 0&#45;&gt;1 -->\n",
       "<g id=\"edge1\" class=\"edge\">\n",
       "<title>0&#45;&gt;1</title>\n",
       "<path fill=\"none\" stroke=\"black\" d=\"M88.66,-103.73C83.91,-95.06 78.89,-85.9 74.11,-77.18\"/>\n",
       "<polygon fill=\"black\" stroke=\"black\" points=\"77.12,-75.39 69.25,-68.3 70.98,-78.75 77.12,-75.39\"/>\n",
       "<text text-anchor=\"middle\" x=\"62.24\" y=\"-88.6\" font-family=\"Helvetica,sans-Serif\" font-size=\"14.00\">True</text>\n",
       "</g>\n",
       "<!-- 2 -->\n",
       "<g id=\"node3\" class=\"node\">\n",
       "<title>2</title>\n",
       "<path fill=\"#4aa6e7\" stroke=\"black\" d=\"M210,-68C210,-68 132,-68 132,-68 126,-68 120,-62 120,-56 120,-56 120,-12 120,-12 120,-6 126,0 132,0 132,0 210,0 210,0 216,0 222,-6 222,-12 222,-12 222,-56 222,-56 222,-62 216,-68 210,-68\"/>\n",
       "<text text-anchor=\"start\" x=\"135.5\" y=\"-52.8\" font-family=\"Helvetica,sans-Serif\" font-size=\"14.00\">gini = 0.149</text>\n",
       "<text text-anchor=\"start\" x=\"130\" y=\"-37.8\" font-family=\"Helvetica,sans-Serif\" font-size=\"14.00\">samples = 37</text>\n",
       "<text text-anchor=\"start\" x=\"128\" y=\"-22.8\" font-family=\"Helvetica,sans-Serif\" font-size=\"14.00\">value = [3, 34]</text>\n",
       "<text text-anchor=\"start\" x=\"129\" y=\"-7.8\" font-family=\"Helvetica,sans-Serif\" font-size=\"14.00\">class = CDR2</text>\n",
       "</g>\n",
       "<!-- 0&#45;&gt;2 -->\n",
       "<g id=\"edge2\" class=\"edge\">\n",
       "<title>0&#45;&gt;2</title>\n",
       "<path fill=\"none\" stroke=\"black\" d=\"M133.34,-103.73C138.09,-95.06 143.11,-85.9 147.89,-77.18\"/>\n",
       "<polygon fill=\"black\" stroke=\"black\" points=\"151.02,-78.75 152.75,-68.3 144.88,-75.39 151.02,-78.75\"/>\n",
       "<text text-anchor=\"middle\" x=\"159.76\" y=\"-88.6\" font-family=\"Helvetica,sans-Serif\" font-size=\"14.00\">False</text>\n",
       "</g>\n",
       "</g>\n",
       "</svg>\n"
      ],
      "text/plain": [
       "<graphviz.sources.Source at 0x17ae30b80>"
      ]
     },
     "execution_count": 307,
     "metadata": {},
     "output_type": "execute_result"
    }
   ],
   "source": [
    "CART_tree = DecisionTreeClassifier(criterion='gini',splitter = 'best',max_depth=1)\n",
    "CART_tree.fit(dt_data_.drop('CDR', axis=1), dt_data_['CDR'])\n",
    "dot_data = tree.export_graphviz(CART_tree,\n",
    "                                feature_names=feature,\n",
    "                                class_names=[str(k) for k in np.unique(dt_data_['CDR'])],\n",
    "                                filled=True,\n",
    "                                rounded=True,\n",
    "                                special_characters=True)\n",
    "graph = graphviz.Source(dot_data)\n",
    "graph"
   ]
  },
  {
   "cell_type": "code",
   "execution_count": 27,
   "metadata": {
    "ExecuteTime": {
     "end_time": "2023-10-07T15:23:42.333727Z",
     "start_time": "2023-10-07T15:23:42.178101Z"
    },
    "collapsed": false
   },
   "outputs": [
    {
     "data": {
      "text/plain": [
       "<Figure size 800x550 with 0 Axes>"
      ]
     },
     "metadata": {},
     "output_type": "display_data"
    },
    {
     "data": {
      "image/png": "[encoded data removed]",
      "text/plain": [
       "<Figure size 660x440 with 1 Axes>"
      ]
     },
     "metadata": {},
     "output_type": "display_data"
    }
   ],
   "source": [
    "import numpy as np\n",
    "import matplotlib.pyplot as plt\n",
    "from sklearn.metrics import roc_curve, auc\n",
    "from sklearn.model_selection import train_test_split\n",
    "\n",
    "dt_data_ = cluster_class_data[cluster_class_data['CDR'] != 'CDR1']\n",
    "\n",
    "X = dt_data_.iloc[:, :4]\n",
    "y = dt_data_.iloc[:, -1]\n",
    "\n",
    "y = y.replace({'CDR0': 0, 'CDR2': 1})\n",
    "\n",
    "# shuffle and split training and test sets\n",
    "X_train, X_test, y_train, y_test = train_test_split(X, y, test_size=0.2, random_state=42)\n",
    "\n",
    "clf = DecisionTreeClassifier(random_state=42, max_depth=1)\n",
    "clf.fit(X_train, y_train)\n",
    "\n",
    "y_score = clf.predict_proba(X_test)[:, 1]\n",
    "\n",
    "# Compute ROC curve and ROC area for each class\n",
    "fpr, tpr, _ = roc_curve(y_test, y_score)\n",
    "roc_auc = auc(fpr, tpr)\n",
    "\n",
    "plt.figure()\n",
    "lw = 2\n",
    "plt.figure(figsize=(6.6, 4.4))\n",
    "plt.plot(fpr, tpr, color='darkorange',\n",
    "         lw=lw, label='ROC curve (area = %0.2f)' % roc_auc)\n",
    "plt.plot([0, 1], [0, 1], color='navy', lw=lw, linestyle='--')\n",
    "plt.xlim([0.0, 1.0])\n",
    "plt.ylim([0.0, 1.05])\n",
    "plt.xlabel('False Positive Rate', fontsize = 18)\n",
    "plt.ylabel('True Positive Rate', fontsize = 18)\n",
    "plt.legend(loc=\"lower right\", frameon=False, fontsize = 16)\n",
    "plt.xticks(fontsize=13)\n",
    "plt.yticks(fontsize=13)\n",
    "\n",
    "plt.savefig(\"/Users/zhangchenyang/Desktop/old_3_早晚ROC.pdf\", format=\"pdf\", bbox_inches = 'tight')\n",
    "\n",
    "plt.show()"
   ]
  },
  {
   "cell_type": "markdown",
   "metadata": {
    "collapsed": false
   },
   "source": [
    "### Middle and Late Decision Trees"
   ]
  },
  {
   "cell_type": "code",
   "execution_count": 50,
   "metadata": {
    "ExecuteTime": {
     "end_time": "2023-10-07T14:35:01.339096Z",
     "start_time": "2023-10-07T14:35:01.333890Z"
    },
    "collapsed": false
   },
   "outputs": [
    {
     "data": {
      "text/plain": [
       "array(['CDR1', 'CDR2'], dtype=object)"
      ]
     },
     "execution_count": 50,
     "metadata": {},
     "output_type": "execute_result"
    }
   ],
   "source": [
    "dt_data_ = cluster_class_data[cluster_class_data['CDR'] != 'CDR0']\n",
    "\n",
    "feature=dt_data_.columns.to_list()[:-1]\n",
    "class_names = dt_data_['CDR'].unique()\n",
    "class_names"
   ]
  },
  {
   "cell_type": "code",
   "execution_count": 278,
   "metadata": {
    "ExecuteTime": {
     "end_time": "2023-09-19T16:42:26.044265Z",
     "start_time": "2023-09-19T16:42:26.030593Z"
    },
    "collapsed": false
   },
   "outputs": [
    {
     "data": {
      "text/plain": [
       "0.9333333333333332"
      ]
     },
     "execution_count": 278,
     "metadata": {},
     "output_type": "execute_result"
    }
   ],
   "source": [
    "CART_tree = DecisionTreeClassifier(\n",
    "    criterion='gini', splitter='best', max_depth=1)\n",
    "\n",
    "m_l = cross_val_score(CART_tree, dt_data_.drop('CDR', axis=1),\n",
    "                      dt_data_['CDR'], cv=5,n_jobs=-1).mean()\n",
    "m_l"
   ]
  },
  {
   "cell_type": "code",
   "execution_count": 280,
   "metadata": {
    "ExecuteTime": {
     "end_time": "2023-09-19T16:42:26.899464Z",
     "start_time": "2023-09-19T16:42:26.822713Z"
    },
    "collapsed": false
   },
   "outputs": [
    {
     "data": {
      "image/svg+xml": [
       "<?xml version=\"1.0\" encoding=\"UTF-8\" standalone=\"no\"?>\n",
       "<!DOCTYPE svg PUBLIC \"-//W3C//DTD SVG 1.1//EN\"\n",
       " \"http://www.w3.org/Graphics/SVG/1.1/DTD/svg11.dtd\">\n",
       "<!-- Generated by graphviz version 2.50.0 (0)\n",
       " -->\n",
       "<!-- Title: Tree Pages: 1 -->\n",
       "<svg width=\"230pt\" height=\"195pt\"\n",
       " viewBox=\"0.00 0.00 230.00 195.00\" xmlns=\"http://www.w3.org/2000/svg\" xmlns:xlink=\"http://www.w3.org/1999/xlink\">\n",
       "<g id=\"graph0\" class=\"graph\" transform=\"scale(1 1) rotate(0) translate(4 191)\">\n",
       "<title>Tree</title>\n",
       "<polygon fill=\"white\" stroke=\"transparent\" points=\"-4,4 -4,-191 226,-191 226,4 -4,4\"/>\n",
       "<!-- 0 -->\n",
       "<g id=\"node1\" class=\"node\">\n",
       "<title>0</title>\n",
       "<path fill=\"#d0e8f9\" stroke=\"black\" d=\"M157.5,-187C157.5,-187 64.5,-187 64.5,-187 58.5,-187 52.5,-181 52.5,-175 52.5,-175 52.5,-116 52.5,-116 52.5,-110 58.5,-104 64.5,-104 64.5,-104 157.5,-104 157.5,-104 163.5,-104 169.5,-110 169.5,-116 169.5,-116 169.5,-175 169.5,-175 169.5,-181 163.5,-187 157.5,-187\"/>\n",
       "<text text-anchor=\"start\" x=\"60.5\" y=\"-171.8\" font-family=\"Helvetica,sans-Serif\" font-size=\"14.00\">ClusterE ≤ 0.631</text>\n",
       "<text text-anchor=\"start\" x=\"75.5\" y=\"-156.8\" font-family=\"Helvetica,sans-Serif\" font-size=\"14.00\">gini = 0.491</text>\n",
       "<text text-anchor=\"start\" x=\"70\" y=\"-141.8\" font-family=\"Helvetica,sans-Serif\" font-size=\"14.00\">samples = 60</text>\n",
       "<text text-anchor=\"start\" x=\"64\" y=\"-126.8\" font-family=\"Helvetica,sans-Serif\" font-size=\"14.00\">value = [26, 34]</text>\n",
       "<text text-anchor=\"start\" x=\"69\" y=\"-111.8\" font-family=\"Helvetica,sans-Serif\" font-size=\"14.00\">class = CDR2</text>\n",
       "</g>\n",
       "<!-- 1 -->\n",
       "<g id=\"node2\" class=\"node\">\n",
       "<title>1</title>\n",
       "<path fill=\"#e99457\" stroke=\"black\" d=\"M90,-68C90,-68 12,-68 12,-68 6,-68 0,-62 0,-56 0,-56 0,-12 0,-12 0,-6 6,0 12,0 12,0 90,0 90,0 96,0 102,-6 102,-12 102,-12 102,-56 102,-56 102,-62 96,-68 90,-68\"/>\n",
       "<text text-anchor=\"start\" x=\"15.5\" y=\"-52.8\" font-family=\"Helvetica,sans-Serif\" font-size=\"14.00\">gini = 0.231</text>\n",
       "<text text-anchor=\"start\" x=\"10\" y=\"-37.8\" font-family=\"Helvetica,sans-Serif\" font-size=\"14.00\">samples = 30</text>\n",
       "<text text-anchor=\"start\" x=\"8\" y=\"-22.8\" font-family=\"Helvetica,sans-Serif\" font-size=\"14.00\">value = [26, 4]</text>\n",
       "<text text-anchor=\"start\" x=\"9\" y=\"-7.8\" font-family=\"Helvetica,sans-Serif\" font-size=\"14.00\">class = CDR1</text>\n",
       "</g>\n",
       "<!-- 0&#45;&gt;1 -->\n",
       "<g id=\"edge1\" class=\"edge\">\n",
       "<title>0&#45;&gt;1</title>\n",
       "<path fill=\"none\" stroke=\"black\" d=\"M88.66,-103.73C83.91,-95.06 78.89,-85.9 74.11,-77.18\"/>\n",
       "<polygon fill=\"black\" stroke=\"black\" points=\"77.12,-75.39 69.25,-68.3 70.98,-78.75 77.12,-75.39\"/>\n",
       "<text text-anchor=\"middle\" x=\"62.24\" y=\"-88.6\" font-family=\"Helvetica,sans-Serif\" font-size=\"14.00\">True</text>\n",
       "</g>\n",
       "<!-- 2 -->\n",
       "<g id=\"node3\" class=\"node\">\n",
       "<title>2</title>\n",
       "<path fill=\"#399de5\" stroke=\"black\" d=\"M210,-68C210,-68 132,-68 132,-68 126,-68 120,-62 120,-56 120,-56 120,-12 120,-12 120,-6 126,0 132,0 132,0 210,0 210,0 216,0 222,-6 222,-12 222,-12 222,-56 222,-56 222,-62 216,-68 210,-68\"/>\n",
       "<text text-anchor=\"start\" x=\"143\" y=\"-52.8\" font-family=\"Helvetica,sans-Serif\" font-size=\"14.00\">gini = 0.0</text>\n",
       "<text text-anchor=\"start\" x=\"130\" y=\"-37.8\" font-family=\"Helvetica,sans-Serif\" font-size=\"14.00\">samples = 30</text>\n",
       "<text text-anchor=\"start\" x=\"128\" y=\"-22.8\" font-family=\"Helvetica,sans-Serif\" font-size=\"14.00\">value = [0, 30]</text>\n",
       "<text text-anchor=\"start\" x=\"129\" y=\"-7.8\" font-family=\"Helvetica,sans-Serif\" font-size=\"14.00\">class = CDR2</text>\n",
       "</g>\n",
       "<!-- 0&#45;&gt;2 -->\n",
       "<g id=\"edge2\" class=\"edge\">\n",
       "<title>0&#45;&gt;2</title>\n",
       "<path fill=\"none\" stroke=\"black\" d=\"M133.34,-103.73C138.09,-95.06 143.11,-85.9 147.89,-77.18\"/>\n",
       "<polygon fill=\"black\" stroke=\"black\" points=\"151.02,-78.75 152.75,-68.3 144.88,-75.39 151.02,-78.75\"/>\n",
       "<text text-anchor=\"middle\" x=\"159.76\" y=\"-88.6\" font-family=\"Helvetica,sans-Serif\" font-size=\"14.00\">False</text>\n",
       "</g>\n",
       "</g>\n",
       "</svg>\n"
      ],
      "text/plain": [
       "<graphviz.sources.Source at 0x28b852f10>"
      ]
     },
     "execution_count": 280,
     "metadata": {},
     "output_type": "execute_result"
    }
   ],
   "source": [
    "CART_tree = DecisionTreeClassifier(criterion='gini',splitter = 'best',max_depth=1)\n",
    "CART_tree.fit(dt_data_.drop('CDR', axis=1), dt_data_['CDR'])\n",
    "dot_data = tree.export_graphviz(CART_tree,\n",
    "                                feature_names=feature,\n",
    "                                class_names=[str(k) for k in np.unique(dt_data_['CDR'])],\n",
    "                                filled=True,\n",
    "                                rounded=True,\n",
    "                                special_characters=True)\n",
    "graph = graphviz.Source(dot_data)\n",
    "graph"
   ]
  },
  {
   "cell_type": "code",
   "execution_count": 26,
   "metadata": {
    "ExecuteTime": {
     "end_time": "2023-10-07T15:23:39.088Z",
     "start_time": "2023-10-07T15:23:38.928082Z"
    },
    "collapsed": false
   },
   "outputs": [
    {
     "data": {
      "text/plain": [
       "<Figure size 800x550 with 0 Axes>"
      ]
     },
     "metadata": {},
     "output_type": "display_data"
    },
    {
     "data": {
      "image/png": "[encoded data removed]",
      "text/plain": [
       "<Figure size 660x440 with 1 Axes>"
      ]
     },
     "metadata": {},
     "output_type": "display_data"
    }
   ],
   "source": [
    "import numpy as np\n",
    "import matplotlib.pyplot as plt\n",
    "from sklearn import svm, datasets\n",
    "from sklearn.metrics import roc_curve, auc\n",
    "from sklearn.model_selection import train_test_split\n",
    "\n",
    "dt_data_ = cluster_class_data[cluster_class_data['CDR'] != 'CDR0']\n",
    "\n",
    "X = dt_data_.iloc[:, :4]\n",
    "y = dt_data_.iloc[:, -1]\n",
    "\n",
    "y = y.replace({'CDR1': 0, 'CDR2': 1})\n",
    "\n",
    "# shuffle and split training and test sets\n",
    "X_train, X_test, y_train, y_test = train_test_split(X, y, test_size=0.2, random_state=42)\n",
    "\n",
    "clf = DecisionTreeClassifier(random_state=42, max_depth=1)\n",
    "clf.fit(X_train, y_train)\n",
    "\n",
    "y_score = clf.predict_proba(X_test)[:, 1]\n",
    "\n",
    "# Compute ROC curve and ROC area for each class\n",
    "fpr, tpr, _ = roc_curve(y_test, y_score)\n",
    "roc_auc = auc(fpr, tpr)\n",
    "\n",
    "plt.figure()\n",
    "lw = 2\n",
    "plt.figure(figsize=(6.6, 4.4))\n",
    "plt.plot(fpr, tpr, color='darkorange',\n",
    "         lw=lw, label='ROC curve (area = %0.2f)' % roc_auc)\n",
    "plt.plot([0, 1], [0, 1], color='navy', lw=lw, linestyle='--')\n",
    "plt.xlim([0.0, 1.0])\n",
    "plt.ylim([0.0, 1.05])\n",
    "plt.xlabel('False Positive Rate', fontsize = 18)\n",
    "plt.ylabel('True Positive Rate', fontsize = 18)\n",
    "plt.legend(loc=\"lower right\", frameon=False, fontsize = 16)\n",
    "plt.xticks(fontsize=13)\n",
    "plt.yticks(fontsize=13)\n",
    "\n",
    "plt.savefig(\"/Users/zhangchenyang/Desktop/old_3_中晚ROC.pdf\", format=\"pdf\", bbox_inches = 'tight')\n",
    "\n",
    "plt.show()"
   ]
  },
  {
   "cell_type": "code",
   "execution_count": 281,
   "metadata": {
    "ExecuteTime": {
     "end_time": "2023-09-19T16:42:27.178477Z",
     "start_time": "2023-09-19T16:42:27.176122Z"
    },
    "collapsed": false
   },
   "outputs": [
    {
     "name": "stdout",
     "output_type": "stream",
     "text": [
      "早中晚： 0.8941176470588236\n",
      "早中： 0.9\n",
      "早晚： 0.8969696969696971\n",
      "中晚： 0.9333333333333332\n"
     ]
    }
   ],
   "source": [
    "print('e_m_l：', e_m_l)\n",
    "print('e_m：', e_m)\n",
    "print('e_l：', e_l)\n",
    "print('m_l：', m_l)"
   ]
  }
 ],
 "metadata": {
  "kernelspec": {
   "display_name": "Python 3",
   "language": "python",
   "name": "python3"
  },
  "language_info": {
   "codemirror_mode": {
    "name": "ipython",
    "version": 2
   },
   "file_extension": ".py",
   "mimetype": "text/x-python",
   "name": "python",
   "nbconvert_exporter": "python",
   "pygments_lexer": "ipython2",
   "version": "2.7.6"
  }
 },
 "nbformat": 4,
 "nbformat_minor": 0
}
